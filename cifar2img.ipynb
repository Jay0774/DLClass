{
  "nbformat": 4,
  "nbformat_minor": 0,
  "metadata": {
    "colab": {
      "name": "cifar2img.ipynb",
      "provenance": [],
      "collapsed_sections": []
    },
    "kernelspec": {
      "name": "python3",
      "display_name": "Python 3"
    },
    "widgets": {
      "application/vnd.jupyter.widget-state+json": {
        "dc6ea699ae1a449197ef36b63463da15": {
          "model_module": "@jupyter-widgets/controls",
          "model_name": "HBoxModel",
          "state": {
            "_view_name": "HBoxView",
            "_dom_classes": [],
            "_model_name": "HBoxModel",
            "_view_module": "@jupyter-widgets/controls",
            "_model_module_version": "1.5.0",
            "_view_count": null,
            "_view_module_version": "1.5.0",
            "box_style": "",
            "layout": "IPY_MODEL_d8c28579d9e643108e3481e4bb101ced",
            "_model_module": "@jupyter-widgets/controls",
            "children": [
              "IPY_MODEL_e8e80484ae7148fd9c4e3ee4530a2d7d",
              "IPY_MODEL_5795923b301c4e9187ac0f43ec0b21b9"
            ]
          }
        },
        "d8c28579d9e643108e3481e4bb101ced": {
          "model_module": "@jupyter-widgets/base",
          "model_name": "LayoutModel",
          "state": {
            "_view_name": "LayoutView",
            "grid_template_rows": null,
            "right": null,
            "justify_content": null,
            "_view_module": "@jupyter-widgets/base",
            "overflow": null,
            "_model_module_version": "1.2.0",
            "_view_count": null,
            "flex_flow": null,
            "width": null,
            "min_width": null,
            "border": null,
            "align_items": null,
            "bottom": null,
            "_model_module": "@jupyter-widgets/base",
            "top": null,
            "grid_column": null,
            "overflow_y": null,
            "overflow_x": null,
            "grid_auto_flow": null,
            "grid_area": null,
            "grid_template_columns": null,
            "flex": null,
            "_model_name": "LayoutModel",
            "justify_items": null,
            "grid_row": null,
            "max_height": null,
            "align_content": null,
            "visibility": null,
            "align_self": null,
            "height": null,
            "min_height": null,
            "padding": null,
            "grid_auto_rows": null,
            "grid_gap": null,
            "max_width": null,
            "order": null,
            "_view_module_version": "1.2.0",
            "grid_template_areas": null,
            "object_position": null,
            "object_fit": null,
            "grid_auto_columns": null,
            "margin": null,
            "display": null,
            "left": null
          }
        },
        "e8e80484ae7148fd9c4e3ee4530a2d7d": {
          "model_module": "@jupyter-widgets/controls",
          "model_name": "FloatProgressModel",
          "state": {
            "_view_name": "ProgressView",
            "style": "IPY_MODEL_232667b35fb04212b6b8fa82d4b77ea6",
            "_dom_classes": [],
            "description": "",
            "_model_name": "FloatProgressModel",
            "bar_style": "info",
            "max": 1,
            "_view_module": "@jupyter-widgets/controls",
            "_model_module_version": "1.5.0",
            "value": 1,
            "_view_count": null,
            "_view_module_version": "1.5.0",
            "orientation": "horizontal",
            "min": 0,
            "description_tooltip": null,
            "_model_module": "@jupyter-widgets/controls",
            "layout": "IPY_MODEL_62d945c6923441e1a5022efd9819b6af"
          }
        },
        "5795923b301c4e9187ac0f43ec0b21b9": {
          "model_module": "@jupyter-widgets/controls",
          "model_name": "HTMLModel",
          "state": {
            "_view_name": "HTMLView",
            "style": "IPY_MODEL_3af4d9d98bfc4969b787e270a86ea1d7",
            "_dom_classes": [],
            "description": "",
            "_model_name": "HTMLModel",
            "placeholder": "​",
            "_view_module": "@jupyter-widgets/controls",
            "_model_module_version": "1.5.0",
            "value": " 170500096/? [00:20&lt;00:00, 99679031.70it/s]",
            "_view_count": null,
            "_view_module_version": "1.5.0",
            "description_tooltip": null,
            "_model_module": "@jupyter-widgets/controls",
            "layout": "IPY_MODEL_27c6c5fffc794a24a466f9576c57bb41"
          }
        },
        "232667b35fb04212b6b8fa82d4b77ea6": {
          "model_module": "@jupyter-widgets/controls",
          "model_name": "ProgressStyleModel",
          "state": {
            "_view_name": "StyleView",
            "_model_name": "ProgressStyleModel",
            "description_width": "initial",
            "_view_module": "@jupyter-widgets/base",
            "_model_module_version": "1.5.0",
            "_view_count": null,
            "_view_module_version": "1.2.0",
            "bar_color": null,
            "_model_module": "@jupyter-widgets/controls"
          }
        },
        "62d945c6923441e1a5022efd9819b6af": {
          "model_module": "@jupyter-widgets/base",
          "model_name": "LayoutModel",
          "state": {
            "_view_name": "LayoutView",
            "grid_template_rows": null,
            "right": null,
            "justify_content": null,
            "_view_module": "@jupyter-widgets/base",
            "overflow": null,
            "_model_module_version": "1.2.0",
            "_view_count": null,
            "flex_flow": null,
            "width": null,
            "min_width": null,
            "border": null,
            "align_items": null,
            "bottom": null,
            "_model_module": "@jupyter-widgets/base",
            "top": null,
            "grid_column": null,
            "overflow_y": null,
            "overflow_x": null,
            "grid_auto_flow": null,
            "grid_area": null,
            "grid_template_columns": null,
            "flex": null,
            "_model_name": "LayoutModel",
            "justify_items": null,
            "grid_row": null,
            "max_height": null,
            "align_content": null,
            "visibility": null,
            "align_self": null,
            "height": null,
            "min_height": null,
            "padding": null,
            "grid_auto_rows": null,
            "grid_gap": null,
            "max_width": null,
            "order": null,
            "_view_module_version": "1.2.0",
            "grid_template_areas": null,
            "object_position": null,
            "object_fit": null,
            "grid_auto_columns": null,
            "margin": null,
            "display": null,
            "left": null
          }
        },
        "3af4d9d98bfc4969b787e270a86ea1d7": {
          "model_module": "@jupyter-widgets/controls",
          "model_name": "DescriptionStyleModel",
          "state": {
            "_view_name": "StyleView",
            "_model_name": "DescriptionStyleModel",
            "description_width": "",
            "_view_module": "@jupyter-widgets/base",
            "_model_module_version": "1.5.0",
            "_view_count": null,
            "_view_module_version": "1.2.0",
            "_model_module": "@jupyter-widgets/controls"
          }
        },
        "27c6c5fffc794a24a466f9576c57bb41": {
          "model_module": "@jupyter-widgets/base",
          "model_name": "LayoutModel",
          "state": {
            "_view_name": "LayoutView",
            "grid_template_rows": null,
            "right": null,
            "justify_content": null,
            "_view_module": "@jupyter-widgets/base",
            "overflow": null,
            "_model_module_version": "1.2.0",
            "_view_count": null,
            "flex_flow": null,
            "width": null,
            "min_width": null,
            "border": null,
            "align_items": null,
            "bottom": null,
            "_model_module": "@jupyter-widgets/base",
            "top": null,
            "grid_column": null,
            "overflow_y": null,
            "overflow_x": null,
            "grid_auto_flow": null,
            "grid_area": null,
            "grid_template_columns": null,
            "flex": null,
            "_model_name": "LayoutModel",
            "justify_items": null,
            "grid_row": null,
            "max_height": null,
            "align_content": null,
            "visibility": null,
            "align_self": null,
            "height": null,
            "min_height": null,
            "padding": null,
            "grid_auto_rows": null,
            "grid_gap": null,
            "max_width": null,
            "order": null,
            "_view_module_version": "1.2.0",
            "grid_template_areas": null,
            "object_position": null,
            "object_fit": null,
            "grid_auto_columns": null,
            "margin": null,
            "display": null,
            "left": null
          }
        }
      }
    }
  },
  "cells": [
    {
      "cell_type": "code",
      "metadata": {
        "colab": {
          "base_uri": "https://localhost:8080/",
          "height": 83,
          "referenced_widgets": [
            "dc6ea699ae1a449197ef36b63463da15",
            "d8c28579d9e643108e3481e4bb101ced",
            "e8e80484ae7148fd9c4e3ee4530a2d7d",
            "5795923b301c4e9187ac0f43ec0b21b9",
            "232667b35fb04212b6b8fa82d4b77ea6",
            "62d945c6923441e1a5022efd9819b6af",
            "3af4d9d98bfc4969b787e270a86ea1d7",
            "27c6c5fffc794a24a466f9576c57bb41"
          ]
        },
        "id": "c-oDAZVvq0Xl",
        "outputId": "39899608-52bf-4917-8994-c012307bf5e5"
      },
      "source": [
        "import torch\n",
        "import torchvision\n",
        "import numpy as np\n",
        "import matplotlib.pyplot as plt\n",
        "import torch.nn as nn\n",
        "import torch.nn.functional as F\n",
        "from torchvision.datasets import CIFAR10\n",
        "from torchvision.transforms import ToTensor\n",
        "from torchvision.utils import make_grid\n",
        "from torch.utils.data.dataloader import DataLoader\n",
        "from torch.utils.data import random_split\n",
        "%matplotlib inline\n",
        "dataset = CIFAR10(root='data/', download=True, transform=ToTensor())\n",
        "test_dataset = CIFAR10(root='data/', train=False, transform=ToTensor())\n",
        "classes = dataset.classes\n",
        "# classes\n",
        "class_count = {}\n",
        "for _, index in dataset:\n",
        "    label = classes[index]\n",
        "    if label not in class_count:\n",
        "        class_count[label] = 0\n",
        "    class_count[label] += 1\n",
        "\n",
        "torch.manual_seed(43)\n",
        "val_size = 5000\n",
        "train_size = len(dataset) - val_size\n",
        "\n",
        "train_ds, val_ds = random_split(dataset, [train_size, val_size])\n",
        "len(train_ds), len(val_ds)\n",
        "\n",
        "batch_size=1\n",
        "\n",
        "train_loader = DataLoader(train_ds, batch_size, shuffle=True, num_workers=4, pin_memory=True)\n",
        "val_loader = DataLoader(val_ds, batch_size*2, num_workers=4, pin_memory=True)\n",
        "test_loader = DataLoader(test_dataset, batch_size*2, num_workers=4, pin_memory=True)"
      ],
      "execution_count": 1,
      "outputs": [
        {
          "output_type": "stream",
          "text": [
            "Downloading https://www.cs.toronto.edu/~kriz/cifar-10-python.tar.gz to data/cifar-10-python.tar.gz\n"
          ],
          "name": "stdout"
        },
        {
          "output_type": "display_data",
          "data": {
            "application/vnd.jupyter.widget-view+json": {
              "model_id": "dc6ea699ae1a449197ef36b63463da15",
              "version_minor": 0,
              "version_major": 2
            },
            "text/plain": [
              "HBox(children=(FloatProgress(value=1.0, bar_style='info', max=1.0), HTML(value='')))"
            ]
          },
          "metadata": {
            "tags": []
          }
        },
        {
          "output_type": "stream",
          "text": [
            "Extracting data/cifar-10-python.tar.gz to data/\n"
          ],
          "name": "stdout"
        }
      ]
    },
    {
      "cell_type": "code",
      "metadata": {
        "colab": {
          "base_uri": "https://localhost:8080/"
        },
        "id": "94-XsMxu7hGl",
        "outputId": "efbf3459-23fa-4430-9c23-1c62a156c9df"
      },
      "source": [
        "from PIL import Image\n",
        "import numpy as np\n",
        "from google.colab import drive\n",
        "drive.mount('/content/drive')\n",
        "%cd \"/content/drive/My Drive/DAI_Project_Dataset\""
      ],
      "execution_count": 2,
      "outputs": [
        {
          "output_type": "stream",
          "text": [
            "Mounted at /content/drive\n",
            "/content/drive/.shortcut-targets-by-id/1w7onWrpMY6Nqum4gYm9Y6Xfm3I895yaD/DAI_Project_Dataset\n"
          ],
          "name": "stdout"
        }
      ]
    },
    {
      "cell_type": "code",
      "metadata": {
        "colab": {
          "base_uri": "https://localhost:8080/"
        },
        "id": "2UsMwNTy8ZBN",
        "outputId": "694f69d4-bd0c-4912-b25b-808d3010a15d"
      },
      "source": [
        "!ls"
      ],
      "execution_count": 3,
      "outputs": [
        {
          "output_type": "stream",
          "text": [
            "cifar10  cifar10-pngs-in-folders.zip  Test  Train  Validation\n"
          ],
          "name": "stdout"
        }
      ]
    },
    {
      "cell_type": "code",
      "metadata": {
        "colab": {
          "base_uri": "https://localhost:8080/",
          "height": 283
        },
        "id": "IA8ZSjR8BAcg",
        "outputId": "a76ae1a2-f893-4f53-a7a6-7e8df0a20104"
      },
      "source": [
        "import matplotlib.pyplot as plt\n",
        "import numpy as np\n",
        "\n",
        "# functions to show an image\n",
        "\n",
        "\n",
        "def imshow(img):\n",
        "  img = img / 2 + 0.5     # unnormalize\n",
        "  npimg = img.numpy()\n",
        "  plt.imshow(np.transpose(npimg, (1, 2, 0)))\n",
        "  plt.show()\n",
        "\n",
        "\n",
        "# get some random training images\n",
        "dataiter = iter(train_loader)\n",
        "images, labels = dataiter.next()\n",
        "\n",
        "# show images\n",
        "imshow(torchvision.utils.make_grid(images))\n",
        "# print labels\n",
        "print(' '.join('%5s' % classes[labels[j]] for j in range(1)))"
      ],
      "execution_count": 54,
      "outputs": [
        {
          "output_type": "display_data",
          "data": {
            "image/png": "[encoded data removed]",
            "text/plain": [
              "<Figure size 432x288 with 1 Axes>"
            ]
          },
          "metadata": {
            "tags": [],
            "needs_background": "light"
          }
        },
        {
          "output_type": "stream",
          "text": [
            "airplane\n"
          ],
          "name": "stdout"
        }
      ]
    },
    {
      "cell_type": "code",
      "metadata": {
        "id": "zIYpiuh8B_tL"
      },
      "source": [
        "from matplotlib import image\n",
        "from matplotlib import pyplot\n",
        "from PIL import Image\n",
        "from numpy import asarray\n",
        "for imag,labl in train_loader:\n",
        "  numpyimage = imag.numpy()\n",
        "  numpyimage = np.transpose(numpyimage[0])\n",
        "  imge = Image.fromarray((numpyimage * 255).astype(np.uint8)).resize((32, 32)).convert('RGB')\n",
        "  imge.show()\n",
        "  break\n"
      ],
      "execution_count": 64,
      "outputs": []
    },
    {
      "cell_type": "code",
      "metadata": {
        "colab": {
          "base_uri": "https://localhost:8080/",
          "height": 283
        },
        "id": "wHP4lM3_CxNf",
        "outputId": "f46f789d-a585-432c-a50d-8730dd912885"
      },
      "source": [
        "pyplot.imshow(imge)"
      ],
      "execution_count": 66,
      "outputs": [
        {
          "output_type": "execute_result",
          "data": {
            "text/plain": [
              "<matplotlib.image.AxesImage at 0x7fbec086d518>"
            ]
          },
          "metadata": {
            "tags": []
          },
          "execution_count": 66
        },
        {
          "output_type": "display_data",
          "data": {
            "image/png": "[encoded data removed]",
            "text/plain": [
              "<Figure size 432x288 with 1 Axes>"
            ]
          },
          "metadata": {
            "tags": [],
            "needs_background": "light"
          }
        }
      ]
    },
    {
      "cell_type": "code",
      "metadata": {
        "colab": {
          "base_uri": "https://localhost:8080/"
        },
        "id": "VVMiOxqiECsr",
        "outputId": "d1b21e6b-e526-4fff-d4ac-c6d957c6a33d"
      },
      "source": [
        "!pwd"
      ],
      "execution_count": 67,
      "outputs": [
        {
          "output_type": "stream",
          "text": [
            "/content/drive/.shortcut-targets-by-id/1w7onWrpMY6Nqum4gYm9Y6Xfm3I895yaD/DAI_Project_Dataset\n"
          ],
          "name": "stdout"
        }
      ]
    },
    {
      "cell_type": "code",
      "metadata": {
        "colab": {
          "base_uri": "https://localhost:8080/"
        },
        "id": "nK-oubf1FUS9",
        "outputId": "2a373828-2de9-463a-dfe0-f103ce0c395e"
      },
      "source": [
        "# for training dataset\n",
        "%cd \"/content/drive/My Drive/DAI_Project_Dataset/Train\""
      ],
      "execution_count": 74,
      "outputs": [
        {
          "output_type": "stream",
          "text": [
            "/content/drive/.shortcut-targets-by-id/1w7onWrpMY6Nqum4gYm9Y6Xfm3I895yaD/DAI_Project_Dataset/Train\n"
          ],
          "name": "stdout"
        }
      ]
    },
    {
      "cell_type": "code",
      "metadata": {
        "id": "L0EYLOeOFmKr"
      },
      "source": [
        "!mkdir 0 1 2 3 4 5 6 7 8 9"
      ],
      "execution_count": 75,
      "outputs": []
    },
    {
      "cell_type": "code",
      "metadata": {
        "colab": {
          "base_uri": "https://localhost:8080/"
        },
        "id": "S-OM2QhSFwFz",
        "outputId": "86abdba8-4b7f-457b-8fa0-752e23c591d6"
      },
      "source": [
        "!ls"
      ],
      "execution_count": 76,
      "outputs": [
        {
          "output_type": "stream",
          "text": [
            " 0   1\t 2   3\t 4   5\t 6   7\t 8   9\t BIM  'Color jitter'   FGSM   Original\n"
          ],
          "name": "stdout"
        }
      ]
    },
    {
      "cell_type": "code",
      "metadata": {
        "colab": {
          "base_uri": "https://localhost:8080/"
        },
        "id": "Tb4kXqMyF4kM",
        "outputId": "b1aa5827-90a6-455a-d551-c440d41e6f05"
      },
      "source": [
        "%cd \"/content/drive/My Drive/DAI_Project_Dataset/Test\"\n",
        "!mkdir 0 1 2 3 4 5 6 7 8 9\n",
        "!ls"
      ],
      "execution_count": 78,
      "outputs": [
        {
          "output_type": "stream",
          "text": [
            "/content/drive/.shortcut-targets-by-id/1w7onWrpMY6Nqum4gYm9Y6Xfm3I895yaD/DAI_Project_Dataset/Test\n",
            " 0   1\t 2   3\t 4   5\t 6   7\t 8   9\t BIM  'Color jitter'   FGSM   Original\n"
          ],
          "name": "stdout"
        }
      ]
    },
    {
      "cell_type": "code",
      "metadata": {
        "colab": {
          "base_uri": "https://localhost:8080/"
        },
        "id": "QYv_VZ-KF_qe",
        "outputId": "b3a34847-88f9-4e7e-8322-fda2fa043179"
      },
      "source": [
        "%cd \"/content/drive/My Drive/DAI_Project_Dataset/Validation\"\n",
        "!mkdir 0 1 2 3 4 5 6 7 8 9\n",
        "!ls"
      ],
      "execution_count": 79,
      "outputs": [
        {
          "output_type": "stream",
          "text": [
            "/content/drive/.shortcut-targets-by-id/1w7onWrpMY6Nqum4gYm9Y6Xfm3I895yaD/DAI_Project_Dataset/Validation\n",
            "0  1  2  3  4  5  6  7\t8  9\n"
          ],
          "name": "stdout"
        }
      ]
    },
    {
      "cell_type": "code",
      "metadata": {
        "colab": {
          "base_uri": "https://localhost:8080/"
        },
        "id": "t6ROF3m9GFYU",
        "outputId": "409d94c3-f370-48d1-ec5a-68dcf69ba0b2"
      },
      "source": [
        "%cd \"/content/drive/My Drive/DAI_Project_Dataset/Train\""
      ],
      "execution_count": 80,
      "outputs": [
        {
          "output_type": "stream",
          "text": [
            "/content/drive/.shortcut-targets-by-id/1w7onWrpMY6Nqum4gYm9Y6Xfm3I895yaD/DAI_Project_Dataset/Train\n"
          ],
          "name": "stdout"
        }
      ]
    },
    {
      "cell_type": "code",
      "metadata": {
        "id": "VT2KaB3VGXRY"
      },
      "source": [
        "import os\n",
        "os.chdir(\"/content/drive/My Drive/DAI_Project_Dataset/\"+\"Train\")"
      ],
      "execution_count": 89,
      "outputs": []
    },
    {
      "cell_type": "code",
      "metadata": {
        "colab": {
          "base_uri": "https://localhost:8080/"
        },
        "id": "5bQP0xRYGcMK",
        "outputId": "392ba9b7-fb65-4381-ba66-7199dadef911"
      },
      "source": [
        "!pwd"
      ],
      "execution_count": 90,
      "outputs": [
        {
          "output_type": "stream",
          "text": [
            "/content/drive/.shortcut-targets-by-id/1w7onWrpMY6Nqum4gYm9Y6Xfm3I895yaD/DAI_Project_Dataset/Train\n"
          ],
          "name": "stdout"
        }
      ]
    },
    {
      "cell_type": "code",
      "metadata": {
        "id": "fJpYzUmCEq0f"
      },
      "source": [
        "from matplotlib import image\n",
        "import os\n",
        "from matplotlib import pyplot\n",
        "from PIL import Image\n",
        "from numpy import asarray\n",
        "for imag,labl in train_loader:\n",
        "  os.chdir(\"/content/drive/My Drive/DAI_Project_Dataset/Train/\"+str(labl.numpy()[0]))\n",
        "  numpyimage = imag.numpy()\n",
        "  numpyimage = np.transpose(numpyimage[0])\n",
        "  imge = Image.fromarray((numpyimage * 255).astype(np.uint8)).resize((32, 32)).convert('RGB')\n",
        "  imge.save(str(np.random.randint(99999999))+'.png')\n",
        "\n",
        "\n"
      ],
      "execution_count": 95,
      "outputs": []
    },
    {
      "cell_type": "code",
      "metadata": {
        "id": "cwwrZ1JqHFsx"
      },
      "source": [
        "from matplotlib import image\n",
        "import os\n",
        "from matplotlib import pyplot\n",
        "from PIL import Image\n",
        "from numpy import asarray\n",
        "for imag,labl in test_loader:\n",
        "  os.chdir(\"/content/drive/My Drive/DAI_Project_Dataset/Test/\"+str(labl.numpy()[0]))\n",
        "  numpyimage = imag.numpy()\n",
        "  numpyimage = np.transpose(numpyimage[0])\n",
        "  imge = Image.fromarray((numpyimage * 255).astype(np.uint8)).resize((32, 32)).convert('RGB')\n",
        "  imge.save(str(np.random.randint(99999999))+'.png')\n",
        "\n",
        "\n"
      ],
      "execution_count": 96,
      "outputs": []
    },
    {
      "cell_type": "code",
      "metadata": {
        "id": "Ywa_8PskIJGz"
      },
      "source": [
        "from matplotlib import image\n",
        "import os\n",
        "from matplotlib import pyplot\n",
        "from PIL import Image\n",
        "from numpy import asarray\n",
        "for imag,labl in val_loader:\n",
        "  os.chdir(\"/content/drive/My Drive/DAI_Project_Dataset/Validation/\"+str(labl.numpy()[0]))\n",
        "  numpyimage = imag.numpy()\n",
        "  numpyimage = np.transpose(numpyimage[0])\n",
        "  imge = Image.fromarray((numpyimage * 255).astype(np.uint8)).resize((32, 32)).convert('RGB')\n",
        "  imge.save(str(np.random.randint(99999999))+'.png')\n",
        "\n",
        "\n"
      ],
      "execution_count": 97,
      "outputs": []
    },
    {
      "cell_type": "code",
      "metadata": {
        "colab": {
          "base_uri": "https://localhost:8080/"
        },
        "id": "5V2B3ZVgISZ0",
        "outputId": "c616e4fe-de62-426a-da9a-a6672e222704"
      },
      "source": [
        "os.chdir(\"/content/drive/My Drive/DAI_Project_Dataset/Validation/\"+str(labl.numpy()[0]))\n",
        "!ls"
      ],
      "execution_count": 98,
      "outputs": [
        {
          "output_type": "stream",
          "text": [
            "1046616.png   30399335.png  43756806.png  63018589.png\t79796573.png\n",
            "11779182.png  30506595.png  4398120.png   63055639.png\t81146718.png\n",
            "11791583.png  30540533.png  44049222.png  63393700.png\t81518343.png\n",
            "13375667.png  31176016.png  4427598.png   63425809.png\t82075265.png\n",
            "1404226.png   31354157.png  44844777.png  64336362.png\t82271126.png\n",
            "14634902.png  31685028.png  45231634.png  64348707.png\t82665776.png\n",
            "14816488.png  32164347.png  45648830.png  6436458.png\t84521055.png\n",
            "14826401.png  3220146.png   45744952.png  64864809.png\t84708516.png\n",
            "15610393.png  32463232.png  46479914.png  65238068.png\t85240860.png\n",
            "15699273.png  32586648.png  46693883.png  65620833.png\t85327424.png\n",
            "16254952.png  32654150.png  46830349.png  65685945.png\t8543480.png\n",
            "16462855.png  3319987.png   4747595.png   65960214.png\t85492131.png\n",
            "16971496.png  33584922.png  47748079.png  66447410.png\t85717109.png\n",
            "17556189.png  33883580.png  47864436.png  66448231.png\t86202130.png\n",
            "17777209.png  3414384.png   48597800.png  66769770.png\t86375381.png\n",
            "17817156.png  34695759.png  48986430.png  67002176.png\t86694101.png\n",
            "18016781.png  34747258.png  49030658.png  68007372.png\t87074602.png\n",
            "18546751.png  34753023.png  49058322.png  68016671.png\t87116120.png\n",
            "19114828.png  34829947.png  49917410.png  68113961.png\t87955254.png\n",
            "19216889.png  34985050.png  49990225.png  68423951.png\t88113657.png\n",
            "2004588.png   35823208.png  50573831.png  68541659.png\t88272198.png\n",
            "20285160.png  36539849.png  50998493.png  68776123.png\t8831425.png\n",
            "2050454.png   37058850.png  51226203.png  69317850.png\t88730307.png\n",
            "21322734.png  37236553.png  51261599.png  69459124.png\t88744960.png\n",
            "21356109.png  37832833.png  51582.png\t  69800077.png\t88899010.png\n",
            "21570979.png  37936874.png  52063512.png  70347261.png\t89222999.png\n",
            "21894723.png  38172468.png  52849064.png  70382239.png\t8928273.png\n",
            "21927.png     384535.png    53989266.png  70935330.png\t89401577.png\n",
            "22099263.png  38695854.png  5461630.png   71033073.png\t89889802.png\n",
            "22295810.png  38773417.png  54730253.png  71397044.png\t9049418.png\n",
            "22431831.png  38914457.png  54953209.png  71403910.png\t90859197.png\n",
            "22549267.png  39011783.png  55578169.png  73178392.png\t91154845.png\n",
            "24117580.png  3955156.png   55996787.png  73405337.png\t92092372.png\n",
            "24384061.png  39635091.png  56002272.png  73932898.png\t92318325.png\n",
            "24485428.png  39718945.png  56034021.png  73964109.png\t92423040.png\n",
            "25302760.png  40077471.png  56484039.png  74036527.png\t92504877.png\n",
            "25363752.png  40249531.png  56643132.png  7405144.png\t92505759.png\n",
            "2552061.png   40416223.png  57709691.png  7413270.png\t92882004.png\n",
            "25589227.png  40431656.png  57990273.png  74387803.png\t93250101.png\n",
            "26409872.png  40491867.png  58441106.png  7460813.png\t93784182.png\n",
            "2672096.png   40892148.png  58494812.png  74826952.png\t94197914.png\n",
            "26898495.png  40937153.png  5850482.png   75630257.png\t94640247.png\n",
            "2701758.png   40943938.png  5876219.png   7573960.png\t95634014.png\n",
            "27033406.png  40998158.png  5927873.png   76299509.png\t96192870.png\n",
            "27356479.png  41699042.png  59486819.png  7716445.png\t96300784.png\n",
            "27718934.png  42197417.png  5959869.png   77185998.png\t96713276.png\n",
            "28364845.png  42257649.png  59654658.png  7780542.png\t9686570.png\n",
            "28535149.png  42298647.png  6022601.png   78017232.png\t97025532.png\n",
            "2871066.png   42450594.png  6077090.png   78507183.png\t97543008.png\n",
            "28746935.png  42555576.png  61409653.png  78970144.png\t97651594.png\n",
            "28874403.png  42735537.png  62197572.png  79022667.png\t97753838.png\n",
            "29190211.png  42860877.png  62235167.png  79508687.png\t98854405.png\n",
            "3032196.png   43544731.png  6280693.png   79766888.png\t99120376.png\n"
          ],
          "name": "stdout"
        }
      ]
    },
    {
      "cell_type": "code",
      "metadata": {
        "id": "wtjzHdXQLN7B"
      },
      "source": [
        ""
      ],
      "execution_count": null,
      "outputs": []
    }
  ]
}