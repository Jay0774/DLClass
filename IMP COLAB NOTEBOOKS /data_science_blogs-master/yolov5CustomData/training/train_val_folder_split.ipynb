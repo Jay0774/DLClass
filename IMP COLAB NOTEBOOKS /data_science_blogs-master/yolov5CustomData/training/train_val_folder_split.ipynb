{
 "cells": [
  {
   "cell_type": "code",
   "execution_count": 1,
   "metadata": {},
   "outputs": [],
   "source": [
    "import glob, os\n",
    "import random\n",
    "\n",
    "# put your own path here\n",
    "dataset_path = 'dataset'\n",
    "\n",
    "# Percentage of images to be used for the validation set\n",
    "percentage_test = 20"
   ]
  },
  {
   "cell_type": "code",
   "execution_count": 3,
   "metadata": {},
   "outputs": [
    {
     "name": "stdout",
     "output_type": "stream",
     "text": [
      "mkdir: cannot create directory ‘data’: File exists\n",
      "mkdir: cannot create directory ‘data/images’: File exists\n",
      "mkdir: cannot create directory ‘data/labels’: File exists\n",
      "mkdir: cannot create directory ‘data/images/train’: File exists\n",
      "mkdir: cannot create directory ‘data/labels/valid’: File exists\n"
     ]
    }
   ],
   "source": [
    "!mkdir data\n",
    "!mkdir data/images\n",
    "!mkdir data/labels\n",
    "!mkdir data/images/train\n",
    "!mkdir data/images/valid\n",
    "!mkdir data/labels/train\n",
    "!mkdir data/labels/valid"
   ]
  },
  {
   "cell_type": "code",
   "execution_count": 11,
   "metadata": {},
   "outputs": [],
   "source": [
    "# Populate the folders\n",
    "p = percentage_test/100\n",
    "for pathAndFilename in glob.iglob(os.path.join(dataset_path, \"*.jpg\")):  \n",
    "    title, ext = os.path.splitext(os.path.basename(pathAndFilename))\n",
    "    if random.random() <=p :\n",
    "        os.system(f\"cp {dataset_path}/{title}.jpg data/images/valid\")\n",
    "        os.system(f\"cp {dataset_path}/{title}.txt data/labels/valid\")\n",
    "    else:\n",
    "        os.system(f\"cp {dataset_path}/{title}.jpg data/images/train\")\n",
    "        os.system(f\"cp {dataset_path}/{title}.txt data/labels/train\")"
   ]
  }
 ],
 "metadata": {
  "kernelspec": {
   "display_name": "pyt",
   "language": "python",
   "name": "pyt"
  },
  "language_info": {
   "codemirror_mode": {
    "name": "ipython",
    "version": 3
   },
   "file_extension": ".py",
   "mimetype": "text/x-python",
   "name": "python",
   "nbconvert_exporter": "python",
   "pygments_lexer": "ipython3",
   "version": "3.7.6"
  }
 },
 "nbformat": 4,
 "nbformat_minor": 4
}
