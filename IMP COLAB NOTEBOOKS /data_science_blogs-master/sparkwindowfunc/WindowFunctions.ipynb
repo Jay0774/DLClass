{
 "cells": [
  {
   "cell_type": "code",
   "execution_count": 1,
   "metadata": {},
   "outputs": [],
   "source": [
    "import pandas as pd\n",
    "import random\n",
    "import numpy as np"
   ]
  },
  {
   "cell_type": "code",
   "execution_count": 2,
   "metadata": {},
   "outputs": [
    {
     "name": "stdout",
     "output_type": "stream",
     "text": [
      "+-------------------+----+-----------------+---------+--------+--------+\n",
      "|               date|time|         province|confirmed|released|deceased|\n",
      "+-------------------+----+-----------------+---------+--------+--------+\n",
      "|2020-01-20 00:00:00|  16|            Seoul|        0|       0|       0|\n",
      "|2020-01-20 00:00:00|  16|            Busan|        0|       0|       0|\n",
      "|2020-01-20 00:00:00|  16|            Daegu|        0|       0|       0|\n",
      "|2020-01-20 00:00:00|  16|          Incheon|        1|       0|       0|\n",
      "|2020-01-20 00:00:00|  16|          Gwangju|        0|       0|       0|\n",
      "|2020-01-20 00:00:00|  16|          Daejeon|        0|       0|       0|\n",
      "|2020-01-20 00:00:00|  16|            Ulsan|        0|       0|       0|\n",
      "|2020-01-20 00:00:00|  16|           Sejong|        0|       0|       0|\n",
      "|2020-01-20 00:00:00|  16|      Gyeonggi-do|        0|       0|       0|\n",
      "|2020-01-20 00:00:00|  16|       Gangwon-do|        0|       0|       0|\n",
      "|2020-01-20 00:00:00|  16|Chungcheongbuk-do|        0|       0|       0|\n",
      "|2020-01-20 00:00:00|  16|Chungcheongnam-do|        0|       0|       0|\n",
      "|2020-01-20 00:00:00|  16|     Jeollabuk-do|        0|       0|       0|\n",
      "|2020-01-20 00:00:00|  16|     Jeollanam-do|        0|       0|       0|\n",
      "|2020-01-20 00:00:00|  16| Gyeongsangbuk-do|        0|       0|       0|\n",
      "|2020-01-20 00:00:00|  16| Gyeongsangnam-do|        0|       0|       0|\n",
      "|2020-01-20 00:00:00|  16|          Jeju-do|        0|       0|       0|\n",
      "|2020-01-21 00:00:00|  16|            Seoul|        0|       0|       0|\n",
      "|2020-01-21 00:00:00|  16|            Busan|        0|       0|       0|\n",
      "|2020-01-21 00:00:00|  16|            Daegu|        0|       0|       0|\n",
      "+-------------------+----+-----------------+---------+--------+--------+\n",
      "only showing top 20 rows\n",
      "\n"
     ]
    }
   ],
   "source": [
    "timeprovince = spark.read.load(\"/home/rahul/projects/sparkdf/coronavirusdataset/TimeProvince.csv\",format=\"csv\", \\\n",
    "                        sep=\",\", inferSchema=\"true\", header=\"true\")\n",
    "timeprovince.show()\n"
   ]
  },
  {
   "cell_type": "markdown",
   "metadata": {},
   "source": [
    "# Ranking"
   ]
  },
  {
   "cell_type": "code",
   "execution_count": 7,
   "metadata": {},
   "outputs": [
    {
     "name": "stdout",
     "output_type": "stream",
     "text": [
      "+-------------------+----+--------+---------+--------+--------+----+\n",
      "|               date|time|province|confirmed|released|deceased|rank|\n",
      "+-------------------+----+--------+---------+--------+--------+----+\n",
      "|2020-05-11 00:00:00|   0|  Sejong|       47|      45|       0|   1|\n",
      "|2020-05-12 00:00:00|   0|  Sejong|       47|      45|       0|   1|\n",
      "|2020-05-13 00:00:00|   0|  Sejong|       47|      46|       0|   1|\n",
      "|2020-05-14 00:00:00|   0|  Sejong|       47|      46|       0|   1|\n",
      "|2020-03-29 00:00:00|   0|  Sejong|       46|      11|       0|   5|\n",
      "|2020-03-30 00:00:00|   0|  Sejong|       46|      12|       0|   5|\n",
      "|2020-03-31 00:00:00|   0|  Sejong|       46|      12|       0|   5|\n",
      "|2020-04-01 00:00:00|   0|  Sejong|       46|      12|       0|   5|\n",
      "|2020-04-02 00:00:00|   0|  Sejong|       46|      12|       0|   5|\n",
      "|2020-04-03 00:00:00|   0|  Sejong|       46|      12|       0|   5|\n",
      "|2020-04-04 00:00:00|   0|  Sejong|       46|      15|       0|   5|\n",
      "|2020-04-05 00:00:00|   0|  Sejong|       46|      15|       0|   5|\n",
      "|2020-04-06 00:00:00|   0|  Sejong|       46|      17|       0|   5|\n",
      "|2020-04-07 00:00:00|   0|  Sejong|       46|      17|       0|   5|\n",
      "|2020-04-08 00:00:00|   0|  Sejong|       46|      14|       0|   5|\n",
      "|2020-04-09 00:00:00|   0|  Sejong|       46|      16|       0|   5|\n",
      "|2020-04-10 00:00:00|   0|  Sejong|       46|      20|       0|   5|\n",
      "|2020-04-11 00:00:00|   0|  Sejong|       46|      20|       0|   5|\n",
      "|2020-04-12 00:00:00|   0|  Sejong|       46|      22|       0|   5|\n",
      "|2020-04-13 00:00:00|   0|  Sejong|       46|      22|       0|   5|\n",
      "+-------------------+----+--------+---------+--------+--------+----+\n",
      "only showing top 20 rows\n",
      "\n"
     ]
    }
   ],
   "source": [
    "from pyspark.sql.window import Window\n",
    "from pyspark.sql import functions as F\n",
    "windowSpec = Window().partitionBy(['province']).orderBy(F.desc('confirmed'))\n",
    "timeprovince.withColumn(\"rank\",F.rank().over(windowSpec)).show()"
   ]
  },
  {
   "cell_type": "markdown",
   "metadata": {},
   "source": [
    "# Lag Variables"
   ]
  },
  {
   "cell_type": "code",
   "execution_count": 8,
   "metadata": {},
   "outputs": [
    {
     "name": "stdout",
     "output_type": "stream",
     "text": [
      "+-------------------+----+--------+---------+--------+--------+-----+\n",
      "|               date|time|province|confirmed|released|deceased|lag_7|\n",
      "+-------------------+----+--------+---------+--------+--------+-----+\n",
      "|2020-03-10 00:00:00|   0|  Sejong|        8|       0|       0|    1|\n",
      "|2020-03-11 00:00:00|   0|  Sejong|       10|       0|       0|    1|\n",
      "|2020-03-12 00:00:00|   0|  Sejong|       15|       0|       0|    1|\n",
      "|2020-03-13 00:00:00|   0|  Sejong|       32|       0|       0|    1|\n",
      "|2020-03-14 00:00:00|   0|  Sejong|       38|       0|       0|    2|\n",
      "|2020-03-15 00:00:00|   0|  Sejong|       39|       0|       0|    3|\n",
      "|2020-03-16 00:00:00|   0|  Sejong|       40|       0|       0|    6|\n",
      "|2020-03-17 00:00:00|   0|  Sejong|       40|       0|       0|    8|\n",
      "|2020-03-18 00:00:00|   0|  Sejong|       41|       0|       0|   10|\n",
      "|2020-03-19 00:00:00|   0|  Sejong|       41|       0|       0|   15|\n",
      "|2020-03-20 00:00:00|   0|  Sejong|       41|       0|       0|   32|\n",
      "|2020-03-21 00:00:00|   0|  Sejong|       41|       2|       0|   38|\n",
      "|2020-03-22 00:00:00|   0|  Sejong|       41|       3|       0|   39|\n",
      "|2020-03-23 00:00:00|   0|  Sejong|       42|       3|       0|   40|\n",
      "|2020-03-24 00:00:00|   0|  Sejong|       42|       3|       0|   40|\n",
      "|2020-03-25 00:00:00|   0|  Sejong|       44|       3|       0|   41|\n",
      "|2020-03-26 00:00:00|   0|  Sejong|       44|       8|       0|   41|\n",
      "|2020-03-27 00:00:00|   0|  Sejong|       44|       9|       0|   41|\n",
      "|2020-03-28 00:00:00|   0|  Sejong|       44|       9|       0|   41|\n",
      "|2020-03-29 00:00:00|   0|  Sejong|       46|      11|       0|   41|\n",
      "+-------------------+----+--------+---------+--------+--------+-----+\n",
      "only showing top 20 rows\n",
      "\n"
     ]
    }
   ],
   "source": [
    "from pyspark.sql.window import Window\n",
    "windowSpec = Window().partitionBy(['province']).orderBy('date')\n",
    "timeprovinceWithLag = timeprovince.withColumn(\"lag_7\",F.lag(\"confirmed\", 7).over(windowSpec))\n",
    "\n",
    "timeprovinceWithLag.filter(timeprovinceWithLag.date>'2020-03-10').show()"
   ]
  },
  {
   "cell_type": "markdown",
   "metadata": {},
   "source": [
    "# Rolling Aggregations"
   ]
  },
  {
   "cell_type": "code",
   "execution_count": 9,
   "metadata": {},
   "outputs": [
    {
     "name": "stdout",
     "output_type": "stream",
     "text": [
      "+-------------------+----+--------+---------+--------+--------+------------------+\n",
      "|               date|time|province|confirmed|released|deceased|  roll_7_confirmed|\n",
      "+-------------------+----+--------+---------+--------+--------+------------------+\n",
      "|2020-03-10 00:00:00|   0|  Sejong|        8|       0|       0| 3.142857142857143|\n",
      "|2020-03-11 00:00:00|   0|  Sejong|       10|       0|       0| 4.428571428571429|\n",
      "|2020-03-12 00:00:00|   0|  Sejong|       15|       0|       0| 6.428571428571429|\n",
      "|2020-03-13 00:00:00|   0|  Sejong|       32|       0|       0|10.857142857142858|\n",
      "|2020-03-14 00:00:00|   0|  Sejong|       38|       0|       0|              16.0|\n",
      "|2020-03-15 00:00:00|   0|  Sejong|       39|       0|       0|21.142857142857142|\n",
      "|2020-03-16 00:00:00|   0|  Sejong|       40|       0|       0|              26.0|\n",
      "|2020-03-17 00:00:00|   0|  Sejong|       40|       0|       0|30.571428571428573|\n",
      "|2020-03-18 00:00:00|   0|  Sejong|       41|       0|       0|              35.0|\n",
      "|2020-03-19 00:00:00|   0|  Sejong|       41|       0|       0|38.714285714285715|\n",
      "|2020-03-20 00:00:00|   0|  Sejong|       41|       0|       0|              40.0|\n",
      "|2020-03-21 00:00:00|   0|  Sejong|       41|       2|       0| 40.42857142857143|\n",
      "|2020-03-22 00:00:00|   0|  Sejong|       41|       3|       0|40.714285714285715|\n",
      "|2020-03-23 00:00:00|   0|  Sejong|       42|       3|       0|              41.0|\n",
      "|2020-03-24 00:00:00|   0|  Sejong|       42|       3|       0|41.285714285714285|\n",
      "|2020-03-25 00:00:00|   0|  Sejong|       44|       3|       0|41.714285714285715|\n",
      "|2020-03-26 00:00:00|   0|  Sejong|       44|       8|       0|42.142857142857146|\n",
      "|2020-03-27 00:00:00|   0|  Sejong|       44|       9|       0| 42.57142857142857|\n",
      "|2020-03-28 00:00:00|   0|  Sejong|       44|       9|       0|              43.0|\n",
      "|2020-03-29 00:00:00|   0|  Sejong|       46|      11|       0|43.714285714285715|\n",
      "+-------------------+----+--------+---------+--------+--------+------------------+\n",
      "only showing top 20 rows\n",
      "\n"
     ]
    }
   ],
   "source": [
    "from pyspark.sql.window import Window\n",
    "\n",
    "windowSpec = Window().partitionBy(['province']).orderBy('date').rowsBetween(-6,0)\n",
    "timeprovinceWithRoll = timeprovince.withColumn(\"roll_7_confirmed\",F.mean(\"confirmed\").over(windowSpec))\n",
    "timeprovinceWithRoll.filter(timeprovinceWithLag.date>'2020-03-10').show()"
   ]
  },
  {
   "cell_type": "markdown",
   "metadata": {},
   "source": [
    "## Running Totals"
   ]
  },
  {
   "cell_type": "code",
   "execution_count": 11,
   "metadata": {},
   "outputs": [
    {
     "name": "stdout",
     "output_type": "stream",
     "text": [
      "+-------------------+----+--------+---------+--------+--------+--------------------+\n",
      "|               date|time|province|confirmed|released|deceased|cumulative_confirmed|\n",
      "+-------------------+----+--------+---------+--------+--------+--------------------+\n",
      "|2020-03-10 00:00:00|   0|  Sejong|        8|       0|       0|                  33|\n",
      "|2020-03-11 00:00:00|   0|  Sejong|       10|       0|       0|                  43|\n",
      "|2020-03-12 00:00:00|   0|  Sejong|       15|       0|       0|                  58|\n",
      "|2020-03-13 00:00:00|   0|  Sejong|       32|       0|       0|                  90|\n",
      "|2020-03-14 00:00:00|   0|  Sejong|       38|       0|       0|                 128|\n",
      "|2020-03-15 00:00:00|   0|  Sejong|       39|       0|       0|                 167|\n",
      "|2020-03-16 00:00:00|   0|  Sejong|       40|       0|       0|                 207|\n",
      "|2020-03-17 00:00:00|   0|  Sejong|       40|       0|       0|                 247|\n",
      "|2020-03-18 00:00:00|   0|  Sejong|       41|       0|       0|                 288|\n",
      "|2020-03-19 00:00:00|   0|  Sejong|       41|       0|       0|                 329|\n",
      "|2020-03-20 00:00:00|   0|  Sejong|       41|       0|       0|                 370|\n",
      "|2020-03-21 00:00:00|   0|  Sejong|       41|       2|       0|                 411|\n",
      "|2020-03-22 00:00:00|   0|  Sejong|       41|       3|       0|                 452|\n",
      "|2020-03-23 00:00:00|   0|  Sejong|       42|       3|       0|                 494|\n",
      "|2020-03-24 00:00:00|   0|  Sejong|       42|       3|       0|                 536|\n",
      "|2020-03-25 00:00:00|   0|  Sejong|       44|       3|       0|                 580|\n",
      "|2020-03-26 00:00:00|   0|  Sejong|       44|       8|       0|                 624|\n",
      "|2020-03-27 00:00:00|   0|  Sejong|       44|       9|       0|                 668|\n",
      "|2020-03-28 00:00:00|   0|  Sejong|       44|       9|       0|                 712|\n",
      "|2020-03-29 00:00:00|   0|  Sejong|       46|      11|       0|                 758|\n",
      "+-------------------+----+--------+---------+--------+--------+--------------------+\n",
      "only showing top 20 rows\n",
      "\n"
     ]
    }
   ],
   "source": [
    "from pyspark.sql.window import Window\n",
    "\n",
    "windowSpec = Window().partitionBy(['province']).orderBy('date').rowsBetween(\\\n",
    "            Window.unboundedPreceding,Window.currentRow)\n",
    "timeprovinceWithRoll = timeprovince.withColumn(\"cumulative_confirmed\",F.sum(\"confirmed\").over(windowSpec))\n",
    "timeprovinceWithRoll.filter(timeprovinceWithLag.date>'2020-03-10').show()"
   ]
  },
  {
   "cell_type": "code",
   "execution_count": null,
   "metadata": {},
   "outputs": [],
   "source": []
  }
 ],
 "metadata": {
  "kernelspec": {
   "display_name": "pyt",
   "language": "python",
   "name": "pyt"
  },
  "language_info": {
   "codemirror_mode": {
    "name": "ipython",
    "version": 3
   },
   "file_extension": ".py",
   "mimetype": "text/x-python",
   "name": "python",
   "nbconvert_exporter": "python",
   "pygments_lexer": "ipython3",
   "version": "3.7.6"
  }
 },
 "nbformat": 4,
 "nbformat_minor": 4
}
