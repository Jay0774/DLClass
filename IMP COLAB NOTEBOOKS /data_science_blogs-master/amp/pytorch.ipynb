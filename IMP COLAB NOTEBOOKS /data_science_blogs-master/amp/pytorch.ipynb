{
 "cells": [
  {
   "cell_type": "markdown",
   "metadata": {
    "ExecuteTime": {
     "end_time": "2020-03-08T17:54:18.306366Z",
     "start_time": "2020-03-08T17:54:18.303370Z"
    }
   },
   "source": [
    "# Without AMP"
   ]
  },
  {
   "cell_type": "code",
   "execution_count": null,
   "metadata": {
    "ExecuteTime": {
     "end_time": "2020-03-08T17:54:55.911854Z",
     "start_time": "2020-03-08T17:54:18.785711Z"
    }
   },
   "outputs": [],
   "source": [
    "import torch\n",
    "import time\n",
    "\n",
    "start = time.time()\n",
    "N, D_in, D_out = 64, 1024, 512\n",
    "x = torch.randn(N, D_in, device=\"cuda\")\n",
    "y = torch.randn(N, D_out, device=\"cuda\")\n",
    "model = torch.nn.Linear(D_in, D_out).cuda()\n",
    "\n",
    "optimizer = torch.optim.SGD(model.parameters(), lr=1e-3)\n",
    "for to in range(50000):\n",
    "    y_pred = model(x)\n",
    "    loss = torch.nn.functional.mse_loss(y_pred, y)\n",
    "    optimizer.zero_grad()\n",
    "    loss.backward()\n",
    "    optimizer.step()\n",
    "end = time.time()\n",
    "print(end - start)"
   ]
  },
  {
   "cell_type": "markdown",
   "metadata": {},
   "source": [
    "# With AMP"
   ]
  },
  {
   "cell_type": "code",
   "execution_count": null,
   "metadata": {
    "ExecuteTime": {
     "end_time": "2020-03-08T17:56:15.120985Z",
     "start_time": "2020-03-08T17:54:55.913045Z"
    }
   },
   "outputs": [],
   "source": [
    "import torch\n",
    "from apex import amp\n",
    "import time\n",
    "\n",
    "start = time.time()\n",
    "N, D_in, D_out = 64, 1024, 512\n",
    "x = torch.randn(N, D_in, device=\"cuda\")\n",
    "y = torch.randn(N, D_out, device=\"cuda\")\n",
    "model = torch.nn.Linear(D_in, D_out).cuda()\n",
    "optimizer = torch.optim.SGD(model.parameters(), lr=1e-3)\n",
    "model, optimizer = amp.initialize(model, optimizer, opt_level=\"O1\")\n",
    "for to in range(50000):\n",
    "    y_pred = model(x)\n",
    "    loss = torch.nn.functional.mse_loss(y_pred, y)\n",
    "    optimizer.zero_grad()\n",
    "    with amp.scale_loss(loss, optimizer) as scaled_loss:\n",
    "        scaled_loss.backward()\n",
    "    optimizer.step()\n",
    "end = time.time()\n",
    "print(end - start)"
   ]
  }
 ],
 "metadata": {
  "kernelspec": {
   "display_name": "Python 3",
   "language": "python",
   "name": "python3"
  },
  "language_info": {
   "codemirror_mode": {
    "name": "ipython",
    "version": 3
   },
   "file_extension": ".py",
   "mimetype": "text/x-python",
   "name": "python",
   "nbconvert_exporter": "python",
   "pygments_lexer": "ipython3",
   "version": "3.7.5"
  }
 },
 "nbformat": 4,
 "nbformat_minor": 4
}
