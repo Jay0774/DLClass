{
 "cells": [
  {
   "cell_type": "code",
   "execution_count": 37,
   "metadata": {
    "ExecuteTime": {
     "end_time": "2019-11-17T16:12:06.539737Z",
     "start_time": "2019-11-17T16:12:06.323664Z"
    },
    "_cell_guid": "b1076dfc-b9ad-4769-8c92-a6c4dae69d19",
    "_uuid": "8f2839f25d086af736a60e9eeb907d3b93b6e0e5"
   },
   "outputs": [],
   "source": [
    "import numpy as np # linear algebra\n",
    "import pandas as pd # data processing, CSV file I/O (e.g. pd.read_csv)\n",
    "\n",
    "\n",
    "import os\n",
    "import seaborn as sns\n",
    "import matplotlib.pyplot as plt\n",
    "%matplotlib inline"
   ]
  },
  {
   "cell_type": "code",
   "execution_count": 2,
   "metadata": {
    "ExecuteTime": {
     "end_time": "2019-11-17T12:30:07.242595Z",
     "start_time": "2019-11-17T12:30:05.889549Z"
    },
    "_cell_guid": "79c7e3d0-c299-4dcb-8224-4455121ee9b0",
    "_uuid": "d629ff2d2480ee46fbb7e2d37f6b5fab8052498a"
   },
   "outputs": [],
   "source": [
    "items = pd.read_csv('competitive-data-science-predict-future-sales/items.csv')\n",
    "shops = pd.read_csv('competitive-data-science-predict-future-sales/shops.csv')\n",
    "cats = pd.read_csv('competitive-data-science-predict-future-sales/item_categories.csv')\n",
    "sales = pd.read_csv('competitive-data-science-predict-future-sales/sales_train.csv')\n",
    "# set index to ID to avoid droping it later\n",
    "test  = pd.read_csv('competitive-data-science-predict-future-sales/test.csv').set_index('ID')"
   ]
  },
  {
   "cell_type": "code",
   "execution_count": 3,
   "metadata": {
    "ExecuteTime": {
     "end_time": "2019-11-17T12:30:07.259405Z",
     "start_time": "2019-11-17T12:30:07.244259Z"
    }
   },
   "outputs": [
    {
     "data": {
      "text/html": [
       "<div>\n",
       "<style scoped>\n",
       "    .dataframe tbody tr th:only-of-type {\n",
       "        vertical-align: middle;\n",
       "    }\n",
       "\n",
       "    .dataframe tbody tr th {\n",
       "        vertical-align: top;\n",
       "    }\n",
       "\n",
       "    .dataframe thead th {\n",
       "        text-align: right;\n",
       "    }\n",
       "</style>\n",
       "<table border=\"1\" class=\"dataframe\">\n",
       "  <thead>\n",
       "    <tr style=\"text-align: right;\">\n",
       "      <th></th>\n",
       "      <th>item_name</th>\n",
       "      <th>item_id</th>\n",
       "      <th>item_category_id</th>\n",
       "    </tr>\n",
       "  </thead>\n",
       "  <tbody>\n",
       "    <tr>\n",
       "      <th>0</th>\n",
       "      <td>! ВО ВЛАСТИ НАВАЖДЕНИЯ (ПЛАСТ.)         D</td>\n",
       "      <td>0</td>\n",
       "      <td>40</td>\n",
       "    </tr>\n",
       "    <tr>\n",
       "      <th>1</th>\n",
       "      <td>!ABBYY FineReader 12 Professional Edition Full...</td>\n",
       "      <td>1</td>\n",
       "      <td>76</td>\n",
       "    </tr>\n",
       "    <tr>\n",
       "      <th>2</th>\n",
       "      <td>***В ЛУЧАХ СЛАВЫ   (UNV)                    D</td>\n",
       "      <td>2</td>\n",
       "      <td>40</td>\n",
       "    </tr>\n",
       "    <tr>\n",
       "      <th>3</th>\n",
       "      <td>***ГОЛУБАЯ ВОЛНА  (Univ)                      D</td>\n",
       "      <td>3</td>\n",
       "      <td>40</td>\n",
       "    </tr>\n",
       "    <tr>\n",
       "      <th>4</th>\n",
       "      <td>***КОРОБКА (СТЕКЛО)                       D</td>\n",
       "      <td>4</td>\n",
       "      <td>40</td>\n",
       "    </tr>\n",
       "  </tbody>\n",
       "</table>\n",
       "</div>"
      ],
      "text/plain": [
       "                                           item_name  item_id  \\\n",
       "0          ! ВО ВЛАСТИ НАВАЖДЕНИЯ (ПЛАСТ.)         D        0   \n",
       "1  !ABBYY FineReader 12 Professional Edition Full...        1   \n",
       "2      ***В ЛУЧАХ СЛАВЫ   (UNV)                    D        2   \n",
       "3    ***ГОЛУБАЯ ВОЛНА  (Univ)                      D        3   \n",
       "4        ***КОРОБКА (СТЕКЛО)                       D        4   \n",
       "\n",
       "   item_category_id  \n",
       "0                40  \n",
       "1                76  \n",
       "2                40  \n",
       "3                40  \n",
       "4                40  "
      ]
     },
     "execution_count": 3,
     "metadata": {},
     "output_type": "execute_result"
    }
   ],
   "source": [
    "items.head()"
   ]
  },
  {
   "cell_type": "code",
   "execution_count": 4,
   "metadata": {
    "ExecuteTime": {
     "end_time": "2019-11-17T12:30:07.268411Z",
     "start_time": "2019-11-17T12:30:07.261393Z"
    }
   },
   "outputs": [
    {
     "data": {
      "text/html": [
       "<div>\n",
       "<style scoped>\n",
       "    .dataframe tbody tr th:only-of-type {\n",
       "        vertical-align: middle;\n",
       "    }\n",
       "\n",
       "    .dataframe tbody tr th {\n",
       "        vertical-align: top;\n",
       "    }\n",
       "\n",
       "    .dataframe thead th {\n",
       "        text-align: right;\n",
       "    }\n",
       "</style>\n",
       "<table border=\"1\" class=\"dataframe\">\n",
       "  <thead>\n",
       "    <tr style=\"text-align: right;\">\n",
       "      <th></th>\n",
       "      <th>shop_name</th>\n",
       "      <th>shop_id</th>\n",
       "    </tr>\n",
       "  </thead>\n",
       "  <tbody>\n",
       "    <tr>\n",
       "      <th>0</th>\n",
       "      <td>!Якутск Орджоникидзе, 56 фран</td>\n",
       "      <td>0</td>\n",
       "    </tr>\n",
       "    <tr>\n",
       "      <th>1</th>\n",
       "      <td>!Якутск ТЦ \"Центральный\" фран</td>\n",
       "      <td>1</td>\n",
       "    </tr>\n",
       "    <tr>\n",
       "      <th>2</th>\n",
       "      <td>Адыгея ТЦ \"Мега\"</td>\n",
       "      <td>2</td>\n",
       "    </tr>\n",
       "    <tr>\n",
       "      <th>3</th>\n",
       "      <td>Балашиха ТРК \"Октябрь-Киномир\"</td>\n",
       "      <td>3</td>\n",
       "    </tr>\n",
       "    <tr>\n",
       "      <th>4</th>\n",
       "      <td>Волжский ТЦ \"Волга Молл\"</td>\n",
       "      <td>4</td>\n",
       "    </tr>\n",
       "  </tbody>\n",
       "</table>\n",
       "</div>"
      ],
      "text/plain": [
       "                        shop_name  shop_id\n",
       "0   !Якутск Орджоникидзе, 56 фран        0\n",
       "1   !Якутск ТЦ \"Центральный\" фран        1\n",
       "2                Адыгея ТЦ \"Мега\"        2\n",
       "3  Балашиха ТРК \"Октябрь-Киномир\"        3\n",
       "4        Волжский ТЦ \"Волга Молл\"        4"
      ]
     },
     "execution_count": 4,
     "metadata": {},
     "output_type": "execute_result"
    }
   ],
   "source": [
    "shops.head()"
   ]
  },
  {
   "cell_type": "code",
   "execution_count": 5,
   "metadata": {
    "ExecuteTime": {
     "end_time": "2019-11-17T12:30:07.276060Z",
     "start_time": "2019-11-17T12:30:07.270099Z"
    }
   },
   "outputs": [
    {
     "data": {
      "text/html": [
       "<div>\n",
       "<style scoped>\n",
       "    .dataframe tbody tr th:only-of-type {\n",
       "        vertical-align: middle;\n",
       "    }\n",
       "\n",
       "    .dataframe tbody tr th {\n",
       "        vertical-align: top;\n",
       "    }\n",
       "\n",
       "    .dataframe thead th {\n",
       "        text-align: right;\n",
       "    }\n",
       "</style>\n",
       "<table border=\"1\" class=\"dataframe\">\n",
       "  <thead>\n",
       "    <tr style=\"text-align: right;\">\n",
       "      <th></th>\n",
       "      <th>item_category_name</th>\n",
       "      <th>item_category_id</th>\n",
       "    </tr>\n",
       "  </thead>\n",
       "  <tbody>\n",
       "    <tr>\n",
       "      <th>0</th>\n",
       "      <td>PC - Гарнитуры/Наушники</td>\n",
       "      <td>0</td>\n",
       "    </tr>\n",
       "    <tr>\n",
       "      <th>1</th>\n",
       "      <td>Аксессуары - PS2</td>\n",
       "      <td>1</td>\n",
       "    </tr>\n",
       "    <tr>\n",
       "      <th>2</th>\n",
       "      <td>Аксессуары - PS3</td>\n",
       "      <td>2</td>\n",
       "    </tr>\n",
       "    <tr>\n",
       "      <th>3</th>\n",
       "      <td>Аксессуары - PS4</td>\n",
       "      <td>3</td>\n",
       "    </tr>\n",
       "    <tr>\n",
       "      <th>4</th>\n",
       "      <td>Аксессуары - PSP</td>\n",
       "      <td>4</td>\n",
       "    </tr>\n",
       "  </tbody>\n",
       "</table>\n",
       "</div>"
      ],
      "text/plain": [
       "        item_category_name  item_category_id\n",
       "0  PC - Гарнитуры/Наушники                 0\n",
       "1         Аксессуары - PS2                 1\n",
       "2         Аксессуары - PS3                 2\n",
       "3         Аксессуары - PS4                 3\n",
       "4         Аксессуары - PSP                 4"
      ]
     },
     "execution_count": 5,
     "metadata": {},
     "output_type": "execute_result"
    }
   ],
   "source": [
    "cats.head()"
   ]
  },
  {
   "cell_type": "code",
   "execution_count": 6,
   "metadata": {
    "ExecuteTime": {
     "end_time": "2019-11-17T12:30:07.286031Z",
     "start_time": "2019-11-17T12:30:07.278002Z"
    }
   },
   "outputs": [
    {
     "data": {
      "text/html": [
       "<div>\n",
       "<style scoped>\n",
       "    .dataframe tbody tr th:only-of-type {\n",
       "        vertical-align: middle;\n",
       "    }\n",
       "\n",
       "    .dataframe tbody tr th {\n",
       "        vertical-align: top;\n",
       "    }\n",
       "\n",
       "    .dataframe thead th {\n",
       "        text-align: right;\n",
       "    }\n",
       "</style>\n",
       "<table border=\"1\" class=\"dataframe\">\n",
       "  <thead>\n",
       "    <tr style=\"text-align: right;\">\n",
       "      <th></th>\n",
       "      <th>date</th>\n",
       "      <th>date_block_num</th>\n",
       "      <th>shop_id</th>\n",
       "      <th>item_id</th>\n",
       "      <th>item_price</th>\n",
       "      <th>item_cnt_day</th>\n",
       "    </tr>\n",
       "  </thead>\n",
       "  <tbody>\n",
       "    <tr>\n",
       "      <th>0</th>\n",
       "      <td>02.01.2013</td>\n",
       "      <td>0</td>\n",
       "      <td>59</td>\n",
       "      <td>22154</td>\n",
       "      <td>999.00</td>\n",
       "      <td>1.0</td>\n",
       "    </tr>\n",
       "    <tr>\n",
       "      <th>1</th>\n",
       "      <td>03.01.2013</td>\n",
       "      <td>0</td>\n",
       "      <td>25</td>\n",
       "      <td>2552</td>\n",
       "      <td>899.00</td>\n",
       "      <td>1.0</td>\n",
       "    </tr>\n",
       "    <tr>\n",
       "      <th>2</th>\n",
       "      <td>05.01.2013</td>\n",
       "      <td>0</td>\n",
       "      <td>25</td>\n",
       "      <td>2552</td>\n",
       "      <td>899.00</td>\n",
       "      <td>-1.0</td>\n",
       "    </tr>\n",
       "    <tr>\n",
       "      <th>3</th>\n",
       "      <td>06.01.2013</td>\n",
       "      <td>0</td>\n",
       "      <td>25</td>\n",
       "      <td>2554</td>\n",
       "      <td>1709.05</td>\n",
       "      <td>1.0</td>\n",
       "    </tr>\n",
       "    <tr>\n",
       "      <th>4</th>\n",
       "      <td>15.01.2013</td>\n",
       "      <td>0</td>\n",
       "      <td>25</td>\n",
       "      <td>2555</td>\n",
       "      <td>1099.00</td>\n",
       "      <td>1.0</td>\n",
       "    </tr>\n",
       "  </tbody>\n",
       "</table>\n",
       "</div>"
      ],
      "text/plain": [
       "         date  date_block_num  shop_id  item_id  item_price  item_cnt_day\n",
       "0  02.01.2013               0       59    22154      999.00           1.0\n",
       "1  03.01.2013               0       25     2552      899.00           1.0\n",
       "2  05.01.2013               0       25     2552      899.00          -1.0\n",
       "3  06.01.2013               0       25     2554     1709.05           1.0\n",
       "4  15.01.2013               0       25     2555     1099.00           1.0"
      ]
     },
     "execution_count": 6,
     "metadata": {},
     "output_type": "execute_result"
    }
   ],
   "source": [
    "sales.head()"
   ]
  },
  {
   "cell_type": "code",
   "execution_count": 7,
   "metadata": {
    "ExecuteTime": {
     "end_time": "2019-11-17T12:30:07.293351Z",
     "start_time": "2019-11-17T12:30:07.287743Z"
    }
   },
   "outputs": [
    {
     "data": {
      "text/html": [
       "<div>\n",
       "<style scoped>\n",
       "    .dataframe tbody tr th:only-of-type {\n",
       "        vertical-align: middle;\n",
       "    }\n",
       "\n",
       "    .dataframe tbody tr th {\n",
       "        vertical-align: top;\n",
       "    }\n",
       "\n",
       "    .dataframe thead th {\n",
       "        text-align: right;\n",
       "    }\n",
       "</style>\n",
       "<table border=\"1\" class=\"dataframe\">\n",
       "  <thead>\n",
       "    <tr style=\"text-align: right;\">\n",
       "      <th></th>\n",
       "      <th>shop_id</th>\n",
       "      <th>item_id</th>\n",
       "    </tr>\n",
       "    <tr>\n",
       "      <th>ID</th>\n",
       "      <th></th>\n",
       "      <th></th>\n",
       "    </tr>\n",
       "  </thead>\n",
       "  <tbody>\n",
       "    <tr>\n",
       "      <th>0</th>\n",
       "      <td>5</td>\n",
       "      <td>5037</td>\n",
       "    </tr>\n",
       "    <tr>\n",
       "      <th>1</th>\n",
       "      <td>5</td>\n",
       "      <td>5320</td>\n",
       "    </tr>\n",
       "    <tr>\n",
       "      <th>2</th>\n",
       "      <td>5</td>\n",
       "      <td>5233</td>\n",
       "    </tr>\n",
       "    <tr>\n",
       "      <th>3</th>\n",
       "      <td>5</td>\n",
       "      <td>5232</td>\n",
       "    </tr>\n",
       "    <tr>\n",
       "      <th>4</th>\n",
       "      <td>5</td>\n",
       "      <td>5268</td>\n",
       "    </tr>\n",
       "  </tbody>\n",
       "</table>\n",
       "</div>"
      ],
      "text/plain": [
       "    shop_id  item_id\n",
       "ID                  \n",
       "0         5     5037\n",
       "1         5     5320\n",
       "2         5     5233\n",
       "3         5     5232\n",
       "4         5     5268"
      ]
     },
     "execution_count": 7,
     "metadata": {},
     "output_type": "execute_result"
    }
   ],
   "source": [
    "test.head()"
   ]
  },
  {
   "cell_type": "markdown",
   "metadata": {},
   "source": [
    "## Do Basic EDA and remove outliers"
   ]
  },
  {
   "cell_type": "code",
   "execution_count": 8,
   "metadata": {
    "ExecuteTime": {
     "end_time": "2019-11-17T12:30:07.571471Z",
     "start_time": "2019-11-17T12:30:07.296676Z"
    }
   },
   "outputs": [],
   "source": [
    "sales = sales[sales['item_price']<100000]\n",
    "sales = sales[sales['item_cnt_day']<=1000]"
   ]
  },
  {
   "cell_type": "markdown",
   "metadata": {},
   "source": [
    "## Group data at a level you want your predictions to be:"
   ]
  },
  {
   "cell_type": "code",
   "execution_count": 9,
   "metadata": {
    "ExecuteTime": {
     "end_time": "2019-11-17T12:30:14.062108Z",
     "start_time": "2019-11-17T12:30:07.572812Z"
    }
   },
   "outputs": [],
   "source": [
    "from itertools import product\n",
    "# Create \"grid\" with columns\n",
    "index_cols = ['shop_id', 'item_id', 'date_block_num']\n",
    "\n",
    "# For every month we create a grid from all shops/items combinations from that month\n",
    "grid = []\n",
    "for block_num in sales['date_block_num'].unique():\n",
    "    cur_shops = sales.loc[sales['date_block_num'] == block_num, 'shop_id'].unique()\n",
    "    cur_items = sales.loc[sales['date_block_num'] == block_num, 'item_id'].unique()\n",
    "    grid.append(np.array(list(product(*[cur_shops, cur_items, [block_num]])),dtype='int32'))\n",
    "grid = pd.DataFrame(np.vstack(grid), columns = index_cols,dtype=np.int32)"
   ]
  },
  {
   "cell_type": "code",
   "execution_count": 10,
   "metadata": {
    "ExecuteTime": {
     "end_time": "2019-11-17T12:30:14.580338Z",
     "start_time": "2019-11-17T12:30:14.063690Z"
    }
   },
   "outputs": [
    {
     "data": {
      "text/html": [
       "<div>\n",
       "<style scoped>\n",
       "    .dataframe tbody tr th:only-of-type {\n",
       "        vertical-align: middle;\n",
       "    }\n",
       "\n",
       "    .dataframe tbody tr th {\n",
       "        vertical-align: top;\n",
       "    }\n",
       "\n",
       "    .dataframe thead th {\n",
       "        text-align: right;\n",
       "    }\n",
       "</style>\n",
       "<table border=\"1\" class=\"dataframe\">\n",
       "  <thead>\n",
       "    <tr style=\"text-align: right;\">\n",
       "      <th></th>\n",
       "      <th>shop_id</th>\n",
       "      <th>item_id</th>\n",
       "      <th>date_block_num</th>\n",
       "    </tr>\n",
       "  </thead>\n",
       "  <tbody>\n",
       "    <tr>\n",
       "      <th>7871496</th>\n",
       "      <td>49</td>\n",
       "      <td>15705</td>\n",
       "      <td>22</td>\n",
       "    </tr>\n",
       "    <tr>\n",
       "      <th>7217871</th>\n",
       "      <td>42</td>\n",
       "      <td>14649</td>\n",
       "      <td>20</td>\n",
       "    </tr>\n",
       "    <tr>\n",
       "      <th>9840739</th>\n",
       "      <td>48</td>\n",
       "      <td>10966</td>\n",
       "      <td>29</td>\n",
       "    </tr>\n",
       "    <tr>\n",
       "      <th>2137988</th>\n",
       "      <td>19</td>\n",
       "      <td>10109</td>\n",
       "      <td>5</td>\n",
       "    </tr>\n",
       "    <tr>\n",
       "      <th>4186486</th>\n",
       "      <td>7</td>\n",
       "      <td>14337</td>\n",
       "      <td>11</td>\n",
       "    </tr>\n",
       "  </tbody>\n",
       "</table>\n",
       "</div>"
      ],
      "text/plain": [
       "         shop_id  item_id  date_block_num\n",
       "7871496       49    15705              22\n",
       "7217871       42    14649              20\n",
       "9840739       48    10966              29\n",
       "2137988       19    10109               5\n",
       "4186486        7    14337              11"
      ]
     },
     "execution_count": 10,
     "metadata": {},
     "output_type": "execute_result"
    }
   ],
   "source": [
    "grid.sample(5)"
   ]
  },
  {
   "cell_type": "code",
   "execution_count": 11,
   "metadata": {
    "ExecuteTime": {
     "end_time": "2019-11-17T12:30:20.275610Z",
     "start_time": "2019-11-17T12:30:14.581690Z"
    }
   },
   "outputs": [],
   "source": [
    "sales_m = sales.groupby(['date_block_num','shop_id','item_id']).agg({'item_cnt_day': 'sum','item_price': np.mean}).reset_index()\n",
    "\n",
    "# merging with grid dataFrame\n",
    "sales_m = pd.merge(grid,sales_m,on=['date_block_num','shop_id','item_id'],how='left').fillna(0)\n",
    "\n",
    "# adding the category id too\n",
    "sales_m = pd.merge(sales_m,items,on=['item_id'],how='left')"
   ]
  },
  {
   "cell_type": "code",
   "execution_count": 12,
   "metadata": {
    "ExecuteTime": {
     "end_time": "2019-11-17T12:30:20.725400Z",
     "start_time": "2019-11-17T12:30:20.277124Z"
    }
   },
   "outputs": [
    {
     "data": {
      "text/html": [
       "<div>\n",
       "<style scoped>\n",
       "    .dataframe tbody tr th:only-of-type {\n",
       "        vertical-align: middle;\n",
       "    }\n",
       "\n",
       "    .dataframe tbody tr th {\n",
       "        vertical-align: top;\n",
       "    }\n",
       "\n",
       "    .dataframe thead th {\n",
       "        text-align: right;\n",
       "    }\n",
       "</style>\n",
       "<table border=\"1\" class=\"dataframe\">\n",
       "  <thead>\n",
       "    <tr style=\"text-align: right;\">\n",
       "      <th></th>\n",
       "      <th>shop_id</th>\n",
       "      <th>item_id</th>\n",
       "      <th>date_block_num</th>\n",
       "      <th>item_cnt_day</th>\n",
       "      <th>item_price</th>\n",
       "      <th>item_name</th>\n",
       "      <th>item_category_id</th>\n",
       "    </tr>\n",
       "  </thead>\n",
       "  <tbody>\n",
       "    <tr>\n",
       "      <th>8931345</th>\n",
       "      <td>22</td>\n",
       "      <td>3082</td>\n",
       "      <td>25</td>\n",
       "      <td>0.0</td>\n",
       "      <td>0.0</td>\n",
       "      <td>EAGLES  The Complete Greatest Hits  2CD</td>\n",
       "      <td>55</td>\n",
       "    </tr>\n",
       "    <tr>\n",
       "      <th>8606438</th>\n",
       "      <td>43</td>\n",
       "      <td>16014</td>\n",
       "      <td>24</td>\n",
       "      <td>0.0</td>\n",
       "      <td>0.0</td>\n",
       "      <td>Настольная игра ALIAS Party Компактная арт. 01934</td>\n",
       "      <td>65</td>\n",
       "    </tr>\n",
       "    <tr>\n",
       "      <th>6745253</th>\n",
       "      <td>4</td>\n",
       "      <td>1249</td>\n",
       "      <td>18</td>\n",
       "      <td>0.0</td>\n",
       "      <td>0.0</td>\n",
       "      <td>ADELE  21</td>\n",
       "      <td>55</td>\n",
       "    </tr>\n",
       "    <tr>\n",
       "      <th>4075482</th>\n",
       "      <td>52</td>\n",
       "      <td>13518</td>\n",
       "      <td>10</td>\n",
       "      <td>0.0</td>\n",
       "      <td>0.0</td>\n",
       "      <td>Комплект Прогулки с динозаврами (только для PS...</td>\n",
       "      <td>19</td>\n",
       "    </tr>\n",
       "    <tr>\n",
       "      <th>10869222</th>\n",
       "      <td>3</td>\n",
       "      <td>20742</td>\n",
       "      <td>33</td>\n",
       "      <td>0.0</td>\n",
       "      <td>0.0</td>\n",
       "      <td>Фигурка Scalers Wave 3 Batman 1966 TV Show 2\"</td>\n",
       "      <td>72</td>\n",
       "    </tr>\n",
       "  </tbody>\n",
       "</table>\n",
       "</div>"
      ],
      "text/plain": [
       "          shop_id  item_id  date_block_num  item_cnt_day  item_price  \\\n",
       "8931345        22     3082              25           0.0         0.0   \n",
       "8606438        43    16014              24           0.0         0.0   \n",
       "6745253         4     1249              18           0.0         0.0   \n",
       "4075482        52    13518              10           0.0         0.0   \n",
       "10869222        3    20742              33           0.0         0.0   \n",
       "\n",
       "                                                  item_name  item_category_id  \n",
       "8931345             EAGLES  The Complete Greatest Hits  2CD                55  \n",
       "8606438   Настольная игра ALIAS Party Компактная арт. 01934                65  \n",
       "6745253                                           ADELE  21                55  \n",
       "4075482   Комплект Прогулки с динозаврами (только для PS...                19  \n",
       "10869222      Фигурка Scalers Wave 3 Batman 1966 TV Show 2\"                72  "
      ]
     },
     "execution_count": 12,
     "metadata": {},
     "output_type": "execute_result"
    }
   ],
   "source": [
    "sales_m.sample(5)"
   ]
  },
  {
   "cell_type": "code",
   "execution_count": 13,
   "metadata": {
    "ExecuteTime": {
     "end_time": "2019-11-17T12:30:20.774674Z",
     "start_time": "2019-11-17T12:30:20.727040Z"
    }
   },
   "outputs": [
    {
     "data": {
      "text/plain": [
       "17"
      ]
     },
     "execution_count": 13,
     "metadata": {},
     "output_type": "execute_result"
    }
   ],
   "source": [
    "import gc\n",
    "del grid\n",
    "gc.collect()"
   ]
  },
  {
   "cell_type": "markdown",
   "metadata": {
    "ExecuteTime": {
     "end_time": "2019-11-17T12:29:21.843079Z",
     "start_time": "2019-11-17T12:29:21.841078Z"
    }
   },
   "source": [
    "## Check Baseline"
   ]
  },
  {
   "cell_type": "code",
   "execution_count": 14,
   "metadata": {
    "ExecuteTime": {
     "end_time": "2019-11-17T12:30:22.205970Z",
     "start_time": "2019-11-17T12:30:20.776789Z"
    }
   },
   "outputs": [
    {
     "name": "stdout",
     "output_type": "stream",
     "text": [
      "2.1181670165502\n"
     ]
    }
   ],
   "source": [
    "from sklearn.metrics import mean_squared_error\n",
    "\n",
    "sales_m_test = sales_m[sales_m['date_block_num']==33]\n",
    "preds = sales_m.copy()\n",
    "preds['date_block_num']=preds['date_block_num']+1\n",
    "preds = preds[preds['date_block_num']==33]\n",
    "preds = preds.rename(columns={'item_cnt_day':'preds_item_cnt_day'})\n",
    "preds = pd.merge(sales_m_test,preds,on = ['shop_id','item_id'],how='left')[['shop_id','item_id','preds_item_cnt_day','item_cnt_day']].fillna(0)\n",
    "# we want our predictions clipped at (0,20)\n",
    "preds['item_cnt_day'] = preds['item_cnt_day'].clip(0,20)\n",
    "preds['preds_item_cnt_day'] = preds['preds_item_cnt_day'].clip(0,20)\n",
    "baseline_rmse = np.sqrt(mean_squared_error(preds['item_cnt_day'],preds['preds_item_cnt_day']))\n",
    "print(baseline_rmse)"
   ]
  },
  {
   "cell_type": "markdown",
   "metadata": {},
   "source": [
    "## Create Mean Encodings features"
   ]
  },
  {
   "cell_type": "code",
   "execution_count": 15,
   "metadata": {
    "ExecuteTime": {
     "end_time": "2019-11-17T12:30:56.517542Z",
     "start_time": "2019-11-17T12:30:22.210429Z"
    }
   },
   "outputs": [],
   "source": [
    "groupcollist = ['item_id','shop_id','item_category_id']\n",
    "aggregationlist = [('item_price',np.mean,'avg'),('item_cnt_day',np.sum,'sum'),('item_cnt_day',np.mean,'avg')]\n",
    "\n",
    "for type_id in groupcollist:\n",
    "    for column_id,aggregator,aggtype in aggregationlist:\n",
    "        # get numbers from sales data and set column names\n",
    "        mean_df = sales_m.groupby([type_id,'date_block_num']).aggregate(aggregator).reset_index()[[column_id,type_id,'date_block_num']]\n",
    "        mean_df.columns = [type_id+'_'+aggtype+'_'+column_id,type_id,'date_block_num']\n",
    "        # merge new columns on sales_m data\n",
    "        sales_m = pd.merge(sales_m,mean_df,on=['date_block_num',type_id],how='left')"
   ]
  },
  {
   "cell_type": "code",
   "execution_count": 16,
   "metadata": {
    "ExecuteTime": {
     "end_time": "2019-11-17T12:30:56.524100Z",
     "start_time": "2019-11-17T12:30:56.519260Z"
    }
   },
   "outputs": [
    {
     "data": {
      "text/plain": [
       "Index(['shop_id', 'item_id', 'date_block_num', 'item_cnt_day', 'item_price',\n",
       "       'item_name', 'item_category_id', 'item_id_avg_item_price',\n",
       "       'item_id_sum_item_cnt_day', 'item_id_avg_item_cnt_day',\n",
       "       'shop_id_avg_item_price', 'shop_id_sum_item_cnt_day',\n",
       "       'shop_id_avg_item_cnt_day', 'item_category_id_avg_item_price',\n",
       "       'item_category_id_sum_item_cnt_day',\n",
       "       'item_category_id_avg_item_cnt_day'],\n",
       "      dtype='object')"
      ]
     },
     "execution_count": 16,
     "metadata": {},
     "output_type": "execute_result"
    }
   ],
   "source": [
    "sales_m.columns"
   ]
  },
  {
   "cell_type": "code",
   "execution_count": 17,
   "metadata": {
    "ExecuteTime": {
     "end_time": "2019-11-17T12:30:56.563332Z",
     "start_time": "2019-11-17T12:30:56.526268Z"
    }
   },
   "outputs": [
    {
     "data": {
      "text/plain": [
       "315"
      ]
     },
     "execution_count": 17,
     "metadata": {},
     "output_type": "execute_result"
    }
   ],
   "source": [
    "import gc\n",
    "del mean_df\n",
    "gc.collect()"
   ]
  },
  {
   "cell_type": "markdown",
   "metadata": {},
   "source": [
    "## Create Lag Features"
   ]
  },
  {
   "cell_type": "code",
   "execution_count": 18,
   "metadata": {
    "ExecuteTime": {
     "end_time": "2019-11-17T12:32:45.065415Z",
     "start_time": "2019-11-17T12:30:56.565694Z"
    }
   },
   "outputs": [],
   "source": [
    "lag_variables  = ['item_id_avg_item_price','item_id_sum_item_cnt_day','item_id_avg_item_cnt_day','shop_id_avg_item_price','shop_id_sum_item_cnt_day','shop_id_avg_item_cnt_day','item_category_id_avg_item_price','item_category_id_sum_item_cnt_day','item_category_id_avg_item_cnt_day','item_cnt_day']\n",
    "\n",
    "lags = [1 ,2 ,3 ,4, 5, 12]\n",
    "\n",
    "# we will keep the results in this dataframe\n",
    "sales_means = sales_m.copy()\n",
    "\n",
    "for lag in lags:\n",
    "    sales_new_df = sales_m.copy()\n",
    "    sales_new_df.date_block_num+=lag\n",
    "    # subset only the lag variables we want\n",
    "    sales_new_df = sales_new_df[['date_block_num','shop_id','item_id']+lag_variables]\n",
    "    sales_new_df.columns = ['date_block_num','shop_id','item_id']+ [lag_feat+'_lag_'+str(lag) for lag_feat in lag_variables]\n",
    "    # join with date_block_num,shop_id and item_id\n",
    "    sales_means = pd.merge(sales_means, sales_new_df,on=['date_block_num','shop_id','item_id'] ,how='left')"
   ]
  },
  {
   "cell_type": "code",
   "execution_count": 19,
   "metadata": {
    "ExecuteTime": {
     "end_time": "2019-11-17T12:32:57.927664Z",
     "start_time": "2019-11-17T12:32:45.082960Z"
    }
   },
   "outputs": [],
   "source": [
    "for feat in sales_means.columns:\n",
    "    if 'item_cnt' in feat:\n",
    "        sales_means[feat]=sales_means[feat].fillna(0)\n",
    "    elif 'item_price' in feat:\n",
    "        sales_means[feat]=sales_means[feat].fillna(sales_means[feat].median())"
   ]
  },
  {
   "cell_type": "code",
   "execution_count": 20,
   "metadata": {
    "ExecuteTime": {
     "end_time": "2019-11-17T12:32:58.431468Z",
     "start_time": "2019-11-17T12:32:57.930460Z"
    }
   },
   "outputs": [
    {
     "data": {
      "text/plain": [
       "126"
      ]
     },
     "execution_count": 20,
     "metadata": {},
     "output_type": "execute_result"
    }
   ],
   "source": [
    "import gc\n",
    "del sales_new_df\n",
    "del sales_m\n",
    "gc.collect()"
   ]
  },
  {
   "cell_type": "code",
   "execution_count": null,
   "metadata": {},
   "outputs": [],
   "source": []
  },
  {
   "cell_type": "markdown",
   "metadata": {},
   "source": [
    "# Prepare data for Modelling"
   ]
  },
  {
   "cell_type": "code",
   "execution_count": 21,
   "metadata": {
    "ExecuteTime": {
     "end_time": "2019-11-17T12:32:59.943267Z",
     "start_time": "2019-11-17T12:32:58.666119Z"
    }
   },
   "outputs": [],
   "source": [
    "cols_to_drop = lag_variables[:-1] + ['item_name','item_price']\n",
    "for col in cols_to_drop:\n",
    "    del sales_means[col]"
   ]
  },
  {
   "cell_type": "code",
   "execution_count": 22,
   "metadata": {
    "ExecuteTime": {
     "end_time": "2019-11-17T12:32:59.988429Z",
     "start_time": "2019-11-17T12:32:59.945219Z"
    }
   },
   "outputs": [
    {
     "data": {
      "text/plain": [
       "5815"
      ]
     },
     "execution_count": 22,
     "metadata": {},
     "output_type": "execute_result"
    }
   ],
   "source": [
    "gc.collect()"
   ]
  },
  {
   "cell_type": "code",
   "execution_count": 23,
   "metadata": {
    "ExecuteTime": {
     "end_time": "2019-11-17T12:33:00.026280Z",
     "start_time": "2019-11-17T12:32:59.990848Z"
    }
   },
   "outputs": [
    {
     "data": {
      "text/html": [
       "<div>\n",
       "<style scoped>\n",
       "    .dataframe tbody tr th:only-of-type {\n",
       "        vertical-align: middle;\n",
       "    }\n",
       "\n",
       "    .dataframe tbody tr th {\n",
       "        vertical-align: top;\n",
       "    }\n",
       "\n",
       "    .dataframe thead th {\n",
       "        text-align: right;\n",
       "    }\n",
       "</style>\n",
       "<table border=\"1\" class=\"dataframe\">\n",
       "  <thead>\n",
       "    <tr style=\"text-align: right;\">\n",
       "      <th></th>\n",
       "      <th>shop_id</th>\n",
       "      <th>item_id</th>\n",
       "      <th>date_block_num</th>\n",
       "      <th>item_cnt_day</th>\n",
       "      <th>item_category_id</th>\n",
       "      <th>item_id_avg_item_price_lag_1</th>\n",
       "      <th>item_id_sum_item_cnt_day_lag_1</th>\n",
       "      <th>item_id_avg_item_cnt_day_lag_1</th>\n",
       "      <th>shop_id_avg_item_price_lag_1</th>\n",
       "      <th>shop_id_sum_item_cnt_day_lag_1</th>\n",
       "      <th>...</th>\n",
       "      <th>item_id_avg_item_price_lag_12</th>\n",
       "      <th>item_id_sum_item_cnt_day_lag_12</th>\n",
       "      <th>item_id_avg_item_cnt_day_lag_12</th>\n",
       "      <th>shop_id_avg_item_price_lag_12</th>\n",
       "      <th>shop_id_sum_item_cnt_day_lag_12</th>\n",
       "      <th>shop_id_avg_item_cnt_day_lag_12</th>\n",
       "      <th>item_category_id_avg_item_price_lag_12</th>\n",
       "      <th>item_category_id_sum_item_cnt_day_lag_12</th>\n",
       "      <th>item_category_id_avg_item_cnt_day_lag_12</th>\n",
       "      <th>item_cnt_day_lag_12</th>\n",
       "    </tr>\n",
       "  </thead>\n",
       "  <tbody>\n",
       "    <tr>\n",
       "      <th>0</th>\n",
       "      <td>59</td>\n",
       "      <td>22154</td>\n",
       "      <td>0</td>\n",
       "      <td>1.0</td>\n",
       "      <td>37</td>\n",
       "      <td>34.695652</td>\n",
       "      <td>0.0</td>\n",
       "      <td>0.0</td>\n",
       "      <td>102.017588</td>\n",
       "      <td>0.0</td>\n",
       "      <td>...</td>\n",
       "      <td>45.652174</td>\n",
       "      <td>0.0</td>\n",
       "      <td>0.0</td>\n",
       "      <td>96.237947</td>\n",
       "      <td>0.0</td>\n",
       "      <td>0.0</td>\n",
       "      <td>44.49549</td>\n",
       "      <td>0.0</td>\n",
       "      <td>0.0</td>\n",
       "      <td>0.0</td>\n",
       "    </tr>\n",
       "    <tr>\n",
       "      <th>1</th>\n",
       "      <td>59</td>\n",
       "      <td>2552</td>\n",
       "      <td>0</td>\n",
       "      <td>0.0</td>\n",
       "      <td>58</td>\n",
       "      <td>34.695652</td>\n",
       "      <td>0.0</td>\n",
       "      <td>0.0</td>\n",
       "      <td>102.017588</td>\n",
       "      <td>0.0</td>\n",
       "      <td>...</td>\n",
       "      <td>45.652174</td>\n",
       "      <td>0.0</td>\n",
       "      <td>0.0</td>\n",
       "      <td>96.237947</td>\n",
       "      <td>0.0</td>\n",
       "      <td>0.0</td>\n",
       "      <td>44.49549</td>\n",
       "      <td>0.0</td>\n",
       "      <td>0.0</td>\n",
       "      <td>0.0</td>\n",
       "    </tr>\n",
       "    <tr>\n",
       "      <th>2</th>\n",
       "      <td>59</td>\n",
       "      <td>2554</td>\n",
       "      <td>0</td>\n",
       "      <td>0.0</td>\n",
       "      <td>58</td>\n",
       "      <td>34.695652</td>\n",
       "      <td>0.0</td>\n",
       "      <td>0.0</td>\n",
       "      <td>102.017588</td>\n",
       "      <td>0.0</td>\n",
       "      <td>...</td>\n",
       "      <td>45.652174</td>\n",
       "      <td>0.0</td>\n",
       "      <td>0.0</td>\n",
       "      <td>96.237947</td>\n",
       "      <td>0.0</td>\n",
       "      <td>0.0</td>\n",
       "      <td>44.49549</td>\n",
       "      <td>0.0</td>\n",
       "      <td>0.0</td>\n",
       "      <td>0.0</td>\n",
       "    </tr>\n",
       "    <tr>\n",
       "      <th>3</th>\n",
       "      <td>59</td>\n",
       "      <td>2555</td>\n",
       "      <td>0</td>\n",
       "      <td>0.0</td>\n",
       "      <td>56</td>\n",
       "      <td>34.695652</td>\n",
       "      <td>0.0</td>\n",
       "      <td>0.0</td>\n",
       "      <td>102.017588</td>\n",
       "      <td>0.0</td>\n",
       "      <td>...</td>\n",
       "      <td>45.652174</td>\n",
       "      <td>0.0</td>\n",
       "      <td>0.0</td>\n",
       "      <td>96.237947</td>\n",
       "      <td>0.0</td>\n",
       "      <td>0.0</td>\n",
       "      <td>44.49549</td>\n",
       "      <td>0.0</td>\n",
       "      <td>0.0</td>\n",
       "      <td>0.0</td>\n",
       "    </tr>\n",
       "    <tr>\n",
       "      <th>4</th>\n",
       "      <td>59</td>\n",
       "      <td>2564</td>\n",
       "      <td>0</td>\n",
       "      <td>0.0</td>\n",
       "      <td>59</td>\n",
       "      <td>34.695652</td>\n",
       "      <td>0.0</td>\n",
       "      <td>0.0</td>\n",
       "      <td>102.017588</td>\n",
       "      <td>0.0</td>\n",
       "      <td>...</td>\n",
       "      <td>45.652174</td>\n",
       "      <td>0.0</td>\n",
       "      <td>0.0</td>\n",
       "      <td>96.237947</td>\n",
       "      <td>0.0</td>\n",
       "      <td>0.0</td>\n",
       "      <td>44.49549</td>\n",
       "      <td>0.0</td>\n",
       "      <td>0.0</td>\n",
       "      <td>0.0</td>\n",
       "    </tr>\n",
       "  </tbody>\n",
       "</table>\n",
       "<p>5 rows × 65 columns</p>\n",
       "</div>"
      ],
      "text/plain": [
       "   shop_id  item_id  date_block_num  item_cnt_day  item_category_id  \\\n",
       "0       59    22154               0           1.0                37   \n",
       "1       59     2552               0           0.0                58   \n",
       "2       59     2554               0           0.0                58   \n",
       "3       59     2555               0           0.0                56   \n",
       "4       59     2564               0           0.0                59   \n",
       "\n",
       "   item_id_avg_item_price_lag_1  item_id_sum_item_cnt_day_lag_1  \\\n",
       "0                     34.695652                             0.0   \n",
       "1                     34.695652                             0.0   \n",
       "2                     34.695652                             0.0   \n",
       "3                     34.695652                             0.0   \n",
       "4                     34.695652                             0.0   \n",
       "\n",
       "   item_id_avg_item_cnt_day_lag_1  shop_id_avg_item_price_lag_1  \\\n",
       "0                             0.0                    102.017588   \n",
       "1                             0.0                    102.017588   \n",
       "2                             0.0                    102.017588   \n",
       "3                             0.0                    102.017588   \n",
       "4                             0.0                    102.017588   \n",
       "\n",
       "   shop_id_sum_item_cnt_day_lag_1  ...  item_id_avg_item_price_lag_12  \\\n",
       "0                             0.0  ...                      45.652174   \n",
       "1                             0.0  ...                      45.652174   \n",
       "2                             0.0  ...                      45.652174   \n",
       "3                             0.0  ...                      45.652174   \n",
       "4                             0.0  ...                      45.652174   \n",
       "\n",
       "   item_id_sum_item_cnt_day_lag_12  item_id_avg_item_cnt_day_lag_12  \\\n",
       "0                              0.0                              0.0   \n",
       "1                              0.0                              0.0   \n",
       "2                              0.0                              0.0   \n",
       "3                              0.0                              0.0   \n",
       "4                              0.0                              0.0   \n",
       "\n",
       "   shop_id_avg_item_price_lag_12  shop_id_sum_item_cnt_day_lag_12  \\\n",
       "0                      96.237947                              0.0   \n",
       "1                      96.237947                              0.0   \n",
       "2                      96.237947                              0.0   \n",
       "3                      96.237947                              0.0   \n",
       "4                      96.237947                              0.0   \n",
       "\n",
       "   shop_id_avg_item_cnt_day_lag_12  item_category_id_avg_item_price_lag_12  \\\n",
       "0                              0.0                                44.49549   \n",
       "1                              0.0                                44.49549   \n",
       "2                              0.0                                44.49549   \n",
       "3                              0.0                                44.49549   \n",
       "4                              0.0                                44.49549   \n",
       "\n",
       "   item_category_id_sum_item_cnt_day_lag_12  \\\n",
       "0                                       0.0   \n",
       "1                                       0.0   \n",
       "2                                       0.0   \n",
       "3                                       0.0   \n",
       "4                                       0.0   \n",
       "\n",
       "   item_category_id_avg_item_cnt_day_lag_12  item_cnt_day_lag_12  \n",
       "0                                       0.0                  0.0  \n",
       "1                                       0.0                  0.0  \n",
       "2                                       0.0                  0.0  \n",
       "3                                       0.0                  0.0  \n",
       "4                                       0.0                  0.0  \n",
       "\n",
       "[5 rows x 65 columns]"
      ]
     },
     "execution_count": 23,
     "metadata": {},
     "output_type": "execute_result"
    }
   ],
   "source": [
    "sales_means.head()"
   ]
  },
  {
   "cell_type": "code",
   "execution_count": 24,
   "metadata": {
    "ExecuteTime": {
     "end_time": "2019-11-17T12:33:19.965916Z",
     "start_time": "2019-11-17T12:33:00.029168Z"
    }
   },
   "outputs": [],
   "source": [
    "sales_means = sales_means[sales_means['date_block_num']>11]"
   ]
  },
  {
   "cell_type": "code",
   "execution_count": 25,
   "metadata": {
    "ExecuteTime": {
     "end_time": "2019-11-17T12:33:22.480076Z",
     "start_time": "2019-11-17T12:33:19.973871Z"
    }
   },
   "outputs": [],
   "source": [
    "X_train = sales_means[sales_means['date_block_num']<33]\n",
    "X_cv =  sales_means[sales_means['date_block_num']==33]"
   ]
  },
  {
   "cell_type": "code",
   "execution_count": 26,
   "metadata": {
    "ExecuteTime": {
     "end_time": "2019-11-17T12:33:22.762646Z",
     "start_time": "2019-11-17T12:33:22.481860Z"
    }
   },
   "outputs": [
    {
     "name": "stderr",
     "output_type": "stream",
     "text": [
      "/miniconda3/envs/py36/lib/python3.6/site-packages/ipykernel_launcher.py:1: SettingWithCopyWarning: \n",
      "A value is trying to be set on a copy of a slice from a DataFrame.\n",
      "Try using .loc[row_indexer,col_indexer] = value instead\n",
      "\n",
      "See the caveats in the documentation: http://pandas.pydata.org/pandas-docs/stable/indexing.html#indexing-view-versus-copy\n",
      "  \"\"\"Entry point for launching an IPython kernel.\n",
      "/miniconda3/envs/py36/lib/python3.6/site-packages/ipykernel_launcher.py:2: SettingWithCopyWarning: \n",
      "A value is trying to be set on a copy of a slice from a DataFrame.\n",
      "Try using .loc[row_indexer,col_indexer] = value instead\n",
      "\n",
      "See the caveats in the documentation: http://pandas.pydata.org/pandas-docs/stable/indexing.html#indexing-view-versus-copy\n",
      "  \n"
     ]
    }
   ],
   "source": [
    "X_train['item_cnt_day'] = X_train['item_cnt_day'].clip(0,20)\n",
    "X_cv['item_cnt_day'] = X_cv['item_cnt_day'].clip(0,20)"
   ]
  },
  {
   "cell_type": "code",
   "execution_count": 27,
   "metadata": {
    "ExecuteTime": {
     "end_time": "2019-11-17T12:33:23.043953Z",
     "start_time": "2019-11-17T12:33:22.764647Z"
    }
   },
   "outputs": [
    {
     "data": {
      "text/plain": [
       "0"
      ]
     },
     "execution_count": 27,
     "metadata": {},
     "output_type": "execute_result"
    }
   ],
   "source": [
    "del sales_means\n",
    "gc.collect()"
   ]
  },
  {
   "cell_type": "code",
   "execution_count": 28,
   "metadata": {
    "ExecuteTime": {
     "end_time": "2019-11-17T12:33:23.048738Z",
     "start_time": "2019-11-17T12:33:23.045815Z"
    }
   },
   "outputs": [],
   "source": [
    "Y_train = X_train['item_cnt_day']\n",
    "Y_cv = X_cv['item_cnt_day']"
   ]
  },
  {
   "cell_type": "code",
   "execution_count": 29,
   "metadata": {
    "ExecuteTime": {
     "end_time": "2019-11-17T12:33:24.070758Z",
     "start_time": "2019-11-17T12:33:23.051308Z"
    }
   },
   "outputs": [],
   "source": [
    "del X_train['item_cnt_day']\n",
    "del X_cv['item_cnt_day']"
   ]
  },
  {
   "cell_type": "code",
   "execution_count": 30,
   "metadata": {
    "ExecuteTime": {
     "end_time": "2019-11-17T12:33:24.106986Z",
     "start_time": "2019-11-17T12:33:24.072804Z"
    }
   },
   "outputs": [
    {
     "data": {
      "text/plain": [
       "0"
      ]
     },
     "execution_count": 30,
     "metadata": {},
     "output_type": "execute_result"
    }
   ],
   "source": [
    "gc.collect()"
   ]
  },
  {
   "cell_type": "code",
   "execution_count": 31,
   "metadata": {
    "ExecuteTime": {
     "end_time": "2019-11-17T12:33:31.224271Z",
     "start_time": "2019-11-17T12:33:24.109198Z"
    }
   },
   "outputs": [],
   "source": [
    "X_train = np.array(X_train)"
   ]
  },
  {
   "cell_type": "code",
   "execution_count": 32,
   "metadata": {
    "ExecuteTime": {
     "end_time": "2019-11-17T12:33:31.448745Z",
     "start_time": "2019-11-17T12:33:31.227234Z"
    }
   },
   "outputs": [],
   "source": [
    "X_cv = np.array(X_cv)"
   ]
  },
  {
   "cell_type": "code",
   "execution_count": 33,
   "metadata": {
    "ExecuteTime": {
     "end_time": "2019-11-17T16:10:28.500977Z",
     "start_time": "2019-11-17T12:33:31.452081Z"
    },
    "scrolled": true
   },
   "outputs": [
    {
     "name": "stdout",
     "output_type": "stream",
     "text": [
      "[18:03:55] Tree method is automatically selected to be 'approx' for faster speed. To use old behavior (exact greedy algorithm on single machine), set tree_method to 'exact'.\n",
      "[0]\tvalidation_0-rmse:1.15986\tvalidation_1-rmse:1.12672\n",
      "Multiple eval metrics have been passed: 'validation_1-rmse' will be used for early stopping.\n",
      "\n",
      "Will train until validation_1-rmse hasn't improved in 10 rounds.\n",
      "[1]\tvalidation_0-rmse:1.1201\tvalidation_1-rmse:1.09809\n",
      "[2]\tvalidation_0-rmse:1.08648\tvalidation_1-rmse:1.07408\n",
      "[3]\tvalidation_0-rmse:1.06078\tvalidation_1-rmse:1.057\n",
      "[4]\tvalidation_0-rmse:1.03631\tvalidation_1-rmse:1.03979\n",
      "[5]\tvalidation_0-rmse:1.01759\tvalidation_1-rmse:1.02697\n",
      "[6]\tvalidation_0-rmse:0.999774\tvalidation_1-rmse:1.01499\n",
      "[7]\tvalidation_0-rmse:0.984329\tvalidation_1-rmse:1.00461\n",
      "[8]\tvalidation_0-rmse:0.97128\tvalidation_1-rmse:0.995941\n",
      "[9]\tvalidation_0-rmse:0.960443\tvalidation_1-rmse:0.988754\n",
      "[10]\tvalidation_0-rmse:0.951356\tvalidation_1-rmse:0.98287\n",
      "[11]\tvalidation_0-rmse:0.943632\tvalidation_1-rmse:0.978107\n",
      "[12]\tvalidation_0-rmse:0.937152\tvalidation_1-rmse:0.97423\n",
      "[13]\tvalidation_0-rmse:0.931773\tvalidation_1-rmse:0.971029\n",
      "[14]\tvalidation_0-rmse:0.926948\tvalidation_1-rmse:0.967954\n",
      "[15]\tvalidation_0-rmse:0.922736\tvalidation_1-rmse:0.96559\n",
      "[16]\tvalidation_0-rmse:0.91932\tvalidation_1-rmse:0.963998\n",
      "[17]\tvalidation_0-rmse:0.916242\tvalidation_1-rmse:0.962084\n",
      "[18]\tvalidation_0-rmse:0.9137\tvalidation_1-rmse:0.960616\n",
      "[19]\tvalidation_0-rmse:0.910932\tvalidation_1-rmse:0.959151\n",
      "[20]\tvalidation_0-rmse:0.90881\tvalidation_1-rmse:0.957963\n",
      "[21]\tvalidation_0-rmse:0.907004\tvalidation_1-rmse:0.957016\n",
      "[22]\tvalidation_0-rmse:0.905379\tvalidation_1-rmse:0.956458\n",
      "[23]\tvalidation_0-rmse:0.903683\tvalidation_1-rmse:0.955924\n",
      "[24]\tvalidation_0-rmse:0.901987\tvalidation_1-rmse:0.9554\n",
      "[25]\tvalidation_0-rmse:0.90081\tvalidation_1-rmse:0.954943\n",
      "[26]\tvalidation_0-rmse:0.899789\tvalidation_1-rmse:0.954615\n",
      "[27]\tvalidation_0-rmse:0.898952\tvalidation_1-rmse:0.95425\n",
      "[28]\tvalidation_0-rmse:0.897358\tvalidation_1-rmse:0.952649\n",
      "[29]\tvalidation_0-rmse:0.896652\tvalidation_1-rmse:0.952337\n",
      "[30]\tvalidation_0-rmse:0.895754\tvalidation_1-rmse:0.951941\n",
      "[31]\tvalidation_0-rmse:0.894555\tvalidation_1-rmse:0.951292\n",
      "[32]\tvalidation_0-rmse:0.89379\tvalidation_1-rmse:0.950793\n",
      "[33]\tvalidation_0-rmse:0.893172\tvalidation_1-rmse:0.950492\n",
      "[34]\tvalidation_0-rmse:0.89259\tvalidation_1-rmse:0.950372\n",
      "[35]\tvalidation_0-rmse:0.891981\tvalidation_1-rmse:0.950248\n",
      "[36]\tvalidation_0-rmse:0.891094\tvalidation_1-rmse:0.950454\n",
      "[37]\tvalidation_0-rmse:0.890297\tvalidation_1-rmse:0.95015\n",
      "[38]\tvalidation_0-rmse:0.889813\tvalidation_1-rmse:0.950023\n",
      "[39]\tvalidation_0-rmse:0.889455\tvalidation_1-rmse:0.949956\n",
      "[40]\tvalidation_0-rmse:0.888876\tvalidation_1-rmse:0.949647\n",
      "[41]\tvalidation_0-rmse:0.888537\tvalidation_1-rmse:0.949558\n",
      "[42]\tvalidation_0-rmse:0.888171\tvalidation_1-rmse:0.949133\n",
      "[43]\tvalidation_0-rmse:0.886243\tvalidation_1-rmse:0.946172\n",
      "[44]\tvalidation_0-rmse:0.885784\tvalidation_1-rmse:0.946051\n",
      "[45]\tvalidation_0-rmse:0.884255\tvalidation_1-rmse:0.944031\n",
      "[46]\tvalidation_0-rmse:0.883843\tvalidation_1-rmse:0.944059\n",
      "[47]\tvalidation_0-rmse:0.883347\tvalidation_1-rmse:0.943806\n",
      "[48]\tvalidation_0-rmse:0.883124\tvalidation_1-rmse:0.943762\n",
      "[49]\tvalidation_0-rmse:0.882309\tvalidation_1-rmse:0.943602\n",
      "[50]\tvalidation_0-rmse:0.882114\tvalidation_1-rmse:0.943473\n",
      "[51]\tvalidation_0-rmse:0.881757\tvalidation_1-rmse:0.943039\n",
      "[52]\tvalidation_0-rmse:0.881499\tvalidation_1-rmse:0.942802\n",
      "[53]\tvalidation_0-rmse:0.881099\tvalidation_1-rmse:0.942598\n",
      "[54]\tvalidation_0-rmse:0.880759\tvalidation_1-rmse:0.942428\n",
      "[55]\tvalidation_0-rmse:0.880423\tvalidation_1-rmse:0.941941\n",
      "[56]\tvalidation_0-rmse:0.879989\tvalidation_1-rmse:0.941981\n",
      "[57]\tvalidation_0-rmse:0.879596\tvalidation_1-rmse:0.941776\n",
      "[58]\tvalidation_0-rmse:0.879096\tvalidation_1-rmse:0.941395\n",
      "[59]\tvalidation_0-rmse:0.877899\tvalidation_1-rmse:0.939931\n",
      "[60]\tvalidation_0-rmse:0.876534\tvalidation_1-rmse:0.938642\n",
      "[61]\tvalidation_0-rmse:0.876274\tvalidation_1-rmse:0.938545\n",
      "[62]\tvalidation_0-rmse:0.876055\tvalidation_1-rmse:0.938485\n",
      "[63]\tvalidation_0-rmse:0.875517\tvalidation_1-rmse:0.937784\n",
      "[64]\tvalidation_0-rmse:0.874275\tvalidation_1-rmse:0.937023\n",
      "[65]\tvalidation_0-rmse:0.874044\tvalidation_1-rmse:0.937038\n",
      "[66]\tvalidation_0-rmse:0.873737\tvalidation_1-rmse:0.93694\n",
      "[67]\tvalidation_0-rmse:0.873548\tvalidation_1-rmse:0.936784\n",
      "[68]\tvalidation_0-rmse:0.873033\tvalidation_1-rmse:0.936098\n",
      "[69]\tvalidation_0-rmse:0.872541\tvalidation_1-rmse:0.935687\n",
      "[70]\tvalidation_0-rmse:0.872255\tvalidation_1-rmse:0.935696\n",
      "[71]\tvalidation_0-rmse:0.871968\tvalidation_1-rmse:0.935645\n",
      "[72]\tvalidation_0-rmse:0.871462\tvalidation_1-rmse:0.935589\n",
      "[73]\tvalidation_0-rmse:0.871266\tvalidation_1-rmse:0.935533\n",
      "[74]\tvalidation_0-rmse:0.870552\tvalidation_1-rmse:0.935161\n",
      "[75]\tvalidation_0-rmse:0.870371\tvalidation_1-rmse:0.935184\n",
      "[76]\tvalidation_0-rmse:0.869942\tvalidation_1-rmse:0.935104\n",
      "[77]\tvalidation_0-rmse:0.869792\tvalidation_1-rmse:0.934874\n",
      "[78]\tvalidation_0-rmse:0.869497\tvalidation_1-rmse:0.934877\n",
      "[79]\tvalidation_0-rmse:0.869235\tvalidation_1-rmse:0.93484\n",
      "[80]\tvalidation_0-rmse:0.869132\tvalidation_1-rmse:0.934846\n",
      "[81]\tvalidation_0-rmse:0.868908\tvalidation_1-rmse:0.934801\n",
      "[82]\tvalidation_0-rmse:0.868463\tvalidation_1-rmse:0.934619\n",
      "[83]\tvalidation_0-rmse:0.868233\tvalidation_1-rmse:0.934667\n",
      "[84]\tvalidation_0-rmse:0.867971\tvalidation_1-rmse:0.934563\n",
      "[85]\tvalidation_0-rmse:0.867804\tvalidation_1-rmse:0.934471\n",
      "[86]\tvalidation_0-rmse:0.867671\tvalidation_1-rmse:0.934354\n",
      "[87]\tvalidation_0-rmse:0.867545\tvalidation_1-rmse:0.934387\n",
      "[88]\tvalidation_0-rmse:0.867292\tvalidation_1-rmse:0.934189\n",
      "[89]\tvalidation_0-rmse:0.86683\tvalidation_1-rmse:0.933896\n",
      "[90]\tvalidation_0-rmse:0.866483\tvalidation_1-rmse:0.933841\n",
      "[91]\tvalidation_0-rmse:0.86629\tvalidation_1-rmse:0.933788\n",
      "[92]\tvalidation_0-rmse:0.865964\tvalidation_1-rmse:0.933586\n",
      "[93]\tvalidation_0-rmse:0.865661\tvalidation_1-rmse:0.933469\n",
      "[94]\tvalidation_0-rmse:0.864894\tvalidation_1-rmse:0.933349\n",
      "[95]\tvalidation_0-rmse:0.864777\tvalidation_1-rmse:0.933324\n",
      "[96]\tvalidation_0-rmse:0.864443\tvalidation_1-rmse:0.932835\n",
      "[97]\tvalidation_0-rmse:0.864277\tvalidation_1-rmse:0.932911\n",
      "[98]\tvalidation_0-rmse:0.864011\tvalidation_1-rmse:0.932569\n",
      "[99]\tvalidation_0-rmse:0.863815\tvalidation_1-rmse:0.932622\n",
      "[100]\tvalidation_0-rmse:0.863566\tvalidation_1-rmse:0.932529\n",
      "[101]\tvalidation_0-rmse:0.862473\tvalidation_1-rmse:0.931674\n",
      "[102]\tvalidation_0-rmse:0.862353\tvalidation_1-rmse:0.931649\n",
      "[103]\tvalidation_0-rmse:0.862236\tvalidation_1-rmse:0.931568\n",
      "[104]\tvalidation_0-rmse:0.86209\tvalidation_1-rmse:0.931428\n",
      "[105]\tvalidation_0-rmse:0.861926\tvalidation_1-rmse:0.931399\n",
      "[106]\tvalidation_0-rmse:0.861709\tvalidation_1-rmse:0.931326\n",
      "[107]\tvalidation_0-rmse:0.861576\tvalidation_1-rmse:0.931304\n",
      "[108]\tvalidation_0-rmse:0.86142\tvalidation_1-rmse:0.931296\n",
      "[109]\tvalidation_0-rmse:0.861143\tvalidation_1-rmse:0.931048\n",
      "[110]\tvalidation_0-rmse:0.860963\tvalidation_1-rmse:0.931021\n",
      "[111]\tvalidation_0-rmse:0.860723\tvalidation_1-rmse:0.930589\n",
      "[112]\tvalidation_0-rmse:0.860517\tvalidation_1-rmse:0.930568\n",
      "[113]\tvalidation_0-rmse:0.860442\tvalidation_1-rmse:0.930611\n",
      "[114]\tvalidation_0-rmse:0.860305\tvalidation_1-rmse:0.930552\n",
      "[115]\tvalidation_0-rmse:0.860214\tvalidation_1-rmse:0.9304\n",
      "[116]\tvalidation_0-rmse:0.860125\tvalidation_1-rmse:0.930404\n",
      "[117]\tvalidation_0-rmse:0.859709\tvalidation_1-rmse:0.930418\n",
      "[118]\tvalidation_0-rmse:0.859602\tvalidation_1-rmse:0.930353\n",
      "[119]\tvalidation_0-rmse:0.859329\tvalidation_1-rmse:0.930012\n",
      "[120]\tvalidation_0-rmse:0.859207\tvalidation_1-rmse:0.929961\n",
      "[121]\tvalidation_0-rmse:0.85908\tvalidation_1-rmse:0.929832\n",
      "[122]\tvalidation_0-rmse:0.858882\tvalidation_1-rmse:0.929554\n",
      "[123]\tvalidation_0-rmse:0.858015\tvalidation_1-rmse:0.929419\n",
      "[124]\tvalidation_0-rmse:0.857751\tvalidation_1-rmse:0.929382\n",
      "[125]\tvalidation_0-rmse:0.857657\tvalidation_1-rmse:0.929348\n",
      "[126]\tvalidation_0-rmse:0.857498\tvalidation_1-rmse:0.929168\n",
      "[127]\tvalidation_0-rmse:0.857087\tvalidation_1-rmse:0.928992\n",
      "[128]\tvalidation_0-rmse:0.856982\tvalidation_1-rmse:0.928983\n",
      "[129]\tvalidation_0-rmse:0.856748\tvalidation_1-rmse:0.92896\n",
      "[130]\tvalidation_0-rmse:0.856604\tvalidation_1-rmse:0.928785\n",
      "[131]\tvalidation_0-rmse:0.856322\tvalidation_1-rmse:0.928771\n",
      "[132]\tvalidation_0-rmse:0.856047\tvalidation_1-rmse:0.928895\n",
      "[133]\tvalidation_0-rmse:0.855664\tvalidation_1-rmse:0.928779\n"
     ]
    },
    {
     "name": "stdout",
     "output_type": "stream",
     "text": [
      "[134]\tvalidation_0-rmse:0.854888\tvalidation_1-rmse:0.92909\n",
      "[135]\tvalidation_0-rmse:0.854481\tvalidation_1-rmse:0.929053\n",
      "[136]\tvalidation_0-rmse:0.854173\tvalidation_1-rmse:0.929246\n",
      "[137]\tvalidation_0-rmse:0.854009\tvalidation_1-rmse:0.929215\n",
      "[138]\tvalidation_0-rmse:0.853819\tvalidation_1-rmse:0.929282\n",
      "[139]\tvalidation_0-rmse:0.85368\tvalidation_1-rmse:0.929196\n",
      "[140]\tvalidation_0-rmse:0.853599\tvalidation_1-rmse:0.929238\n",
      "[141]\tvalidation_0-rmse:0.85346\tvalidation_1-rmse:0.929356\n",
      "Stopping. Best iteration:\n",
      "[131]\tvalidation_0-rmse:0.856322\tvalidation_1-rmse:0.928771\n",
      "\n"
     ]
    },
    {
     "data": {
      "text/plain": [
       "XGBRegressor(base_score=0.5, booster='gbtree', colsample_bylevel=1,\n",
       "       colsample_bytree=0.8, eta=0.3, gamma=0, learning_rate=0.1,\n",
       "       max_delta_step=0, max_depth=5, min_child_weight=300, missing=None,\n",
       "       n_estimators=1000, n_jobs=1, nthread=None, objective='reg:linear',\n",
       "       random_state=0, reg_alpha=0, reg_lambda=1, scale_pos_weight=1,\n",
       "       seed=42, silent=True, subsample=0.8)"
      ]
     },
     "execution_count": 33,
     "metadata": {},
     "output_type": "execute_result"
    }
   ],
   "source": [
    "from xgboost import XGBRegressor\n",
    "from xgboost import plot_importance\n",
    "\n",
    "model = XGBRegressor(\n",
    "    max_depth=5,\n",
    "    n_estimators=1000,\n",
    "    min_child_weight=300, \n",
    "    colsample_bytree=0.8, \n",
    "    subsample=0.8, \n",
    "    eta=0.3,    \n",
    "    seed=42)\n",
    "\n",
    "model.fit(\n",
    "    X_train, \n",
    "    Y_train, \n",
    "    eval_metric=\"rmse\", \n",
    "    eval_set=[(X_train, Y_train), (X_cv, Y_cv)], \n",
    "    verbose=True, \n",
    "    early_stopping_rounds = 10)"
   ]
  },
  {
   "cell_type": "code",
   "execution_count": 46,
   "metadata": {
    "ExecuteTime": {
     "end_time": "2019-11-17T16:17:56.514095Z",
     "start_time": "2019-11-17T16:17:56.500215Z"
    }
   },
   "outputs": [],
   "source": [
    "columns = ['shop_id', 'item_id', 'date_block_num',  'item_category_id',  'item_id_avg_item_price_lag_1',\n",
    "       'item_id_sum_item_cnt_day_lag_1', 'item_id_avg_item_cnt_day_lag_1',\n",
    "       'shop_id_avg_item_price_lag_1', 'shop_id_sum_item_cnt_day_lag_1',\n",
    "       'shop_id_avg_item_cnt_day_lag_1',\n",
    "       'item_category_id_avg_item_price_lag_1',\n",
    "       'item_category_id_sum_item_cnt_day_lag_1',\n",
    "       'item_category_id_avg_item_cnt_day_lag_1', 'item_cnt_day_lag_1',\n",
    "       'item_id_avg_item_price_lag_2', 'item_id_sum_item_cnt_day_lag_2',\n",
    "       'item_id_avg_item_cnt_day_lag_2', 'shop_id_avg_item_price_lag_2',\n",
    "       'shop_id_sum_item_cnt_day_lag_2', 'shop_id_avg_item_cnt_day_lag_2',\n",
    "       'item_category_id_avg_item_price_lag_2',\n",
    "       'item_category_id_sum_item_cnt_day_lag_2',\n",
    "       'item_category_id_avg_item_cnt_day_lag_2', 'item_cnt_day_lag_2',\n",
    "       'item_id_avg_item_price_lag_3', 'item_id_sum_item_cnt_day_lag_3',\n",
    "       'item_id_avg_item_cnt_day_lag_3', 'shop_id_avg_item_price_lag_3',\n",
    "       'shop_id_sum_item_cnt_day_lag_3', 'shop_id_avg_item_cnt_day_lag_3',\n",
    "       'item_category_id_avg_item_price_lag_3',\n",
    "       'item_category_id_sum_item_cnt_day_lag_3',\n",
    "       'item_category_id_avg_item_cnt_day_lag_3', 'item_cnt_day_lag_3',\n",
    "       'item_id_avg_item_price_lag_4', 'item_id_sum_item_cnt_day_lag_4',\n",
    "       'item_id_avg_item_cnt_day_lag_4', 'shop_id_avg_item_price_lag_4',\n",
    "       'shop_id_sum_item_cnt_day_lag_4', 'shop_id_avg_item_cnt_day_lag_4',\n",
    "       'item_category_id_avg_item_price_lag_4',\n",
    "       'item_category_id_sum_item_cnt_day_lag_4',\n",
    "       'item_category_id_avg_item_cnt_day_lag_4', 'item_cnt_day_lag_4',\n",
    "       'item_id_avg_item_price_lag_5', 'item_id_sum_item_cnt_day_lag_5',\n",
    "       'item_id_avg_item_cnt_day_lag_5', 'shop_id_avg_item_price_lag_5',\n",
    "       'shop_id_sum_item_cnt_day_lag_5', 'shop_id_avg_item_cnt_day_lag_5',\n",
    "       'item_category_id_avg_item_price_lag_5',\n",
    "       'item_category_id_sum_item_cnt_day_lag_5',\n",
    "       'item_category_id_avg_item_cnt_day_lag_5', 'item_cnt_day_lag_5',\n",
    "       'item_id_avg_item_price_lag_12', 'item_id_sum_item_cnt_day_lag_12',\n",
    "       'item_id_avg_item_cnt_day_lag_12', 'shop_id_avg_item_price_lag_12',\n",
    "       'shop_id_sum_item_cnt_day_lag_12', 'shop_id_avg_item_cnt_day_lag_12',\n",
    "       'item_category_id_avg_item_price_lag_12',\n",
    "       'item_category_id_sum_item_cnt_day_lag_12',\n",
    "       'item_category_id_avg_item_cnt_day_lag_12', 'item_cnt_day_lag_12']\n"
   ]
  },
  {
   "cell_type": "code",
   "execution_count": 48,
   "metadata": {
    "ExecuteTime": {
     "end_time": "2019-11-17T16:18:16.000726Z",
     "start_time": "2019-11-17T16:18:15.984361Z"
    }
   },
   "outputs": [],
   "source": [
    "feature_importances = pd.DataFrame({'col': columns,'imp':model.feature_importances_})"
   ]
  },
  {
   "cell_type": "code",
   "execution_count": 57,
   "metadata": {
    "ExecuteTime": {
     "end_time": "2019-11-17T16:20:19.041013Z",
     "start_time": "2019-11-17T16:20:19.037590Z"
    }
   },
   "outputs": [],
   "source": [
    "feature_importances = feature_importances.sort_values(by='imp',ascending=False)"
   ]
  },
  {
   "cell_type": "code",
   "execution_count": 58,
   "metadata": {
    "ExecuteTime": {
     "end_time": "2019-11-17T16:20:22.037767Z",
     "start_time": "2019-11-17T16:20:22.035253Z"
    }
   },
   "outputs": [],
   "source": [
    "import plotly_express as px"
   ]
  },
  {
   "cell_type": "code",
   "execution_count": 59,
   "metadata": {
    "ExecuteTime": {
     "end_time": "2019-11-17T16:20:22.479486Z",
     "start_time": "2019-11-17T16:20:22.228393Z"
    }
   },
   "outputs": [
    {
     "data": {
      "application/vnd.plotly.v1+json": {
       "config": {
        "linkText": "Export to plot.ly",
        "plotlyServerURL": "https://plot.ly",
        "showLink": false
       },
       "data": [
        {
         "alignmentgroup": "True",
         "hoverlabel": {
          "namelength": 0
         },
         "hovertemplate": "col=%{x}<br>imp=%{y}",
         "legendgroup": "",
         "marker": {
          "color": "#636efa"
         },
         "name": "",
         "offsetgroup": "",
         "orientation": "v",
         "showlegend": false,
         "textposition": "auto",
         "type": "bar",
         "uid": "0fef2de9-ae37-492b-bf06-cda372f2ae0b",
         "x": [
          "item_category_id",
          "item_cnt_day_lag_1",
          "date_block_num",
          "item_id_sum_item_cnt_day_lag_1",
          "item_cnt_day_lag_2",
          "item_id_avg_item_cnt_day_lag_1",
          "shop_id",
          "item_id",
          "item_category_id_sum_item_cnt_day_lag_1",
          "item_category_id_sum_item_cnt_day_lag_2",
          "item_id_avg_item_price_lag_1",
          "item_category_id_avg_item_price_lag_1",
          "item_id_sum_item_cnt_day_lag_2",
          "item_cnt_day_lag_3",
          "item_cnt_day_lag_5",
          "shop_id_avg_item_cnt_day_lag_1",
          "shop_id_avg_item_price_lag_1",
          "item_category_id_avg_item_cnt_day_lag_2",
          "item_category_id_avg_item_cnt_day_lag_1",
          "item_category_id_sum_item_cnt_day_lag_4",
          "item_category_id_avg_item_price_lag_2",
          "item_category_id_sum_item_cnt_day_lag_3",
          "item_cnt_day_lag_12",
          "item_id_avg_item_price_lag_2",
          "item_cnt_day_lag_4",
          "item_id_sum_item_cnt_day_lag_3",
          "shop_id_avg_item_price_lag_2",
          "shop_id_sum_item_cnt_day_lag_1",
          "item_category_id_sum_item_cnt_day_lag_5",
          "item_id_avg_item_cnt_day_lag_4",
          "item_category_id_avg_item_cnt_day_lag_3",
          "shop_id_avg_item_cnt_day_lag_2",
          "item_category_id_avg_item_cnt_day_lag_12",
          "item_category_id_avg_item_price_lag_4",
          "shop_id_sum_item_cnt_day_lag_2",
          "item_id_avg_item_cnt_day_lag_2",
          "item_id_sum_item_cnt_day_lag_4",
          "item_category_id_avg_item_price_lag_12",
          "item_id_avg_item_price_lag_5",
          "shop_id_sum_item_cnt_day_lag_12",
          "item_category_id_avg_item_cnt_day_lag_5",
          "item_category_id_sum_item_cnt_day_lag_12",
          "item_category_id_avg_item_price_lag_5",
          "item_category_id_avg_item_price_lag_3",
          "item_id_avg_item_price_lag_3",
          "item_id_avg_item_cnt_day_lag_3",
          "item_id_sum_item_cnt_day_lag_12",
          "shop_id_sum_item_cnt_day_lag_5",
          "item_category_id_avg_item_cnt_day_lag_4",
          "item_id_sum_item_cnt_day_lag_5",
          "shop_id_avg_item_price_lag_3",
          "shop_id_avg_item_price_lag_4",
          "shop_id_avg_item_cnt_day_lag_12",
          "shop_id_sum_item_cnt_day_lag_4",
          "shop_id_avg_item_price_lag_5",
          "item_id_avg_item_price_lag_12",
          "shop_id_avg_item_cnt_day_lag_3",
          "item_id_avg_item_cnt_day_lag_5",
          "item_id_avg_item_price_lag_4",
          "shop_id_sum_item_cnt_day_lag_3",
          "item_id_avg_item_cnt_day_lag_12",
          "shop_id_avg_item_price_lag_12",
          "shop_id_avg_item_cnt_day_lag_5",
          "shop_id_avg_item_cnt_day_lag_4"
         ],
         "xaxis": "x",
         "y": [
          0.08729757368564606,
          0.08426113426685333,
          0.07211538404226303,
          0.055921051651239395,
          0.03466599062085152,
          0.03188259154558182,
          0.03087044507265091,
          0.027834007516503334,
          0.027834007516503334,
          0.02732793614268303,
          0.025809716433286667,
          0.02555667981505394,
          0.025303643196821213,
          0.02479756996035576,
          0.02302631549537182,
          0.021761134266853333,
          0.020495951175689697,
          0.01847166009247303,
          0.01847166009247303,
          0.01670040562748909,
          0.015688259154558182,
          0.013663968071341515,
          0.013663968071341515,
          0.012904858216643333,
          0.012651821598410606,
          0.01239878498017788,
          0.01062753051519394,
          0.010374493896961212,
          0.010374493896961212,
          0.009109311737120152,
          0.009109311737120152,
          0.008856275118887424,
          0.008603238500654697,
          0.007844129577279091,
          0.007844129577279091,
          0.007844129577279091,
          0.007591092959046364,
          0.007338056806474924,
          0.007338056806474924,
          0.006831984035670757,
          0.006831984035670757,
          0.00657894741743803,
          0.00657894741743803,
          0.006325910799205303,
          0.0060728746466338634,
          0.005819838028401136,
          0.005566801410168409,
          0.00531376525759697,
          0.0050607286393642426,
          0.004807692486792803,
          0.004807692486792803,
          0.004554655868560076,
          0.004048583097755909,
          0.0035425100941210985,
          0.003289473708719015,
          0.0030364373233169317,
          0.0027834007050842047,
          0.0027834007050842047,
          0.0027834007050842047,
          0.0020242915488779545,
          0.0017712550470605493,
          0.0017712550470605493,
          0.0015182186616584659,
          0.0012651821598410606
         ],
         "yaxis": "y"
        }
       ],
       "layout": {
        "barmode": "relative",
        "grid": {
         "xaxes": [
          "x"
         ],
         "xgap": 0.1,
         "xside": "bottom",
         "yaxes": [
          "y"
         ],
         "ygap": 0.1,
         "yside": "left"
        },
        "height": 600,
        "legend": {
         "tracegroupgap": 0
        },
        "margin": {
         "t": 60
        },
        "template": {
         "data": {
          "bar": [
           {
            "marker": {
             "line": {
              "color": "#E5ECF6",
              "width": 0.5
             }
            },
            "type": "bar"
           }
          ],
          "barpolar": [
           {
            "marker": {
             "line": {
              "color": "#E5ECF6",
              "width": 0.5
             }
            },
            "type": "barpolar"
           }
          ],
          "carpet": [
           {
            "aaxis": {
             "endlinecolor": "#2a3f5f",
             "gridcolor": "white",
             "linecolor": "white",
             "minorgridcolor": "white",
             "startlinecolor": "#2a3f5f"
            },
            "baxis": {
             "endlinecolor": "#2a3f5f",
             "gridcolor": "white",
             "linecolor": "white",
             "minorgridcolor": "white",
             "startlinecolor": "#2a3f5f"
            },
            "type": "carpet"
           }
          ],
          "choropleth": [
           {
            "colorbar": {
             "outlinewidth": 0,
             "ticks": ""
            },
            "type": "choropleth"
           }
          ],
          "contour": [
           {
            "colorbar": {
             "outlinewidth": 0,
             "ticks": ""
            },
            "colorscale": [
             [
              0,
              "#0508b8"
             ],
             [
              0.0893854748603352,
              "#1910d8"
             ],
             [
              0.1787709497206704,
              "#3c19f0"
             ],
             [
              0.2681564245810056,
              "#6b1cfb"
             ],
             [
              0.3575418994413408,
              "#981cfd"
             ],
             [
              0.44692737430167595,
              "#bf1cfd"
             ],
             [
              0.5363128491620112,
              "#dd2bfd"
             ],
             [
              0.6256983240223464,
              "#f246fe"
             ],
             [
              0.7150837988826816,
              "#fc67fd"
             ],
             [
              0.8044692737430168,
              "#fe88fc"
             ],
             [
              0.8938547486033519,
              "#fea5fd"
             ],
             [
              0.9832402234636871,
              "#febefe"
             ],
             [
              1,
              "#fec3fe"
             ]
            ],
            "type": "contour"
           }
          ],
          "contourcarpet": [
           {
            "colorbar": {
             "outlinewidth": 0,
             "ticks": ""
            },
            "type": "contourcarpet"
           }
          ],
          "heatmap": [
           {
            "colorbar": {
             "outlinewidth": 0,
             "ticks": ""
            },
            "colorscale": [
             [
              0,
              "#0508b8"
             ],
             [
              0.0893854748603352,
              "#1910d8"
             ],
             [
              0.1787709497206704,
              "#3c19f0"
             ],
             [
              0.2681564245810056,
              "#6b1cfb"
             ],
             [
              0.3575418994413408,
              "#981cfd"
             ],
             [
              0.44692737430167595,
              "#bf1cfd"
             ],
             [
              0.5363128491620112,
              "#dd2bfd"
             ],
             [
              0.6256983240223464,
              "#f246fe"
             ],
             [
              0.7150837988826816,
              "#fc67fd"
             ],
             [
              0.8044692737430168,
              "#fe88fc"
             ],
             [
              0.8938547486033519,
              "#fea5fd"
             ],
             [
              0.9832402234636871,
              "#febefe"
             ],
             [
              1,
              "#fec3fe"
             ]
            ],
            "type": "heatmap"
           }
          ],
          "heatmapgl": [
           {
            "colorbar": {
             "outlinewidth": 0,
             "ticks": ""
            },
            "type": "heatmapgl"
           }
          ],
          "histogram": [
           {
            "marker": {
             "colorbar": {
              "outlinewidth": 0,
              "ticks": ""
             }
            },
            "type": "histogram"
           }
          ],
          "histogram2d": [
           {
            "colorbar": {
             "outlinewidth": 0,
             "ticks": ""
            },
            "colorscale": [
             [
              0,
              "#0508b8"
             ],
             [
              0.0893854748603352,
              "#1910d8"
             ],
             [
              0.1787709497206704,
              "#3c19f0"
             ],
             [
              0.2681564245810056,
              "#6b1cfb"
             ],
             [
              0.3575418994413408,
              "#981cfd"
             ],
             [
              0.44692737430167595,
              "#bf1cfd"
             ],
             [
              0.5363128491620112,
              "#dd2bfd"
             ],
             [
              0.6256983240223464,
              "#f246fe"
             ],
             [
              0.7150837988826816,
              "#fc67fd"
             ],
             [
              0.8044692737430168,
              "#fe88fc"
             ],
             [
              0.8938547486033519,
              "#fea5fd"
             ],
             [
              0.9832402234636871,
              "#febefe"
             ],
             [
              1,
              "#fec3fe"
             ]
            ],
            "type": "histogram2d"
           }
          ],
          "histogram2dcontour": [
           {
            "colorbar": {
             "outlinewidth": 0,
             "ticks": ""
            },
            "colorscale": [
             [
              0,
              "#0508b8"
             ],
             [
              0.0893854748603352,
              "#1910d8"
             ],
             [
              0.1787709497206704,
              "#3c19f0"
             ],
             [
              0.2681564245810056,
              "#6b1cfb"
             ],
             [
              0.3575418994413408,
              "#981cfd"
             ],
             [
              0.44692737430167595,
              "#bf1cfd"
             ],
             [
              0.5363128491620112,
              "#dd2bfd"
             ],
             [
              0.6256983240223464,
              "#f246fe"
             ],
             [
              0.7150837988826816,
              "#fc67fd"
             ],
             [
              0.8044692737430168,
              "#fe88fc"
             ],
             [
              0.8938547486033519,
              "#fea5fd"
             ],
             [
              0.9832402234636871,
              "#febefe"
             ],
             [
              1,
              "#fec3fe"
             ]
            ],
            "type": "histogram2dcontour"
           }
          ],
          "mesh3d": [
           {
            "colorbar": {
             "outlinewidth": 0,
             "ticks": ""
            },
            "type": "mesh3d"
           }
          ],
          "parcoords": [
           {
            "line": {
             "colorbar": {
              "outlinewidth": 0,
              "ticks": ""
             }
            },
            "type": "parcoords"
           }
          ],
          "scatter": [
           {
            "marker": {
             "colorbar": {
              "outlinewidth": 0,
              "ticks": ""
             }
            },
            "type": "scatter"
           }
          ],
          "scatter3d": [
           {
            "marker": {
             "colorbar": {
              "outlinewidth": 0,
              "ticks": ""
             }
            },
            "type": "scatter3d"
           }
          ],
          "scattercarpet": [
           {
            "marker": {
             "colorbar": {
              "outlinewidth": 0,
              "ticks": ""
             }
            },
            "type": "scattercarpet"
           }
          ],
          "scattergeo": [
           {
            "marker": {
             "colorbar": {
              "outlinewidth": 0,
              "ticks": ""
             }
            },
            "type": "scattergeo"
           }
          ],
          "scattergl": [
           {
            "marker": {
             "colorbar": {
              "outlinewidth": 0,
              "ticks": ""
             }
            },
            "type": "scattergl"
           }
          ],
          "scattermapbox": [
           {
            "marker": {
             "colorbar": {
              "outlinewidth": 0,
              "ticks": ""
             }
            },
            "type": "scattermapbox"
           }
          ],
          "scatterpolar": [
           {
            "marker": {
             "colorbar": {
              "outlinewidth": 0,
              "ticks": ""
             }
            },
            "type": "scatterpolar"
           }
          ],
          "scatterpolargl": [
           {
            "marker": {
             "colorbar": {
              "outlinewidth": 0,
              "ticks": ""
             }
            },
            "type": "scatterpolargl"
           }
          ],
          "scatterternary": [
           {
            "marker": {
             "colorbar": {
              "outlinewidth": 0,
              "ticks": ""
             }
            },
            "type": "scatterternary"
           }
          ],
          "surface": [
           {
            "colorbar": {
             "outlinewidth": 0,
             "ticks": ""
            },
            "type": "surface"
           }
          ],
          "table": [
           {
            "cells": {
             "fill": {
              "color": "#EBF0F8"
             },
             "line": {
              "color": "white"
             }
            },
            "header": {
             "fill": {
              "color": "#C8D4E3"
             },
             "line": {
              "color": "white"
             }
            },
            "type": "table"
           }
          ]
         },
         "layout": {
          "annotationdefaults": {
           "arrowcolor": "#506784",
           "arrowhead": 0,
           "arrowwidth": 1
          },
          "colorscale": {
           "diverging": [
            [
             0,
             "#8e0152"
            ],
            [
             0.1,
             "#c51b7d"
            ],
            [
             0.2,
             "#de77ae"
            ],
            [
             0.3,
             "#f1b6da"
            ],
            [
             0.4,
             "#fde0ef"
            ],
            [
             0.5,
             "#f7f7f7"
            ],
            [
             0.6,
             "#e6f5d0"
            ],
            [
             0.7,
             "#b8e186"
            ],
            [
             0.8,
             "#7fbc41"
            ],
            [
             0.9,
             "#4d9221"
            ],
            [
             1,
             "#276419"
            ]
           ],
           "sequential": [
            [
             0,
             "#0508b8"
            ],
            [
             0.0893854748603352,
             "#1910d8"
            ],
            [
             0.1787709497206704,
             "#3c19f0"
            ],
            [
             0.2681564245810056,
             "#6b1cfb"
            ],
            [
             0.3575418994413408,
             "#981cfd"
            ],
            [
             0.44692737430167595,
             "#bf1cfd"
            ],
            [
             0.5363128491620112,
             "#dd2bfd"
            ],
            [
             0.6256983240223464,
             "#f246fe"
            ],
            [
             0.7150837988826816,
             "#fc67fd"
            ],
            [
             0.8044692737430168,
             "#fe88fc"
            ],
            [
             0.8938547486033519,
             "#fea5fd"
            ],
            [
             0.9832402234636871,
             "#febefe"
            ],
            [
             1,
             "#fec3fe"
            ]
           ],
           "sequentialminus": [
            [
             0,
             "#0508b8"
            ],
            [
             0.0893854748603352,
             "#1910d8"
            ],
            [
             0.1787709497206704,
             "#3c19f0"
            ],
            [
             0.2681564245810056,
             "#6b1cfb"
            ],
            [
             0.3575418994413408,
             "#981cfd"
            ],
            [
             0.44692737430167595,
             "#bf1cfd"
            ],
            [
             0.5363128491620112,
             "#dd2bfd"
            ],
            [
             0.6256983240223464,
             "#f246fe"
            ],
            [
             0.7150837988826816,
             "#fc67fd"
            ],
            [
             0.8044692737430168,
             "#fe88fc"
            ],
            [
             0.8938547486033519,
             "#fea5fd"
            ],
            [
             0.9832402234636871,
             "#febefe"
            ],
            [
             1,
             "#fec3fe"
            ]
           ]
          },
          "colorway": [
           "#636efa",
           "#EF553B",
           "#00cc96",
           "#ab63fa",
           "#19d3f3",
           "#e763fa",
           "#FECB52",
           "#FFA15A",
           "#FF6692",
           "#B6E880"
          ],
          "font": {
           "color": "#2a3f5f"
          },
          "geo": {
           "bgcolor": "white",
           "lakecolor": "white",
           "landcolor": "#E5ECF6",
           "showlakes": true,
           "showland": true,
           "subunitcolor": "white"
          },
          "hoverlabel": {
           "align": "left"
          },
          "hovermode": "closest",
          "mapbox": {
           "style": "light"
          },
          "paper_bgcolor": "white",
          "plot_bgcolor": "#E5ECF6",
          "polar": {
           "angularaxis": {
            "gridcolor": "white",
            "linecolor": "white",
            "ticks": ""
           },
           "bgcolor": "#E5ECF6",
           "radialaxis": {
            "gridcolor": "white",
            "linecolor": "white",
            "ticks": ""
           }
          },
          "scene": {
           "xaxis": {
            "backgroundcolor": "#E5ECF6",
            "gridcolor": "white",
            "gridwidth": 2,
            "linecolor": "white",
            "showbackground": true,
            "ticks": "",
            "zerolinecolor": "white"
           },
           "yaxis": {
            "backgroundcolor": "#E5ECF6",
            "gridcolor": "white",
            "gridwidth": 2,
            "linecolor": "white",
            "showbackground": true,
            "ticks": "",
            "zerolinecolor": "white"
           },
           "zaxis": {
            "backgroundcolor": "#E5ECF6",
            "gridcolor": "white",
            "gridwidth": 2,
            "linecolor": "white",
            "showbackground": true,
            "ticks": "",
            "zerolinecolor": "white"
           }
          },
          "shapedefaults": {
           "fillcolor": "#506784",
           "line": {
            "width": 0
           },
           "opacity": 0.4
          },
          "ternary": {
           "aaxis": {
            "gridcolor": "white",
            "linecolor": "white",
            "ticks": ""
           },
           "baxis": {
            "gridcolor": "white",
            "linecolor": "white",
            "ticks": ""
           },
           "bgcolor": "#E5ECF6",
           "caxis": {
            "gridcolor": "white",
            "linecolor": "white",
            "ticks": ""
           }
          },
          "title": {
           "x": 0.05
          },
          "xaxis": {
           "automargin": true,
           "gridcolor": "white",
           "linecolor": "white",
           "ticks": "",
           "zerolinecolor": "white",
           "zerolinewidth": 2
          },
          "yaxis": {
           "automargin": true,
           "gridcolor": "white",
           "linecolor": "white",
           "ticks": "",
           "zerolinecolor": "white",
           "zerolinewidth": 2
          }
         }
        },
        "xaxis": {
         "title": {
          "text": "col"
         }
        },
        "yaxis": {
         "title": {
          "text": "imp"
         }
        }
       }
      },
      "text/html": [
       "<div>\n",
       "        \n",
       "        \n",
       "            <div id=\"65132b52-f67a-486c-b694-5048eb709b84\" class=\"plotly-graph-div\" style=\"height:600px; width:100%;\"></div>\n",
       "            <script type=\"text/javascript\">\n",
       "                require([\"plotly\"], function(Plotly) {\n",
       "                    window.PLOTLYENV=window.PLOTLYENV || {};\n",
       "                    window.PLOTLYENV.BASE_URL='https://plot.ly';\n",
       "                    \n",
       "                if (document.getElementById(\"65132b52-f67a-486c-b694-5048eb709b84\")) {\n",
       "                    Plotly.newPlot(\n",
       "                        '65132b52-f67a-486c-b694-5048eb709b84',\n",
       "                        [{\"alignmentgroup\": \"True\", \"hoverlabel\": {\"namelength\": 0}, \"hovertemplate\": \"col=%{x}<br>imp=%{y}\", \"legendgroup\": \"\", \"marker\": {\"color\": \"#636efa\"}, \"name\": \"\", \"offsetgroup\": \"\", \"orientation\": \"v\", \"showlegend\": false, \"textposition\": \"auto\", \"type\": \"bar\", \"uid\": \"0fef2de9-ae37-492b-bf06-cda372f2ae0b\", \"x\": [\"item_category_id\", \"item_cnt_day_lag_1\", \"date_block_num\", \"item_id_sum_item_cnt_day_lag_1\", \"item_cnt_day_lag_2\", \"item_id_avg_item_cnt_day_lag_1\", \"shop_id\", \"item_id\", \"item_category_id_sum_item_cnt_day_lag_1\", \"item_category_id_sum_item_cnt_day_lag_2\", \"item_id_avg_item_price_lag_1\", \"item_category_id_avg_item_price_lag_1\", \"item_id_sum_item_cnt_day_lag_2\", \"item_cnt_day_lag_3\", \"item_cnt_day_lag_5\", \"shop_id_avg_item_cnt_day_lag_1\", \"shop_id_avg_item_price_lag_1\", \"item_category_id_avg_item_cnt_day_lag_2\", \"item_category_id_avg_item_cnt_day_lag_1\", \"item_category_id_sum_item_cnt_day_lag_4\", \"item_category_id_avg_item_price_lag_2\", \"item_category_id_sum_item_cnt_day_lag_3\", \"item_cnt_day_lag_12\", \"item_id_avg_item_price_lag_2\", \"item_cnt_day_lag_4\", \"item_id_sum_item_cnt_day_lag_3\", \"shop_id_avg_item_price_lag_2\", \"shop_id_sum_item_cnt_day_lag_1\", \"item_category_id_sum_item_cnt_day_lag_5\", \"item_id_avg_item_cnt_day_lag_4\", \"item_category_id_avg_item_cnt_day_lag_3\", \"shop_id_avg_item_cnt_day_lag_2\", \"item_category_id_avg_item_cnt_day_lag_12\", \"item_category_id_avg_item_price_lag_4\", \"shop_id_sum_item_cnt_day_lag_2\", \"item_id_avg_item_cnt_day_lag_2\", \"item_id_sum_item_cnt_day_lag_4\", \"item_category_id_avg_item_price_lag_12\", \"item_id_avg_item_price_lag_5\", \"shop_id_sum_item_cnt_day_lag_12\", \"item_category_id_avg_item_cnt_day_lag_5\", \"item_category_id_sum_item_cnt_day_lag_12\", \"item_category_id_avg_item_price_lag_5\", \"item_category_id_avg_item_price_lag_3\", \"item_id_avg_item_price_lag_3\", \"item_id_avg_item_cnt_day_lag_3\", \"item_id_sum_item_cnt_day_lag_12\", \"shop_id_sum_item_cnt_day_lag_5\", \"item_category_id_avg_item_cnt_day_lag_4\", \"item_id_sum_item_cnt_day_lag_5\", \"shop_id_avg_item_price_lag_3\", \"shop_id_avg_item_price_lag_4\", \"shop_id_avg_item_cnt_day_lag_12\", \"shop_id_sum_item_cnt_day_lag_4\", \"shop_id_avg_item_price_lag_5\", \"item_id_avg_item_price_lag_12\", \"shop_id_avg_item_cnt_day_lag_3\", \"item_id_avg_item_cnt_day_lag_5\", \"item_id_avg_item_price_lag_4\", \"shop_id_sum_item_cnt_day_lag_3\", \"item_id_avg_item_cnt_day_lag_12\", \"shop_id_avg_item_price_lag_12\", \"shop_id_avg_item_cnt_day_lag_5\", \"shop_id_avg_item_cnt_day_lag_4\"], \"xaxis\": \"x\", \"y\": [0.08729757368564606, 0.08426113426685333, 0.07211538404226303, 0.055921051651239395, 0.03466599062085152, 0.03188259154558182, 0.03087044507265091, 0.027834007516503334, 0.027834007516503334, 0.02732793614268303, 0.025809716433286667, 0.02555667981505394, 0.025303643196821213, 0.02479756996035576, 0.02302631549537182, 0.021761134266853333, 0.020495951175689697, 0.01847166009247303, 0.01847166009247303, 0.01670040562748909, 0.015688259154558182, 0.013663968071341515, 0.013663968071341515, 0.012904858216643333, 0.012651821598410606, 0.01239878498017788, 0.01062753051519394, 0.010374493896961212, 0.010374493896961212, 0.009109311737120152, 0.009109311737120152, 0.008856275118887424, 0.008603238500654697, 0.007844129577279091, 0.007844129577279091, 0.007844129577279091, 0.007591092959046364, 0.007338056806474924, 0.007338056806474924, 0.006831984035670757, 0.006831984035670757, 0.00657894741743803, 0.00657894741743803, 0.006325910799205303, 0.0060728746466338634, 0.005819838028401136, 0.005566801410168409, 0.00531376525759697, 0.0050607286393642426, 0.004807692486792803, 0.004807692486792803, 0.004554655868560076, 0.004048583097755909, 0.0035425100941210985, 0.003289473708719015, 0.0030364373233169317, 0.0027834007050842047, 0.0027834007050842047, 0.0027834007050842047, 0.0020242915488779545, 0.0017712550470605493, 0.0017712550470605493, 0.0015182186616584659, 0.0012651821598410606], \"yaxis\": \"y\"}],\n",
       "                        {\"barmode\": \"relative\", \"grid\": {\"xaxes\": [\"x\"], \"xgap\": 0.1, \"xside\": \"bottom\", \"yaxes\": [\"y\"], \"ygap\": 0.1, \"yside\": \"left\"}, \"height\": 600, \"legend\": {\"tracegroupgap\": 0}, \"margin\": {\"t\": 60}, \"template\": {\"data\": {\"bar\": [{\"marker\": {\"line\": {\"color\": \"#E5ECF6\", \"width\": 0.5}}, \"type\": \"bar\"}], \"barpolar\": [{\"marker\": {\"line\": {\"color\": \"#E5ECF6\", \"width\": 0.5}}, \"type\": \"barpolar\"}], \"carpet\": [{\"aaxis\": {\"endlinecolor\": \"#2a3f5f\", \"gridcolor\": \"white\", \"linecolor\": \"white\", \"minorgridcolor\": \"white\", \"startlinecolor\": \"#2a3f5f\"}, \"baxis\": {\"endlinecolor\": \"#2a3f5f\", \"gridcolor\": \"white\", \"linecolor\": \"white\", \"minorgridcolor\": \"white\", \"startlinecolor\": \"#2a3f5f\"}, \"type\": \"carpet\"}], \"choropleth\": [{\"colorbar\": {\"outlinewidth\": 0, \"ticks\": \"\"}, \"type\": \"choropleth\"}], \"contour\": [{\"colorbar\": {\"outlinewidth\": 0, \"ticks\": \"\"}, \"colorscale\": [[0.0, \"#0508b8\"], [0.0893854748603352, \"#1910d8\"], [0.1787709497206704, \"#3c19f0\"], [0.2681564245810056, \"#6b1cfb\"], [0.3575418994413408, \"#981cfd\"], [0.44692737430167595, \"#bf1cfd\"], [0.5363128491620112, \"#dd2bfd\"], [0.6256983240223464, \"#f246fe\"], [0.7150837988826816, \"#fc67fd\"], [0.8044692737430168, \"#fe88fc\"], [0.8938547486033519, \"#fea5fd\"], [0.9832402234636871, \"#febefe\"], [1.0, \"#fec3fe\"]], \"type\": \"contour\"}], \"contourcarpet\": [{\"colorbar\": {\"outlinewidth\": 0, \"ticks\": \"\"}, \"type\": \"contourcarpet\"}], \"heatmap\": [{\"colorbar\": {\"outlinewidth\": 0, \"ticks\": \"\"}, \"colorscale\": [[0.0, \"#0508b8\"], [0.0893854748603352, \"#1910d8\"], [0.1787709497206704, \"#3c19f0\"], [0.2681564245810056, \"#6b1cfb\"], [0.3575418994413408, \"#981cfd\"], [0.44692737430167595, \"#bf1cfd\"], [0.5363128491620112, \"#dd2bfd\"], [0.6256983240223464, \"#f246fe\"], [0.7150837988826816, \"#fc67fd\"], [0.8044692737430168, \"#fe88fc\"], [0.8938547486033519, \"#fea5fd\"], [0.9832402234636871, \"#febefe\"], [1.0, \"#fec3fe\"]], \"type\": \"heatmap\"}], \"heatmapgl\": [{\"colorbar\": {\"outlinewidth\": 0, \"ticks\": \"\"}, \"type\": \"heatmapgl\"}], \"histogram\": [{\"marker\": {\"colorbar\": {\"outlinewidth\": 0, \"ticks\": \"\"}}, \"type\": \"histogram\"}], \"histogram2d\": [{\"colorbar\": {\"outlinewidth\": 0, \"ticks\": \"\"}, \"colorscale\": [[0.0, \"#0508b8\"], [0.0893854748603352, \"#1910d8\"], [0.1787709497206704, \"#3c19f0\"], [0.2681564245810056, \"#6b1cfb\"], [0.3575418994413408, \"#981cfd\"], [0.44692737430167595, \"#bf1cfd\"], [0.5363128491620112, \"#dd2bfd\"], [0.6256983240223464, \"#f246fe\"], [0.7150837988826816, \"#fc67fd\"], [0.8044692737430168, \"#fe88fc\"], [0.8938547486033519, \"#fea5fd\"], [0.9832402234636871, \"#febefe\"], [1.0, \"#fec3fe\"]], \"type\": \"histogram2d\"}], \"histogram2dcontour\": [{\"colorbar\": {\"outlinewidth\": 0, \"ticks\": \"\"}, \"colorscale\": [[0.0, \"#0508b8\"], [0.0893854748603352, \"#1910d8\"], [0.1787709497206704, \"#3c19f0\"], [0.2681564245810056, \"#6b1cfb\"], [0.3575418994413408, \"#981cfd\"], [0.44692737430167595, \"#bf1cfd\"], [0.5363128491620112, \"#dd2bfd\"], [0.6256983240223464, \"#f246fe\"], [0.7150837988826816, \"#fc67fd\"], [0.8044692737430168, \"#fe88fc\"], [0.8938547486033519, \"#fea5fd\"], [0.9832402234636871, \"#febefe\"], [1.0, \"#fec3fe\"]], \"type\": \"histogram2dcontour\"}], \"mesh3d\": [{\"colorbar\": {\"outlinewidth\": 0, \"ticks\": \"\"}, \"type\": \"mesh3d\"}], \"parcoords\": [{\"line\": {\"colorbar\": {\"outlinewidth\": 0, \"ticks\": \"\"}}, \"type\": \"parcoords\"}], \"scatter\": [{\"marker\": {\"colorbar\": {\"outlinewidth\": 0, \"ticks\": \"\"}}, \"type\": \"scatter\"}], \"scatter3d\": [{\"marker\": {\"colorbar\": {\"outlinewidth\": 0, \"ticks\": \"\"}}, \"type\": \"scatter3d\"}], \"scattercarpet\": [{\"marker\": {\"colorbar\": {\"outlinewidth\": 0, \"ticks\": \"\"}}, \"type\": \"scattercarpet\"}], \"scattergeo\": [{\"marker\": {\"colorbar\": {\"outlinewidth\": 0, \"ticks\": \"\"}}, \"type\": \"scattergeo\"}], \"scattergl\": [{\"marker\": {\"colorbar\": {\"outlinewidth\": 0, \"ticks\": \"\"}}, \"type\": \"scattergl\"}], \"scattermapbox\": [{\"marker\": {\"colorbar\": {\"outlinewidth\": 0, \"ticks\": \"\"}}, \"type\": \"scattermapbox\"}], \"scatterpolar\": [{\"marker\": {\"colorbar\": {\"outlinewidth\": 0, \"ticks\": \"\"}}, \"type\": \"scatterpolar\"}], \"scatterpolargl\": [{\"marker\": {\"colorbar\": {\"outlinewidth\": 0, \"ticks\": \"\"}}, \"type\": \"scatterpolargl\"}], \"scatterternary\": [{\"marker\": {\"colorbar\": {\"outlinewidth\": 0, \"ticks\": \"\"}}, \"type\": \"scatterternary\"}], \"surface\": [{\"colorbar\": {\"outlinewidth\": 0, \"ticks\": \"\"}, \"type\": \"surface\"}], \"table\": [{\"cells\": {\"fill\": {\"color\": \"#EBF0F8\"}, \"line\": {\"color\": \"white\"}}, \"header\": {\"fill\": {\"color\": \"#C8D4E3\"}, \"line\": {\"color\": \"white\"}}, \"type\": \"table\"}]}, \"layout\": {\"annotationdefaults\": {\"arrowcolor\": \"#506784\", \"arrowhead\": 0, \"arrowwidth\": 1}, \"colorscale\": {\"diverging\": [[0, \"#8e0152\"], [0.1, \"#c51b7d\"], [0.2, \"#de77ae\"], [0.3, \"#f1b6da\"], [0.4, \"#fde0ef\"], [0.5, \"#f7f7f7\"], [0.6, \"#e6f5d0\"], [0.7, \"#b8e186\"], [0.8, \"#7fbc41\"], [0.9, \"#4d9221\"], [1, \"#276419\"]], \"sequential\": [[0.0, \"#0508b8\"], [0.0893854748603352, \"#1910d8\"], [0.1787709497206704, \"#3c19f0\"], [0.2681564245810056, \"#6b1cfb\"], [0.3575418994413408, \"#981cfd\"], [0.44692737430167595, \"#bf1cfd\"], [0.5363128491620112, \"#dd2bfd\"], [0.6256983240223464, \"#f246fe\"], [0.7150837988826816, \"#fc67fd\"], [0.8044692737430168, \"#fe88fc\"], [0.8938547486033519, \"#fea5fd\"], [0.9832402234636871, \"#febefe\"], [1.0, \"#fec3fe\"]], \"sequentialminus\": [[0.0, \"#0508b8\"], [0.0893854748603352, \"#1910d8\"], [0.1787709497206704, \"#3c19f0\"], [0.2681564245810056, \"#6b1cfb\"], [0.3575418994413408, \"#981cfd\"], [0.44692737430167595, \"#bf1cfd\"], [0.5363128491620112, \"#dd2bfd\"], [0.6256983240223464, \"#f246fe\"], [0.7150837988826816, \"#fc67fd\"], [0.8044692737430168, \"#fe88fc\"], [0.8938547486033519, \"#fea5fd\"], [0.9832402234636871, \"#febefe\"], [1.0, \"#fec3fe\"]]}, \"colorway\": [\"#636efa\", \"#EF553B\", \"#00cc96\", \"#ab63fa\", \"#19d3f3\", \"#e763fa\", \"#FECB52\", \"#FFA15A\", \"#FF6692\", \"#B6E880\"], \"font\": {\"color\": \"#2a3f5f\"}, \"geo\": {\"bgcolor\": \"white\", \"lakecolor\": \"white\", \"landcolor\": \"#E5ECF6\", \"showlakes\": true, \"showland\": true, \"subunitcolor\": \"white\"}, \"hoverlabel\": {\"align\": \"left\"}, \"hovermode\": \"closest\", \"mapbox\": {\"style\": \"light\"}, \"paper_bgcolor\": \"white\", \"plot_bgcolor\": \"#E5ECF6\", \"polar\": {\"angularaxis\": {\"gridcolor\": \"white\", \"linecolor\": \"white\", \"ticks\": \"\"}, \"bgcolor\": \"#E5ECF6\", \"radialaxis\": {\"gridcolor\": \"white\", \"linecolor\": \"white\", \"ticks\": \"\"}}, \"scene\": {\"xaxis\": {\"backgroundcolor\": \"#E5ECF6\", \"gridcolor\": \"white\", \"gridwidth\": 2, \"linecolor\": \"white\", \"showbackground\": true, \"ticks\": \"\", \"zerolinecolor\": \"white\"}, \"yaxis\": {\"backgroundcolor\": \"#E5ECF6\", \"gridcolor\": \"white\", \"gridwidth\": 2, \"linecolor\": \"white\", \"showbackground\": true, \"ticks\": \"\", \"zerolinecolor\": \"white\"}, \"zaxis\": {\"backgroundcolor\": \"#E5ECF6\", \"gridcolor\": \"white\", \"gridwidth\": 2, \"linecolor\": \"white\", \"showbackground\": true, \"ticks\": \"\", \"zerolinecolor\": \"white\"}}, \"shapedefaults\": {\"fillcolor\": \"#506784\", \"line\": {\"width\": 0}, \"opacity\": 0.4}, \"ternary\": {\"aaxis\": {\"gridcolor\": \"white\", \"linecolor\": \"white\", \"ticks\": \"\"}, \"baxis\": {\"gridcolor\": \"white\", \"linecolor\": \"white\", \"ticks\": \"\"}, \"bgcolor\": \"#E5ECF6\", \"caxis\": {\"gridcolor\": \"white\", \"linecolor\": \"white\", \"ticks\": \"\"}}, \"title\": {\"x\": 0.05}, \"xaxis\": {\"automargin\": true, \"gridcolor\": \"white\", \"linecolor\": \"white\", \"ticks\": \"\", \"zerolinecolor\": \"white\", \"zerolinewidth\": 2}, \"yaxis\": {\"automargin\": true, \"gridcolor\": \"white\", \"linecolor\": \"white\", \"ticks\": \"\", \"zerolinecolor\": \"white\", \"zerolinewidth\": 2}}}, \"xaxis\": {\"title\": {\"text\": \"col\"}}, \"yaxis\": {\"title\": {\"text\": \"imp\"}}},\n",
       "                        {\"showLink\": false, \"linkText\": \"Export to plot.ly\", \"plotlyServerURL\": \"https://plot.ly\", \"responsive\": true}\n",
       "                    ).then(function(){\n",
       "                            \n",
       "var gd = document.getElementById('65132b52-f67a-486c-b694-5048eb709b84');\n",
       "var x = new MutationObserver(function (mutations, observer) {{\n",
       "        var display = window.getComputedStyle(gd).display;\n",
       "        if (!display || display === 'none') {{\n",
       "            console.log([gd, 'removed!']);\n",
       "            Plotly.purge(gd);\n",
       "            observer.disconnect();\n",
       "        }}\n",
       "}});\n",
       "\n",
       "// Listen for the removal of the full notebook cells\n",
       "var notebookContainer = gd.closest('#notebook-container');\n",
       "if (notebookContainer) {{\n",
       "    x.observe(notebookContainer, {childList: true});\n",
       "}}\n",
       "\n",
       "// Listen for the clearing of the current output cell\n",
       "var outputEl = gd.closest('.output');\n",
       "if (outputEl) {{\n",
       "    x.observe(outputEl, {childList: true});\n",
       "}}\n",
       "\n",
       "                        })\n",
       "                };\n",
       "                });\n",
       "            </script>\n",
       "        </div>"
      ]
     },
     "metadata": {},
     "output_type": "display_data"
    }
   ],
   "source": [
    "px.bar(feature_importances,x='col',y='imp')"
   ]
  },
  {
   "cell_type": "code",
   "execution_count": null,
   "metadata": {},
   "outputs": [],
   "source": []
  }
 ],
 "metadata": {
  "kernelspec": {
   "display_name": "Python 3",
   "language": "python",
   "name": "python3"
  },
  "language_info": {
   "codemirror_mode": {
    "name": "ipython",
    "version": 3
   },
   "file_extension": ".py",
   "mimetype": "text/x-python",
   "name": "python",
   "nbconvert_exporter": "python",
   "pygments_lexer": "ipython3",
   "version": "3.6.7"
  }
 },
 "nbformat": 4,
 "nbformat_minor": 1
}
