{
 "cells": [
  {
   "cell_type": "code",
   "execution_count": 1,
   "metadata": {
    "ExecuteTime": {
     "end_time": "2020-08-25T05:00:49.554431Z",
     "start_time": "2020-08-25T05:00:47.778742Z"
    }
   },
   "outputs": [],
   "source": [
    "import pandas as pd\n",
    "import random\n",
    "import datetime"
   ]
  },
  {
   "cell_type": "code",
   "execution_count": 2,
   "metadata": {
    "ExecuteTime": {
     "end_time": "2020-08-25T05:00:49.561055Z",
     "start_time": "2020-08-25T05:00:49.555755Z"
    }
   },
   "outputs": [],
   "source": [
    "def random_dt_bw(start_date,end_date):\n",
    "    days_between = (end_date - start_date).days\n",
    "    random_num_days = random.randrange(days_between)\n",
    "    random_dt = start_date + datetime.timedelta(days=random_num_days)\n",
    "    return random_dt\n",
    "\n",
    "def generate_data(n=1000):\n",
    "    items = [f\"i_{x}\" for x in range(n)]\n",
    "    start_dates = [random_dt_bw(datetime.date(2020,1,1),datetime.date(2020,9,1)) for x in range(n)]\n",
    "    end_dates = [x + datetime.timedelta(days=random.randint(1,10)) for x in start_dates]\n",
    "    \n",
    "    offerDf = pd.DataFrame({\"Item\":items,\n",
    "                            \"StartDt\":start_dates,\n",
    "                            \"EndDt\":end_dates})\n",
    "    \n",
    "    transaction_items = [f\"i_{random.randint(0,n)}\" for x in range(5*n)]\n",
    "    transaction_dt = [random_dt_bw(datetime.date(2020,1,1),datetime.date(2020,9,1)) for x in range(5*n)]\n",
    "    sales_amt = [random.randint(0,1000) for x in range(5*n)]\n",
    "    \n",
    "    transactionDf = pd.DataFrame({\"Item\":transaction_items,\"TransactionDt\":transaction_dt,\"Sales\":sales_amt})\n",
    "\n",
    "    return offerDf,transactionDf"
   ]
  },
  {
   "cell_type": "code",
   "execution_count": 3,
   "metadata": {
    "ExecuteTime": {
     "end_time": "2020-08-25T05:00:52.093631Z",
     "start_time": "2020-08-25T05:00:49.562607Z"
    }
   },
   "outputs": [],
   "source": [
    "offerDf,transactionDf = generate_data(n=100000)"
   ]
  },
  {
   "cell_type": "code",
   "execution_count": 4,
   "metadata": {
    "ExecuteTime": {
     "end_time": "2020-08-25T05:00:52.132681Z",
     "start_time": "2020-08-25T05:00:52.096557Z"
    }
   },
   "outputs": [
    {
     "data": {
      "text/html": [
       "<div>\n",
       "<style scoped>\n",
       "    .dataframe tbody tr th:only-of-type {\n",
       "        vertical-align: middle;\n",
       "    }\n",
       "\n",
       "    .dataframe tbody tr th {\n",
       "        vertical-align: top;\n",
       "    }\n",
       "\n",
       "    .dataframe thead th {\n",
       "        text-align: right;\n",
       "    }\n",
       "</style>\n",
       "<table border=\"1\" class=\"dataframe\">\n",
       "  <thead>\n",
       "    <tr style=\"text-align: right;\">\n",
       "      <th></th>\n",
       "      <th>Item</th>\n",
       "      <th>StartDt</th>\n",
       "      <th>EndDt</th>\n",
       "    </tr>\n",
       "  </thead>\n",
       "  <tbody>\n",
       "    <tr>\n",
       "      <th>0</th>\n",
       "      <td>i_0</td>\n",
       "      <td>2020-01-13</td>\n",
       "      <td>2020-01-15</td>\n",
       "    </tr>\n",
       "    <tr>\n",
       "      <th>1</th>\n",
       "      <td>i_1</td>\n",
       "      <td>2020-01-03</td>\n",
       "      <td>2020-01-12</td>\n",
       "    </tr>\n",
       "    <tr>\n",
       "      <th>2</th>\n",
       "      <td>i_2</td>\n",
       "      <td>2020-05-31</td>\n",
       "      <td>2020-06-05</td>\n",
       "    </tr>\n",
       "    <tr>\n",
       "      <th>3</th>\n",
       "      <td>i_3</td>\n",
       "      <td>2020-04-11</td>\n",
       "      <td>2020-04-18</td>\n",
       "    </tr>\n",
       "    <tr>\n",
       "      <th>4</th>\n",
       "      <td>i_4</td>\n",
       "      <td>2020-08-20</td>\n",
       "      <td>2020-08-21</td>\n",
       "    </tr>\n",
       "  </tbody>\n",
       "</table>\n",
       "</div>"
      ],
      "text/plain": [
       "  Item     StartDt       EndDt\n",
       "0  i_0  2020-01-13  2020-01-15\n",
       "1  i_1  2020-01-03  2020-01-12\n",
       "2  i_2  2020-05-31  2020-06-05\n",
       "3  i_3  2020-04-11  2020-04-18\n",
       "4  i_4  2020-08-20  2020-08-21"
      ]
     },
     "execution_count": 4,
     "metadata": {},
     "output_type": "execute_result"
    }
   ],
   "source": [
    "offerDf.head()"
   ]
  },
  {
   "cell_type": "code",
   "execution_count": 5,
   "metadata": {
    "ExecuteTime": {
     "end_time": "2020-08-25T05:00:52.140986Z",
     "start_time": "2020-08-25T05:00:52.134195Z"
    }
   },
   "outputs": [
    {
     "data": {
      "text/html": [
       "<div>\n",
       "<style scoped>\n",
       "    .dataframe tbody tr th:only-of-type {\n",
       "        vertical-align: middle;\n",
       "    }\n",
       "\n",
       "    .dataframe tbody tr th {\n",
       "        vertical-align: top;\n",
       "    }\n",
       "\n",
       "    .dataframe thead th {\n",
       "        text-align: right;\n",
       "    }\n",
       "</style>\n",
       "<table border=\"1\" class=\"dataframe\">\n",
       "  <thead>\n",
       "    <tr style=\"text-align: right;\">\n",
       "      <th></th>\n",
       "      <th>Item</th>\n",
       "      <th>TransactionDt</th>\n",
       "      <th>Sales</th>\n",
       "    </tr>\n",
       "  </thead>\n",
       "  <tbody>\n",
       "    <tr>\n",
       "      <th>0</th>\n",
       "      <td>i_19652</td>\n",
       "      <td>2020-06-25</td>\n",
       "      <td>969</td>\n",
       "    </tr>\n",
       "    <tr>\n",
       "      <th>1</th>\n",
       "      <td>i_6048</td>\n",
       "      <td>2020-01-17</td>\n",
       "      <td>150</td>\n",
       "    </tr>\n",
       "    <tr>\n",
       "      <th>2</th>\n",
       "      <td>i_28922</td>\n",
       "      <td>2020-08-14</td>\n",
       "      <td>465</td>\n",
       "    </tr>\n",
       "    <tr>\n",
       "      <th>3</th>\n",
       "      <td>i_90116</td>\n",
       "      <td>2020-01-10</td>\n",
       "      <td>533</td>\n",
       "    </tr>\n",
       "    <tr>\n",
       "      <th>4</th>\n",
       "      <td>i_67713</td>\n",
       "      <td>2020-01-14</td>\n",
       "      <td>227</td>\n",
       "    </tr>\n",
       "  </tbody>\n",
       "</table>\n",
       "</div>"
      ],
      "text/plain": [
       "      Item TransactionDt  Sales\n",
       "0  i_19652    2020-06-25    969\n",
       "1   i_6048    2020-01-17    150\n",
       "2  i_28922    2020-08-14    465\n",
       "3  i_90116    2020-01-10    533\n",
       "4  i_67713    2020-01-14    227"
      ]
     },
     "execution_count": 5,
     "metadata": {},
     "output_type": "execute_result"
    }
   ],
   "source": [
    "transactionDf.head()"
   ]
  },
  {
   "cell_type": "markdown",
   "metadata": {},
   "source": [
    "# Pandas Solution"
   ]
  },
  {
   "cell_type": "code",
   "execution_count": 6,
   "metadata": {
    "ExecuteTime": {
     "end_time": "2020-08-25T05:00:52.642038Z",
     "start_time": "2020-08-25T05:00:52.143045Z"
    }
   },
   "outputs": [
    {
     "name": "stdout",
     "output_type": "stream",
     "text": [
      "CPU times: user 458 ms, sys: 36 ms, total: 494 ms\n",
      "Wall time: 494 ms\n"
     ]
    }
   ],
   "source": [
    "%%time \n",
    "\n",
    "merged_df = pd.merge(offerDf,transactionDf,on='Item')\n",
    "pandas_solution = merged_df[(merged_df['TransactionDt']>=merged_df['StartDt']) & \n",
    "                               (merged_df['TransactionDt']<=merged_df['EndDt'])]"
   ]
  },
  {
   "cell_type": "code",
   "execution_count": 7,
   "metadata": {
    "ExecuteTime": {
     "end_time": "2020-08-25T05:00:52.653895Z",
     "start_time": "2020-08-25T05:00:52.643680Z"
    }
   },
   "outputs": [
    {
     "data": {
      "text/html": [
       "<div>\n",
       "<style scoped>\n",
       "    .dataframe tbody tr th:only-of-type {\n",
       "        vertical-align: middle;\n",
       "    }\n",
       "\n",
       "    .dataframe tbody tr th {\n",
       "        vertical-align: top;\n",
       "    }\n",
       "\n",
       "    .dataframe thead th {\n",
       "        text-align: right;\n",
       "    }\n",
       "</style>\n",
       "<table border=\"1\" class=\"dataframe\">\n",
       "  <thead>\n",
       "    <tr style=\"text-align: right;\">\n",
       "      <th></th>\n",
       "      <th>Item</th>\n",
       "      <th>StartDt</th>\n",
       "      <th>EndDt</th>\n",
       "      <th>TransactionDt</th>\n",
       "      <th>Sales</th>\n",
       "    </tr>\n",
       "  </thead>\n",
       "  <tbody>\n",
       "    <tr>\n",
       "      <th>108</th>\n",
       "      <td>i_21</td>\n",
       "      <td>2020-07-31</td>\n",
       "      <td>2020-08-09</td>\n",
       "      <td>2020-08-04</td>\n",
       "      <td>236</td>\n",
       "    </tr>\n",
       "    <tr>\n",
       "      <th>123</th>\n",
       "      <td>i_25</td>\n",
       "      <td>2020-02-17</td>\n",
       "      <td>2020-02-20</td>\n",
       "      <td>2020-02-20</td>\n",
       "      <td>935</td>\n",
       "    </tr>\n",
       "    <tr>\n",
       "      <th>178</th>\n",
       "      <td>i_37</td>\n",
       "      <td>2020-05-28</td>\n",
       "      <td>2020-06-07</td>\n",
       "      <td>2020-06-02</td>\n",
       "      <td>244</td>\n",
       "    </tr>\n",
       "    <tr>\n",
       "      <th>212</th>\n",
       "      <td>i_44</td>\n",
       "      <td>2020-07-27</td>\n",
       "      <td>2020-08-02</td>\n",
       "      <td>2020-07-31</td>\n",
       "      <td>588</td>\n",
       "    </tr>\n",
       "    <tr>\n",
       "      <th>256</th>\n",
       "      <td>i_52</td>\n",
       "      <td>2020-08-18</td>\n",
       "      <td>2020-08-25</td>\n",
       "      <td>2020-08-18</td>\n",
       "      <td>495</td>\n",
       "    </tr>\n",
       "  </tbody>\n",
       "</table>\n",
       "</div>"
      ],
      "text/plain": [
       "     Item     StartDt       EndDt TransactionDt  Sales\n",
       "108  i_21  2020-07-31  2020-08-09    2020-08-04    236\n",
       "123  i_25  2020-02-17  2020-02-20    2020-02-20    935\n",
       "178  i_37  2020-05-28  2020-06-07    2020-06-02    244\n",
       "212  i_44  2020-07-27  2020-08-02    2020-07-31    588\n",
       "256  i_52  2020-08-18  2020-08-25    2020-08-18    495"
      ]
     },
     "execution_count": 7,
     "metadata": {},
     "output_type": "execute_result"
    }
   ],
   "source": [
    "pandas_solution.head()"
   ]
  },
  {
   "cell_type": "markdown",
   "metadata": {},
   "source": [
    "## PandasSQL Solution"
   ]
  },
  {
   "cell_type": "code",
   "execution_count": 8,
   "metadata": {
    "ExecuteTime": {
     "end_time": "2020-08-25T05:01:01.443840Z",
     "start_time": "2020-08-25T05:00:52.655356Z"
    }
   },
   "outputs": [
    {
     "name": "stdout",
     "output_type": "stream",
     "text": [
      "Requirement already up-to-date: pandasql in /miniconda3/envs/py36/lib/python3.6/site-packages (0.7.3)\n",
      "Requirement already satisfied, skipping upgrade: pandas in /miniconda3/envs/py36/lib/python3.6/site-packages (from pandasql) (1.0.3)\n",
      "Requirement already satisfied, skipping upgrade: sqlalchemy in /miniconda3/envs/py36/lib/python3.6/site-packages (from pandasql) (1.2.11)\n",
      "Requirement already satisfied, skipping upgrade: numpy in /miniconda3/envs/py36/lib/python3.6/site-packages (from pandasql) (1.17.0)\n",
      "Requirement already satisfied, skipping upgrade: pytz>=2017.2 in /miniconda3/envs/py36/lib/python3.6/site-packages (from pandas->pandasql) (2018.5)\n",
      "Requirement already satisfied, skipping upgrade: python-dateutil>=2.6.1 in /miniconda3/envs/py36/lib/python3.6/site-packages (from pandas->pandasql) (2.7.3)\n",
      "Requirement already satisfied, skipping upgrade: six>=1.5 in /miniconda3/envs/py36/lib/python3.6/site-packages (from python-dateutil>=2.6.1->pandas->pandasql) (1.12.0)\n",
      "\u001b[33mWARNING: You are using pip version 20.0.2; however, version 20.2.2 is available.\n",
      "You should consider upgrading via the '/miniconda3/envs/py36/bin/python -m pip install --upgrade pip' command.\u001b[0m\n"
     ]
    }
   ],
   "source": [
    "! pip install -U pandasql"
   ]
  },
  {
   "cell_type": "code",
   "execution_count": 9,
   "metadata": {
    "ExecuteTime": {
     "end_time": "2020-08-25T05:01:01.924306Z",
     "start_time": "2020-08-25T05:01:01.446706Z"
    }
   },
   "outputs": [],
   "source": [
    "from pandasql import sqldf\n",
    "pysqldf = lambda q: sqldf(q, globals())"
   ]
  },
  {
   "cell_type": "code",
   "execution_count": 10,
   "metadata": {
    "ExecuteTime": {
     "end_time": "2020-08-25T05:01:07.438075Z",
     "start_time": "2020-08-25T05:01:01.926758Z"
    }
   },
   "outputs": [
    {
     "name": "stdout",
     "output_type": "stream",
     "text": [
      "CPU times: user 4.34 s, sys: 1.14 s, total: 5.48 s\n",
      "Wall time: 5.51 s\n"
     ]
    }
   ],
   "source": [
    "%%time \n",
    "\n",
    "q = \"\"\"\n",
    "    SELECT A.*,B.TransactionDt,B.Sales\n",
    "        FROM\n",
    "            offerDf A\n",
    "        INNER JOIN\n",
    "            transactionDf B\n",
    "        ON \n",
    "            A.Item = B.Item AND\n",
    "            A.StartDt <= B.TransactionDt AND\n",
    "            A.EndDt >= B.TransactionDt;\n",
    "         \"\"\"\n",
    "pandasSQL_solution = pysqldf(q)\n"
   ]
  },
  {
   "cell_type": "code",
   "execution_count": 11,
   "metadata": {
    "ExecuteTime": {
     "end_time": "2020-08-25T05:01:07.449478Z",
     "start_time": "2020-08-25T05:01:07.439322Z"
    }
   },
   "outputs": [
    {
     "data": {
      "text/html": [
       "<div>\n",
       "<style scoped>\n",
       "    .dataframe tbody tr th:only-of-type {\n",
       "        vertical-align: middle;\n",
       "    }\n",
       "\n",
       "    .dataframe tbody tr th {\n",
       "        vertical-align: top;\n",
       "    }\n",
       "\n",
       "    .dataframe thead th {\n",
       "        text-align: right;\n",
       "    }\n",
       "</style>\n",
       "<table border=\"1\" class=\"dataframe\">\n",
       "  <thead>\n",
       "    <tr style=\"text-align: right;\">\n",
       "      <th></th>\n",
       "      <th>Item</th>\n",
       "      <th>StartDt</th>\n",
       "      <th>EndDt</th>\n",
       "      <th>TransactionDt</th>\n",
       "      <th>Sales</th>\n",
       "    </tr>\n",
       "  </thead>\n",
       "  <tbody>\n",
       "    <tr>\n",
       "      <th>0</th>\n",
       "      <td>i_21</td>\n",
       "      <td>2020-07-31</td>\n",
       "      <td>2020-08-09</td>\n",
       "      <td>2020-08-04</td>\n",
       "      <td>236</td>\n",
       "    </tr>\n",
       "    <tr>\n",
       "      <th>1</th>\n",
       "      <td>i_25</td>\n",
       "      <td>2020-02-17</td>\n",
       "      <td>2020-02-20</td>\n",
       "      <td>2020-02-20</td>\n",
       "      <td>935</td>\n",
       "    </tr>\n",
       "    <tr>\n",
       "      <th>2</th>\n",
       "      <td>i_37</td>\n",
       "      <td>2020-05-28</td>\n",
       "      <td>2020-06-07</td>\n",
       "      <td>2020-06-02</td>\n",
       "      <td>244</td>\n",
       "    </tr>\n",
       "    <tr>\n",
       "      <th>3</th>\n",
       "      <td>i_44</td>\n",
       "      <td>2020-07-27</td>\n",
       "      <td>2020-08-02</td>\n",
       "      <td>2020-07-31</td>\n",
       "      <td>588</td>\n",
       "    </tr>\n",
       "    <tr>\n",
       "      <th>4</th>\n",
       "      <td>i_52</td>\n",
       "      <td>2020-08-18</td>\n",
       "      <td>2020-08-25</td>\n",
       "      <td>2020-08-18</td>\n",
       "      <td>495</td>\n",
       "    </tr>\n",
       "  </tbody>\n",
       "</table>\n",
       "</div>"
      ],
      "text/plain": [
       "   Item     StartDt       EndDt TransactionDt  Sales\n",
       "0  i_21  2020-07-31  2020-08-09    2020-08-04    236\n",
       "1  i_25  2020-02-17  2020-02-20    2020-02-20    935\n",
       "2  i_37  2020-05-28  2020-06-07    2020-06-02    244\n",
       "3  i_44  2020-07-27  2020-08-02    2020-07-31    588\n",
       "4  i_52  2020-08-18  2020-08-25    2020-08-18    495"
      ]
     },
     "execution_count": 11,
     "metadata": {},
     "output_type": "execute_result"
    }
   ],
   "source": [
    "pandasSQL_solution.head()"
   ]
  },
  {
   "cell_type": "code",
   "execution_count": null,
   "metadata": {},
   "outputs": [],
   "source": []
  }
 ],
 "metadata": {
  "kernelspec": {
   "display_name": "Python 3",
   "language": "python",
   "name": "python3"
  },
  "language_info": {
   "codemirror_mode": {
    "name": "ipython",
    "version": 3
   },
   "file_extension": ".py",
   "mimetype": "text/x-python",
   "name": "python",
   "nbconvert_exporter": "python",
   "pygments_lexer": "ipython3",
   "version": "3.6.7"
  }
 },
 "nbformat": 4,
 "nbformat_minor": 2
}
