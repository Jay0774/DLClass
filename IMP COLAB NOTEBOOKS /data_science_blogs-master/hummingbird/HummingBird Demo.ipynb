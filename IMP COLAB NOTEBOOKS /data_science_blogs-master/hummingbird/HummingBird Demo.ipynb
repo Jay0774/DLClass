{
 "cells": [
  {
   "cell_type": "markdown",
   "metadata": {},
   "source": [
    "# HummingBird Demo"
   ]
  },
  {
   "cell_type": "code",
   "execution_count": 54,
   "metadata": {},
   "outputs": [],
   "source": [
    "import numpy as np\n",
    "from sklearn.ensemble import RandomForestClassifier\n",
    "from hummingbird.ml import convert\n",
    "\n",
    "# Create some random data for binary classification\n",
    "from sklearn import datasets\n",
    "\n",
    "\n",
    "X, y = datasets.make_classification(n_samples=100000, n_features=28)\n"
   ]
  },
  {
   "cell_type": "code",
   "execution_count": 55,
   "metadata": {},
   "outputs": [
    {
     "data": {
      "text/plain": [
       "RandomForestClassifier(bootstrap=True, class_weight=None, criterion='gini',\n",
       "                       max_depth=10, max_features='auto', max_leaf_nodes=None,\n",
       "                       min_impurity_decrease=0.0, min_impurity_split=None,\n",
       "                       min_samples_leaf=1, min_samples_split=2,\n",
       "                       min_weight_fraction_leaf=0.0, n_estimators=1000,\n",
       "                       n_jobs=None, oob_score=False, random_state=None,\n",
       "                       verbose=0, warm_start=False)"
      ]
     },
     "execution_count": 55,
     "metadata": {},
     "output_type": "execute_result"
    }
   ],
   "source": [
    "# Create and train a model (scikit-learn RandomForestClassifier in this case)\n",
    "skl_model = RandomForestClassifier(n_estimators=1000, max_depth=10)\n",
    "skl_model.fit(X, y)"
   ]
  },
  {
   "cell_type": "code",
   "execution_count": 56,
   "metadata": {},
   "outputs": [],
   "source": [
    "# Using Hummingbird to convert the model to PyTorch\n",
    "model = convert(skl_model, 'pytorch')"
   ]
  },
  {
   "cell_type": "code",
   "execution_count": 62,
   "metadata": {},
   "outputs": [
    {
     "data": {
      "text/plain": [
       "hummingbird.ml._container.PyTorchBackendModel"
      ]
     },
     "execution_count": 62,
     "metadata": {},
     "output_type": "execute_result"
    }
   ],
   "source": [
    "type(model)"
   ]
  },
  {
   "cell_type": "code",
   "execution_count": 58,
   "metadata": {},
   "outputs": [
    {
     "data": {
      "text/plain": [
       "PyTorchBackendModel(\n",
       "  (operator_map): ModuleDict(\n",
       "    (SklearnRandomForestClassifier): PerfectTreeTraversalDecisionTreeImpl(\n",
       "      (nodes): ParameterList(\n",
       "          (0): Parameter containing: [torch.cuda.LongTensor of size 2000 (GPU 0)]\n",
       "          (1): Parameter containing: [torch.cuda.LongTensor of size 4000 (GPU 0)]\n",
       "          (2): Parameter containing: [torch.cuda.LongTensor of size 8000 (GPU 0)]\n",
       "          (3): Parameter containing: [torch.cuda.LongTensor of size 16000 (GPU 0)]\n",
       "          (4): Parameter containing: [torch.cuda.LongTensor of size 32000 (GPU 0)]\n",
       "          (5): Parameter containing: [torch.cuda.LongTensor of size 64000 (GPU 0)]\n",
       "          (6): Parameter containing: [torch.cuda.LongTensor of size 128000 (GPU 0)]\n",
       "          (7): Parameter containing: [torch.cuda.LongTensor of size 256000 (GPU 0)]\n",
       "          (8): Parameter containing: [torch.cuda.LongTensor of size 512000 (GPU 0)]\n",
       "      )\n",
       "      (biases): ParameterList(\n",
       "          (0): Parameter containing: [torch.cuda.FloatTensor of size 2000 (GPU 0)]\n",
       "          (1): Parameter containing: [torch.cuda.FloatTensor of size 4000 (GPU 0)]\n",
       "          (2): Parameter containing: [torch.cuda.FloatTensor of size 8000 (GPU 0)]\n",
       "          (3): Parameter containing: [torch.cuda.FloatTensor of size 16000 (GPU 0)]\n",
       "          (4): Parameter containing: [torch.cuda.FloatTensor of size 32000 (GPU 0)]\n",
       "          (5): Parameter containing: [torch.cuda.FloatTensor of size 64000 (GPU 0)]\n",
       "          (6): Parameter containing: [torch.cuda.FloatTensor of size 128000 (GPU 0)]\n",
       "          (7): Parameter containing: [torch.cuda.FloatTensor of size 256000 (GPU 0)]\n",
       "          (8): Parameter containing: [torch.cuda.FloatTensor of size 512000 (GPU 0)]\n",
       "      )\n",
       "    )\n",
       "  )\n",
       ")"
      ]
     },
     "execution_count": 58,
     "metadata": {},
     "output_type": "execute_result"
    }
   ],
   "source": [
    "model.to('cuda')"
   ]
  },
  {
   "cell_type": "markdown",
   "metadata": {},
   "source": [
    "# Timing Various Runs"
   ]
  },
  {
   "cell_type": "markdown",
   "metadata": {},
   "source": [
    "## Batch"
   ]
  },
  {
   "cell_type": "code",
   "execution_count": 57,
   "metadata": {},
   "outputs": [
    {
     "name": "stdout",
     "output_type": "stream",
     "text": [
      "9.58 s ± 40.2 ms per loop (mean ± std. dev. of 7 runs, 1 loop each)\n"
     ]
    }
   ],
   "source": [
    "%%timeit\n",
    "skl_model.predict_proba(X)"
   ]
  },
  {
   "cell_type": "code",
   "execution_count": 59,
   "metadata": {},
   "outputs": [
    {
     "name": "stdout",
     "output_type": "stream",
     "text": [
      "195 ms ± 436 µs per loop (mean ± std. dev. of 7 runs, 10 loops each)\n"
     ]
    }
   ],
   "source": [
    "%%timeit\n",
    "model.predict_proba(X)"
   ]
  },
  {
   "cell_type": "code",
   "execution_count": 68,
   "metadata": {},
   "outputs": [
    {
     "name": "stdout",
     "output_type": "stream",
     "text": [
      "A speedup of 49.0x\n"
     ]
    }
   ],
   "source": [
    "speedup = 9580/195\n",
    "print(f'A speedup of {np.round(speedup)}x')"
   ]
  },
  {
   "cell_type": "markdown",
   "metadata": {},
   "source": [
    "## Single"
   ]
  },
  {
   "cell_type": "code",
   "execution_count": 67,
   "metadata": {},
   "outputs": [
    {
     "name": "stdout",
     "output_type": "stream",
     "text": [
      "79.6 ms ± 1.28 ms per loop (mean ± std. dev. of 7 runs, 10 loops each)\n"
     ]
    }
   ],
   "source": [
    "%%timeit\n",
    "skl_model.predict_proba(np.array([X[0]]))"
   ]
  },
  {
   "cell_type": "code",
   "execution_count": 66,
   "metadata": {},
   "outputs": [
    {
     "name": "stdout",
     "output_type": "stream",
     "text": [
      "1.28 ms ± 12.9 µs per loop (mean ± std. dev. of 7 runs, 1000 loops each)\n"
     ]
    }
   ],
   "source": [
    "%%timeit\n",
    "model.predict_proba(np.array([X[0]]))"
   ]
  },
  {
   "cell_type": "code",
   "execution_count": 69,
   "metadata": {},
   "outputs": [
    {
     "name": "stdout",
     "output_type": "stream",
     "text": [
      "A speedup of 50.0x\n"
     ]
    }
   ],
   "source": [
    "speedup = 79.6/1.6\n",
    "print(f'A speedup of {np.round(speedup)}x')"
   ]
  },
  {
   "cell_type": "markdown",
   "metadata": {},
   "source": [
    "# Comparing Preds"
   ]
  },
  {
   "cell_type": "code",
   "execution_count": 70,
   "metadata": {},
   "outputs": [],
   "source": [
    "scikit_preds = skl_model.predict_proba(X)"
   ]
  },
  {
   "cell_type": "code",
   "execution_count": 71,
   "metadata": {},
   "outputs": [],
   "source": [
    "hb_preds = model.predict_proba(X)"
   ]
  },
  {
   "cell_type": "code",
   "execution_count": 72,
   "metadata": {},
   "outputs": [
    {
     "data": {
      "text/plain": [
       "array([[0.97264287, 0.02735713],\n",
       "       [0.98037972, 0.01962028],\n",
       "       [0.77330629, 0.22669371],\n",
       "       ...,\n",
       "       [0.97787525, 0.02212475],\n",
       "       [0.75329705, 0.24670295],\n",
       "       [0.0160022 , 0.9839978 ]])"
      ]
     },
     "execution_count": 72,
     "metadata": {},
     "output_type": "execute_result"
    }
   ],
   "source": [
    "scikit_preds"
   ]
  },
  {
   "cell_type": "code",
   "execution_count": 73,
   "metadata": {},
   "outputs": [
    {
     "data": {
      "text/plain": [
       "array([[0.97264284, 0.02735713],\n",
       "       [0.98037976, 0.01962028],\n",
       "       [0.7733063 , 0.22669372],\n",
       "       ...,\n",
       "       [0.9778753 , 0.02212475],\n",
       "       [0.75329703, 0.24670295],\n",
       "       [0.01600221, 0.9839978 ]], dtype=float32)"
      ]
     },
     "execution_count": 73,
     "metadata": {},
     "output_type": "execute_result"
    }
   ],
   "source": [
    "hb_preds"
   ]
  },
  {
   "cell_type": "code",
   "execution_count": 86,
   "metadata": {},
   "outputs": [
    {
     "data": {
      "text/plain": [
       "True"
      ]
     },
     "execution_count": 86,
     "metadata": {},
     "output_type": "execute_result"
    }
   ],
   "source": [
    "scikit_1_0 = scikit_preds[:,1]>0.5 \n",
    "hb_1_0 = hb_preds[:,1]>0.5 \n",
    "len(scikit_1_0) == sum(scikit_1_0==hb_1_0)"
   ]
  }
 ],
 "metadata": {
  "kernelspec": {
   "display_name": "pyt",
   "language": "python",
   "name": "pyt"
  },
  "language_info": {
   "codemirror_mode": {
    "name": "ipython",
    "version": 3
   },
   "file_extension": ".py",
   "mimetype": "text/x-python",
   "name": "python",
   "nbconvert_exporter": "python",
   "pygments_lexer": "ipython3",
   "version": "3.7.6"
  }
 },
 "nbformat": 4,
 "nbformat_minor": 4
}
