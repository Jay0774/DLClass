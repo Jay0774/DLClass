{
  "nbformat": 4,
  "nbformat_minor": 0,
  "metadata": {
    "accelerator": "GPU",
    "colab": {
      "name": "[7]StyleGan2[CIFAR10].ipynb",
      "provenance": [],
      "collapsed_sections": []
    },
    "kernelspec": {
      "display_name": "Python 3",
      "name": "python3"
    },
    "widgets": {
      "application/vnd.jupyter.widget-state+json": {
        "02a2a318e40742fba36bed50d9b340ef": {
          "model_module": "@jupyter-widgets/controls",
          "model_name": "VBoxModel",
          "state": {
            "_view_name": "VBoxView",
            "_dom_classes": [],
            "_model_name": "VBoxModel",
            "_view_module": "@jupyter-widgets/controls",
            "_model_module_version": "1.5.0",
            "_view_count": null,
            "_view_module_version": "1.5.0",
            "box_style": "",
            "layout": "IPY_MODEL_4b3ec5750c394969b8082b3bcfb3b072",
            "_model_module": "@jupyter-widgets/controls",
            "children": [
              "IPY_MODEL_5fc7d90dcdd64d6dab8be49587a783a4",
              "IPY_MODEL_68b134453fc14e4791b7582f229455e7"
            ]
          }
        },
        "4b3ec5750c394969b8082b3bcfb3b072": {
          "model_module": "@jupyter-widgets/base",
          "model_name": "LayoutModel",
          "state": {
            "_view_name": "LayoutView",
            "grid_template_rows": null,
            "right": null,
            "justify_content": null,
            "_view_module": "@jupyter-widgets/base",
            "overflow": null,
            "_model_module_version": "1.2.0",
            "_view_count": null,
            "flex_flow": null,
            "width": null,
            "min_width": null,
            "border": null,
            "align_items": null,
            "bottom": null,
            "_model_module": "@jupyter-widgets/base",
            "top": null,
            "grid_column": null,
            "overflow_y": null,
            "overflow_x": null,
            "grid_auto_flow": null,
            "grid_area": null,
            "grid_template_columns": null,
            "flex": null,
            "_model_name": "LayoutModel",
            "justify_items": null,
            "grid_row": null,
            "max_height": null,
            "align_content": null,
            "visibility": null,
            "align_self": null,
            "height": null,
            "min_height": null,
            "padding": null,
            "grid_auto_rows": null,
            "grid_gap": null,
            "max_width": null,
            "order": null,
            "_view_module_version": "1.2.0",
            "grid_template_areas": null,
            "object_position": null,
            "object_fit": null,
            "grid_auto_columns": null,
            "margin": null,
            "display": null,
            "left": null
          }
        },
        "5fc7d90dcdd64d6dab8be49587a783a4": {
          "model_module": "@jupyter-widgets/controls",
          "model_name": "HTMLModel",
          "state": {
            "_view_name": "HTMLView",
            "style": "IPY_MODEL_d20021b96f8a4483801eb1de3c59a9d5",
            "_dom_classes": [],
            "description": "",
            "_model_name": "HTMLModel",
            "placeholder": "​",
            "_view_module": "@jupyter-widgets/controls",
            "_model_module_version": "1.5.0",
            "value": "Generating images: 9",
            "_view_count": null,
            "_view_module_version": "1.5.0",
            "description_tooltip": null,
            "_model_module": "@jupyter-widgets/controls",
            "layout": "IPY_MODEL_087c9a26838d48b1a05cc3e90a0c0226"
          }
        },
        "68b134453fc14e4791b7582f229455e7": {
          "model_module": "@jupyter-widgets/controls",
          "model_name": "IntProgressModel",
          "state": {
            "_view_name": "ProgressView",
            "style": "IPY_MODEL_bbd2fa6badf142698641ab028f05bf31",
            "_dom_classes": [],
            "description": "",
            "_model_name": "IntProgressModel",
            "bar_style": "success",
            "max": 9,
            "_view_module": "@jupyter-widgets/controls",
            "_model_module_version": "1.5.0",
            "value": 9,
            "_view_count": null,
            "_view_module_version": "1.5.0",
            "orientation": "horizontal",
            "min": 0,
            "description_tooltip": null,
            "_model_module": "@jupyter-widgets/controls",
            "layout": "IPY_MODEL_c107d1fb11ba40dfbb83e19ae62cef9a"
          }
        },
        "d20021b96f8a4483801eb1de3c59a9d5": {
          "model_module": "@jupyter-widgets/controls",
          "model_name": "DescriptionStyleModel",
          "state": {
            "_view_name": "StyleView",
            "_model_name": "DescriptionStyleModel",
            "description_width": "",
            "_view_module": "@jupyter-widgets/base",
            "_model_module_version": "1.5.0",
            "_view_count": null,
            "_view_module_version": "1.2.0",
            "_model_module": "@jupyter-widgets/controls"
          }
        },
        "087c9a26838d48b1a05cc3e90a0c0226": {
          "model_module": "@jupyter-widgets/base",
          "model_name": "LayoutModel",
          "state": {
            "_view_name": "LayoutView",
            "grid_template_rows": null,
            "right": null,
            "justify_content": null,
            "_view_module": "@jupyter-widgets/base",
            "overflow": null,
            "_model_module_version": "1.2.0",
            "_view_count": null,
            "flex_flow": null,
            "width": null,
            "min_width": null,
            "border": null,
            "align_items": null,
            "bottom": null,
            "_model_module": "@jupyter-widgets/base",
            "top": null,
            "grid_column": null,
            "overflow_y": null,
            "overflow_x": null,
            "grid_auto_flow": null,
            "grid_area": null,
            "grid_template_columns": null,
            "flex": null,
            "_model_name": "LayoutModel",
            "justify_items": null,
            "grid_row": null,
            "max_height": null,
            "align_content": null,
            "visibility": null,
            "align_self": null,
            "height": null,
            "min_height": null,
            "padding": null,
            "grid_auto_rows": null,
            "grid_gap": null,
            "max_width": null,
            "order": null,
            "_view_module_version": "1.2.0",
            "grid_template_areas": null,
            "object_position": null,
            "object_fit": null,
            "grid_auto_columns": null,
            "margin": null,
            "display": null,
            "left": null
          }
        },
        "bbd2fa6badf142698641ab028f05bf31": {
          "model_module": "@jupyter-widgets/controls",
          "model_name": "ProgressStyleModel",
          "state": {
            "_view_name": "StyleView",
            "_model_name": "ProgressStyleModel",
            "description_width": "",
            "_view_module": "@jupyter-widgets/base",
            "_model_module_version": "1.5.0",
            "_view_count": null,
            "_view_module_version": "1.2.0",
            "bar_color": null,
            "_model_module": "@jupyter-widgets/controls"
          }
        },
        "c107d1fb11ba40dfbb83e19ae62cef9a": {
          "model_module": "@jupyter-widgets/base",
          "model_name": "LayoutModel",
          "state": {
            "_view_name": "LayoutView",
            "grid_template_rows": null,
            "right": null,
            "justify_content": null,
            "_view_module": "@jupyter-widgets/base",
            "overflow": null,
            "_model_module_version": "1.2.0",
            "_view_count": null,
            "flex_flow": null,
            "width": null,
            "min_width": null,
            "border": null,
            "align_items": null,
            "bottom": null,
            "_model_module": "@jupyter-widgets/base",
            "top": null,
            "grid_column": null,
            "overflow_y": null,
            "overflow_x": null,
            "grid_auto_flow": null,
            "grid_area": null,
            "grid_template_columns": null,
            "flex": null,
            "_model_name": "LayoutModel",
            "justify_items": null,
            "grid_row": null,
            "max_height": null,
            "align_content": null,
            "visibility": null,
            "align_self": null,
            "height": null,
            "min_height": null,
            "padding": null,
            "grid_auto_rows": null,
            "grid_gap": null,
            "max_width": null,
            "order": null,
            "_view_module_version": "1.2.0",
            "grid_template_areas": null,
            "object_position": null,
            "object_fit": null,
            "grid_auto_columns": null,
            "margin": null,
            "display": null,
            "left": null
          }
        },
        "280e99714ec64ef6a0c198746db9c64b": {
          "model_module": "@jupyter-widgets/controls",
          "model_name": "VBoxModel",
          "state": {
            "_view_name": "VBoxView",
            "_dom_classes": [],
            "_model_name": "VBoxModel",
            "_view_module": "@jupyter-widgets/controls",
            "_model_module_version": "1.5.0",
            "_view_count": null,
            "_view_module_version": "1.5.0",
            "box_style": "",
            "layout": "IPY_MODEL_4d3eade75e8a43db824b43f6b4351681",
            "_model_module": "@jupyter-widgets/controls",
            "children": [
              "IPY_MODEL_84028370690d4754ba19c859d708dbc4",
              "IPY_MODEL_ba22683314ea45e9af571952106a6994"
            ]
          }
        },
        "4d3eade75e8a43db824b43f6b4351681": {
          "model_module": "@jupyter-widgets/base",
          "model_name": "LayoutModel",
          "state": {
            "_view_name": "LayoutView",
            "grid_template_rows": null,
            "right": null,
            "justify_content": null,
            "_view_module": "@jupyter-widgets/base",
            "overflow": null,
            "_model_module_version": "1.2.0",
            "_view_count": null,
            "flex_flow": null,
            "width": null,
            "min_width": null,
            "border": null,
            "align_items": null,
            "bottom": null,
            "_model_module": "@jupyter-widgets/base",
            "top": null,
            "grid_column": null,
            "overflow_y": null,
            "overflow_x": null,
            "grid_auto_flow": null,
            "grid_area": null,
            "grid_template_columns": null,
            "flex": null,
            "_model_name": "LayoutModel",
            "justify_items": null,
            "grid_row": null,
            "max_height": null,
            "align_content": null,
            "visibility": null,
            "align_self": null,
            "height": null,
            "min_height": null,
            "padding": null,
            "grid_auto_rows": null,
            "grid_gap": null,
            "max_width": null,
            "order": null,
            "_view_module_version": "1.2.0",
            "grid_template_areas": null,
            "object_position": null,
            "object_fit": null,
            "grid_auto_columns": null,
            "margin": null,
            "display": null,
            "left": null
          }
        },
        "84028370690d4754ba19c859d708dbc4": {
          "model_module": "@jupyter-widgets/controls",
          "model_name": "HTMLModel",
          "state": {
            "_view_name": "HTMLView",
            "style": "IPY_MODEL_b27c90dd32174597a66e0cf4d40c2f5a",
            "_dom_classes": [],
            "description": "",
            "_model_name": "HTMLModel",
            "placeholder": "​",
            "_view_module": "@jupyter-widgets/controls",
            "_model_module_version": "1.5.0",
            "value": "Generating images: 9",
            "_view_count": null,
            "_view_module_version": "1.5.0",
            "description_tooltip": null,
            "_model_module": "@jupyter-widgets/controls",
            "layout": "IPY_MODEL_f106b334a9164c5e95d9fd4ac465628a"
          }
        },
        "ba22683314ea45e9af571952106a6994": {
          "model_module": "@jupyter-widgets/controls",
          "model_name": "IntProgressModel",
          "state": {
            "_view_name": "ProgressView",
            "style": "IPY_MODEL_a0fd50593e0f4c9a8ccca3a0d07c9ab0",
            "_dom_classes": [],
            "description": "",
            "_model_name": "IntProgressModel",
            "bar_style": "success",
            "max": 9,
            "_view_module": "@jupyter-widgets/controls",
            "_model_module_version": "1.5.0",
            "value": 9,
            "_view_count": null,
            "_view_module_version": "1.5.0",
            "orientation": "horizontal",
            "min": 0,
            "description_tooltip": null,
            "_model_module": "@jupyter-widgets/controls",
            "layout": "IPY_MODEL_47decff90e9f40caaab9d42088d71eb6"
          }
        },
        "b27c90dd32174597a66e0cf4d40c2f5a": {
          "model_module": "@jupyter-widgets/controls",
          "model_name": "DescriptionStyleModel",
          "state": {
            "_view_name": "StyleView",
            "_model_name": "DescriptionStyleModel",
            "description_width": "",
            "_view_module": "@jupyter-widgets/base",
            "_model_module_version": "1.5.0",
            "_view_count": null,
            "_view_module_version": "1.2.0",
            "_model_module": "@jupyter-widgets/controls"
          }
        },
        "f106b334a9164c5e95d9fd4ac465628a": {
          "model_module": "@jupyter-widgets/base",
          "model_name": "LayoutModel",
          "state": {
            "_view_name": "LayoutView",
            "grid_template_rows": null,
            "right": null,
            "justify_content": null,
            "_view_module": "@jupyter-widgets/base",
            "overflow": null,
            "_model_module_version": "1.2.0",
            "_view_count": null,
            "flex_flow": null,
            "width": null,
            "min_width": null,
            "border": null,
            "align_items": null,
            "bottom": null,
            "_model_module": "@jupyter-widgets/base",
            "top": null,
            "grid_column": null,
            "overflow_y": null,
            "overflow_x": null,
            "grid_auto_flow": null,
            "grid_area": null,
            "grid_template_columns": null,
            "flex": null,
            "_model_name": "LayoutModel",
            "justify_items": null,
            "grid_row": null,
            "max_height": null,
            "align_content": null,
            "visibility": null,
            "align_self": null,
            "height": null,
            "min_height": null,
            "padding": null,
            "grid_auto_rows": null,
            "grid_gap": null,
            "max_width": null,
            "order": null,
            "_view_module_version": "1.2.0",
            "grid_template_areas": null,
            "object_position": null,
            "object_fit": null,
            "grid_auto_columns": null,
            "margin": null,
            "display": null,
            "left": null
          }
        },
        "a0fd50593e0f4c9a8ccca3a0d07c9ab0": {
          "model_module": "@jupyter-widgets/controls",
          "model_name": "ProgressStyleModel",
          "state": {
            "_view_name": "StyleView",
            "_model_name": "ProgressStyleModel",
            "description_width": "",
            "_view_module": "@jupyter-widgets/base",
            "_model_module_version": "1.5.0",
            "_view_count": null,
            "_view_module_version": "1.2.0",
            "bar_color": null,
            "_model_module": "@jupyter-widgets/controls"
          }
        },
        "47decff90e9f40caaab9d42088d71eb6": {
          "model_module": "@jupyter-widgets/base",
          "model_name": "LayoutModel",
          "state": {
            "_view_name": "LayoutView",
            "grid_template_rows": null,
            "right": null,
            "justify_content": null,
            "_view_module": "@jupyter-widgets/base",
            "overflow": null,
            "_model_module_version": "1.2.0",
            "_view_count": null,
            "flex_flow": null,
            "width": null,
            "min_width": null,
            "border": null,
            "align_items": null,
            "bottom": null,
            "_model_module": "@jupyter-widgets/base",
            "top": null,
            "grid_column": null,
            "overflow_y": null,
            "overflow_x": null,
            "grid_auto_flow": null,
            "grid_area": null,
            "grid_template_columns": null,
            "flex": null,
            "_model_name": "LayoutModel",
            "justify_items": null,
            "grid_row": null,
            "max_height": null,
            "align_content": null,
            "visibility": null,
            "align_self": null,
            "height": null,
            "min_height": null,
            "padding": null,
            "grid_auto_rows": null,
            "grid_gap": null,
            "max_width": null,
            "order": null,
            "_view_module_version": "1.2.0",
            "grid_template_areas": null,
            "object_position": null,
            "object_fit": null,
            "grid_auto_columns": null,
            "margin": null,
            "display": null,
            "left": null
          }
        },
        "164756ca3a66448483bbbce763dcaa68": {
          "model_module": "@jupyter-widgets/controls",
          "model_name": "VBoxModel",
          "state": {
            "_view_name": "VBoxView",
            "_dom_classes": [],
            "_model_name": "VBoxModel",
            "_view_module": "@jupyter-widgets/controls",
            "_model_module_version": "1.5.0",
            "_view_count": null,
            "_view_module_version": "1.5.0",
            "box_style": "",
            "layout": "IPY_MODEL_10d7dfdb31104c32b63d4d00647fccc1",
            "_model_module": "@jupyter-widgets/controls",
            "children": [
              "IPY_MODEL_71a03530092f400598788cc0225f9283",
              "IPY_MODEL_ba9cb2af83bd46e598e43c4e39728ced"
            ]
          }
        },
        "10d7dfdb31104c32b63d4d00647fccc1": {
          "model_module": "@jupyter-widgets/base",
          "model_name": "LayoutModel",
          "state": {
            "_view_name": "LayoutView",
            "grid_template_rows": null,
            "right": null,
            "justify_content": null,
            "_view_module": "@jupyter-widgets/base",
            "overflow": null,
            "_model_module_version": "1.2.0",
            "_view_count": null,
            "flex_flow": null,
            "width": null,
            "min_width": null,
            "border": null,
            "align_items": null,
            "bottom": null,
            "_model_module": "@jupyter-widgets/base",
            "top": null,
            "grid_column": null,
            "overflow_y": null,
            "overflow_x": null,
            "grid_auto_flow": null,
            "grid_area": null,
            "grid_template_columns": null,
            "flex": null,
            "_model_name": "LayoutModel",
            "justify_items": null,
            "grid_row": null,
            "max_height": null,
            "align_content": null,
            "visibility": null,
            "align_self": null,
            "height": null,
            "min_height": null,
            "padding": null,
            "grid_auto_rows": null,
            "grid_gap": null,
            "max_width": null,
            "order": null,
            "_view_module_version": "1.2.0",
            "grid_template_areas": null,
            "object_position": null,
            "object_fit": null,
            "grid_auto_columns": null,
            "margin": null,
            "display": null,
            "left": null
          }
        },
        "71a03530092f400598788cc0225f9283": {
          "model_module": "@jupyter-widgets/controls",
          "model_name": "HTMLModel",
          "state": {
            "_view_name": "HTMLView",
            "style": "IPY_MODEL_2c7f0be934344e528b8601c77d814efc",
            "_dom_classes": [],
            "description": "",
            "_model_name": "HTMLModel",
            "placeholder": "​",
            "_view_module": "@jupyter-widgets/controls",
            "_model_module_version": "1.5.0",
            "value": "Generating images: 60",
            "_view_count": null,
            "_view_module_version": "1.5.0",
            "description_tooltip": null,
            "_model_module": "@jupyter-widgets/controls",
            "layout": "IPY_MODEL_6e7c9d5237b14c87a8da1f3622047512"
          }
        },
        "ba9cb2af83bd46e598e43c4e39728ced": {
          "model_module": "@jupyter-widgets/controls",
          "model_name": "IntProgressModel",
          "state": {
            "_view_name": "ProgressView",
            "style": "IPY_MODEL_048a15b143734134bd590ed842330394",
            "_dom_classes": [],
            "description": "",
            "_model_name": "IntProgressModel",
            "bar_style": "success",
            "max": 60,
            "_view_module": "@jupyter-widgets/controls",
            "_model_module_version": "1.5.0",
            "value": 60,
            "_view_count": null,
            "_view_module_version": "1.5.0",
            "orientation": "horizontal",
            "min": 0,
            "description_tooltip": null,
            "_model_module": "@jupyter-widgets/controls",
            "layout": "IPY_MODEL_fa72a4e53e524ae69acd12a8360cb055"
          }
        },
        "2c7f0be934344e528b8601c77d814efc": {
          "model_module": "@jupyter-widgets/controls",
          "model_name": "DescriptionStyleModel",
          "state": {
            "_view_name": "StyleView",
            "_model_name": "DescriptionStyleModel",
            "description_width": "",
            "_view_module": "@jupyter-widgets/base",
            "_model_module_version": "1.5.0",
            "_view_count": null,
            "_view_module_version": "1.2.0",
            "_model_module": "@jupyter-widgets/controls"
          }
        },
        "6e7c9d5237b14c87a8da1f3622047512": {
          "model_module": "@jupyter-widgets/base",
          "model_name": "LayoutModel",
          "state": {
            "_view_name": "LayoutView",
            "grid_template_rows": null,
            "right": null,
            "justify_content": null,
            "_view_module": "@jupyter-widgets/base",
            "overflow": null,
            "_model_module_version": "1.2.0",
            "_view_count": null,
            "flex_flow": null,
            "width": null,
            "min_width": null,
            "border": null,
            "align_items": null,
            "bottom": null,
            "_model_module": "@jupyter-widgets/base",
            "top": null,
            "grid_column": null,
            "overflow_y": null,
            "overflow_x": null,
            "grid_auto_flow": null,
            "grid_area": null,
            "grid_template_columns": null,
            "flex": null,
            "_model_name": "LayoutModel",
            "justify_items": null,
            "grid_row": null,
            "max_height": null,
            "align_content": null,
            "visibility": null,
            "align_self": null,
            "height": null,
            "min_height": null,
            "padding": null,
            "grid_auto_rows": null,
            "grid_gap": null,
            "max_width": null,
            "order": null,
            "_view_module_version": "1.2.0",
            "grid_template_areas": null,
            "object_position": null,
            "object_fit": null,
            "grid_auto_columns": null,
            "margin": null,
            "display": null,
            "left": null
          }
        },
        "048a15b143734134bd590ed842330394": {
          "model_module": "@jupyter-widgets/controls",
          "model_name": "ProgressStyleModel",
          "state": {
            "_view_name": "StyleView",
            "_model_name": "ProgressStyleModel",
            "description_width": "",
            "_view_module": "@jupyter-widgets/base",
            "_model_module_version": "1.5.0",
            "_view_count": null,
            "_view_module_version": "1.2.0",
            "bar_color": null,
            "_model_module": "@jupyter-widgets/controls"
          }
        },
        "fa72a4e53e524ae69acd12a8360cb055": {
          "model_module": "@jupyter-widgets/base",
          "model_name": "LayoutModel",
          "state": {
            "_view_name": "LayoutView",
            "grid_template_rows": null,
            "right": null,
            "justify_content": null,
            "_view_module": "@jupyter-widgets/base",
            "overflow": null,
            "_model_module_version": "1.2.0",
            "_view_count": null,
            "flex_flow": null,
            "width": null,
            "min_width": null,
            "border": null,
            "align_items": null,
            "bottom": null,
            "_model_module": "@jupyter-widgets/base",
            "top": null,
            "grid_column": null,
            "overflow_y": null,
            "overflow_x": null,
            "grid_auto_flow": null,
            "grid_area": null,
            "grid_template_columns": null,
            "flex": null,
            "_model_name": "LayoutModel",
            "justify_items": null,
            "grid_row": null,
            "max_height": null,
            "align_content": null,
            "visibility": null,
            "align_self": null,
            "height": null,
            "min_height": null,
            "padding": null,
            "grid_auto_rows": null,
            "grid_gap": null,
            "max_width": null,
            "order": null,
            "_view_module_version": "1.2.0",
            "grid_template_areas": null,
            "object_position": null,
            "object_fit": null,
            "grid_auto_columns": null,
            "margin": null,
            "display": null,
            "left": null
          }
        },
        "32657ea3568840668830ec80b435566e": {
          "model_module": "@jupyter-widgets/controls",
          "model_name": "VBoxModel",
          "state": {
            "_view_name": "VBoxView",
            "_dom_classes": [],
            "_model_name": "VBoxModel",
            "_view_module": "@jupyter-widgets/controls",
            "_model_module_version": "1.5.0",
            "_view_count": null,
            "_view_module_version": "1.5.0",
            "box_style": "",
            "layout": "IPY_MODEL_05056f6b9e0e4e599556ff9af4d18a57",
            "_model_module": "@jupyter-widgets/controls",
            "children": [
              "IPY_MODEL_be49d182e13340ecb60ad383f161044b",
              "IPY_MODEL_af1de263281342b2b648116467519568"
            ]
          }
        },
        "05056f6b9e0e4e599556ff9af4d18a57": {
          "model_module": "@jupyter-widgets/base",
          "model_name": "LayoutModel",
          "state": {
            "_view_name": "LayoutView",
            "grid_template_rows": null,
            "right": null,
            "justify_content": null,
            "_view_module": "@jupyter-widgets/base",
            "overflow": null,
            "_model_module_version": "1.2.0",
            "_view_count": null,
            "flex_flow": null,
            "width": null,
            "min_width": null,
            "border": null,
            "align_items": null,
            "bottom": null,
            "_model_module": "@jupyter-widgets/base",
            "top": null,
            "grid_column": null,
            "overflow_y": null,
            "overflow_x": null,
            "grid_auto_flow": null,
            "grid_area": null,
            "grid_template_columns": null,
            "flex": null,
            "_model_name": "LayoutModel",
            "justify_items": null,
            "grid_row": null,
            "max_height": null,
            "align_content": null,
            "visibility": null,
            "align_self": null,
            "height": null,
            "min_height": null,
            "padding": null,
            "grid_auto_rows": null,
            "grid_gap": null,
            "max_width": null,
            "order": null,
            "_view_module_version": "1.2.0",
            "grid_template_areas": null,
            "object_position": null,
            "object_fit": null,
            "grid_auto_columns": null,
            "margin": null,
            "display": null,
            "left": null
          }
        },
        "be49d182e13340ecb60ad383f161044b": {
          "model_module": "@jupyter-widgets/controls",
          "model_name": "HTMLModel",
          "state": {
            "_view_name": "HTMLView",
            "style": "IPY_MODEL_5bcc5ea8f6c64c4d876ebb6d6c078e5d",
            "_dom_classes": [],
            "description": "",
            "_model_name": "HTMLModel",
            "placeholder": "​",
            "_view_module": "@jupyter-widgets/controls",
            "_model_module_version": "1.5.0",
            "value": "Creating animation: 60",
            "_view_count": null,
            "_view_module_version": "1.5.0",
            "description_tooltip": null,
            "_model_module": "@jupyter-widgets/controls",
            "layout": "IPY_MODEL_fd5e4ca1489f4baf8bbe93d9fea29936"
          }
        },
        "af1de263281342b2b648116467519568": {
          "model_module": "@jupyter-widgets/controls",
          "model_name": "IntProgressModel",
          "state": {
            "_view_name": "ProgressView",
            "style": "IPY_MODEL_113523bcfae04391993552a76d3001cf",
            "_dom_classes": [],
            "description": "",
            "_model_name": "IntProgressModel",
            "bar_style": "success",
            "max": 60,
            "_view_module": "@jupyter-widgets/controls",
            "_model_module_version": "1.5.0",
            "value": 60,
            "_view_count": null,
            "_view_module_version": "1.5.0",
            "orientation": "horizontal",
            "min": 0,
            "description_tooltip": null,
            "_model_module": "@jupyter-widgets/controls",
            "layout": "IPY_MODEL_729e01afca2141e28f44a411f5743e7e"
          }
        },
        "5bcc5ea8f6c64c4d876ebb6d6c078e5d": {
          "model_module": "@jupyter-widgets/controls",
          "model_name": "DescriptionStyleModel",
          "state": {
            "_view_name": "StyleView",
            "_model_name": "DescriptionStyleModel",
            "description_width": "",
            "_view_module": "@jupyter-widgets/base",
            "_model_module_version": "1.5.0",
            "_view_count": null,
            "_view_module_version": "1.2.0",
            "_model_module": "@jupyter-widgets/controls"
          }
        },
        "fd5e4ca1489f4baf8bbe93d9fea29936": {
          "model_module": "@jupyter-widgets/base",
          "model_name": "LayoutModel",
          "state": {
            "_view_name": "LayoutView",
            "grid_template_rows": null,
            "right": null,
            "justify_content": null,
            "_view_module": "@jupyter-widgets/base",
            "overflow": null,
            "_model_module_version": "1.2.0",
            "_view_count": null,
            "flex_flow": null,
            "width": null,
            "min_width": null,
            "border": null,
            "align_items": null,
            "bottom": null,
            "_model_module": "@jupyter-widgets/base",
            "top": null,
            "grid_column": null,
            "overflow_y": null,
            "overflow_x": null,
            "grid_auto_flow": null,
            "grid_area": null,
            "grid_template_columns": null,
            "flex": null,
            "_model_name": "LayoutModel",
            "justify_items": null,
            "grid_row": null,
            "max_height": null,
            "align_content": null,
            "visibility": null,
            "align_self": null,
            "height": null,
            "min_height": null,
            "padding": null,
            "grid_auto_rows": null,
            "grid_gap": null,
            "max_width": null,
            "order": null,
            "_view_module_version": "1.2.0",
            "grid_template_areas": null,
            "object_position": null,
            "object_fit": null,
            "grid_auto_columns": null,
            "margin": null,
            "display": null,
            "left": null
          }
        },
        "113523bcfae04391993552a76d3001cf": {
          "model_module": "@jupyter-widgets/controls",
          "model_name": "ProgressStyleModel",
          "state": {
            "_view_name": "StyleView",
            "_model_name": "ProgressStyleModel",
            "description_width": "",
            "_view_module": "@jupyter-widgets/base",
            "_model_module_version": "1.5.0",
            "_view_count": null,
            "_view_module_version": "1.2.0",
            "bar_color": null,
            "_model_module": "@jupyter-widgets/controls"
          }
        },
        "729e01afca2141e28f44a411f5743e7e": {
          "model_module": "@jupyter-widgets/base",
          "model_name": "LayoutModel",
          "state": {
            "_view_name": "LayoutView",
            "grid_template_rows": null,
            "right": null,
            "justify_content": null,
            "_view_module": "@jupyter-widgets/base",
            "overflow": null,
            "_model_module_version": "1.2.0",
            "_view_count": null,
            "flex_flow": null,
            "width": null,
            "min_width": null,
            "border": null,
            "align_items": null,
            "bottom": null,
            "_model_module": "@jupyter-widgets/base",
            "top": null,
            "grid_column": null,
            "overflow_y": null,
            "overflow_x": null,
            "grid_auto_flow": null,
            "grid_area": null,
            "grid_template_columns": null,
            "flex": null,
            "_model_name": "LayoutModel",
            "justify_items": null,
            "grid_row": null,
            "max_height": null,
            "align_content": null,
            "visibility": null,
            "align_self": null,
            "height": null,
            "min_height": null,
            "padding": null,
            "grid_auto_rows": null,
            "grid_gap": null,
            "max_width": null,
            "order": null,
            "_view_module_version": "1.2.0",
            "grid_template_areas": null,
            "object_position": null,
            "object_fit": null,
            "grid_auto_columns": null,
            "margin": null,
            "display": null,
            "left": null
          }
        }
      }
    }
  },
  "cells": [
    {
      "cell_type": "code",
      "metadata": {
        "colab": {
          "base_uri": "https://localhost:8080/"
        },
        "id": "CBBWI3VYHDJs",
        "outputId": "0c519faa-0b56-465b-8cc7-e727230de045"
      },
      "source": [
        "from google.colab import drive\n",
        "drive.mount('/content/drive')\n",
        "%cd \"/content/drive/My Drive/stylegan2\"\n",
        "%cd \"/content/drive/My Drive/stylegan2/stylegan2\""
      ],
      "execution_count": 1,
      "outputs": [
        {
          "output_type": "stream",
          "text": [
            "Drive already mounted at /content/drive; to attempt to forcibly remount, call drive.mount(\"/content/drive\", force_remount=True).\n",
            "/content/drive/My Drive/stylegan2\n",
            "/content/drive/My Drive/stylegan2/stylegan2\n"
          ],
          "name": "stdout"
        }
      ]
    },
    {
      "cell_type": "code",
      "metadata": {
        "colab": {
          "base_uri": "https://localhost:8080/"
        },
        "id": "jFa_frjpOXMW",
        "outputId": "b821401c-8f5b-477e-9c31-ec8407181c65"
      },
      "source": [
        "!ls"
      ],
      "execution_count": 2,
      "outputs": [
        {
          "output_type": "stream",
          "text": [
            "datasets\t\trequirements.txt\n",
            "dataset_tool.py\t\tresults\n",
            "dnnlib\t\t\trun_generator.py\n",
            "Dockerfile\t\trun_metrics.py\n",
            "docs\t\t\trun_projector.py\n",
            "easy-install.sh\t\trun_training.py\n",
            "generated-0.7.zip\trunway_model.py\n",
            "latent-walk-v2.mp4\trunway.yml\n",
            "LICENSE.txt\t\tStyleGAN2_Google_Colab_Example.ipynb\n",
            "metrics\t\t\tStyleGAN2_projection_interpolation.ipynb\n",
            "out\t\t\tStyleGAN2_Projection.ipynb\n",
            "pkl\t\t\ttest_nvcc\n",
            "pretrained_networks.py\ttest_nvcc.cu\n",
            "projector.py\t\ttraining\n",
            "__pycache__\t\tUSAGE.md\n",
            "README.md\n"
          ],
          "name": "stdout"
        }
      ]
    },
    {
      "cell_type": "code",
      "metadata": {
        "colab": {
          "base_uri": "https://localhost:8080/"
        },
        "id": "n1QcXl8mQRUO",
        "outputId": "9d2f55b4-a12f-496c-cd0e-1c399741869f"
      },
      "source": [
        "# using this https://github.com/justinpinkney/awesome-pretrained-stylegan2#car-config-f for pretrained networks car (config-e)\n",
        "%cd \"/content/drive/My Drive/stylegan2/stylegan2/results/pretrained\"\n",
        "!wget https://hanlab.mit.edu/projects/data-efficient-gans/models/DiffAugment-stylegan2-cifar10.pkl"
      ],
      "execution_count": 3,
      "outputs": [
        {
          "output_type": "stream",
          "text": [
            "/content/drive/My Drive/stylegan2/stylegan2/results/pretrained\n",
            "--2021-02-05 14:08:43--  https://hanlab.mit.edu/projects/data-efficient-gans/models/DiffAugment-stylegan2-cifar10.pkl\n",
            "Resolving hanlab.mit.edu (hanlab.mit.edu)... 18.25.8.36\n",
            "Connecting to hanlab.mit.edu (hanlab.mit.edu)|18.25.8.36|:443... connected.\n",
            "HTTP request sent, awaiting response... 200 OK\n",
            "Length: 163943937 (156M)\n",
            "Saving to: ‘DiffAugment-stylegan2-cifar10.pkl’\n",
            "\n",
            "DiffAugment-stylega 100%[===================>] 156.35M  14.6MB/s    in 12s     \n",
            "\n",
            "2021-02-05 14:08:56 (13.1 MB/s) - ‘DiffAugment-stylegan2-cifar10.pkl’ saved [163943937/163943937]\n",
            "\n"
          ],
          "name": "stdout"
        }
      ]
    },
    {
      "cell_type": "code",
      "metadata": {
        "colab": {
          "base_uri": "https://localhost:8080/"
        },
        "id": "eJ17fjOZRIQM",
        "outputId": "0fc172e8-8877-4856-dd35-68b53e517615"
      },
      "source": [
        "%cd \"/content/drive/My Drive/stylegan2/stylegan2/\""
      ],
      "execution_count": 4,
      "outputs": [
        {
          "output_type": "stream",
          "text": [
            "/content/drive/My Drive/stylegan2/stylegan2\n"
          ],
          "name": "stdout"
        }
      ]
    },
    {
      "cell_type": "code",
      "metadata": {
        "colab": {
          "base_uri": "https://localhost:8080/"
        },
        "id": "faItP8KeRWK9",
        "outputId": "13b87678-2073-46a1-9219-20a89bc3bfeb"
      },
      "source": [
        "!ls"
      ],
      "execution_count": 5,
      "outputs": [
        {
          "output_type": "stream",
          "text": [
            "datasets\t\trequirements.txt\n",
            "dataset_tool.py\t\tresults\n",
            "dnnlib\t\t\trun_generator.py\n",
            "Dockerfile\t\trun_metrics.py\n",
            "docs\t\t\trun_projector.py\n",
            "easy-install.sh\t\trun_training.py\n",
            "generated-0.7.zip\trunway_model.py\n",
            "latent-walk-v2.mp4\trunway.yml\n",
            "LICENSE.txt\t\tStyleGAN2_Google_Colab_Example.ipynb\n",
            "metrics\t\t\tStyleGAN2_projection_interpolation.ipynb\n",
            "out\t\t\tStyleGAN2_Projection.ipynb\n",
            "pkl\t\t\ttest_nvcc\n",
            "pretrained_networks.py\ttest_nvcc.cu\n",
            "projector.py\t\ttraining\n",
            "__pycache__\t\tUSAGE.md\n",
            "README.md\n"
          ],
          "name": "stdout"
        }
      ]
    },
    {
      "cell_type": "code",
      "metadata": {
        "colab": {
          "base_uri": "https://localhost:8080/"
        },
        "id": "fsV6KCYbRXKk",
        "outputId": "e7065528-64dc-4812-939d-0f8b1fe2ee71"
      },
      "source": [
        "%tensorflow_version 1.x\n",
        "!pip install opensimplex"
      ],
      "execution_count": 6,
      "outputs": [
        {
          "output_type": "stream",
          "text": [
            "TensorFlow 1.x selected.\n",
            "Requirement already satisfied: opensimplex in /usr/local/lib/python3.6/dist-packages (0.3)\n"
          ],
          "name": "stdout"
        }
      ]
    },
    {
      "cell_type": "code",
      "metadata": {
        "id": "bnWplQw0RbSV"
      },
      "source": [
        "# !pip install opensimplex\n",
        "# !python run_generator.py generate-images --network=/content/drive/My\\ Drive/stylegan2/stylegan2/results/pretrained/network-snapshot-10000.pkl --seeds=3875451-3876000 --truncation-psi=0.7"
      ],
      "execution_count": 7,
      "outputs": []
    },
    {
      "cell_type": "code",
      "metadata": {
        "colab": {
          "base_uri": "https://localhost:8080/"
        },
        "id": "F2dYKdNCR84k",
        "outputId": "5291b89d-b611-4465-d1db-c62cd14a5abd"
      },
      "source": [
        "%tensorflow_version 1.x\n",
        "import tensorflow as tf\n",
        "\n",
        "# Download the code\n",
        "# !git clone https://github.com/NVlabs/stylegan2.git\n",
        "# %cd stylegan2\n",
        "!nvcc test_nvcc.cu -o test_nvcc -run\n",
        "\n",
        "print('Tensorflow version: {}'.format(tf.__version__) )\n",
        "!nvidia-smi -L\n",
        "print('GPU Identified at: {}'.format(tf.test.gpu_device_name()))"
      ],
      "execution_count": 8,
      "outputs": [
        {
          "output_type": "stream",
          "text": [
            "CPU says hello.\n",
            "GPU says hello.\n",
            "Tensorflow version: 1.15.2\n",
            "GPU 0: Tesla K80 (UUID: GPU-9d70d7db-38cd-ae25-7e64-9cd5fed6d28a)\n",
            "GPU Identified at: /device:GPU:0\n"
          ],
          "name": "stdout"
        }
      ]
    },
    {
      "cell_type": "code",
      "metadata": {
        "colab": {
          "base_uri": "https://localhost:8080/"
        },
        "id": "QdYMQbVYWTmf",
        "outputId": "c6a669b8-e2ca-4de4-9abd-f3fd371fb008"
      },
      "source": [
        "# Download the model of choice\n",
        "import argparse\n",
        "import numpy as np\n",
        "import PIL.Image\n",
        "import dnnlib\n",
        "import dnnlib.tflib as tflib\n",
        "import re\n",
        "import sys\n",
        "from io import BytesIO\n",
        "import IPython.display\n",
        "import numpy as np\n",
        "from math import ceil\n",
        "from PIL import Image, ImageDraw\n",
        "import imageio\n",
        "\n",
        "import pretrained_networks\n",
        "\n",
        "# network_pkl = \"gdrive:networks/stylegan2-ffhq-config-f.pkl\"\n",
        "\n",
        "# If downloads fails, due to 'Google Drive download quota exceeded' you can try downloading manually from your own Google Drive account\n",
        "network_pkl = \"/content/drive/My Drive/stylegan2/stylegan2/results/pretrained/DiffAugment-stylegan2-cifar10.pkl\"\n",
        "\n",
        "print('Loading networks from \"%s\"...' % network_pkl)\n",
        "_G, _D, Gs = pretrained_networks.load_networks(network_pkl)\n",
        "noise_vars = [var for name, var in Gs.components.synthesis.vars.items() if name.startswith('noise')]"
      ],
      "execution_count": 9,
      "outputs": [
        {
          "output_type": "stream",
          "text": [
            "Loading networks from \"/content/drive/My Drive/stylegan2/stylegan2/results/pretrained/DiffAugment-stylegan2-cifar10.pkl\"...\n",
            "Setting up TensorFlow plugin \"fused_bias_act.cu\": Preprocessing... Loading... Done.\n",
            "Setting up TensorFlow plugin \"upfirdn_2d.cu\": Preprocessing... Loading... Done.\n"
          ],
          "name": "stdout"
        }
      ]
    },
    {
      "cell_type": "code",
      "metadata": {
        "id": "5ZFEwS-iW2_W"
      },
      "source": [
        "# Useful utility functions...\n",
        "\n",
        "# Generates a list of images, based on a list of latent vectors (Z), and a list (or a single constant) of truncation_psi's.\n",
        "def generate_images_in_w_space(dlatents, truncation_psi):\n",
        "    Gs_kwargs = dnnlib.EasyDict()\n",
        "    Gs_kwargs.output_transform = dict(func=tflib.convert_images_to_uint8, nchw_to_nhwc=True)\n",
        "    Gs_kwargs.randomize_noise = False\n",
        "    Gs_kwargs.truncation_psi = truncation_psi\n",
        "    dlatent_avg = Gs.get_var('dlatent_avg') # [component]\n",
        "\n",
        "    imgs = []\n",
        "    for row, dlatent in log_progress(enumerate(dlatents), name = \"Generating images\"):\n",
        "        #row_dlatents = (dlatent[np.newaxis] - dlatent_avg) * np.reshape(truncation_psi, [-1, 1, 1]) + dlatent_avg\n",
        "        dl = (dlatent-dlatent_avg)*truncation_psi   + dlatent_avg\n",
        "        row_images = Gs.components.synthesis.run(dlatent,  **Gs_kwargs)\n",
        "        imgs.append(PIL.Image.fromarray(row_images[0], 'RGB'))\n",
        "    return imgs       \n",
        "\n",
        "def generate_images(zs, truncation_psi):\n",
        "    Gs_kwargs = dnnlib.EasyDict()\n",
        "    Gs_kwargs.output_transform = dict(func=tflib.convert_images_to_uint8, nchw_to_nhwc=True)\n",
        "    Gs_kwargs.randomize_noise = False\n",
        "    if not isinstance(truncation_psi, list):\n",
        "        truncation_psi = [truncation_psi] * len(zs)\n",
        "        \n",
        "    imgs = []\n",
        "    for z_idx, z in log_progress(enumerate(zs), size = len(zs), name = \"Generating images\"):\n",
        "        Gs_kwargs.truncation_psi = truncation_psi[z_idx]\n",
        "        noise_rnd = np.random.RandomState(1) # fix noise\n",
        "        tflib.set_vars({var: noise_rnd.randn(*var.shape.as_list()) for var in noise_vars}) # [height, width]\n",
        "        images = Gs.run(z, None, **Gs_kwargs) # [minibatch, height, width, channel]\n",
        "        imgs.append(PIL.Image.fromarray(images[0], 'RGB'))\n",
        "    return imgs\n",
        "\n",
        "def generate_zs_from_seeds(seeds):\n",
        "    zs = []\n",
        "    for seed_idx, seed in enumerate(seeds):\n",
        "        rnd = np.random.RandomState(seed)\n",
        "        z = rnd.randn(1, *Gs.input_shape[1:]) # [minibatch, component]\n",
        "        zs.append(z)\n",
        "    return zs\n",
        "\n",
        "# Generates a list of images, based on a list of seed for latent vectors (Z), and a list (or a single constant) of truncation_psi's.\n",
        "def generate_images_from_seeds(seeds, truncation_psi):\n",
        "    return generate_images(generate_zs_from_seeds(seeds), truncation_psi)\n",
        "\n",
        "def saveImgs(imgs, location):\n",
        "  for idx, img in log_progress(enumerate(imgs), size = len(imgs), name=\"Saving images\"):\n",
        "    file = location+ str(idx) + \".png\"\n",
        "    img.save(file)\n",
        "\n",
        "def imshow(a, format='png', jpeg_fallback=True):\n",
        "  a = np.asarray(a, dtype=np.uint8)\n",
        "  str_file = BytesIO()\n",
        "  PIL.Image.fromarray(a).save(str_file, format)\n",
        "  im_data = str_file.getvalue()\n",
        "  try:\n",
        "    disp = IPython.display.display(IPython.display.Image(im_data))\n",
        "  except IOError:\n",
        "    if jpeg_fallback and format != 'jpeg':\n",
        "      print ('Warning: image was too large to display in format \"{}\"; '\n",
        "             'trying jpeg instead.').format(format)\n",
        "      return imshow(a, format='jpeg')\n",
        "    else:\n",
        "      raise\n",
        "  return disp\n",
        "\n",
        "def showarray(a, fmt='png'):\n",
        "    a = np.uint8(a)\n",
        "    f = StringIO()\n",
        "    PIL.Image.fromarray(a).save(f, fmt)\n",
        "    IPython.display.display(IPython.display.Image(data=f.getvalue()))\n",
        "\n",
        "        \n",
        "def clamp(x, minimum, maximum):\n",
        "    return max(minimum, min(x, maximum))\n",
        "    \n",
        "def drawLatent(image,latents,x,y,x2,y2, color=(255,0,0,100)):\n",
        "  buffer = PIL.Image.new('RGBA', image.size, (0,0,0,0))\n",
        "   \n",
        "  draw = ImageDraw.Draw(buffer)\n",
        "  cy = (y+y2)/2\n",
        "  draw.rectangle([x,y,x2,y2],fill=(255,255,255,180), outline=(0,0,0,180))\n",
        "  for i in range(len(latents)):\n",
        "    mx = x + (x2-x)*(float(i)/len(latents))\n",
        "    h = (y2-y)*latents[i]*0.1\n",
        "    h = clamp(h,cy-y2,y2-cy)\n",
        "    draw.line((mx,cy,mx,cy+h),fill=color)\n",
        "  return PIL.Image.alpha_composite(image,buffer)\n",
        "             \n",
        "  \n",
        "def createImageGrid(images, scale=0.25, rows=1):\n",
        "   w,h = images[0].size\n",
        "   w = int(w*scale)\n",
        "   h = int(h*scale)\n",
        "   height = rows*h\n",
        "   cols = ceil(len(images) / rows)\n",
        "   width = cols*w\n",
        "   canvas = PIL.Image.new('RGBA', (width,height), 'white')\n",
        "   for i,img in enumerate(images):\n",
        "     img = img.resize((w,h), PIL.Image.ANTIALIAS)\n",
        "     canvas.paste(img, (w*(i % cols), h*(i // cols))) \n",
        "   return canvas\n",
        "\n",
        "def convertZtoW(latent, truncation_psi=0.7, truncation_cutoff=9):\n",
        "  dlatent = Gs.components.mapping.run(latent, None) # [seed, layer, component]\n",
        "  dlatent_avg = Gs.get_var('dlatent_avg') # [component]\n",
        "  for i in range(truncation_cutoff):\n",
        "    dlatent[0][i] = (dlatent[0][i]-dlatent_avg)*truncation_psi + dlatent_avg\n",
        "    \n",
        "  return dlatent\n",
        "\n",
        "def interpolate(zs, steps):\n",
        "   out = []\n",
        "   for i in range(len(zs)-1):\n",
        "    for index in range(steps):\n",
        "     fraction = index/float(steps) \n",
        "     out.append(zs[i+1]*fraction + zs[i]*(1-fraction))\n",
        "   return out\n",
        "\n",
        "# Taken from https://github.com/alexanderkuk/log-progress\n",
        "def log_progress(sequence, every=1, size=None, name='Items'):\n",
        "    from ipywidgets import IntProgress, HTML, VBox\n",
        "    from IPython.display import display\n",
        "\n",
        "    is_iterator = False\n",
        "    if size is None:\n",
        "        try:\n",
        "            size = len(sequence)\n",
        "        except TypeError:\n",
        "            is_iterator = True\n",
        "    if size is not None:\n",
        "        if every is None:\n",
        "            if size <= 200:\n",
        "                every = 1\n",
        "            else:\n",
        "                every = int(size / 200)     # every 0.5%\n",
        "    else:\n",
        "        assert every is not None, 'sequence is iterator, set every'\n",
        "\n",
        "    if is_iterator:\n",
        "        progress = IntProgress(min=0, max=1, value=1)\n",
        "        progress.bar_style = 'info'\n",
        "    else:\n",
        "        progress = IntProgress(min=0, max=size, value=0)\n",
        "    label = HTML()\n",
        "    box = VBox(children=[label, progress])\n",
        "    display(box)\n",
        "\n",
        "    index = 0\n",
        "    try:\n",
        "        for index, record in enumerate(sequence, 1):\n",
        "            if index == 1 or index % every == 0:\n",
        "                if is_iterator:\n",
        "                    label.value = '{name}: {index} / ?'.format(\n",
        "                        name=name,\n",
        "                        index=index\n",
        "                    )\n",
        "                else:\n",
        "                    progress.value = index\n",
        "                    label.value = u'{name}: {index} / {size}'.format(\n",
        "                        name=name,\n",
        "                        index=index,\n",
        "                        size=size\n",
        "                    )\n",
        "            yield record\n",
        "    except:\n",
        "        progress.bar_style = 'danger'\n",
        "        raise\n",
        "    else:\n",
        "        progress.bar_style = 'success'\n",
        "        progress.value = index\n",
        "        label.value = \"{name}: {index}\".format(\n",
        "            name=name,\n",
        "            index=str(index or '?')\n",
        "        )\n",
        "\n",
        "\n",
        "\n"
      ],
      "execution_count": 10,
      "outputs": []
    },
    {
      "cell_type": "code",
      "metadata": {
        "colab": {
          "base_uri": "https://localhost:8080/",
          "height": 134,
          "referenced_widgets": [
            "02a2a318e40742fba36bed50d9b340ef",
            "4b3ec5750c394969b8082b3bcfb3b072",
            "5fc7d90dcdd64d6dab8be49587a783a4",
            "68b134453fc14e4791b7582f229455e7",
            "d20021b96f8a4483801eb1de3c59a9d5",
            "087c9a26838d48b1a05cc3e90a0c0226",
            "bbd2fa6badf142698641ab028f05bf31",
            "c107d1fb11ba40dfbb83e19ae62cef9a"
          ]
        },
        "id": "UZiAVxWZXJHe",
        "outputId": "3bab07b6-2010-495b-e755-a5a7519f1674"
      },
      "source": [
        "# generate some random seeds\n",
        "seeds = np.random.randint(999999, size=9)\n",
        "print(seeds)\n",
        "\n",
        "# show the seeds\n",
        "imshow(createImageGrid(generate_images_from_seeds(seeds, 0.4), 0.4 , 3))"
      ],
      "execution_count": 11,
      "outputs": [
        {
          "output_type": "stream",
          "text": [
            "[735097 239574 969613 797365 916463 367469 776877 143277 594038]\n"
          ],
          "name": "stdout"
        },
        {
          "output_type": "display_data",
          "data": {
            "application/vnd.jupyter.widget-view+json": {
              "model_id": "02a2a318e40742fba36bed50d9b340ef",
              "version_minor": 0,
              "version_major": 2
            },
            "text/plain": [
              "VBox(children=(HTML(value=''), IntProgress(value=0, max=9)))"
            ]
          },
          "metadata": {
            "tags": []
          }
        },
        {
          "output_type": "display_data",
          "data": {
            "image/png": "[encoded data removed]",
            "text/plain": [
              "<IPython.core.display.Image object>"
            ]
          },
          "metadata": {
            "tags": []
          }
        }
      ]
    },
    {
      "cell_type": "code",
      "metadata": {
        "colab": {
          "base_uri": "https://localhost:8080/",
          "height": 117,
          "referenced_widgets": [
            "280e99714ec64ef6a0c198746db9c64b",
            "4d3eade75e8a43db824b43f6b4351681",
            "84028370690d4754ba19c859d708dbc4",
            "ba22683314ea45e9af571952106a6994",
            "b27c90dd32174597a66e0cf4d40c2f5a",
            "f106b334a9164c5e95d9fd4ac465628a",
            "a0fd50593e0f4c9a8ccca3a0d07c9ab0",
            "47decff90e9f40caaab9d42088d71eb6"
          ]
        },
        "id": "avtIfMpuXXlw",
        "outputId": "2941f90d-3cbd-4948-f350-05ffaba0a77e"
      },
      "source": [
        "# Simple (Z) interpolation\n",
        "zs = generate_zs_from_seeds([5046889 , 9172088 ])\n",
        "\n",
        "latent1 = zs[0]\n",
        "latent2 = zs[1]\n",
        "\n",
        "number_of_steps = 9\n",
        "\n",
        "imgs = generate_images(interpolate([latent1,latent2],number_of_steps), 1.0)\n",
        "number_of_images = len(imgs)\n",
        "imshow(createImageGrid(imgs, 0.4 , 3))"
      ],
      "execution_count": 12,
      "outputs": [
        {
          "output_type": "display_data",
          "data": {
            "application/vnd.jupyter.widget-view+json": {
              "model_id": "280e99714ec64ef6a0c198746db9c64b",
              "version_minor": 0,
              "version_major": 2
            },
            "text/plain": [
              "VBox(children=(HTML(value=''), IntProgress(value=0, max=9)))"
            ]
          },
          "metadata": {
            "tags": []
          }
        },
        {
          "output_type": "display_data",
          "data": {
            "image/png": "[encoded data removed]",
            "text/plain": [
              "<IPython.core.display.Image object>"
            ]
          },
          "metadata": {
            "tags": []
          }
        }
      ]
    },
    {
      "cell_type": "code",
      "metadata": {
        "colab": {
          "base_uri": "https://localhost:8080/",
          "height": 162,
          "referenced_widgets": [
            "164756ca3a66448483bbbce763dcaa68",
            "10d7dfdb31104c32b63d4d00647fccc1",
            "71a03530092f400598788cc0225f9283",
            "ba9cb2af83bd46e598e43c4e39728ced",
            "2c7f0be934344e528b8601c77d814efc",
            "6e7c9d5237b14c87a8da1f3622047512",
            "048a15b143734134bd590ed842330394",
            "fa72a4e53e524ae69acd12a8360cb055",
            "32657ea3568840668830ec80b435566e",
            "05056f6b9e0e4e599556ff9af4d18a57",
            "be49d182e13340ecb60ad383f161044b",
            "af1de263281342b2b648116467519568",
            "5bcc5ea8f6c64c4d876ebb6d6c078e5d",
            "fd5e4ca1489f4baf8bbe93d9fea29936",
            "113523bcfae04391993552a76d3001cf",
            "729e01afca2141e28f44a411f5743e7e"
          ]
        },
        "id": "G8cXkGzjY2wH",
        "outputId": "d4e795ba-a8c8-4c24-cadd-fda906efaf05"
      },
      "source": [
        "# generating a MP4 movie\n",
        "\n",
        "zs = generate_zs_from_seeds([421645,6149575,3487643,3766864 ,3857159,5360657,3720613])\n",
        "\n",
        "number_of_steps = 10\n",
        "imgs = generate_images(interpolate(zs,number_of_steps), 1.0)\n",
        "\n",
        "# Example of reading a generated set of images, and storing as MP4.\n",
        "%mkdir out\n",
        "movieName = 'out/mov.mp4'\n",
        "\n",
        "with imageio.get_writer(movieName, mode='I') as writer:\n",
        "    for image in log_progress(list(imgs), name = \"Creating animation\"):\n",
        "        writer.append_data(np.array(image))"
      ],
      "execution_count": 13,
      "outputs": [
        {
          "output_type": "display_data",
          "data": {
            "application/vnd.jupyter.widget-view+json": {
              "model_id": "164756ca3a66448483bbbce763dcaa68",
              "version_minor": 0,
              "version_major": 2
            },
            "text/plain": [
              "VBox(children=(HTML(value=''), IntProgress(value=0, max=60)))"
            ]
          },
          "metadata": {
            "tags": []
          }
        },
        {
          "output_type": "stream",
          "text": [
            "mkdir: cannot create directory ‘out’: File exists\n"
          ],
          "name": "stdout"
        },
        {
          "output_type": "display_data",
          "data": {
            "application/vnd.jupyter.widget-view+json": {
              "model_id": "32657ea3568840668830ec80b435566e",
              "version_minor": 0,
              "version_major": 2
            },
            "text/plain": [
              "VBox(children=(HTML(value=''), IntProgress(value=0, max=60)))"
            ]
          },
          "metadata": {
            "tags": []
          }
        }
      ]
    },
    {
      "cell_type": "code",
      "metadata": {
        "colab": {
          "base_uri": "https://localhost:8080/",
          "height": 17
        },
        "id": "SWMe-LleZMyI",
        "outputId": "27c94a1b-1253-48a0-e1a8-0ec3d55190d8"
      },
      "source": [
        "# In order to download files, you can use the snippet below - this often fails for me, though, so I prefer the 'Files' browser in the sidepanel.\n",
        "\n",
        "from google.colab import files\n",
        "files.download(movieName) \n"
      ],
      "execution_count": 14,
      "outputs": [
        {
          "output_type": "display_data",
          "data": {
            "application/javascript": [
              "\n",
              "    async function download(id, filename, size) {\n",
              "      if (!google.colab.kernel.accessAllowed) {\n",
              "        return;\n",
              "      }\n",
              "      const div = document.createElement('div');\n",
              "      const label = document.createElement('label');\n",
              "      label.textContent = `Downloading \"${filename}\": `;\n",
              "      div.appendChild(label);\n",
              "      const progress = document.createElement('progress');\n",
              "      progress.max = size;\n",
              "      div.appendChild(progress);\n",
              "      document.body.appendChild(div);\n",
              "\n",
              "      const buffers = [];\n",
              "      let downloaded = 0;\n",
              "\n",
              "      const channel = await google.colab.kernel.comms.open(id);\n",
              "      // Send a message to notify the kernel that we're ready.\n",
              "      channel.send({})\n",
              "\n",
              "      for await (const message of channel.messages) {\n",
              "        // Send a message to notify the kernel that we're ready.\n",
              "        channel.send({})\n",
              "        if (message.buffers) {\n",
              "          for (const buffer of message.buffers) {\n",
              "            buffers.push(buffer);\n",
              "            downloaded += buffer.byteLength;\n",
              "            progress.value = downloaded;\n",
              "          }\n",
              "        }\n",
              "      }\n",
              "      const blob = new Blob(buffers, {type: 'application/binary'});\n",
              "      const a = document.createElement('a');\n",
              "      a.href = window.URL.createObjectURL(blob);\n",
              "      a.download = filename;\n",
              "      div.appendChild(a);\n",
              "      a.click();\n",
              "      div.remove();\n",
              "    }\n",
              "  "
            ],
            "text/plain": [
              "<IPython.core.display.Javascript object>"
            ]
          },
          "metadata": {
            "tags": []
          }
        },
        {
          "output_type": "display_data",
          "data": {
            "application/javascript": [
              "download(\"download_059be3d6-81d2-4121-9183-7da868afb291\", \"mov.mp4\", 12206)"
            ],
            "text/plain": [
              "<IPython.core.display.Javascript object>"
            ]
          },
          "metadata": {
            "tags": []
          }
        }
      ]
    },
    {
      "cell_type": "code",
      "metadata": {
        "colab": {
          "base_uri": "https://localhost:8080/",
          "height": 421
        },
        "id": "isM7OxHhaX1e",
        "outputId": "b1ef7a5d-6cf4-48a7-e92a-8550701dcaf1"
      },
      "source": [
        "from IPython.display import HTML\n",
        "from base64 import b64encode\n",
        "mp4 = open('out/mov.mp4','rb').read()\n",
        "data_url = \"data:video/mp4;base64,\" + b64encode(mp4).decode()\n",
        "HTML(\"\"\"\n",
        "<video width=400 controls>\n",
        "      <source src=\"%s\" type=\"video/mp4\">\n",
        "</video>\n",
        "\"\"\" % data_url)"
      ],
      "execution_count": 15,
      "outputs": [
        {
          "output_type": "execute_result",
          "data": {
            "text/html": [
              "\n",
              "<video width=400 controls>\n",
              "      <source src=\"data:video/mp4;base64,AAAAIGZ0eXBpc29tAAACAGlzb21pc28yYXZjMW1wNDEAAAAIZnJlZQAAKe9tZGF0AAACrgYF//+q3EXpvebZSLeWLNgg2SPu73gyNjQgLSBjb3JlIDE1MiByMjg1NCBlOWE1OTAzIC0gSC4yNjQvTVBFRy00IEFWQyBjb2RlYyAtIENvcHlsZWZ0IDIwMDMtMjAxNyAtIGh0dHA6Ly93d3cudmlkZW9sYW4ub3JnL3gyNjQuaHRtbCAtIG9wdGlvbnM6IGNhYmFjPTEgcmVmPTMgZGVibG9jaz0xOjA6MCBhbmFseXNlPTB4MzoweDExMyBtZT1oZXggc3VibWU9NyBwc3k9MSBwc3lfcmQ9MS4wMDowLjAwIG1peGVkX3JlZj0xIG1lX3JhbmdlPTE2IGNocm9tYV9tZT0xIHRyZWxsaXM9MSA4eDhkY3Q9MSBjcW09MCBkZWFkem9uZT0yMSwxMSBmYXN0X3Bza2lwPTEgY2hyb21hX3FwX29mZnNldD0tMiB0aHJlYWRzPTEgbG9va2FoZWFkX3RocmVhZHM9MSBzbGljZWRfdGhyZWFkcz0wIG5yPTAgZGVjaW1hdGU9MSBpbnRlcmxhY2VkPTAgYmx1cmF5X2NvbXBhdD0wIGNvbnN0cmFpbmVkX2ludHJhPTAgYmZyYW1lcz0zIGJfcHlyYW1pZD0yIGJfYWRhcHQ9MSBiX2JpYXM9MCBkaXJlY3Q9MSB3ZWlnaHRiPTEgb3Blbl9nb3A9MCB3ZWlnaHRwPTIga2V5aW50PTI1MCBrZXlpbnRfbWluPTEwIHNjZW5lY3V0PTQwIGludHJhX3JlZnJlc2g9MCByY19sb29rYWhlYWQ9NDAgcmM9Y3JmIG1idHJlZT0xIGNyZj0yNS4wIHFjb21wPTAuNjAgcXBtaW49MCBxcG1heD02OSBxcHN0ZXA9NCBpcF9yYXRpbz0xLjQwIGFxPTE6MS4wMACAAAAAumWIhABXU0FSaYr1qG0WDmqPTB89U2evVc3mXEPKaQl83QJi7JSK5z1OjFV8qjgwSeHYfA5PvkTEl5WsfeoSOdQWCYflstHwA/bO+iyNrM1xd6HUUd3VVlT11fNHHqpCyZEMACxr/pDvYjfBbT/ccBOsKEyTpPddWADNAgcrmFayvKQJlAjIWgFB9lYvVfyJdCoXSqd6DBVDj5o5I0HB75rKpgU6rQuh4VACIbZEAk5O/JnGYvJWLPNb4QAAAINBmiFsV/Kml919+T2DoxWCnmhiOluEjl1jMJF1gX/Ulxsw/TXevPlVgbIFy+QRtRPnSobgKgzDISeCZeE+3osRLoRVxfC5ktOA9Lf51YQjye3qNwy5AjZQ/+q47rRKkPi6C/Dgf/0sHW546T9MLoYwIeUph2t+0yLieLbg2ESlMk1esAAAALNBmkQ8IZMphN/zWknNqFFNfwg/2Zh705XXJDho+Jp4ewk9PqavUrSbMKKql7X6SRJCn2RsYhN1CIvyxDqGLD0ae9b4O8swCqy2kqmaG9NEOB8W4FdyR//MVHFdXZDK1AKR3rTYu5iHvfFEELVxdMk3O06p0K3Uj70ZuMtfRv0Uw7Q3Z9AeFX0SBscIlmWABgwFoEQnSN1E6Iu51RJPRsBJ/8P+ALt+BLBg80wmSyloNzC1EQAAAH5BnmJqU8n//keN7fabYJai5jtByglkVBYFGVTZQjeiMSkz9wqcZdGOPnylk2sgPnNz9gTikTL7WQHh2j/lzdAFWnGFUobhgnl+H8v8g0ffSyam0Ht/49sPmYy+3Adi2etPSxWj6b2hOBU24RjsRcamw3JUctvTGH6JCz1Wv8AAAABeAZ6Dak3/9bj97DejD+TS4UMQV2EYBTeV64iqJm2BptmikzbFseGBt1FIubqNlBYlbmB9f0Ibw3I6JD/2KUhxeZ5sYB0h2YSJQnzmS3M0O6MVIPMQ5AElemJQ4+dkmwAAAHVBmoVLqEIQWiHPA9B6B+EAfnA9BwAiv9lSgOTSuK9cL97gMIjAT+/YWpKC4qbwMG4DotZCCO6tjjk1WTf0UJiPrDAIqIyJHHKKW7Xhr/UyU9USOowKXFinvjEfPHjjT9gh94hR/PFJB+uWIEcIVU/VDfiBfvEAAADHQZqnSeEKUmUwURLN//7v62Yv8cGlebIIHjfpAe1HKFlxMAHscZ3BD2Q8UgwDlGXXrDGqkYausUQiUfq84eZm82kDjFN+gd0K5bP9Kl1c7N0LMUVyEqBwMvbwZ1LXg9yBOPHy0k8NdcGh12e2yFUN2GQCzS/DP4wop8q636j7ik4ndUc4QRXrQPkWkqqwDbYnhLUKw2Ayzi4VQh7B4eQSx4nInLhBJuTzcmtDScamukN51HW2ss5SdY3hAlLAE5U7NxM4UFKJbwAAAFwBnsZqRX/+KHK6w4SitnCSOcPEqGt2Ov1fh3WfD5qYJE2EuhKwdN9Mn8exZX3kjpDNBvXTihwLtbgfC25CTm/cQYqb4V7C1CJPXThF19MIcKa9C+KRatBdxIda4QAAAIBBmshL4QhDohzwEcNgejAIDARw8AiP7b8eoFKwcF2N1hMVgqkC6nAFzH0WVv4iYy6LcJwo9mgZcBo9IDCFxP9UMoShdrjU7FwVVFZhxnDbkcvY5wQ1VovAPuu3RR8bEBK/fukh6NT6QRVmm6fmj/rZ43P2oa6UA8hG51BnVmNWgAAAAGtBmulL4QhDyHEQEceAxAfAMYG0BHCQCI/fbJPlyLpyR0ZGTEK4usv1D6t78almdFofxUUCIjCO8ZxHJiyrLYfxAcYPvVKDe1/PUc8LyvY1vcR0WKZbKcqJO/lXBAwP8Mnd2Cuj+d/7xo5zwAAAAIRBmwtJ4Q8mUwURPEf3MNfX27Cf9PFe/nN43infk2NAh4NSkqPpJEjTPLNbDBSl1fK2TnyE+nfDw8LEAA5XbYbbKG0wJ0XR+kNAMEDbtp6o1gQzAMqMhOa4Cew0xUhSjhLFzwNBY8702hJYMrp2PPEePvnJki9p4sqUQq8cO3xCU581eYEAAABfAZ8qakV//JEvlfOx2epFZh9yqKjo2rjJY9NZJDYAgzOOA6r7MWpJBIgG9FLWLlKTdpMggCux/CSzIsUNDOEaPE7Kmqy24BvvfcLzYXVdV7m6Epl6Ho1mk8H8MmdLVXAAAAB2QZssS+EIQ8h8BBUBBMAiP97uIKO4lxUqhV9MQqVsiutNXtq7+n6dKvXtIlyVrcM0Zt+nQYBqpm1m/Lf0yRPjYdiUWlkUap17Cb2ahJkruuJAyk+gMEwaxCUlW3TKr8SmEMsUT11kiqj2w5avfpGjIZNq/YbngAAAAHpBm05J4Q8mUwURPHf0wFudHoEMo/aGcwuzflZIrWonrrMsX9U0M0HZjlq1UqBkVvdAm28XImKHSMLtOzRlXgvsXrArtLJK++tD0FObg2W9tAYPqt/CogmRQcEAYbLFHOTlmvIMpV/8zLeJ2BraCYqyJpzQCNQYTXiRgQAAAHIBn21qRn/8QD4Iqkad2+CIS63Is5JGIZ4tPEPzEk/r3zRadzPgxpd+f0/I4Mc3Lp0uO+rB8CJS3WIQDPTVvmDj+IbWTSlEWUCgIjcRBeh2FjZ+nwTAMvdIsDtwfqaP1L6B/UtvcwXSgiE6n5DVHCHdj8EAAACwQZtvSeEPJlMCO//+uuioW1BHipL//kA5zGOYXAkDGopufoGKcj27tpVrjTLnT/6x5N58BYCLaYyZ6aUpRS8Om7ieqTLCTS6jUBbTdHrR2m2VrtO3J06Tsi1WC/GwsF6C3/wrhtHJwRV82SV4u4Utl7/90ZTIAiHU0+nAS60NzQQGUjNZjp15VKuC73eUsx2BVOGiHHnnm/BSXEzSpjKBHR/SZwA1rzb7EmiKUTzQ9aUAAAD/ZYiCACdqhfoVF7bif8kFai0rygu5F+easPEZV9G/fWinf9ZXjUxXEDsNuaweodBK5znpQgjphsRytKOCmCtqsTK/pcODv3XDrgLvlu9/ZzBchPiAFRBO+7DGvE9Bh4Z8Nq+49lSIrYTcrdj+Q8ZTsFVzsFzeDxzQ7UrZc+F52TMVm42KL4L/zX3yO0fUjHchjzBZaLn79467acgFI6riaAduGUHJDkJ8iblyaP4mROacYGuzbvXbqU28s7e1dhjIw/P1+UI1aSx00HYafA2LeOxixlpNR7PXucNRsHc4+ph3n73XUpsMljRzCPov5AhZ3rOBPFjinn+WKS+Yt4mQAAAAwEGaImMaBGBnAlBsCBRX86RQMJXwwQ3+pbUpsFFKdYJcvL4L83BZzukD2iX39RCjd6yjzuOuSSpKFfikDXNB4yHU0qfH6FoReNq5frxBDDbezwNJN6hXTlSlKoW9AJDy8aGJF/v/tz6E3CQBxvmF74eOEUjl4grsReQlFzzx/3zlGzpeiV4w1dOpi0RogPnJWUNXY+LvFLCh4Ax8PueS7mgZFfaUCNtPM9PRP2xZDZVTeACPIA/s+H8moI775rht/AAAAGEBnkF5Hf/+faRA4oUU5biNIOtlRtVNouKVJt9pq20F1LJseYDhIsRTewoBc6Z5hhmLNhrzmvhpxYGGgC+L0iOr+Y+12TMR+7pvC35Yb0VvapM+jK6EUVrn2J28mldF9kLxAAAA1kGaQ0nhCEMhywEkDmHg0CDASQOwIz/jMAY7s5j4UngHaBogbmbxCA4VrkcIbcYFIDwNtnEbis1mITn2e+EEEaz9Wjo9qISiNrq278fK/TKcGkQBhe7pMls02ObBbxDQ8R4xFANzNqs1RaYCD6oe8wXWCmpPsHvg71OaqEwPpShOkr2QxZyakwBvDAagQ1++JrVChcvhzpsLWxs7d2HFyVVMw2qqlI1T+H434xIQloZlB09u5sJVb2gYYnHtMK3HHayJ4uavW0TPUnxXBl891AMl4VEidxMAAACwQZpkS+EIQ8hjwIwIYGYHACAwIwIwCM/m3Pzv8nbJAZtaneZgB3No5miYdzYaj7qtk/bh8ZA+rqjvxDma6N/abcP6jUjmQ7JnVpqpyTtKWGQpJm0DemapnSiXWvtiWGK8q409mtft1L29OP89DzIQRjydWeQvJfYzrxJ6XYdsRpNI6Eh8PqdxXzFDq9otCHA0Bxn88Z9EUhcP8zHcG67hGssKGwzS+PpbyIiB0QgWUbwAAAC2QZqFS+EIQ8hiQIQI44EgQwIQJQCM//KUFQOi4rrCTfJYF/6xIlrdi6ZxH3cLUxBizxnfXZ2Y5DWW5mZu/E/rcf0ehhXCH+AUdyJbZhdVoQcVXeuiRlMUenMPGTcVcOTQ+I/f4V0XvDUIwaKJg2IedskWbcqYJEpuL2b2otEDUYRXOUD1JgUfV95VFJYl6MpxZJLwyhX9eDtCGDMfdvr0DlBEiBFxkbaJFrkqIFrKhmzWyANwn3EAAACcQZqmS+EIQ8gg0BlODoPAQMBlFAIz//AIHm3GuGmaP4opdLOy2rjgbP8yMGCqgcQblccjM9qwSJcodU2plSSqiA/S21/q+wArraInELP8yI/SesElZaZgSLO3UkAWW9P+f6EqlgS4emDkrI9HQu5MiTW3zpBFatN27L6VU/Tf/EOJ02NYkNLhUfPIpi0xs/F278657ZwjTMZlDjvEAAAAyEGayEnhDyZTBRE8d/64O5h4cORgYBq+DT2YAJ3P6Mto62I0kp8WUwne1RmCGbHs5173knJcKE56pO/wqo6lLeUaqIS6I8L+eOqTW+DazPjNYvVmI8CU5m8BwpGjXGrAElgjl/u37PeUtAkLsPEOantCkhZHIG05Qwwj8nwy+0mtT9TVS8xOegfWqlvvKQuv2SD3Lv8YfuTrbMKzriuSlgnfnSfOFCTeq264N516eqr4YyC1LMw5wu7Z0O22afHH/K5rreduMVXDAAAAjAGe52pHf/507BSTZDW8H8Vo7vklkiY2tMrGBb5XI2TBTF842HAAkpy08+CEqGnwXyz+SNsstK7i3QstEswd3+8rC2+JSbu8MFQ08OmPEOYwQcloxlaWj9aabyuBvYzWFtZEqjxerqqPTz5PcS+Ce55jAl2Fp3NfmcBTcBW617jDfsjmi21CvtpsFynhAAABAkGIukEfwsrEUIm2HMDujmR3KABsha5tXaQXp8SxodQVrUZKfG3/mshT6DTyTcKxbuA7JMFb+WTU7NDhqE8TJZ+u6r7/ZZBwD+zS4navX5APVE8IaVUmtYBOl/7S6GwV2xaG3LC34r+70sLWXrgNluXt+eU+wB0LwGcKHA/hmY82RfEC79d80X4SSE2/3IeREmGxUrJQzgcofHSVi7IOf3Nlfkd0gi8561OgQ13Ww8Wg5HvtAJc0tmrhaI6uobVnfDxdJVQ4TMZxik9TP6vILNPcjh5XWLvEip2GhPWPD5gj/1cDOt/PzqLlh5PhtKqY0UUNJLad5MWle6NPP4wYprkdKAAAAIBBmw1J4Q8mUwJP78z5Xg8SF6u7S8OnKds3M0qglhcBbAgnYhHAzSc354DNkT9VIFrKQeNRnuw8TT6kZQBWC+eGJFFO/JJENhuOeyXX6cYN/1fAPcX8PEvCkc9wwHDsOYbnSZ3QeaChU5yuuFaCnaOKn2RnuSdX2dTto8aBxqkU8QAAANhBnytFETxX+z8mn2wtYUS1caxhfCMUUigzRiVLtwkHMYU3obAnNOvMQOQj+jXgVKhFRJHlUo6pEptqtjggoPNfCN2E/L9Eeu0YTFrw6xIGCfU8fXND1eUbeb+mxmVWtSJqMzlx1BZYI+sJWsGidQS4Sm3rfWx2SAjAr9/C/qyDCy7tsIOO1oiZNw7nlbxG/xMP+mjfsSISsWvSUxIB4zgkE4AT1wAWXTYhoUWnrzq7wE/+kf98d2wCdSV8oL7m0wjML/kh9Z5eaaqGvO2DvYj5reFxrWPXWTAAAACmAZ9KdEd//HyDPUl1NTPye7US/xCGv9pLgd1qv0gMlOJLtWnVQfHZQiM42v84YbTHSy/L7XFwuavWkWaLXNICQgnxWxw862NF7VQjITEXNh+R3N5ilXZpP/wFn0Wjm1fh6IKtWZ996a3s3KBjnHIFUO8um5FaGPWxwGGfXvWi+gKt84IVkrVTu05d5+2iRHJIO/92rV4A7DQC93epH6E5HJ0UtZVroQAAAHoBn0xqRn/8U3ZOVM5Di3RDLo6Uwy6ok9aO1ABEshVTcfiQTSMwnqFd3n/UfvgXVw3xKsZL+5+JQj4+zMRT2BIKRLtFDM2W2aecaJV0iHGce4ySS/NRF261E+pYpv82GmkU8qK5DAOKvHsjvfJFUkwExfgwvCG/zTJ74QAAAFJBm05LqEIQWiCCwF8BehYDACDAXwFwAr+n3bFeQFVz+iT94R0j8yq28X3G5uCNqfDPEjMe2lfoTwvPdvGRJuoKmaKYJ/QWccckz820jLKG1CCIAAAANkGbcEvhCEKUhREEQ2A0gZANYE0EQ8BREs3/3CVFWp/VUCs2QWvI6pCaq1OnAtzmXHbWVuJ4ZQAAABgBn49qRX/zrxQupBeHK7fMDfA3wMWcEMEAAABFQZuRS+EIQ6Ic8BJB+AiA+Akg3ASQIQCK/8w2viwffKRUa99++zlDwmIMEpQHAFLUbtcRibANe5yBPsbjSj3ZGgSxzTjAAAAAoEGbsknhDyZTAr+pD/Qw0z12KzfWLorQF6SuzSenpr6qOIwdlKkZJHGBuwGQLcp8FzltDI/Djn7/G5AfbX2slmBkp0ZxyN4sJseYpeG7Ku6cLXL/AUgrTa4K7Zyhft2ibxfHtUhwI0qw16hQpsg2xkomyth/0TFXmemh84q5h5DjRKP6mp6rvqqOsxuN3Wp+XJSbHD+KCXXDdwoCZ3tT1A0AAADtZYiEAX/eEDqov/zZKRmH6KQkfiGTkAagBnXtrBbJPWPClUK/LyphyE4AEnTl7TmYYgOB95RbI7g/C7qocDlcl85MjIAHlA36FzC8mp53b0KE1/UQuJlJLkEZoaEoFCVYpCuXPq/7G4f0kDquNxjASWzj2dJ10Zs8wCcfoJlLT53GFH/SRveo2YTadC0hWHuXaPJhNF9O8SpyfmpUvspfTi9fhEsp2LFDDJ3OTzVBtZu2QDi60kTbZP6IB1vxdVOyPn7TBmQAnuUCOEvKbCLB5yCfV3RLOBAIMSFvi2qWtKN5T37RVPtx3TaRKOBHAAABEEGaJGxHf/6sSjz7KQoUBaK/+nYlShOAXbcC3vuCoLfgekd7Nvw7L+8EWJ/6lj7tlv7nVk34jY1LYHBTB0UWAxVIrg8fXmhhOgoKmg3pm9mWmYke/uJLjbxQOGGiz3P19ck0qhcP6s7QztjHdRPu+nPhTGBTSXYD65NbuICh1V8YunKVgtRY8nU6WLS2VDprDzRFN1eVpYWhRcZVYBIfvRrAdU9h8W4rpYsZeM/oQSeyA7V7jVBlpnufbck9EXbukPKenOksSh/aFjXymq1aBremjmT0AioDc6rsOyd7A6kFZ+fv668jaFSZ1jZ6g69edAdl+Twf+Ke4zRwXu4HG7+rlRSh2jm9sNupKuH0s5XqxAAAA/UGeQniO//zt+LY6137QQiMJ3tD/NQ9/3xwhtOdPq7qUgFkyvMJQJ5fahu8XMn1M4jHeHBcG4++AYHA33p/P6MlfWQQAIoZdtSGG+by3MuR8KNmVQJT4F+pnPBeUN258C3yK75MCRigJmduj2topkKVHxvEYomFMx99sXSzGgBERHxQDzxlFdf0SsLkUILBKLs2ZIv1pFqROcQ8/VTeTvFAn/lsb4SrLdQHIyJfuF3jSVhF9bOhTI64HT8QsCGh/ZXQC/SiUMYM0o2nvvvZdlNjtwSyK+lGjY/Deh81R5ExAdJfuMnIUD3UyV8ZddMEqtQIjt9dXn+C6tz6ZX4EAAAC6AZ5hdEIf/acozBmrShzsnagrT6gR0c8fuYdwag40SG0Z4hdF8sAIkYfQSIlLVOzOBzrgjHMtqw6jAA31CoIHXqrcdjWqgS/KgTWNexlcsgNhZwYbK8a3jL0+0H1NutZphCoeFM6y2trzh0c4ySeIYMkd5f0gdpQCW3B7+Ccp6sjaZWOCq/vIzcf5IuvrNzOk3UASs5/XwRJGW0KLVMdkImhFsgzFS1mUMBte4obSGLGqqKrL5pENvx2DAAAAhQGeY2pCH/2WLgAkBVz6tOLWzS1eL1ZfKmeEtSKkw12/FcKuqo5/vNKCwlKbQLxexs7kz+3oY0dvSL3TVBwuMLz1bbcw7GsTf/eq6czEAkGvoOp8jb3xpsUz6NF8qQZ+rcwZj4ItlH+1OzM+uKRzYqSldvfBnXUZ22tOp7OU/0MhuXkS62sAAACuQZplS6hCEFogjAdQQQHUOAI7/+nLmaC2L0Q8eTgqx00Xj+63GQKhN3KKLBrKGiiyoGhIiUSJiDpa2vfX6VSPH62fJjXfWkVmayryF3NkOx3z3BbNt3EAkMMQNd+Go61j9c5XQ/qqXVXcMPJ8gVrQHa74huVnmDtaZjEWsHk6DwHeXsxzOR5GZM5zyZCI2zZXl8LBxvhzy6GIygcpg1i9udjMv2wFBFIbCMdsSRYfAAAAu0GaiUnhClJlMCK//gvYp/KfT2Kr+Otv+rcvx94xsLXQuMaDtbJAiPic+Ayxiw72a2VBJw2t59DlnsT3Q6cVon2tPguHEd67+Ga49Y0M+veQscN0IcJVWBuIFIgTdGHeAgu5uQcvuUT/HIE0vwr1ysLtl3tM2bEpieTfrC9pzMG2lWgC8uPZqIYv0xj4ETnmyo1LbJOtKVJM3Z+FcdaY5N9W2KwhCaIqaiCLDRnylj4wpmje0Citf3ZRXeAAAADOQZ6nRTRMd/zvdvdxnjbmyVYkx9c8VtegcSEjdezx84Oy+c/rj7ti5gkfk/78jagiFuTgo/r5Jg4y+G7S3Nd1+pBbNJ0AK1A7FDvRyJtG10o1zQ9Il6ychxDfSzNYK3b5hn0euT03aymbE/7gIqlYChohjI9AdSp6n9a82J/kFUHFLqf4cnsFiLH1s/vECmY6LWFBzE0L+o2Dt232Uj2cPYLViDhqea0G33Y6Jhz/Meq88cKefe6ERY+TxauO37h3K4hteLRpBKhs3kQSmOEAAAChAZ7GdEIf+34N4UO06r8IyJ4JIJDEDtipSI7M7VodOdEE+LLK3r6i67Fo54u51uVkG3lwfWLKqAE4+2m845qtaNWvu4gKh2ziMmzd4L1b6OaQirQscCI0I1G0ZGDfX2AsBPVoqipp8tvyoKTdVPj7u6Fy6VjizY3HwS4HWiAayN8OUVvH0H6DWwWr1EPYVwzuEGd3hqc3h0uFCFmnuTLBMR4AAAB5AZ7IakZ//Bk17h8xCG+JHgvaEdzvOOLZS7+SPmlj7fXqNyTBJRCenvPe9V9Ft0FNTUB/qtF7BgagMG7KBkKfaFT4cug8RlU6fQiFmLsyupCyJocDtrbRaAvMZRPx1T7GjVbltnzg2XSVttMX9r61YndRgzs1YG9SjwAAAOFBms1JqEFomUwIz/5M3Sghp/zffynzCS0p70Qh6mEmhzR4B9hUWSgTH6CqATYBi7TamCbnQVCKsG4g4Fyd6FZkifOMwCZhGb66mORPk/wyMikXfIRm1cGdfcp9hdGVW2rf499eC1EI8zmFJdopuAv6SJYJ7JmXEPfkt7MQ44QB5Cxk3V+VBBPW5bXK2bZ7te2GwffFIJ2CwDBYOANZiXf/FHEOtq0+KvITbmBaqdiv3+0Q/znW4LALIgMwm910a69ODIjn6+rv8yq8rbsOSxZNqD2khOAxMFQgZfGf/hbobB0AAADLQZ7rRREsd/4kFlQNDO3V60qECj6GXy0kuXh+fIfwVPCViq9JKbpWzpE7x5+xMfK2K35F66j02M+WrmFkc/y/LethsZHCDCNeWrarbeusOxxy3O6lAfr61XiH5DyLmko7yLLbSDAJhhwp5sLpHwO6IHrhg/0bnE2cMMBNdAJxQ2DmWri5/Y1PWupHpP+I6KvtQC1gQlsSqaKnmFosz/hsNtubgVHqzA5bWNWml0Ox/3KkBMZzO9dbmCxC200G4LNSaOlRvsPS07sosEEAAADVAZ8KdEd//O99qXPtj7qCGi72iwG3XluTN4MKTyhKJl5S/tlP/gL7V3VRO8CHngEc2B4tXn1bzjYxaEj4NRL78Q4vsMnEKNBsUOyCatMi6tVH1ircq3DN2JCXvEpBUwZsXOlSKIc5/TPtosocyibemXAAGuXVSdhDQ7cJsmL9Tp64Bxa6VT2xebMox6Jorvbi7iaRnbv71/mDE7UatXG0mHTLFgxDadHMzw3RqTYXwFusU+09GT6/WtRfjQinMFwzdXdM8xtrd4ltoGGcoPKcc4Z9G021AAAAaAGfDGpCH/5sPAKB+nB9/qgZRCVkXDp+2GpkqbIRDKQAUQKwAyAyJnsQdMvzD1RBomFw/8sx/WX5b3nKyo2LhyHMOpaSZkHQ1ylp3q+MrTtRLS/snu91369Hm7ufV+Jcmkr1RTzB6cwsAAAAoEGbDkuoQhBbIINAcwUgQh4EDAcwSAIz/+dBUdoQ/R1iHlUG7QX4JSRzqr0/c5XlJRTGaapqYLKZMB3tTuEQEybD9tQdKhaLbx4pvdj0PsOcYfUt7V59OPG637zJLXUzGyysh1SA2zpU8Z6yMqwXJW1LHayUUnAGL7tRZuZn3u1HEGRjJrQTzQiN5TDfWVipVdsJwL6bVCbcah+L8JnjQbAAAACxQZsvS+EIQpSCMB9CEB9GAIz/+e2pcqv8WHRvfXN0NnvnHmQiMDOxO6heAfs1OrlZBedfP0nDZeh9leLLhmeYtLvwFDD763JTxBm/zhE6Sib/SYzPcQVu8sYvjzt26w6nPXKdQ+L5SdkZt1Bt21+rD3YXl8JOkhQK4qxgjJLA+Oj7D++M1PPvr6gjpaO1XfhXzE/sRKYgmHt3154M63RA5EfCmEok1w7bu/5xdA+9INGBAAAA8kGbU0nhDomUwIz/9bj/LP2sG812qhVdZai1nfuK7keMseCXXUplOMCaD8FhmN25Uj5JM2vsTEMohR7P84u27olnFAun8PUbHuwRc4OHZb4iBu6hVVCFWGu+8bYO1dc2JXLRJiZ/UcjFj//3436zPzyNAVMpTVcADOGqKGh/sgW07MVrZPMLxPTgsFMThz2d3JxL5GhxaAHO6fYvxlnt4Lls3W/XqBLX9AU8/PXkeLmczKrCwvMxQNJwdzRg3vVcBbJBxcwJIJJ9fpyuTkCOMdPxLll4rgTICiW5I1GqZX254NTNSdTIWOPvsw70e228d9NNAAAA/0GfcUURPGf8BBeORa+JJGLx3cnJt4kzOqV2on/M/yWczIGF2dFlljzdiiqQVojN7wmfN+TKvKXbL2mLw1sW1oVQdftKPGizGm8cgwcQO100x/Wu6JY+xcfPUDvtKmnH7fnlsWBWbK6Q+A9ikuFh/8roP/gMavj5bXpqnus7XSo2YZzVIrkLxC5BAO4Pq8B8z1BDKr4tXDVtrcz/dBOwZ14syvNOWLGShBwMVvluQPOcp9iDMslkbc61u2xeS1XlnDnOjIbfKoesyJ1lvAuqRjKB2CvRvT6aPtxDVhKXob7O3ogwSV6zm+jaxPc8SOMd91m6dh9vqAtAlKq2ourcugAAAI0Bn5B0R3/9BQWtu3nVLbmQEmYdnh7PpRBqMMKB9MdqlZ1c0d9qlXHwPKMRdzZgbZH6AtNiHGRdENWniP9a2n0H+9HEsViNwZZJbJBWw9mT5MezY5PL/PGTxN8/E+/XivRYtCcOAyGhYPiouIm4ZdREr9zOnUn2fZAm8v+Y++3cC78HdMobFiHaNq+NK2MAAAB9AZ+Sakd//Pl1lqvplBD5sENen8k4XkJqLjCHQpzzF8f7d7F6nxn4uyRo+VXdxJt6ear3nBhYHmSHKFE2o0xRyvwR194wWXmEYMba0i5q3pGb3JE2EMA3Guf972B9YTfqUriH67VVa5AqwFKE6e7oWMEpHGR+PglqOqoSDuAAAAD5QZuXSahBaJlMCM/+SsRSt9wnilVCJCuPaiIp9+BNGBCPv+vCMm5y7lVNzPFi9fq+12J/ara1Fhj7SQ7tVmUMxCj4OVlI06eAS0B3S+Tn8iWztzmgRAWVkd/LKN3lXd8aCZ+j+RBRJsLc+1s2HELYmdYYehTHj15QmlNrjnVdczBNrfG4oL3XKmpKmfO7ck6td0WJlyt//UBg/jVtuW095Fnr5C30vSsliYYJ/pvUc6luz4RI+FHwcEuH2YNSDsHFEMlIMP7r5Ucs1U1lxWhBiCJ5pxO7ZA0S+Y8J5L+hAvf1v2KMp8p+2rRf3Dgq3QOeiHgDxSZkRAnBAAABCUGftUURLGf8ka6+cHMoFSb/D+9/2f1FUXIfIPYF4eiCSsu6myBXoSufP3S+huVOq6qJ4pnGx9ZgnRIifcJIDl4IsYLCNB4jimdChS+GhO4wkvTgf81/1u4QLarZj+jrkdYyZq4reoAU3qjZij/HlNjeh1z3aZAnTs14NVXAJnfqOg69IxZLOCF8Uhi7hnDPwTKhrJTCYTYiUWhAuhEXgcUvIVAQc6ZYR0IL+1WDm+vFcuFAem+42/REc4pKtvSrCMf8FvWU77ESdnaww26BL/OkhB13RtXsMymP4kwRjh0DfwQM54su6X65KD0IocciRChUcPzRpGTbsW0N/ZwiyhpXiWZf10grzQ8AAACSAZ/UdEd//KIx2G5X4CXLZy/9X5wgHzm1gerojdpfjniyoJ76bQc6Jts5W+kFx6sFWfz5gGf6VD95Z3BmTPNYuhJ9Lz6UgRsCHIw++VrSMiR06XEq6xybLQCDKhEGQ/jmE7wbXgifGG36O5AWDsS4wUzs3oGDJQEIjIe5p6Zhia2MeKtA26yK0lyq8i5juIi/S2AAAACHAZ/Wakd//ndjlg0HF+g2OiIM7TsjGvTcc3SjUCePrcAFkrDXpzJ01Yw17A/Na+krjFWMfz69w5+Bm3RPoAeShn9Ng8gS+jtb7o7wq6LAmJuVv+ekHe5O2OZCi5SjY7/M+mg85pa5Lgh8Jj4nKzIb5hDO8dbGL2ubY4Ly9HZ4NTg69aT+aLqxAAAA3EGb2EuoQhBbIc8DsFoCSDoCYB7A7BQAjP/wV2WfgQtulpNpm/G7TvArVaa7LvZ7AMbcy9yOwGR8UPk7pSjEmu09hcQvRmZQUGJWC6PzDfiF35T2MU3Sr5jZquRpg5LX53DWeTLg5on2UI+HL15gtUllizik0/WI85wute6QX4kTyGF6DYVwFH4x84EAmoRMIgqJE/sWEJ6KEHkIcw7hYqrJDKtdcy/E5VUVzH6oepmC0CTTjpas4QfTwG+GIycAequIb44sp0I0sWVnTi58ZdfnLr7lywgY8LFO1IAAAAWXbW9vdgAAAGxtdmhkAAAAAAAAAAAAAAAAAAAD6AAAF3AAAQAAAQAAAAAAAAAAAAAAAAEAAAAAAAAAAAAAAAAAAAABAAAAAAAAAAAAAAAAAABAAAAAAAAAAAAAAAAAAAAAAAAAAAAAAAAAAAAAAAAAAgAABMF0cmFrAAAAXHRraGQAAAADAAAAAAAAAAAAAAABAAAAAAAAF3AAAAAAAAAAAAAAAAAAAAAAAAEAAAAAAAAAAAAAAAAAAAABAAAAAAAAAAAAAAAAAABAAAAAACAAAAAgAAAAAAAkZWR0cwAAABxlbHN0AAAAAAAAAAEAABdwAAAIAAABAAAAAAQ5bWRpYQAAACBtZGhkAAAAAAAAAAAAAAAAAAAoAAAA8ABVxAAAAAAALWhkbHIAAAAAAAAAAHZpZGUAAAAAAAAAAAAAAABWaWRlb0hhbmRsZXIAAAAD5G1pbmYAAAAUdm1oZAAAAAEAAAAAAAAAAAAAACRkaW5mAAAAHGRyZWYAAAAAAAAAAQAAAAx1cmwgAAAAAQAAA6RzdGJsAAAAlHN0c2QAAAAAAAAAAQAAAIRhdmMxAAAAAAAAAAEAAAAAAAAAAAAAAAAAAAAAACAAIABIAAAASAAAAAAAAAABAAAAAAAAAAAAAAAAAAAAAAAAAAAAAAAAAAAAAAAAAAAAGP//AAAALmF2Y0MBZAAK/+EAFmdkAAqs2UloQAAAAwBAAAAFA8SJZYABAAVo6+csiwAAABhzdHRzAAAAAAAAAAEAAAA8AAAEAAAAABxzdHNzAAAAAAAAAAMAAAABAAAAEQAAACQAAAGgY3R0cwAAAAAAAAAyAAAAAgAACAAAAAABAAAQAAAAAAIAAAQAAAAAAQAACAAAAAABAAAMAAAAAAEAAAQAAAAAAgAACAAAAAABAAAMAAAAAAEAAAQAAAAAAQAACAAAAAABAAAMAAAAAAEAAAQAAAAAAgAACAAAAAABAAAMAAAAAAEAAAQAAAAABAAACAAAAAABAAAMAAAAAAEAAAQAAAAAAQAACAAAAAABAAAUAAAAAAEAAAgAAAAAAQAAAAAAAAABAAAEAAAAAAEAAAgAAAAAAQAADAAAAAABAAAEAAAAAAMAAAgAAAAAAQAAFAAAAAABAAAIAAAAAAEAAAAAAAAAAQAABAAAAAABAAAIAAAAAAEAABQAAAAAAQAACAAAAAABAAAAAAAAAAEAAAQAAAAAAQAAFAAAAAABAAAIAAAAAAEAAAAAAAAAAQAABAAAAAACAAAIAAAAAAEAABQAAAAAAQAACAAAAAABAAAAAAAAAAEAAAQAAAAAAQAAFAAAAAABAAAIAAAAAAEAAAAAAAAAAQAABAAAAAABAAAIAAAAABxzdHNjAAAAAAAAAAEAAAABAAAAPAAAAAEAAAEEc3RzegAAAAAAAAAAAAAAPAAAA3AAAACHAAAAtwAAAIIAAABiAAAAeQAAAMsAAABgAAAAhAAAAG8AAACIAAAAYwAAAHoAAAB+AAAAdgAAALQAAAEDAAAAxAAAAGUAAADaAAAAtAAAALoAAACgAAAAzAAAAJAAAAEGAAAAhAAAANwAAACqAAAAfgAAAFYAAAA6AAAAHAAAAEkAAACkAAAA8QAAARQAAAEBAAAAvgAAAIkAAACyAAAAvwAAANIAAAClAAAAfQAAAOUAAADPAAAA2QAAAGwAAACkAAAAtQAAAPYAAAEDAAAAkQAAAIEAAAD9AAABDQAAAJYAAACLAAAA4AAAABRzdGNvAAAAAAAAAAEAAAAwAAAAYnVkdGEAAABabWV0YQAAAAAAAAAhaGRscgAAAAAAAAAAbWRpcmFwcGwAAAAAAAAAAAAAAAAtaWxzdAAAACWpdG9vAAAAHWRhdGEAAAABAAAAAExhdmY1Ny44My4xMDA=\" type=\"video/mp4\">\n",
              "</video>\n"
            ],
            "text/plain": [
              "<IPython.core.display.HTML object>"
            ]
          },
          "metadata": {
            "tags": []
          },
          "execution_count": 15
        }
      ]
    },
    {
      "cell_type": "code",
      "metadata": {
        "id": "A5voCK67ajS3"
      },
      "source": [
        ""
      ],
      "execution_count": 15,
      "outputs": []
    }
  ]
}