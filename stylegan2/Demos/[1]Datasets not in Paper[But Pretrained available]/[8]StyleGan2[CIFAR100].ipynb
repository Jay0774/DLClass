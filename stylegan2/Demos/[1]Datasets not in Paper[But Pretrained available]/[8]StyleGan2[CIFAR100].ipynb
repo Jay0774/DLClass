{
  "nbformat": 4,
  "nbformat_minor": 0,
  "metadata": {
    "accelerator": "GPU",
    "colab": {
      "name": "[8]StyleGan2[CIFAR100].ipynb",
      "provenance": [],
      "collapsed_sections": []
    },
    "kernelspec": {
      "display_name": "Python 3",
      "name": "python3"
    },
    "widgets": {
      "application/vnd.jupyter.widget-state+json": {
        "83f10b2f037f453f8f94b9edfc558f5b": {
          "model_module": "@jupyter-widgets/controls",
          "model_name": "VBoxModel",
          "state": {
            "_view_name": "VBoxView",
            "_dom_classes": [],
            "_model_name": "VBoxModel",
            "_view_module": "@jupyter-widgets/controls",
            "_model_module_version": "1.5.0",
            "_view_count": null,
            "_view_module_version": "1.5.0",
            "box_style": "",
            "layout": "IPY_MODEL_35f6aeacbc014d0a91c90f6f13dd7df4",
            "_model_module": "@jupyter-widgets/controls",
            "children": [
              "IPY_MODEL_a9f475378a944da887c29698fbe620e5",
              "IPY_MODEL_f36f904474e540dfafbc10d98bcc521b"
            ]
          }
        },
        "35f6aeacbc014d0a91c90f6f13dd7df4": {
          "model_module": "@jupyter-widgets/base",
          "model_name": "LayoutModel",
          "state": {
            "_view_name": "LayoutView",
            "grid_template_rows": null,
            "right": null,
            "justify_content": null,
            "_view_module": "@jupyter-widgets/base",
            "overflow": null,
            "_model_module_version": "1.2.0",
            "_view_count": null,
            "flex_flow": null,
            "width": null,
            "min_width": null,
            "border": null,
            "align_items": null,
            "bottom": null,
            "_model_module": "@jupyter-widgets/base",
            "top": null,
            "grid_column": null,
            "overflow_y": null,
            "overflow_x": null,
            "grid_auto_flow": null,
            "grid_area": null,
            "grid_template_columns": null,
            "flex": null,
            "_model_name": "LayoutModel",
            "justify_items": null,
            "grid_row": null,
            "max_height": null,
            "align_content": null,
            "visibility": null,
            "align_self": null,
            "height": null,
            "min_height": null,
            "padding": null,
            "grid_auto_rows": null,
            "grid_gap": null,
            "max_width": null,
            "order": null,
            "_view_module_version": "1.2.0",
            "grid_template_areas": null,
            "object_position": null,
            "object_fit": null,
            "grid_auto_columns": null,
            "margin": null,
            "display": null,
            "left": null
          }
        },
        "a9f475378a944da887c29698fbe620e5": {
          "model_module": "@jupyter-widgets/controls",
          "model_name": "HTMLModel",
          "state": {
            "_view_name": "HTMLView",
            "style": "IPY_MODEL_38902b85b4d3446bb89732789080e3ce",
            "_dom_classes": [],
            "description": "",
            "_model_name": "HTMLModel",
            "placeholder": "​",
            "_view_module": "@jupyter-widgets/controls",
            "_model_module_version": "1.5.0",
            "value": "Generating images: 9",
            "_view_count": null,
            "_view_module_version": "1.5.0",
            "description_tooltip": null,
            "_model_module": "@jupyter-widgets/controls",
            "layout": "IPY_MODEL_2e4fab93b4da41e592cc0d0225d677c4"
          }
        },
        "f36f904474e540dfafbc10d98bcc521b": {
          "model_module": "@jupyter-widgets/controls",
          "model_name": "IntProgressModel",
          "state": {
            "_view_name": "ProgressView",
            "style": "IPY_MODEL_f92bf4d767044ee5b5325a0e2cab69f3",
            "_dom_classes": [],
            "description": "",
            "_model_name": "IntProgressModel",
            "bar_style": "success",
            "max": 9,
            "_view_module": "@jupyter-widgets/controls",
            "_model_module_version": "1.5.0",
            "value": 9,
            "_view_count": null,
            "_view_module_version": "1.5.0",
            "orientation": "horizontal",
            "min": 0,
            "description_tooltip": null,
            "_model_module": "@jupyter-widgets/controls",
            "layout": "IPY_MODEL_dd39d528da644a8daa5b41f06480b6dd"
          }
        },
        "38902b85b4d3446bb89732789080e3ce": {
          "model_module": "@jupyter-widgets/controls",
          "model_name": "DescriptionStyleModel",
          "state": {
            "_view_name": "StyleView",
            "_model_name": "DescriptionStyleModel",
            "description_width": "",
            "_view_module": "@jupyter-widgets/base",
            "_model_module_version": "1.5.0",
            "_view_count": null,
            "_view_module_version": "1.2.0",
            "_model_module": "@jupyter-widgets/controls"
          }
        },
        "2e4fab93b4da41e592cc0d0225d677c4": {
          "model_module": "@jupyter-widgets/base",
          "model_name": "LayoutModel",
          "state": {
            "_view_name": "LayoutView",
            "grid_template_rows": null,
            "right": null,
            "justify_content": null,
            "_view_module": "@jupyter-widgets/base",
            "overflow": null,
            "_model_module_version": "1.2.0",
            "_view_count": null,
            "flex_flow": null,
            "width": null,
            "min_width": null,
            "border": null,
            "align_items": null,
            "bottom": null,
            "_model_module": "@jupyter-widgets/base",
            "top": null,
            "grid_column": null,
            "overflow_y": null,
            "overflow_x": null,
            "grid_auto_flow": null,
            "grid_area": null,
            "grid_template_columns": null,
            "flex": null,
            "_model_name": "LayoutModel",
            "justify_items": null,
            "grid_row": null,
            "max_height": null,
            "align_content": null,
            "visibility": null,
            "align_self": null,
            "height": null,
            "min_height": null,
            "padding": null,
            "grid_auto_rows": null,
            "grid_gap": null,
            "max_width": null,
            "order": null,
            "_view_module_version": "1.2.0",
            "grid_template_areas": null,
            "object_position": null,
            "object_fit": null,
            "grid_auto_columns": null,
            "margin": null,
            "display": null,
            "left": null
          }
        },
        "f92bf4d767044ee5b5325a0e2cab69f3": {
          "model_module": "@jupyter-widgets/controls",
          "model_name": "ProgressStyleModel",
          "state": {
            "_view_name": "StyleView",
            "_model_name": "ProgressStyleModel",
            "description_width": "",
            "_view_module": "@jupyter-widgets/base",
            "_model_module_version": "1.5.0",
            "_view_count": null,
            "_view_module_version": "1.2.0",
            "bar_color": null,
            "_model_module": "@jupyter-widgets/controls"
          }
        },
        "dd39d528da644a8daa5b41f06480b6dd": {
          "model_module": "@jupyter-widgets/base",
          "model_name": "LayoutModel",
          "state": {
            "_view_name": "LayoutView",
            "grid_template_rows": null,
            "right": null,
            "justify_content": null,
            "_view_module": "@jupyter-widgets/base",
            "overflow": null,
            "_model_module_version": "1.2.0",
            "_view_count": null,
            "flex_flow": null,
            "width": null,
            "min_width": null,
            "border": null,
            "align_items": null,
            "bottom": null,
            "_model_module": "@jupyter-widgets/base",
            "top": null,
            "grid_column": null,
            "overflow_y": null,
            "overflow_x": null,
            "grid_auto_flow": null,
            "grid_area": null,
            "grid_template_columns": null,
            "flex": null,
            "_model_name": "LayoutModel",
            "justify_items": null,
            "grid_row": null,
            "max_height": null,
            "align_content": null,
            "visibility": null,
            "align_self": null,
            "height": null,
            "min_height": null,
            "padding": null,
            "grid_auto_rows": null,
            "grid_gap": null,
            "max_width": null,
            "order": null,
            "_view_module_version": "1.2.0",
            "grid_template_areas": null,
            "object_position": null,
            "object_fit": null,
            "grid_auto_columns": null,
            "margin": null,
            "display": null,
            "left": null
          }
        },
        "065d81370276422090ed927b5c85f971": {
          "model_module": "@jupyter-widgets/controls",
          "model_name": "VBoxModel",
          "state": {
            "_view_name": "VBoxView",
            "_dom_classes": [],
            "_model_name": "VBoxModel",
            "_view_module": "@jupyter-widgets/controls",
            "_model_module_version": "1.5.0",
            "_view_count": null,
            "_view_module_version": "1.5.0",
            "box_style": "",
            "layout": "IPY_MODEL_53308a171f504cea84cb7529961a641b",
            "_model_module": "@jupyter-widgets/controls",
            "children": [
              "IPY_MODEL_69470a66cf9644a69d22e04b8e80c48b",
              "IPY_MODEL_fbafbff45d284b059fa23c66643a7dcd"
            ]
          }
        },
        "53308a171f504cea84cb7529961a641b": {
          "model_module": "@jupyter-widgets/base",
          "model_name": "LayoutModel",
          "state": {
            "_view_name": "LayoutView",
            "grid_template_rows": null,
            "right": null,
            "justify_content": null,
            "_view_module": "@jupyter-widgets/base",
            "overflow": null,
            "_model_module_version": "1.2.0",
            "_view_count": null,
            "flex_flow": null,
            "width": null,
            "min_width": null,
            "border": null,
            "align_items": null,
            "bottom": null,
            "_model_module": "@jupyter-widgets/base",
            "top": null,
            "grid_column": null,
            "overflow_y": null,
            "overflow_x": null,
            "grid_auto_flow": null,
            "grid_area": null,
            "grid_template_columns": null,
            "flex": null,
            "_model_name": "LayoutModel",
            "justify_items": null,
            "grid_row": null,
            "max_height": null,
            "align_content": null,
            "visibility": null,
            "align_self": null,
            "height": null,
            "min_height": null,
            "padding": null,
            "grid_auto_rows": null,
            "grid_gap": null,
            "max_width": null,
            "order": null,
            "_view_module_version": "1.2.0",
            "grid_template_areas": null,
            "object_position": null,
            "object_fit": null,
            "grid_auto_columns": null,
            "margin": null,
            "display": null,
            "left": null
          }
        },
        "69470a66cf9644a69d22e04b8e80c48b": {
          "model_module": "@jupyter-widgets/controls",
          "model_name": "HTMLModel",
          "state": {
            "_view_name": "HTMLView",
            "style": "IPY_MODEL_092315e7e7fc41259ba1f3629f5bb658",
            "_dom_classes": [],
            "description": "",
            "_model_name": "HTMLModel",
            "placeholder": "​",
            "_view_module": "@jupyter-widgets/controls",
            "_model_module_version": "1.5.0",
            "value": "Generating images: 9",
            "_view_count": null,
            "_view_module_version": "1.5.0",
            "description_tooltip": null,
            "_model_module": "@jupyter-widgets/controls",
            "layout": "IPY_MODEL_102c9923635a4cb78421caca189c9880"
          }
        },
        "fbafbff45d284b059fa23c66643a7dcd": {
          "model_module": "@jupyter-widgets/controls",
          "model_name": "IntProgressModel",
          "state": {
            "_view_name": "ProgressView",
            "style": "IPY_MODEL_c611bab2a3e64d70956eab95831fd0a9",
            "_dom_classes": [],
            "description": "",
            "_model_name": "IntProgressModel",
            "bar_style": "success",
            "max": 9,
            "_view_module": "@jupyter-widgets/controls",
            "_model_module_version": "1.5.0",
            "value": 9,
            "_view_count": null,
            "_view_module_version": "1.5.0",
            "orientation": "horizontal",
            "min": 0,
            "description_tooltip": null,
            "_model_module": "@jupyter-widgets/controls",
            "layout": "IPY_MODEL_80e2f99118a247558869e84be131e12d"
          }
        },
        "092315e7e7fc41259ba1f3629f5bb658": {
          "model_module": "@jupyter-widgets/controls",
          "model_name": "DescriptionStyleModel",
          "state": {
            "_view_name": "StyleView",
            "_model_name": "DescriptionStyleModel",
            "description_width": "",
            "_view_module": "@jupyter-widgets/base",
            "_model_module_version": "1.5.0",
            "_view_count": null,
            "_view_module_version": "1.2.0",
            "_model_module": "@jupyter-widgets/controls"
          }
        },
        "102c9923635a4cb78421caca189c9880": {
          "model_module": "@jupyter-widgets/base",
          "model_name": "LayoutModel",
          "state": {
            "_view_name": "LayoutView",
            "grid_template_rows": null,
            "right": null,
            "justify_content": null,
            "_view_module": "@jupyter-widgets/base",
            "overflow": null,
            "_model_module_version": "1.2.0",
            "_view_count": null,
            "flex_flow": null,
            "width": null,
            "min_width": null,
            "border": null,
            "align_items": null,
            "bottom": null,
            "_model_module": "@jupyter-widgets/base",
            "top": null,
            "grid_column": null,
            "overflow_y": null,
            "overflow_x": null,
            "grid_auto_flow": null,
            "grid_area": null,
            "grid_template_columns": null,
            "flex": null,
            "_model_name": "LayoutModel",
            "justify_items": null,
            "grid_row": null,
            "max_height": null,
            "align_content": null,
            "visibility": null,
            "align_self": null,
            "height": null,
            "min_height": null,
            "padding": null,
            "grid_auto_rows": null,
            "grid_gap": null,
            "max_width": null,
            "order": null,
            "_view_module_version": "1.2.0",
            "grid_template_areas": null,
            "object_position": null,
            "object_fit": null,
            "grid_auto_columns": null,
            "margin": null,
            "display": null,
            "left": null
          }
        },
        "c611bab2a3e64d70956eab95831fd0a9": {
          "model_module": "@jupyter-widgets/controls",
          "model_name": "ProgressStyleModel",
          "state": {
            "_view_name": "StyleView",
            "_model_name": "ProgressStyleModel",
            "description_width": "",
            "_view_module": "@jupyter-widgets/base",
            "_model_module_version": "1.5.0",
            "_view_count": null,
            "_view_module_version": "1.2.0",
            "bar_color": null,
            "_model_module": "@jupyter-widgets/controls"
          }
        },
        "80e2f99118a247558869e84be131e12d": {
          "model_module": "@jupyter-widgets/base",
          "model_name": "LayoutModel",
          "state": {
            "_view_name": "LayoutView",
            "grid_template_rows": null,
            "right": null,
            "justify_content": null,
            "_view_module": "@jupyter-widgets/base",
            "overflow": null,
            "_model_module_version": "1.2.0",
            "_view_count": null,
            "flex_flow": null,
            "width": null,
            "min_width": null,
            "border": null,
            "align_items": null,
            "bottom": null,
            "_model_module": "@jupyter-widgets/base",
            "top": null,
            "grid_column": null,
            "overflow_y": null,
            "overflow_x": null,
            "grid_auto_flow": null,
            "grid_area": null,
            "grid_template_columns": null,
            "flex": null,
            "_model_name": "LayoutModel",
            "justify_items": null,
            "grid_row": null,
            "max_height": null,
            "align_content": null,
            "visibility": null,
            "align_self": null,
            "height": null,
            "min_height": null,
            "padding": null,
            "grid_auto_rows": null,
            "grid_gap": null,
            "max_width": null,
            "order": null,
            "_view_module_version": "1.2.0",
            "grid_template_areas": null,
            "object_position": null,
            "object_fit": null,
            "grid_auto_columns": null,
            "margin": null,
            "display": null,
            "left": null
          }
        },
        "a5bd347545014298b1027a737eee298a": {
          "model_module": "@jupyter-widgets/controls",
          "model_name": "VBoxModel",
          "state": {
            "_view_name": "VBoxView",
            "_dom_classes": [],
            "_model_name": "VBoxModel",
            "_view_module": "@jupyter-widgets/controls",
            "_model_module_version": "1.5.0",
            "_view_count": null,
            "_view_module_version": "1.5.0",
            "box_style": "",
            "layout": "IPY_MODEL_aca2c8f369814c4b95077ce9945b9619",
            "_model_module": "@jupyter-widgets/controls",
            "children": [
              "IPY_MODEL_9a6b3d1878ef45f6a668cc787c162af9",
              "IPY_MODEL_b685aba830874cfe8200c6d51166e1d1"
            ]
          }
        },
        "aca2c8f369814c4b95077ce9945b9619": {
          "model_module": "@jupyter-widgets/base",
          "model_name": "LayoutModel",
          "state": {
            "_view_name": "LayoutView",
            "grid_template_rows": null,
            "right": null,
            "justify_content": null,
            "_view_module": "@jupyter-widgets/base",
            "overflow": null,
            "_model_module_version": "1.2.0",
            "_view_count": null,
            "flex_flow": null,
            "width": null,
            "min_width": null,
            "border": null,
            "align_items": null,
            "bottom": null,
            "_model_module": "@jupyter-widgets/base",
            "top": null,
            "grid_column": null,
            "overflow_y": null,
            "overflow_x": null,
            "grid_auto_flow": null,
            "grid_area": null,
            "grid_template_columns": null,
            "flex": null,
            "_model_name": "LayoutModel",
            "justify_items": null,
            "grid_row": null,
            "max_height": null,
            "align_content": null,
            "visibility": null,
            "align_self": null,
            "height": null,
            "min_height": null,
            "padding": null,
            "grid_auto_rows": null,
            "grid_gap": null,
            "max_width": null,
            "order": null,
            "_view_module_version": "1.2.0",
            "grid_template_areas": null,
            "object_position": null,
            "object_fit": null,
            "grid_auto_columns": null,
            "margin": null,
            "display": null,
            "left": null
          }
        },
        "9a6b3d1878ef45f6a668cc787c162af9": {
          "model_module": "@jupyter-widgets/controls",
          "model_name": "HTMLModel",
          "state": {
            "_view_name": "HTMLView",
            "style": "IPY_MODEL_2c28128e9b144f6e8d8f4f8aa7c74051",
            "_dom_classes": [],
            "description": "",
            "_model_name": "HTMLModel",
            "placeholder": "​",
            "_view_module": "@jupyter-widgets/controls",
            "_model_module_version": "1.5.0",
            "value": "Generating images: 60",
            "_view_count": null,
            "_view_module_version": "1.5.0",
            "description_tooltip": null,
            "_model_module": "@jupyter-widgets/controls",
            "layout": "IPY_MODEL_ce7c71bc015b467f805f31699f94abd9"
          }
        },
        "b685aba830874cfe8200c6d51166e1d1": {
          "model_module": "@jupyter-widgets/controls",
          "model_name": "IntProgressModel",
          "state": {
            "_view_name": "ProgressView",
            "style": "IPY_MODEL_fec8d95a2cef4450a188a797bd7da578",
            "_dom_classes": [],
            "description": "",
            "_model_name": "IntProgressModel",
            "bar_style": "success",
            "max": 60,
            "_view_module": "@jupyter-widgets/controls",
            "_model_module_version": "1.5.0",
            "value": 60,
            "_view_count": null,
            "_view_module_version": "1.5.0",
            "orientation": "horizontal",
            "min": 0,
            "description_tooltip": null,
            "_model_module": "@jupyter-widgets/controls",
            "layout": "IPY_MODEL_86958c0d43ff49c3ab52a293ea965b73"
          }
        },
        "2c28128e9b144f6e8d8f4f8aa7c74051": {
          "model_module": "@jupyter-widgets/controls",
          "model_name": "DescriptionStyleModel",
          "state": {
            "_view_name": "StyleView",
            "_model_name": "DescriptionStyleModel",
            "description_width": "",
            "_view_module": "@jupyter-widgets/base",
            "_model_module_version": "1.5.0",
            "_view_count": null,
            "_view_module_version": "1.2.0",
            "_model_module": "@jupyter-widgets/controls"
          }
        },
        "ce7c71bc015b467f805f31699f94abd9": {
          "model_module": "@jupyter-widgets/base",
          "model_name": "LayoutModel",
          "state": {
            "_view_name": "LayoutView",
            "grid_template_rows": null,
            "right": null,
            "justify_content": null,
            "_view_module": "@jupyter-widgets/base",
            "overflow": null,
            "_model_module_version": "1.2.0",
            "_view_count": null,
            "flex_flow": null,
            "width": null,
            "min_width": null,
            "border": null,
            "align_items": null,
            "bottom": null,
            "_model_module": "@jupyter-widgets/base",
            "top": null,
            "grid_column": null,
            "overflow_y": null,
            "overflow_x": null,
            "grid_auto_flow": null,
            "grid_area": null,
            "grid_template_columns": null,
            "flex": null,
            "_model_name": "LayoutModel",
            "justify_items": null,
            "grid_row": null,
            "max_height": null,
            "align_content": null,
            "visibility": null,
            "align_self": null,
            "height": null,
            "min_height": null,
            "padding": null,
            "grid_auto_rows": null,
            "grid_gap": null,
            "max_width": null,
            "order": null,
            "_view_module_version": "1.2.0",
            "grid_template_areas": null,
            "object_position": null,
            "object_fit": null,
            "grid_auto_columns": null,
            "margin": null,
            "display": null,
            "left": null
          }
        },
        "fec8d95a2cef4450a188a797bd7da578": {
          "model_module": "@jupyter-widgets/controls",
          "model_name": "ProgressStyleModel",
          "state": {
            "_view_name": "StyleView",
            "_model_name": "ProgressStyleModel",
            "description_width": "",
            "_view_module": "@jupyter-widgets/base",
            "_model_module_version": "1.5.0",
            "_view_count": null,
            "_view_module_version": "1.2.0",
            "bar_color": null,
            "_model_module": "@jupyter-widgets/controls"
          }
        },
        "86958c0d43ff49c3ab52a293ea965b73": {
          "model_module": "@jupyter-widgets/base",
          "model_name": "LayoutModel",
          "state": {
            "_view_name": "LayoutView",
            "grid_template_rows": null,
            "right": null,
            "justify_content": null,
            "_view_module": "@jupyter-widgets/base",
            "overflow": null,
            "_model_module_version": "1.2.0",
            "_view_count": null,
            "flex_flow": null,
            "width": null,
            "min_width": null,
            "border": null,
            "align_items": null,
            "bottom": null,
            "_model_module": "@jupyter-widgets/base",
            "top": null,
            "grid_column": null,
            "overflow_y": null,
            "overflow_x": null,
            "grid_auto_flow": null,
            "grid_area": null,
            "grid_template_columns": null,
            "flex": null,
            "_model_name": "LayoutModel",
            "justify_items": null,
            "grid_row": null,
            "max_height": null,
            "align_content": null,
            "visibility": null,
            "align_self": null,
            "height": null,
            "min_height": null,
            "padding": null,
            "grid_auto_rows": null,
            "grid_gap": null,
            "max_width": null,
            "order": null,
            "_view_module_version": "1.2.0",
            "grid_template_areas": null,
            "object_position": null,
            "object_fit": null,
            "grid_auto_columns": null,
            "margin": null,
            "display": null,
            "left": null
          }
        },
        "4f504c67d7b947f4b616520e2fb39fd2": {
          "model_module": "@jupyter-widgets/controls",
          "model_name": "VBoxModel",
          "state": {
            "_view_name": "VBoxView",
            "_dom_classes": [],
            "_model_name": "VBoxModel",
            "_view_module": "@jupyter-widgets/controls",
            "_model_module_version": "1.5.0",
            "_view_count": null,
            "_view_module_version": "1.5.0",
            "box_style": "",
            "layout": "IPY_MODEL_832eb4fd446b4b43851ff0c129ffb0d8",
            "_model_module": "@jupyter-widgets/controls",
            "children": [
              "IPY_MODEL_ea9b7abd7f834da89920db5600cb9cd5",
              "IPY_MODEL_ddbe17cb300948ecae3b75cd793ffdac"
            ]
          }
        },
        "832eb4fd446b4b43851ff0c129ffb0d8": {
          "model_module": "@jupyter-widgets/base",
          "model_name": "LayoutModel",
          "state": {
            "_view_name": "LayoutView",
            "grid_template_rows": null,
            "right": null,
            "justify_content": null,
            "_view_module": "@jupyter-widgets/base",
            "overflow": null,
            "_model_module_version": "1.2.0",
            "_view_count": null,
            "flex_flow": null,
            "width": null,
            "min_width": null,
            "border": null,
            "align_items": null,
            "bottom": null,
            "_model_module": "@jupyter-widgets/base",
            "top": null,
            "grid_column": null,
            "overflow_y": null,
            "overflow_x": null,
            "grid_auto_flow": null,
            "grid_area": null,
            "grid_template_columns": null,
            "flex": null,
            "_model_name": "LayoutModel",
            "justify_items": null,
            "grid_row": null,
            "max_height": null,
            "align_content": null,
            "visibility": null,
            "align_self": null,
            "height": null,
            "min_height": null,
            "padding": null,
            "grid_auto_rows": null,
            "grid_gap": null,
            "max_width": null,
            "order": null,
            "_view_module_version": "1.2.0",
            "grid_template_areas": null,
            "object_position": null,
            "object_fit": null,
            "grid_auto_columns": null,
            "margin": null,
            "display": null,
            "left": null
          }
        },
        "ea9b7abd7f834da89920db5600cb9cd5": {
          "model_module": "@jupyter-widgets/controls",
          "model_name": "HTMLModel",
          "state": {
            "_view_name": "HTMLView",
            "style": "IPY_MODEL_f4ff1608e38a4b489f202f1111e018d9",
            "_dom_classes": [],
            "description": "",
            "_model_name": "HTMLModel",
            "placeholder": "​",
            "_view_module": "@jupyter-widgets/controls",
            "_model_module_version": "1.5.0",
            "value": "Creating animation: 60",
            "_view_count": null,
            "_view_module_version": "1.5.0",
            "description_tooltip": null,
            "_model_module": "@jupyter-widgets/controls",
            "layout": "IPY_MODEL_c97988acd2994f0497217001be677d84"
          }
        },
        "ddbe17cb300948ecae3b75cd793ffdac": {
          "model_module": "@jupyter-widgets/controls",
          "model_name": "IntProgressModel",
          "state": {
            "_view_name": "ProgressView",
            "style": "IPY_MODEL_787d199e300841079e62f41dfea0e708",
            "_dom_classes": [],
            "description": "",
            "_model_name": "IntProgressModel",
            "bar_style": "success",
            "max": 60,
            "_view_module": "@jupyter-widgets/controls",
            "_model_module_version": "1.5.0",
            "value": 60,
            "_view_count": null,
            "_view_module_version": "1.5.0",
            "orientation": "horizontal",
            "min": 0,
            "description_tooltip": null,
            "_model_module": "@jupyter-widgets/controls",
            "layout": "IPY_MODEL_bf5eb965c03a4ec796196b84a64121de"
          }
        },
        "f4ff1608e38a4b489f202f1111e018d9": {
          "model_module": "@jupyter-widgets/controls",
          "model_name": "DescriptionStyleModel",
          "state": {
            "_view_name": "StyleView",
            "_model_name": "DescriptionStyleModel",
            "description_width": "",
            "_view_module": "@jupyter-widgets/base",
            "_model_module_version": "1.5.0",
            "_view_count": null,
            "_view_module_version": "1.2.0",
            "_model_module": "@jupyter-widgets/controls"
          }
        },
        "c97988acd2994f0497217001be677d84": {
          "model_module": "@jupyter-widgets/base",
          "model_name": "LayoutModel",
          "state": {
            "_view_name": "LayoutView",
            "grid_template_rows": null,
            "right": null,
            "justify_content": null,
            "_view_module": "@jupyter-widgets/base",
            "overflow": null,
            "_model_module_version": "1.2.0",
            "_view_count": null,
            "flex_flow": null,
            "width": null,
            "min_width": null,
            "border": null,
            "align_items": null,
            "bottom": null,
            "_model_module": "@jupyter-widgets/base",
            "top": null,
            "grid_column": null,
            "overflow_y": null,
            "overflow_x": null,
            "grid_auto_flow": null,
            "grid_area": null,
            "grid_template_columns": null,
            "flex": null,
            "_model_name": "LayoutModel",
            "justify_items": null,
            "grid_row": null,
            "max_height": null,
            "align_content": null,
            "visibility": null,
            "align_self": null,
            "height": null,
            "min_height": null,
            "padding": null,
            "grid_auto_rows": null,
            "grid_gap": null,
            "max_width": null,
            "order": null,
            "_view_module_version": "1.2.0",
            "grid_template_areas": null,
            "object_position": null,
            "object_fit": null,
            "grid_auto_columns": null,
            "margin": null,
            "display": null,
            "left": null
          }
        },
        "787d199e300841079e62f41dfea0e708": {
          "model_module": "@jupyter-widgets/controls",
          "model_name": "ProgressStyleModel",
          "state": {
            "_view_name": "StyleView",
            "_model_name": "ProgressStyleModel",
            "description_width": "",
            "_view_module": "@jupyter-widgets/base",
            "_model_module_version": "1.5.0",
            "_view_count": null,
            "_view_module_version": "1.2.0",
            "bar_color": null,
            "_model_module": "@jupyter-widgets/controls"
          }
        },
        "bf5eb965c03a4ec796196b84a64121de": {
          "model_module": "@jupyter-widgets/base",
          "model_name": "LayoutModel",
          "state": {
            "_view_name": "LayoutView",
            "grid_template_rows": null,
            "right": null,
            "justify_content": null,
            "_view_module": "@jupyter-widgets/base",
            "overflow": null,
            "_model_module_version": "1.2.0",
            "_view_count": null,
            "flex_flow": null,
            "width": null,
            "min_width": null,
            "border": null,
            "align_items": null,
            "bottom": null,
            "_model_module": "@jupyter-widgets/base",
            "top": null,
            "grid_column": null,
            "overflow_y": null,
            "overflow_x": null,
            "grid_auto_flow": null,
            "grid_area": null,
            "grid_template_columns": null,
            "flex": null,
            "_model_name": "LayoutModel",
            "justify_items": null,
            "grid_row": null,
            "max_height": null,
            "align_content": null,
            "visibility": null,
            "align_self": null,
            "height": null,
            "min_height": null,
            "padding": null,
            "grid_auto_rows": null,
            "grid_gap": null,
            "max_width": null,
            "order": null,
            "_view_module_version": "1.2.0",
            "grid_template_areas": null,
            "object_position": null,
            "object_fit": null,
            "grid_auto_columns": null,
            "margin": null,
            "display": null,
            "left": null
          }
        }
      }
    }
  },
  "cells": [
    {
      "cell_type": "code",
      "metadata": {
        "colab": {
          "base_uri": "https://localhost:8080/"
        },
        "id": "CBBWI3VYHDJs",
        "outputId": "5eb37809-0798-4ec7-f7dd-a2d73c86e4c7"
      },
      "source": [
        "from google.colab import drive\n",
        "drive.mount('/content/drive')\n",
        "%cd \"/content/drive/My Drive/stylegan2\"\n",
        "%cd \"/content/drive/My Drive/stylegan2/stylegan2\""
      ],
      "execution_count": 1,
      "outputs": [
        {
          "output_type": "stream",
          "text": [
            "Drive already mounted at /content/drive; to attempt to forcibly remount, call drive.mount(\"/content/drive\", force_remount=True).\n",
            "/content/drive/My Drive/stylegan2\n",
            "/content/drive/My Drive/stylegan2/stylegan2\n"
          ],
          "name": "stdout"
        }
      ]
    },
    {
      "cell_type": "code",
      "metadata": {
        "colab": {
          "base_uri": "https://localhost:8080/"
        },
        "id": "jFa_frjpOXMW",
        "outputId": "100f4bad-f4c7-4c38-e0b7-b4f5471fa5c3"
      },
      "source": [
        "!ls"
      ],
      "execution_count": 2,
      "outputs": [
        {
          "output_type": "stream",
          "text": [
            "datasets\t\trequirements.txt\n",
            "dataset_tool.py\t\tresults\n",
            "dnnlib\t\t\trun_generator.py\n",
            "Dockerfile\t\trun_metrics.py\n",
            "docs\t\t\trun_projector.py\n",
            "easy-install.sh\t\trun_training.py\n",
            "generated-0.7.zip\trunway_model.py\n",
            "latent-walk-v2.mp4\trunway.yml\n",
            "LICENSE.txt\t\tStyleGAN2_Google_Colab_Example.ipynb\n",
            "metrics\t\t\tStyleGAN2_projection_interpolation.ipynb\n",
            "out\t\t\tStyleGAN2_Projection.ipynb\n",
            "pkl\t\t\ttest_nvcc\n",
            "pretrained_networks.py\ttest_nvcc.cu\n",
            "projector.py\t\ttraining\n",
            "__pycache__\t\tUSAGE.md\n",
            "README.md\n"
          ],
          "name": "stdout"
        }
      ]
    },
    {
      "cell_type": "code",
      "metadata": {
        "colab": {
          "base_uri": "https://localhost:8080/"
        },
        "id": "n1QcXl8mQRUO",
        "outputId": "dce75724-cc32-4b87-8355-7b8a235c945e"
      },
      "source": [
        "# using this https://github.com/justinpinkney/awesome-pretrained-stylegan2#car-config-f for pretrained networks car (config-e)\n",
        "%cd \"/content/drive/My Drive/stylegan2/stylegan2/results/pretrained\"\n",
        "!wget https://hanlab.mit.edu/projects/data-efficient-gans/models/DiffAugment-stylegan2-cifar100.pkl"
      ],
      "execution_count": 3,
      "outputs": [
        {
          "output_type": "stream",
          "text": [
            "/content/drive/My Drive/stylegan2/stylegan2/results/pretrained\n",
            "--2021-02-05 14:11:59--  https://hanlab.mit.edu/projects/data-efficient-gans/models/DiffAugment-stylegan2-cifar100.pkl\n",
            "Resolving hanlab.mit.edu (hanlab.mit.edu)... 18.25.8.36\n",
            "Connecting to hanlab.mit.edu (hanlab.mit.edu)|18.25.8.36|:443... connected.\n",
            "HTTP request sent, awaiting response... 200 OK\n",
            "Length: 163943937 (156M)\n",
            "Saving to: ‘DiffAugment-stylegan2-cifar100.pkl’\n",
            "\n",
            "DiffAugment-stylega 100%[===================>] 156.35M  14.5MB/s    in 12s     \n",
            "\n",
            "2021-02-05 14:12:12 (12.9 MB/s) - ‘DiffAugment-stylegan2-cifar100.pkl’ saved [163943937/163943937]\n",
            "\n"
          ],
          "name": "stdout"
        }
      ]
    },
    {
      "cell_type": "code",
      "metadata": {
        "colab": {
          "base_uri": "https://localhost:8080/"
        },
        "id": "eJ17fjOZRIQM",
        "outputId": "3fc4a37c-898e-47eb-9cf8-be36b0bbe9b7"
      },
      "source": [
        "%cd \"/content/drive/My Drive/stylegan2/stylegan2/\""
      ],
      "execution_count": 4,
      "outputs": [
        {
          "output_type": "stream",
          "text": [
            "/content/drive/My Drive/stylegan2/stylegan2\n"
          ],
          "name": "stdout"
        }
      ]
    },
    {
      "cell_type": "code",
      "metadata": {
        "colab": {
          "base_uri": "https://localhost:8080/"
        },
        "id": "faItP8KeRWK9",
        "outputId": "c4ff537f-c665-4a09-fb9f-ec77d07d8c07"
      },
      "source": [
        "!ls"
      ],
      "execution_count": 5,
      "outputs": [
        {
          "output_type": "stream",
          "text": [
            "datasets\t\trequirements.txt\n",
            "dataset_tool.py\t\tresults\n",
            "dnnlib\t\t\trun_generator.py\n",
            "Dockerfile\t\trun_metrics.py\n",
            "docs\t\t\trun_projector.py\n",
            "easy-install.sh\t\trun_training.py\n",
            "generated-0.7.zip\trunway_model.py\n",
            "latent-walk-v2.mp4\trunway.yml\n",
            "LICENSE.txt\t\tStyleGAN2_Google_Colab_Example.ipynb\n",
            "metrics\t\t\tStyleGAN2_projection_interpolation.ipynb\n",
            "out\t\t\tStyleGAN2_Projection.ipynb\n",
            "pkl\t\t\ttest_nvcc\n",
            "pretrained_networks.py\ttest_nvcc.cu\n",
            "projector.py\t\ttraining\n",
            "__pycache__\t\tUSAGE.md\n",
            "README.md\n"
          ],
          "name": "stdout"
        }
      ]
    },
    {
      "cell_type": "code",
      "metadata": {
        "colab": {
          "base_uri": "https://localhost:8080/"
        },
        "id": "fsV6KCYbRXKk",
        "outputId": "63e552db-3e61-447f-8e82-8d263bad3b1a"
      },
      "source": [
        "%tensorflow_version 1.x\n",
        "!pip install opensimplex"
      ],
      "execution_count": 6,
      "outputs": [
        {
          "output_type": "stream",
          "text": [
            "TensorFlow 1.x selected.\n",
            "Requirement already satisfied: opensimplex in /usr/local/lib/python3.6/dist-packages (0.3)\n"
          ],
          "name": "stdout"
        }
      ]
    },
    {
      "cell_type": "code",
      "metadata": {
        "id": "bnWplQw0RbSV"
      },
      "source": [
        "# !pip install opensimplex\n",
        "# !python run_generator.py generate-images --network=/content/drive/My\\ Drive/stylegan2/stylegan2/results/pretrained/network-snapshot-10000.pkl --seeds=3875451-3876000 --truncation-psi=0.7"
      ],
      "execution_count": 7,
      "outputs": []
    },
    {
      "cell_type": "code",
      "metadata": {
        "colab": {
          "base_uri": "https://localhost:8080/"
        },
        "id": "F2dYKdNCR84k",
        "outputId": "8ee162f9-2776-4d6a-e1d9-6c1332e40832"
      },
      "source": [
        "%tensorflow_version 1.x\n",
        "import tensorflow as tf\n",
        "\n",
        "# Download the code\n",
        "# !git clone https://github.com/NVlabs/stylegan2.git\n",
        "# %cd stylegan2\n",
        "!nvcc test_nvcc.cu -o test_nvcc -run\n",
        "\n",
        "print('Tensorflow version: {}'.format(tf.__version__) )\n",
        "!nvidia-smi -L\n",
        "print('GPU Identified at: {}'.format(tf.test.gpu_device_name()))"
      ],
      "execution_count": 8,
      "outputs": [
        {
          "output_type": "stream",
          "text": [
            "CPU says hello.\n",
            "GPU says hello.\n",
            "Tensorflow version: 1.15.2\n",
            "GPU 0: Tesla K80 (UUID: GPU-9d70d7db-38cd-ae25-7e64-9cd5fed6d28a)\n",
            "GPU Identified at: /device:GPU:0\n"
          ],
          "name": "stdout"
        }
      ]
    },
    {
      "cell_type": "code",
      "metadata": {
        "colab": {
          "base_uri": "https://localhost:8080/"
        },
        "id": "QdYMQbVYWTmf",
        "outputId": "bcc4bb28-a8d4-4059-c4be-a710c71f6d9f"
      },
      "source": [
        "# Download the model of choice\n",
        "import argparse\n",
        "import numpy as np\n",
        "import PIL.Image\n",
        "import dnnlib\n",
        "import dnnlib.tflib as tflib\n",
        "import re\n",
        "import sys\n",
        "from io import BytesIO\n",
        "import IPython.display\n",
        "import numpy as np\n",
        "from math import ceil\n",
        "from PIL import Image, ImageDraw\n",
        "import imageio\n",
        "\n",
        "import pretrained_networks\n",
        "\n",
        "# network_pkl = \"gdrive:networks/stylegan2-ffhq-config-f.pkl\"\n",
        "\n",
        "# If downloads fails, due to 'Google Drive download quota exceeded' you can try downloading manually from your own Google Drive account\n",
        "network_pkl = \"/content/drive/My Drive/stylegan2/stylegan2/results/pretrained/DiffAugment-stylegan2-cifar100.pkl\"\n",
        "\n",
        "print('Loading networks from \"%s\"...' % network_pkl)\n",
        "_G, _D, Gs = pretrained_networks.load_networks(network_pkl)\n",
        "noise_vars = [var for name, var in Gs.components.synthesis.vars.items() if name.startswith('noise')]"
      ],
      "execution_count": 9,
      "outputs": [
        {
          "output_type": "stream",
          "text": [
            "Loading networks from \"/content/drive/My Drive/stylegan2/stylegan2/results/pretrained/DiffAugment-stylegan2-cifar100.pkl\"...\n",
            "Setting up TensorFlow plugin \"fused_bias_act.cu\": Preprocessing... Loading... Done.\n",
            "Setting up TensorFlow plugin \"upfirdn_2d.cu\": Preprocessing... Loading... Done.\n"
          ],
          "name": "stdout"
        }
      ]
    },
    {
      "cell_type": "code",
      "metadata": {
        "id": "5ZFEwS-iW2_W"
      },
      "source": [
        "# Useful utility functions...\n",
        "\n",
        "# Generates a list of images, based on a list of latent vectors (Z), and a list (or a single constant) of truncation_psi's.\n",
        "def generate_images_in_w_space(dlatents, truncation_psi):\n",
        "    Gs_kwargs = dnnlib.EasyDict()\n",
        "    Gs_kwargs.output_transform = dict(func=tflib.convert_images_to_uint8, nchw_to_nhwc=True)\n",
        "    Gs_kwargs.randomize_noise = False\n",
        "    Gs_kwargs.truncation_psi = truncation_psi\n",
        "    dlatent_avg = Gs.get_var('dlatent_avg') # [component]\n",
        "\n",
        "    imgs = []\n",
        "    for row, dlatent in log_progress(enumerate(dlatents), name = \"Generating images\"):\n",
        "        #row_dlatents = (dlatent[np.newaxis] - dlatent_avg) * np.reshape(truncation_psi, [-1, 1, 1]) + dlatent_avg\n",
        "        dl = (dlatent-dlatent_avg)*truncation_psi   + dlatent_avg\n",
        "        row_images = Gs.components.synthesis.run(dlatent,  **Gs_kwargs)\n",
        "        imgs.append(PIL.Image.fromarray(row_images[0], 'RGB'))\n",
        "    return imgs       \n",
        "\n",
        "def generate_images(zs, truncation_psi):\n",
        "    Gs_kwargs = dnnlib.EasyDict()\n",
        "    Gs_kwargs.output_transform = dict(func=tflib.convert_images_to_uint8, nchw_to_nhwc=True)\n",
        "    Gs_kwargs.randomize_noise = False\n",
        "    if not isinstance(truncation_psi, list):\n",
        "        truncation_psi = [truncation_psi] * len(zs)\n",
        "        \n",
        "    imgs = []\n",
        "    for z_idx, z in log_progress(enumerate(zs), size = len(zs), name = \"Generating images\"):\n",
        "        Gs_kwargs.truncation_psi = truncation_psi[z_idx]\n",
        "        noise_rnd = np.random.RandomState(1) # fix noise\n",
        "        tflib.set_vars({var: noise_rnd.randn(*var.shape.as_list()) for var in noise_vars}) # [height, width]\n",
        "        images = Gs.run(z, None, **Gs_kwargs) # [minibatch, height, width, channel]\n",
        "        imgs.append(PIL.Image.fromarray(images[0], 'RGB'))\n",
        "    return imgs\n",
        "\n",
        "def generate_zs_from_seeds(seeds):\n",
        "    zs = []\n",
        "    for seed_idx, seed in enumerate(seeds):\n",
        "        rnd = np.random.RandomState(seed)\n",
        "        z = rnd.randn(1, *Gs.input_shape[1:]) # [minibatch, component]\n",
        "        zs.append(z)\n",
        "    return zs\n",
        "\n",
        "# Generates a list of images, based on a list of seed for latent vectors (Z), and a list (or a single constant) of truncation_psi's.\n",
        "def generate_images_from_seeds(seeds, truncation_psi):\n",
        "    return generate_images(generate_zs_from_seeds(seeds), truncation_psi)\n",
        "\n",
        "def saveImgs(imgs, location):\n",
        "  for idx, img in log_progress(enumerate(imgs), size = len(imgs), name=\"Saving images\"):\n",
        "    file = location+ str(idx) + \".png\"\n",
        "    img.save(file)\n",
        "\n",
        "def imshow(a, format='png', jpeg_fallback=True):\n",
        "  a = np.asarray(a, dtype=np.uint8)\n",
        "  str_file = BytesIO()\n",
        "  PIL.Image.fromarray(a).save(str_file, format)\n",
        "  im_data = str_file.getvalue()\n",
        "  try:\n",
        "    disp = IPython.display.display(IPython.display.Image(im_data))\n",
        "  except IOError:\n",
        "    if jpeg_fallback and format != 'jpeg':\n",
        "      print ('Warning: image was too large to display in format \"{}\"; '\n",
        "             'trying jpeg instead.').format(format)\n",
        "      return imshow(a, format='jpeg')\n",
        "    else:\n",
        "      raise\n",
        "  return disp\n",
        "\n",
        "def showarray(a, fmt='png'):\n",
        "    a = np.uint8(a)\n",
        "    f = StringIO()\n",
        "    PIL.Image.fromarray(a).save(f, fmt)\n",
        "    IPython.display.display(IPython.display.Image(data=f.getvalue()))\n",
        "\n",
        "        \n",
        "def clamp(x, minimum, maximum):\n",
        "    return max(minimum, min(x, maximum))\n",
        "    \n",
        "def drawLatent(image,latents,x,y,x2,y2, color=(255,0,0,100)):\n",
        "  buffer = PIL.Image.new('RGBA', image.size, (0,0,0,0))\n",
        "   \n",
        "  draw = ImageDraw.Draw(buffer)\n",
        "  cy = (y+y2)/2\n",
        "  draw.rectangle([x,y,x2,y2],fill=(255,255,255,180), outline=(0,0,0,180))\n",
        "  for i in range(len(latents)):\n",
        "    mx = x + (x2-x)*(float(i)/len(latents))\n",
        "    h = (y2-y)*latents[i]*0.1\n",
        "    h = clamp(h,cy-y2,y2-cy)\n",
        "    draw.line((mx,cy,mx,cy+h),fill=color)\n",
        "  return PIL.Image.alpha_composite(image,buffer)\n",
        "             \n",
        "  \n",
        "def createImageGrid(images, scale=0.25, rows=1):\n",
        "   w,h = images[0].size\n",
        "   w = int(w*scale)\n",
        "   h = int(h*scale)\n",
        "   height = rows*h\n",
        "   cols = ceil(len(images) / rows)\n",
        "   width = cols*w\n",
        "   canvas = PIL.Image.new('RGBA', (width,height), 'white')\n",
        "   for i,img in enumerate(images):\n",
        "     img = img.resize((w,h), PIL.Image.ANTIALIAS)\n",
        "     canvas.paste(img, (w*(i % cols), h*(i // cols))) \n",
        "   return canvas\n",
        "\n",
        "def convertZtoW(latent, truncation_psi=0.7, truncation_cutoff=9):\n",
        "  dlatent = Gs.components.mapping.run(latent, None) # [seed, layer, component]\n",
        "  dlatent_avg = Gs.get_var('dlatent_avg') # [component]\n",
        "  for i in range(truncation_cutoff):\n",
        "    dlatent[0][i] = (dlatent[0][i]-dlatent_avg)*truncation_psi + dlatent_avg\n",
        "    \n",
        "  return dlatent\n",
        "\n",
        "def interpolate(zs, steps):\n",
        "   out = []\n",
        "   for i in range(len(zs)-1):\n",
        "    for index in range(steps):\n",
        "     fraction = index/float(steps) \n",
        "     out.append(zs[i+1]*fraction + zs[i]*(1-fraction))\n",
        "   return out\n",
        "\n",
        "# Taken from https://github.com/alexanderkuk/log-progress\n",
        "def log_progress(sequence, every=1, size=None, name='Items'):\n",
        "    from ipywidgets import IntProgress, HTML, VBox\n",
        "    from IPython.display import display\n",
        "\n",
        "    is_iterator = False\n",
        "    if size is None:\n",
        "        try:\n",
        "            size = len(sequence)\n",
        "        except TypeError:\n",
        "            is_iterator = True\n",
        "    if size is not None:\n",
        "        if every is None:\n",
        "            if size <= 200:\n",
        "                every = 1\n",
        "            else:\n",
        "                every = int(size / 200)     # every 0.5%\n",
        "    else:\n",
        "        assert every is not None, 'sequence is iterator, set every'\n",
        "\n",
        "    if is_iterator:\n",
        "        progress = IntProgress(min=0, max=1, value=1)\n",
        "        progress.bar_style = 'info'\n",
        "    else:\n",
        "        progress = IntProgress(min=0, max=size, value=0)\n",
        "    label = HTML()\n",
        "    box = VBox(children=[label, progress])\n",
        "    display(box)\n",
        "\n",
        "    index = 0\n",
        "    try:\n",
        "        for index, record in enumerate(sequence, 1):\n",
        "            if index == 1 or index % every == 0:\n",
        "                if is_iterator:\n",
        "                    label.value = '{name}: {index} / ?'.format(\n",
        "                        name=name,\n",
        "                        index=index\n",
        "                    )\n",
        "                else:\n",
        "                    progress.value = index\n",
        "                    label.value = u'{name}: {index} / {size}'.format(\n",
        "                        name=name,\n",
        "                        index=index,\n",
        "                        size=size\n",
        "                    )\n",
        "            yield record\n",
        "    except:\n",
        "        progress.bar_style = 'danger'\n",
        "        raise\n",
        "    else:\n",
        "        progress.bar_style = 'success'\n",
        "        progress.value = index\n",
        "        label.value = \"{name}: {index}\".format(\n",
        "            name=name,\n",
        "            index=str(index or '?')\n",
        "        )\n",
        "\n",
        "\n",
        "\n"
      ],
      "execution_count": 10,
      "outputs": []
    },
    {
      "cell_type": "code",
      "metadata": {
        "colab": {
          "base_uri": "https://localhost:8080/",
          "height": 134,
          "referenced_widgets": [
            "83f10b2f037f453f8f94b9edfc558f5b",
            "35f6aeacbc014d0a91c90f6f13dd7df4",
            "a9f475378a944da887c29698fbe620e5",
            "f36f904474e540dfafbc10d98bcc521b",
            "38902b85b4d3446bb89732789080e3ce",
            "2e4fab93b4da41e592cc0d0225d677c4",
            "f92bf4d767044ee5b5325a0e2cab69f3",
            "dd39d528da644a8daa5b41f06480b6dd"
          ]
        },
        "id": "UZiAVxWZXJHe",
        "outputId": "32acbcfe-0a65-482f-b3b0-939afa910bb0"
      },
      "source": [
        "# generate some random seeds\n",
        "seeds = np.random.randint(999999, size=9)\n",
        "print(seeds)\n",
        "\n",
        "# show the seeds\n",
        "imshow(createImageGrid(generate_images_from_seeds(seeds, 0.4), 0.4 , 3))"
      ],
      "execution_count": 11,
      "outputs": [
        {
          "output_type": "stream",
          "text": [
            "[641198 653700 319365 426410  73962 810006 481758 415963 767291]\n"
          ],
          "name": "stdout"
        },
        {
          "output_type": "display_data",
          "data": {
            "application/vnd.jupyter.widget-view+json": {
              "model_id": "83f10b2f037f453f8f94b9edfc558f5b",
              "version_minor": 0,
              "version_major": 2
            },
            "text/plain": [
              "VBox(children=(HTML(value=''), IntProgress(value=0, max=9)))"
            ]
          },
          "metadata": {
            "tags": []
          }
        },
        {
          "output_type": "display_data",
          "data": {
            "image/png": "[encoded data removed]",
            "text/plain": [
              "<IPython.core.display.Image object>"
            ]
          },
          "metadata": {
            "tags": []
          }
        }
      ]
    },
    {
      "cell_type": "code",
      "metadata": {
        "colab": {
          "base_uri": "https://localhost:8080/",
          "height": 117,
          "referenced_widgets": [
            "065d81370276422090ed927b5c85f971",
            "53308a171f504cea84cb7529961a641b",
            "69470a66cf9644a69d22e04b8e80c48b",
            "fbafbff45d284b059fa23c66643a7dcd",
            "092315e7e7fc41259ba1f3629f5bb658",
            "102c9923635a4cb78421caca189c9880",
            "c611bab2a3e64d70956eab95831fd0a9",
            "80e2f99118a247558869e84be131e12d"
          ]
        },
        "id": "avtIfMpuXXlw",
        "outputId": "04105006-7091-479f-c303-e3c2d6a95896"
      },
      "source": [
        "# Simple (Z) interpolation\n",
        "zs = generate_zs_from_seeds([5046889 , 9172088 ])\n",
        "\n",
        "latent1 = zs[0]\n",
        "latent2 = zs[1]\n",
        "\n",
        "number_of_steps = 9\n",
        "\n",
        "imgs = generate_images(interpolate([latent1,latent2],number_of_steps), 1.0)\n",
        "number_of_images = len(imgs)\n",
        "imshow(createImageGrid(imgs, 0.4 , 3))"
      ],
      "execution_count": 12,
      "outputs": [
        {
          "output_type": "display_data",
          "data": {
            "application/vnd.jupyter.widget-view+json": {
              "model_id": "065d81370276422090ed927b5c85f971",
              "version_minor": 0,
              "version_major": 2
            },
            "text/plain": [
              "VBox(children=(HTML(value=''), IntProgress(value=0, max=9)))"
            ]
          },
          "metadata": {
            "tags": []
          }
        },
        {
          "output_type": "display_data",
          "data": {
            "image/png": "[encoded data removed]",
            "text/plain": [
              "<IPython.core.display.Image object>"
            ]
          },
          "metadata": {
            "tags": []
          }
        }
      ]
    },
    {
      "cell_type": "code",
      "metadata": {
        "colab": {
          "base_uri": "https://localhost:8080/",
          "height": 162,
          "referenced_widgets": [
            "a5bd347545014298b1027a737eee298a",
            "aca2c8f369814c4b95077ce9945b9619",
            "9a6b3d1878ef45f6a668cc787c162af9",
            "b685aba830874cfe8200c6d51166e1d1",
            "2c28128e9b144f6e8d8f4f8aa7c74051",
            "ce7c71bc015b467f805f31699f94abd9",
            "fec8d95a2cef4450a188a797bd7da578",
            "86958c0d43ff49c3ab52a293ea965b73",
            "4f504c67d7b947f4b616520e2fb39fd2",
            "832eb4fd446b4b43851ff0c129ffb0d8",
            "ea9b7abd7f834da89920db5600cb9cd5",
            "ddbe17cb300948ecae3b75cd793ffdac",
            "f4ff1608e38a4b489f202f1111e018d9",
            "c97988acd2994f0497217001be677d84",
            "787d199e300841079e62f41dfea0e708",
            "bf5eb965c03a4ec796196b84a64121de"
          ]
        },
        "id": "G8cXkGzjY2wH",
        "outputId": "7e29d262-682d-42d8-87f9-ad7829f5ec2f"
      },
      "source": [
        "# generating a MP4 movie\n",
        "\n",
        "zs = generate_zs_from_seeds([421645,6149575,3487643,3766864 ,3857159,5360657,3720613])\n",
        "\n",
        "number_of_steps = 10\n",
        "imgs = generate_images(interpolate(zs,number_of_steps), 1.0)\n",
        "\n",
        "# Example of reading a generated set of images, and storing as MP4.\n",
        "%mkdir out\n",
        "movieName = 'out/mov.mp4'\n",
        "\n",
        "with imageio.get_writer(movieName, mode='I') as writer:\n",
        "    for image in log_progress(list(imgs), name = \"Creating animation\"):\n",
        "        writer.append_data(np.array(image))"
      ],
      "execution_count": 13,
      "outputs": [
        {
          "output_type": "display_data",
          "data": {
            "application/vnd.jupyter.widget-view+json": {
              "model_id": "a5bd347545014298b1027a737eee298a",
              "version_minor": 0,
              "version_major": 2
            },
            "text/plain": [
              "VBox(children=(HTML(value=''), IntProgress(value=0, max=60)))"
            ]
          },
          "metadata": {
            "tags": []
          }
        },
        {
          "output_type": "stream",
          "text": [
            "mkdir: cannot create directory ‘out’: File exists\n"
          ],
          "name": "stdout"
        },
        {
          "output_type": "display_data",
          "data": {
            "application/vnd.jupyter.widget-view+json": {
              "model_id": "4f504c67d7b947f4b616520e2fb39fd2",
              "version_minor": 0,
              "version_major": 2
            },
            "text/plain": [
              "VBox(children=(HTML(value=''), IntProgress(value=0, max=60)))"
            ]
          },
          "metadata": {
            "tags": []
          }
        }
      ]
    },
    {
      "cell_type": "code",
      "metadata": {
        "colab": {
          "base_uri": "https://localhost:8080/",
          "height": 17
        },
        "id": "SWMe-LleZMyI",
        "outputId": "4af1e41b-f911-4fe8-e7d0-8d7d0d44ff08"
      },
      "source": [
        "# In order to download files, you can use the snippet below - this often fails for me, though, so I prefer the 'Files' browser in the sidepanel.\n",
        "\n",
        "from google.colab import files\n",
        "files.download(movieName) \n"
      ],
      "execution_count": 14,
      "outputs": [
        {
          "output_type": "display_data",
          "data": {
            "application/javascript": [
              "\n",
              "    async function download(id, filename, size) {\n",
              "      if (!google.colab.kernel.accessAllowed) {\n",
              "        return;\n",
              "      }\n",
              "      const div = document.createElement('div');\n",
              "      const label = document.createElement('label');\n",
              "      label.textContent = `Downloading \"${filename}\": `;\n",
              "      div.appendChild(label);\n",
              "      const progress = document.createElement('progress');\n",
              "      progress.max = size;\n",
              "      div.appendChild(progress);\n",
              "      document.body.appendChild(div);\n",
              "\n",
              "      const buffers = [];\n",
              "      let downloaded = 0;\n",
              "\n",
              "      const channel = await google.colab.kernel.comms.open(id);\n",
              "      // Send a message to notify the kernel that we're ready.\n",
              "      channel.send({})\n",
              "\n",
              "      for await (const message of channel.messages) {\n",
              "        // Send a message to notify the kernel that we're ready.\n",
              "        channel.send({})\n",
              "        if (message.buffers) {\n",
              "          for (const buffer of message.buffers) {\n",
              "            buffers.push(buffer);\n",
              "            downloaded += buffer.byteLength;\n",
              "            progress.value = downloaded;\n",
              "          }\n",
              "        }\n",
              "      }\n",
              "      const blob = new Blob(buffers, {type: 'application/binary'});\n",
              "      const a = document.createElement('a');\n",
              "      a.href = window.URL.createObjectURL(blob);\n",
              "      a.download = filename;\n",
              "      div.appendChild(a);\n",
              "      a.click();\n",
              "      div.remove();\n",
              "    }\n",
              "  "
            ],
            "text/plain": [
              "<IPython.core.display.Javascript object>"
            ]
          },
          "metadata": {
            "tags": []
          }
        },
        {
          "output_type": "display_data",
          "data": {
            "application/javascript": [
              "download(\"download_4e14ed52-7126-4534-bc08-42fa69dac5cd\", \"mov.mp4\", 10171)"
            ],
            "text/plain": [
              "<IPython.core.display.Javascript object>"
            ]
          },
          "metadata": {
            "tags": []
          }
        }
      ]
    },
    {
      "cell_type": "code",
      "metadata": {
        "colab": {
          "base_uri": "https://localhost:8080/",
          "height": 421
        },
        "id": "isM7OxHhaX1e",
        "outputId": "7cbd78c0-2201-4e02-c258-261367674f8a"
      },
      "source": [
        "from IPython.display import HTML\n",
        "from base64 import b64encode\n",
        "mp4 = open('out/mov.mp4','rb').read()\n",
        "data_url = \"data:video/mp4;base64,\" + b64encode(mp4).decode()\n",
        "HTML(\"\"\"\n",
        "<video width=400 controls>\n",
        "      <source src=\"%s\" type=\"video/mp4\">\n",
        "</video>\n",
        "\"\"\" % data_url)"
      ],
      "execution_count": 15,
      "outputs": [
        {
          "output_type": "execute_result",
          "data": {
            "text/html": [
              "\n",
              "<video width=400 controls>\n",
              "      <source src=\"data:video/mp4;base64,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\" type=\"video/mp4\">\n",
              "</video>\n"
            ],
            "text/plain": [
              "<IPython.core.display.HTML object>"
            ]
          },
          "metadata": {
            "tags": []
          },
          "execution_count": 15
        }
      ]
    },
    {
      "cell_type": "code",
      "metadata": {
        "id": "A5voCK67ajS3"
      },
      "source": [
        ""
      ],
      "execution_count": 15,
      "outputs": []
    }
  ]
}