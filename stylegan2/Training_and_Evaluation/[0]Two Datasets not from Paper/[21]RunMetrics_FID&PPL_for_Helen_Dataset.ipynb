{
  "nbformat": 4,
  "nbformat_minor": 0,
  "metadata": {
    "colab": {
      "name": "[21]RunMetricsFID for Helen Dataset.ipynb",
      "provenance": [],
      "machine_shape": "hm"
    },
    "kernelspec": {
      "name": "python3",
      "display_name": "Python 3"
    },
    "accelerator": "GPU"
  },
  "cells": [
    {
      "cell_type": "code",
      "metadata": {
        "colab": {
          "base_uri": "https://localhost:8080/"
        },
        "id": "Etj4oRNCDMzr",
        "outputId": "e15f012b-f860-4c1d-b9d2-89fa902511b1"
      },
      "source": [
        "%tensorflow_version 1.x\n",
        "from google.colab import drive\n",
        "drive.mount('/content/drive')\n",
        "%cd \"/content/drive/My Drive/stylegan2\""
      ],
      "execution_count": 1,
      "outputs": [
        {
          "output_type": "stream",
          "text": [
            "TensorFlow 1.x selected.\n",
            "Mounted at /content/drive\n",
            "/content/drive/My Drive/stylegan2\n"
          ],
          "name": "stdout"
        }
      ]
    },
    {
      "cell_type": "code",
      "metadata": {
        "colab": {
          "base_uri": "https://localhost:8080/"
        },
        "id": "BeIYa3I0DsoY",
        "outputId": "64f7d8dd-1e42-4962-ccd6-0532eeaf7602"
      },
      "source": [
        "%cd \"/content/drive/My Drive/stylegan2/stylegan2/\"\n",
        "!python run_metrics.py --data-dir=./datasets --network=./results/00005-stylegan2-eye_dataset-1gpu-config-b/network-snapshot-006826.pkl --metrics=fid50k,ppl_wend --dataset=eye_dataset --mirror-augment=false\n"
      ],
      "execution_count": 2,
      "outputs": [
        {
          "output_type": "stream",
          "text": [
            "/content/drive/My Drive/stylegan2/stylegan2\n",
            "Local submit - run_dir: results/00006-run-metrics\n",
            "dnnlib: Running run_metrics.run() on localhost...\n",
            "Evaluating metrics \"fid50k,ppl_wend\" for \"./results/00005-stylegan2-eye_dataset-1gpu-config-b/network-snapshot-006826.pkl\"...\n",
            "Setting up TensorFlow plugin \"fused_bias_act.cu\": Preprocessing... Loading... Done.\n",
            "Setting up TensorFlow plugin \"upfirdn_2d.cu\": Preprocessing... Loading... Done.\n",
            "tcmalloc: large alloc 4294967296 bytes == 0x56a02000 @  0x7f672365c001 0x7f67201024ff 0x7f6720152b08 0x7f6720156ac7 0x7f67201f51a3 0x50a4a5 0x50cc96 0x507be4 0x508ec2 0x594a01 0x549e8f 0x5515c1 0x59fd0e 0x50d256 0x507be4 0x588e5c 0x59fd0e 0x50d256 0x5095c8 0x50a2fd 0x50beb4 0x58e6f9 0x4b5d7f 0x50c127 0x507be4 0x509900 0x50a2fd 0x50cc96 0x507be4 0x508ec2 0x594a01\n",
            "tcmalloc: large alloc 4294967296 bytes == 0x7f6502000000 @  0x7f672365a1e7 0x7f672010241e 0x7f6720152c2b 0x7f672015330f 0x7f67201f50a3 0x50a4a5 0x50cc96 0x507be4 0x509900 0x50a2fd 0x50cc96 0x507be4 0x509900 0x50a2fd 0x50cc96 0x507be4 0x509900 0x50a2fd 0x50cc96 0x5095c8 0x50a2fd 0x50beb4 0x507be4 0x509900 0x50a2fd 0x50beb4 0x507be4 0x509900 0x50a2fd 0x50cc96 0x507be4\n",
            "tcmalloc: large alloc 4294967296 bytes == 0x7f6502000000 @  0x7f672365a1e7 0x7f672010241e 0x7f6720152c2b 0x7f672015330f 0x7f66cb6ee0c5 0x7f66cb071902 0x7f66cb071eb2 0x7f66cb02ac3e 0x50a12f 0x50beb4 0x5095c8 0x50a2fd 0x50beb4 0x507be4 0x588c8b 0x59fd0e 0x50d256 0x507be4 0x509900 0x50a2fd 0x50beb4 0x507be4 0x509900 0x50a2fd 0x50beb4 0x5095c8 0x50a2fd 0x50beb4 0x507be4 0x508ec2 0x594a01\n",
            "network-snapshot-006826        time 13m 21s      fid50k 166.7891\n",
            "tcmalloc: large alloc 4294967296 bytes == 0x7f61a0c3e000 @  0x7f672365c001 0x7f67201024ff 0x7f6720152b08 0x7f6720156ac7 0x7f67201f51a3 0x50a4a5 0x50cc96 0x507be4 0x508ec2 0x594a01 0x549e8f 0x5515c1 0x59fd0e 0x50d256 0x507be4 0x588e5c 0x59fd0e 0x50d256 0x5095c8 0x50a2fd 0x50beb4 0x5095c8 0x50a2fd 0x50beb4 0x507be4 0x509900 0x50a2fd 0x50cc96 0x507be4 0x508ec2 0x594a01\n",
            "tcmalloc: large alloc 4294967296 bytes == 0x7f60a043e000 @  0x7f672365a1e7 0x7f672010241e 0x7f6720152c2b 0x7f672015330f 0x7f67201f50a3 0x50a4a5 0x50cc96 0x507be4 0x509900 0x50a2fd 0x50cc96 0x507be4 0x509900 0x50a2fd 0x50cc96 0x507be4 0x509900 0x50a2fd 0x50cc96 0x5095c8 0x50a2fd 0x50beb4 0x507be4 0x509900 0x50a2fd 0x50beb4 0x507be4 0x509900 0x50a2fd 0x50cc96 0x507be4\n",
            "tcmalloc: large alloc 4294967296 bytes == 0x7f60a043e000 @  0x7f672365a1e7 0x7f672010241e 0x7f6720152c2b 0x7f672015330f 0x7f66cb6ee0c5 0x7f66cb071902 0x7f66cb071eb2 0x7f66cb02ac3e 0x50a12f 0x50beb4 0x5095c8 0x50a2fd 0x50beb4 0x507be4 0x588c8b 0x59fd0e 0x50d256 0x507be4 0x509900 0x50a2fd 0x50beb4 0x507be4 0x509900 0x50a2fd 0x50beb4 0x5095c8 0x50a2fd 0x50beb4 0x507be4 0x508ec2 0x594a01\n",
            "Downloading https://nvlabs-fi-cdn.nvidia.com/stylegan/networks/metrics/vgg16_zhang_perceptual.pkl ... done\n",
            "network-snapshot-006826        time 17m 05s      ppl_wend 133.3430\n",
            "dnnlib: Finished run_metrics.run() in 30m 28s.\n"
          ],
          "name": "stdout"
        }
      ]
    }
  ]
}