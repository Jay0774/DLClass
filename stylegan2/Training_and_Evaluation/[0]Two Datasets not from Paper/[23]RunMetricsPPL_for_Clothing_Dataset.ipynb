{
  "nbformat": 4,
  "nbformat_minor": 0,
  "metadata": {
    "colab": {
      "name": "[23]RunMetricsPPL for Clothing Dataset.ipynb",
      "provenance": [],
      "machine_shape": "hm"
    },
    "kernelspec": {
      "name": "python3",
      "display_name": "Python 3"
    },
    "accelerator": "GPU"
  },
  "cells": [
    {
      "cell_type": "code",
      "metadata": {
        "colab": {
          "base_uri": "https://localhost:8080/"
        },
        "id": "zmuOgvn-Bblw",
        "outputId": "d7e263fb-dd69-4f0d-ddc7-b70d8df0fa9c"
      },
      "source": [
        "%tensorflow_version 1.x\n",
        "from google.colab import drive\n",
        "drive.mount('/content/drive')\n",
        "%cd \"/content/drive/My Drive/stylegan2\""
      ],
      "execution_count": 1,
      "outputs": [
        {
          "output_type": "stream",
          "text": [
            "TensorFlow 1.x selected.\n",
            "Mounted at /content/drive\n",
            "/content/drive/My Drive/stylegan2\n"
          ],
          "name": "stdout"
        }
      ]
    },
    {
      "cell_type": "code",
      "metadata": {
        "colab": {
          "base_uri": "https://localhost:8080/"
        },
        "id": "to-YfreqB3c5",
        "outputId": "e25fa2de-9b00-489c-fa03-836b4874cd89"
      },
      "source": [
        "%cd \"/content/drive/My Drive/stylegan2/stylegan2/\"\n",
        "!python run_metrics.py --data-dir=./datasets --network=./results/00006-stylegan2-images_original-1gpu-config-f/network-snapshot-010980.pkl --metrics=ppl_wend --dataset=images_original --mirror-augment=false\n"
      ],
      "execution_count": 2,
      "outputs": [
        {
          "output_type": "stream",
          "text": [
            "/content/drive/My Drive/stylegan2/stylegan2\n",
            "Local submit - run_dir: results/00011-run-metrics\n",
            "dnnlib: Running run_metrics.run() on localhost...\n",
            "Evaluating metrics \"ppl_wend\" for \"./results/00006-stylegan2-images_original-1gpu-config-f/network-snapshot-010980.pkl\"...\n",
            "Setting up TensorFlow plugin \"fused_bias_act.cu\": Preprocessing... Loading... Done.\n",
            "Setting up TensorFlow plugin \"upfirdn_2d.cu\": Preprocessing... Loading... Done.\n",
            "tcmalloc: large alloc 4294967296 bytes == 0x4606a000 @  0x7f19570d7001 0x7f1953b7d4ff 0x7f1953bcdb08 0x7f1953bd1ac7 0x7f1953c701a3 0x50a4a5 0x50cc96 0x507be4 0x508ec2 0x594a01 0x549e8f 0x5515c1 0x59fd0e 0x50d256 0x507be4 0x588e5c 0x59fd0e 0x50d256 0x5095c8 0x50a2fd 0x50beb4 0x5095c8 0x50a2fd 0x50beb4 0x507be4 0x509900 0x50a2fd 0x50cc96 0x507be4 0x508ec2 0x594a01\n",
            "tcmalloc: large alloc 4294967296 bytes == 0x7f16fc000000 @  0x7f19570d51e7 0x7f1953b7d41e 0x7f1953bcdc2b 0x7f1953bce30f 0x7f1953c700a3 0x50a4a5 0x50cc96 0x507be4 0x509900 0x50a2fd 0x50cc96 0x507be4 0x509900 0x50a2fd 0x50cc96 0x507be4 0x509900 0x50a2fd 0x50cc96 0x5095c8 0x50a2fd 0x50beb4 0x507be4 0x509900 0x50a2fd 0x50beb4 0x507be4 0x509900 0x50a2fd 0x50cc96 0x507be4\n",
            "tcmalloc: large alloc 4294967296 bytes == 0x7f16fc000000 @  0x7f19570d51e7 0x7f1953b7d41e 0x7f1953bcdc2b 0x7f1953bce30f 0x7f18ff1690c5 0x7f18feaec902 0x7f18feaeceb2 0x7f18feaa5c3e 0x50a12f 0x50beb4 0x5095c8 0x50a2fd 0x50beb4 0x507be4 0x588c8b 0x59fd0e 0x50d256 0x507be4 0x509900 0x50a2fd 0x50beb4 0x507be4 0x509900 0x50a2fd 0x50beb4 0x5095c8 0x50a2fd 0x50beb4 0x507be4 0x508ec2 0x594a01\n",
            "Downloading https://nvlabs-fi-cdn.nvidia.com/stylegan/networks/metrics/vgg16_zhang_perceptual.pkl ... done\n",
            "network-snapshot-010980        time 38m 08s      ppl_wend 175.1136\n",
            "dnnlib: Finished run_metrics.run() in 38m 11s.\n"
          ],
          "name": "stdout"
        }
      ]
    }
  ]
}