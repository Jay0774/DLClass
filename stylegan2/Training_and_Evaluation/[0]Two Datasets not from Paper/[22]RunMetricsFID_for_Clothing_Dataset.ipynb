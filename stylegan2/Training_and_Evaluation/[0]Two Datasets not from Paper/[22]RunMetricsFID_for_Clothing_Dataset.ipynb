{
  "nbformat": 4,
  "nbformat_minor": 0,
  "metadata": {
    "colab": {
      "name": "[22]RunMetricsFID for Clothing Dataset.ipynb",
      "provenance": [],
      "machine_shape": "hm"
    },
    "kernelspec": {
      "name": "python3",
      "display_name": "Python 3"
    },
    "accelerator": "GPU"
  },
  "cells": [
    {
      "cell_type": "code",
      "metadata": {
        "colab": {
          "base_uri": "https://localhost:8080/"
        },
        "id": "zmuOgvn-Bblw",
        "outputId": "de75de82-0370-44ba-9ac4-37e4c537742c"
      },
      "source": [
        "%tensorflow_version 1.x\n",
        "from google.colab import drive\n",
        "drive.mount('/content/drive')\n",
        "%cd \"/content/drive/My Drive/stylegan2\""
      ],
      "execution_count": 1,
      "outputs": [
        {
          "output_type": "stream",
          "text": [
            "TensorFlow 1.x selected.\n",
            "Mounted at /content/drive\n",
            "/content/drive/My Drive/stylegan2\n"
          ],
          "name": "stdout"
        }
      ]
    },
    {
      "cell_type": "code",
      "metadata": {
        "colab": {
          "base_uri": "https://localhost:8080/"
        },
        "id": "to-YfreqB3c5",
        "outputId": "f8623bf4-398d-4a87-80d7-dd383632d327"
      },
      "source": [
        "%cd \"/content/drive/My Drive/stylegan2/stylegan2/\"\n",
        "!python run_metrics.py --data-dir=./datasets --network=./results/00006-stylegan2-images_original-1gpu-config-f/network-snapshot-010980.pkl --metrics=fid50k,ppl_wend --dataset=images_original --mirror-augment=false\n"
      ],
      "execution_count": 2,
      "outputs": [
        {
          "output_type": "stream",
          "text": [
            "/content/drive/My Drive/stylegan2/stylegan2\n",
            "Local submit - run_dir: results/00007-run-metrics\n",
            "dnnlib: Running run_metrics.run() on localhost...\n",
            "Evaluating metrics \"fid50k,ppl_wend\" for \"./results/00006-stylegan2-images_original-1gpu-config-f/network-snapshot-010980.pkl\"...\n",
            "Setting up TensorFlow plugin \"fused_bias_act.cu\": Preprocessing... Loading... Done.\n",
            "Setting up TensorFlow plugin \"upfirdn_2d.cu\": Preprocessing... Loading... Done.\n",
            "tcmalloc: large alloc 4294967296 bytes == 0x5b3ca000 @  0x7f1357196001 0x7f1353c3c4ff 0x7f1353c8cb08 0x7f1353c90ac7 0x7f1353d2f1a3 0x50a4a5 0x50cc96 0x507be4 0x508ec2 0x594a01 0x549e8f 0x5515c1 0x59fd0e 0x50d256 0x507be4 0x588e5c 0x59fd0e 0x50d256 0x5095c8 0x50a2fd 0x50beb4 0x58e6f9 0x4b5d7f 0x50c127 0x507be4 0x509900 0x50a2fd 0x50cc96 0x507be4 0x508ec2 0x594a01\n",
            "tcmalloc: large alloc 4294967296 bytes == 0x7f1114000000 @  0x7f13571941e7 0x7f1353c3c41e 0x7f1353c8cc2b 0x7f1353c8d30f 0x7f1353d2f0a3 0x50a4a5 0x50cc96 0x507be4 0x509900 0x50a2fd 0x50cc96 0x507be4 0x509900 0x50a2fd 0x50cc96 0x507be4 0x509900 0x50a2fd 0x50cc96 0x5095c8 0x50a2fd 0x50beb4 0x507be4 0x509900 0x50a2fd 0x50beb4 0x507be4 0x509900 0x50a2fd 0x50cc96 0x507be4\n",
            "tcmalloc: large alloc 4294967296 bytes == 0x7f1114000000 @  0x7f13571941e7 0x7f1353c3c41e 0x7f1353c8cc2b 0x7f1353c8d30f 0x7f12ff2280c5 0x7f12febab902 0x7f12febabeb2 0x7f12feb64c3e 0x50a12f 0x50beb4 0x5095c8 0x50a2fd 0x50beb4 0x507be4 0x588c8b 0x59fd0e 0x50d256 0x507be4 0x509900 0x50a2fd 0x50beb4 0x507be4 0x509900 0x50a2fd 0x50beb4 0x5095c8 0x50a2fd 0x50beb4 0x507be4 0x508ec2 0x594a01\n",
            "network-snapshot-010980        time 1h 16m 20s   fid50k 71.5874\n",
            "tcmalloc: large alloc 4294967296 bytes == 0x7f0e0663e000 @  0x7f1357196001 0x7f1353c3c4ff 0x7f1353c8cb08 0x7f1353c90ac7 0x7f1353d2f1a3 0x50a4a5 0x50cc96 0x507be4 0x508ec2 0x594a01 0x549e8f 0x5515c1 0x59fd0e 0x50d256 0x507be4 0x588e5c 0x59fd0e 0x50d256 0x5095c8 0x50a2fd 0x50beb4 0x5095c8 0x50a2fd 0x50beb4 0x507be4 0x509900 0x50a2fd 0x50cc96 0x507be4 0x508ec2 0x594a01\n",
            "tcmalloc: large alloc 4294967296 bytes == 0x7f0d05e3e000 @  0x7f13571941e7 0x7f1353c3c41e 0x7f1353c8cc2b 0x7f1353c8d30f 0x7f1353d2f0a3 0x50a4a5 0x50cc96 0x507be4 0x509900 0x50a2fd 0x50cc96 0x507be4 0x509900 0x50a2fd 0x50cc96 0x507be4 0x509900 0x50a2fd 0x50cc96 0x5095c8 0x50a2fd 0x50beb4 0x507be4 0x509900 0x50a2fd 0x50beb4 0x507be4 0x509900 0x50a2fd 0x50cc96 0x507be4\n",
            "tcmalloc: large alloc 4294967296 bytes == 0x7f0d05e3e000 @  0x7f13571941e7 0x7f1353c3c41e 0x7f1353c8cc2b 0x7f1353c8d30f 0x7f12ff2280c5 0x7f12febab902 0x7f12febabeb2 0x7f12feb64c3e 0x50a12f 0x50beb4 0x5095c8 0x50a2fd 0x50beb4 0x507be4 0x588c8b 0x59fd0e 0x50d256 0x507be4 0x509900 0x50a2fd 0x50beb4 0x507be4 0x509900 0x50a2fd 0x50beb4 0x5095c8 0x50a2fd 0x50beb4 0x507be4 0x508ec2 0x594a01\n",
            "Downloading https://drive.google.com/uc?id=1N2-m9qszOeVC9Tq77WxsLnuWwOedQiD2 ............ failed\n",
            "Traceback (most recent call last):\n",
            "  File \"run_metrics.py\", line 84, in <module>\n",
            "    main()\n",
            "  File \"run_metrics.py\", line 79, in main\n",
            "    dnnlib.submit_run(sc, 'run_metrics.run', **kwargs)\n",
            "  File \"/content/drive/My Drive/stylegan2/stylegan2/dnnlib/submission/submit.py\", line 343, in submit_run\n",
            "    return farm.submit(submit_config, host_run_dir)\n",
            "  File \"/content/drive/My Drive/stylegan2/stylegan2/dnnlib/submission/internal/local.py\", line 22, in submit\n",
            "    return run_wrapper(submit_config)\n",
            "  File \"/content/drive/My Drive/stylegan2/stylegan2/dnnlib/submission/submit.py\", line 280, in run_wrapper\n",
            "    run_func_obj(**submit_config.run_func_kwargs)\n",
            "  File \"/content/drive/My Drive/stylegan2/stylegan2/run_metrics.py\", line 27, in run\n",
            "    metric_group.run(network_pkl, data_dir=data_dir, dataset_args=dataset_args, mirror_augment=mirror_augment, num_gpus=num_gpus)\n",
            "  File \"/content/drive/My Drive/stylegan2/stylegan2/metrics/metric_base.py\", line 151, in run\n",
            "    metric.run(*args, **kwargs)\n",
            "  File \"/content/drive/My Drive/stylegan2/stylegan2/metrics/metric_base.py\", line 67, in run\n",
            "    self._evaluate(Gs, Gs_kwargs=Gs_kwargs, num_gpus=num_gpus)\n",
            "  File \"/content/drive/My Drive/stylegan2/stylegan2/metrics/perceptual_path_length.py\", line 100, in _evaluate\n",
            "    distance_measure = misc.load_pkl('https://drive.google.com/uc?id=1N2-m9qszOeVC9Tq77WxsLnuWwOedQiD2') # vgg16_zhang_perceptual.pkl\n",
            "  File \"/content/drive/My Drive/stylegan2/stylegan2/training/misc.py\", line 91, in load_pkl\n",
            "    with open_file_or_url(file_or_url) as file:\n",
            "  File \"/content/drive/My Drive/stylegan2/stylegan2/training/misc.py\", line 87, in open_file_or_url\n",
            "    return dnnlib.util.open_url(file_or_url, cache_dir='.stylegan2-cache')\n",
            "  File \"/content/drive/My Drive/stylegan2/stylegan2/dnnlib/util.py\", line 383, in open_url\n",
            "    raise IOError(\"Google Drive download quota exceeded -- please try again later\")\n",
            "OSError: Google Drive download quota exceeded -- please try again later\n"
          ],
          "name": "stdout"
        }
      ]
    }
  ]
}