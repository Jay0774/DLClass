{
  "nbformat": 4,
  "nbformat_minor": 0,
  "metadata": {
    "colab": {
      "name": "[15]StyleGAN2[Training on EyeDataset].ipynb",
      "provenance": [],
      "collapsed_sections": []
    },
    "kernelspec": {
      "name": "python3",
      "display_name": "Python 3"
    },
    "accelerator": "GPU"
  },
  "cells": [
    {
      "cell_type": "code",
      "metadata": {
        "id": "YYsLo4uWfLeJ",
        "colab": {
          "base_uri": "https://localhost:8080/"
        },
        "outputId": "0f42bda8-cd27-4d09-bae4-c9a8f0bfeca6"
      },
      "source": [
        "%tensorflow_version 1.x\r\n",
        "!pip install opensimplex\r\n",
        "from google.colab import drive\r\n",
        "drive.mount('/content/drive')\r\n",
        "%cd \"/content/drive/My Drive/stylegan2\""
      ],
      "execution_count": 1,
      "outputs": [
        {
          "output_type": "stream",
          "text": [
            "TensorFlow 1.x selected.\n",
            "Collecting opensimplex\n",
            "  Downloading https://files.pythonhosted.org/packages/9c/ad/9b758f9ff9dcd23fc574bb3aa1de844adb1179c9be9711e9f798614d4b2f/opensimplex-0.3-py3-none-any.whl\n",
            "Installing collected packages: opensimplex\n",
            "Successfully installed opensimplex-0.3\n",
            "Mounted at /content/drive\n",
            "/content/drive/My Drive/stylegan2\n"
          ],
          "name": "stdout"
        }
      ]
    },
    {
      "cell_type": "code",
      "metadata": {
        "id": "cZ0jOpxZF2ue"
      },
      "source": [
        "api_token = {\"username\":\"samy280497\",\"key\":\"f80239517ec84712358a021a2389ffc4\"}\r\n",
        "!mkdir ~/.kaggle\r\n",
        "!touch ~/.kaggle/kaggle.json\r\n",
        "\r\n",
        "\r\n",
        "import json\r\n",
        "\r\n",
        "with open('/root/.kaggle/kaggle.json', 'w') as file:\r\n",
        "    json.dump(api_token, file)\r\n",
        "\r\n",
        "!chmod 600 ~/.kaggle/kaggle.json"
      ],
      "execution_count": 2,
      "outputs": []
    },
    {
      "cell_type": "code",
      "metadata": {
        "colab": {
          "base_uri": "https://localhost:8080/"
        },
        "id": "2y_-g6Z2GGRm",
        "outputId": "f33ba6c2-107b-43c0-9923-5bdfa5d0d610"
      },
      "source": [
        "!kaggle datasets download -d kmader/helen-eye-dataset"
      ],
      "execution_count": 3,
      "outputs": [
        {
          "output_type": "stream",
          "text": [
            "Downloading helen-eye-dataset.zip to /content/drive/My Drive/stylegan2\n",
            " 98% 429M/438M [00:05<00:00, 89.5MB/s]\n",
            "100% 438M/438M [00:05<00:00, 89.5MB/s]\n"
          ],
          "name": "stdout"
        }
      ]
    },
    {
      "cell_type": "code",
      "metadata": {
        "id": "qOuofpxCGbgm"
      },
      "source": [
        "!unzip helen-eye-dataset.zip"
      ],
      "execution_count": null,
      "outputs": []
    },
    {
      "cell_type": "code",
      "metadata": {
        "colab": {
          "base_uri": "https://localhost:8080/"
        },
        "id": "Zv6g-AylGfbB",
        "outputId": "a792dd42-d745-4f4e-f69f-8e041695c1bf"
      },
      "source": [
        "!ls"
      ],
      "execution_count": 2,
      "outputs": [
        {
          "output_type": "stream",
          "text": [
            "eyedataset  eye_dataset  helen-eye-dataset.zip\tstylegan2\n"
          ],
          "name": "stdout"
        }
      ]
    },
    {
      "cell_type": "code",
      "metadata": {
        "id": "rTnlb3JBG2sr"
      },
      "source": [
        "!rm -r annotation/"
      ],
      "execution_count": 6,
      "outputs": []
    },
    {
      "cell_type": "code",
      "metadata": {
        "colab": {
          "base_uri": "https://localhost:8080/"
        },
        "id": "lZKamdMpIDyB",
        "outputId": "16071e32-0504-48d8-c49e-45babcc477aa"
      },
      "source": [
        "!ls"
      ],
      "execution_count": 7,
      "outputs": [
        {
          "output_type": "stream",
          "text": [
            "helen-eye-dataset.zip  stylegan2  train_1  train_2  train_3  train_4\n"
          ],
          "name": "stdout"
        }
      ]
    },
    {
      "cell_type": "code",
      "metadata": {
        "colab": {
          "base_uri": "https://localhost:8080/"
        },
        "id": "tlf3s-aOnoj3",
        "outputId": "d77d2023-f6f7-4fc7-9c6e-0d75015552cc"
      },
      "source": [
        "!mkdir eyedataset\r\n",
        "!mv train_1/ eyedataset\r\n",
        "!mv train_2/ eyedataset\r\n",
        "!mv train_3/ eyedataset\r\n",
        "!mv train_4/ eyedataset\r\n",
        "%cd \"eyedataset\""
      ],
      "execution_count": 8,
      "outputs": [
        {
          "output_type": "stream",
          "text": [
            "/content/drive/My Drive/stylegan2/eyedataset\n"
          ],
          "name": "stdout"
        }
      ]
    },
    {
      "cell_type": "code",
      "metadata": {
        "colab": {
          "base_uri": "https://localhost:8080/"
        },
        "id": "B1UQjz2kIHGF",
        "outputId": "114f74f1-f682-4d33-a1e6-4ec9a1453794"
      },
      "source": [
        "!ls"
      ],
      "execution_count": 9,
      "outputs": [
        {
          "output_type": "stream",
          "text": [
            "train_1  train_2  train_3  train_4\n"
          ],
          "name": "stdout"
        }
      ]
    },
    {
      "cell_type": "code",
      "metadata": {
        "colab": {
          "base_uri": "https://localhost:8080/"
        },
        "id": "67pwFOTnIQjZ",
        "outputId": "733ed953-57d4-406c-9952-028535adb7a9"
      },
      "source": [
        "!pwd"
      ],
      "execution_count": 17,
      "outputs": [
        {
          "output_type": "stream",
          "text": [
            "/content/drive/My Drive/stylegan2\n"
          ],
          "name": "stdout"
        }
      ]
    },
    {
      "cell_type": "code",
      "metadata": {
        "colab": {
          "base_uri": "https://localhost:8080/"
        },
        "id": "tzcvBdNBoHdG",
        "outputId": "5c994802-179e-46c7-e061-3a07afee7b67"
      },
      "source": [
        "%cd \"/content/drive/My Drive/stylegan2\"\r\n",
        "!mkdir eye_dataset"
      ],
      "execution_count": 11,
      "outputs": [
        {
          "output_type": "stream",
          "text": [
            "/content/drive/My Drive/stylegan2\n"
          ],
          "name": "stdout"
        }
      ]
    },
    {
      "cell_type": "code",
      "metadata": {
        "id": "EvWzJeSfIR-T"
      },
      "source": [
        "!cp -r /content/drive/My\\ Drive/stylegan2/eyedataset/*/*/*.jpg /content/drive/My\\ Drive/stylegan2/eye_dataset"
      ],
      "execution_count": 4,
      "outputs": []
    },
    {
      "cell_type": "code",
      "metadata": {
        "colab": {
          "base_uri": "https://localhost:8080/"
        },
        "id": "-2oDdDAFJJ9f",
        "outputId": "e74837b2-5eec-431e-d2b4-a7dcda85b535"
      },
      "source": [
        "%cd \"/content/drive/My Drive/stylegan2/eye_dataset\"\r\n",
        "#!/usr/bin/python\r\n",
        "from PIL import Image\r\n",
        "import os, sys\r\n",
        "\r\n",
        "path = \"/content/drive/My Drive/stylegan2/eye_dataset/\"\r\n",
        "dirs = os.listdir(path)\r\n",
        "\r\n",
        "def resize():\r\n",
        "    for item in dirs:\r\n",
        "        if os.path.isfile(path+item):\r\n",
        "            im = Image.open(path+item)\r\n",
        "            f, e = os.path.splitext(path+item)\r\n",
        "            imResize = im.resize((512,512), Image.ANTIALIAS)\r\n",
        "            imResize.save(f + '.jpg', 'JPEG', quality=90)\r\n",
        "\r\n",
        "resize()"
      ],
      "execution_count": 5,
      "outputs": [
        {
          "output_type": "stream",
          "text": [
            "/content/drive/My Drive/stylegan2/eye_dataset\n"
          ],
          "name": "stdout"
        }
      ]
    },
    {
      "cell_type": "code",
      "metadata": {
        "colab": {
          "base_uri": "https://localhost:8080/"
        },
        "id": "YtjrRPUeJlTF",
        "outputId": "4159035d-2e53-41ac-d519-af849e8d24bf"
      },
      "source": [
        "\r\n",
        "%tensorflow_version 1.x\r\n",
        "\r\n",
        "!git clone https://github.com/dvschultz/stylegan2\r\n",
        "!pip install opensimplex # needed for noise interpolation\r\n",
        "%cd stylegan2\r\n",
        "%mkdir datasets"
      ],
      "execution_count": 18,
      "outputs": [
        {
          "output_type": "stream",
          "text": [
            "fatal: destination path 'stylegan2' already exists and is not an empty directory.\n",
            "Requirement already satisfied: opensimplex in /usr/local/lib/python3.6/dist-packages (0.3)\n",
            "/content/drive/My Drive/stylegan2/eyedataset/stylegan2\n"
          ],
          "name": "stdout"
        }
      ]
    },
    {
      "cell_type": "code",
      "metadata": {
        "colab": {
          "base_uri": "https://localhost:8080/"
        },
        "id": "_DXcsNuQLLLj",
        "outputId": "a2dc56e4-b13e-4b61-d42e-e0dca992ed0f"
      },
      "source": [
        "%cd \"/content/drive/My Drive/stylegan2/stylegan2/\"\r\n",
        "#2nd argument is where to put your tfrecords files\r\n",
        "#3rd should point at your image dataset\r\n"
      ],
      "execution_count": 3,
      "outputs": [
        {
          "output_type": "stream",
          "text": [
            "/content/drive/My Drive/stylegan2/stylegan2\n"
          ],
          "name": "stdout"
        }
      ]
    },
    {
      "cell_type": "code",
      "metadata": {
        "colab": {
          "base_uri": "https://localhost:8080/"
        },
        "id": "FN2Xo2xvLUHI",
        "outputId": "496a00d8-f17a-4bdb-dd38-2aea1cd987c5"
      },
      "source": [
        "!python dataset_tool.py create_from_images /content/drive/My\\ Drive/stylegan2/stylegan2/datasets/eye_dataset /content/drive/My\\ Drive/stylegan2/eye_dataset"
      ],
      "execution_count": 7,
      "outputs": [
        {
          "output_type": "stream",
          "text": [
            "Loading images from \"/content/drive/My Drive/stylegan2/eye_dataset\"\n",
            "Creating dataset \"/content/drive/My Drive/stylegan2/stylegan2/datasets/eye_dataset\"\n",
            "Added 2000 images.\n"
          ],
          "name": "stdout"
        }
      ]
    },
    {
      "cell_type": "code",
      "metadata": {
        "colab": {
          "base_uri": "https://localhost:8080/"
        },
        "id": "uXqNOH2NNO7f",
        "outputId": "99430cde-71e1-4b98-caee-517e72e0607d"
      },
      "source": [
        "%cd \"/content/drive/My Drive/stylegan2/stylegan2/datasets/eye_dataset/\"\r\n",
        "!ls"
      ],
      "execution_count": 4,
      "outputs": [
        {
          "output_type": "stream",
          "text": [
            "/content/drive/My Drive/stylegan2/stylegan2/datasets/eye_dataset\n",
            "eye_dataset-r02.tfrecords  eye_dataset-r05.tfrecords  eye_dataset-r08.tfrecords\n",
            "eye_dataset-r03.tfrecords  eye_dataset-r06.tfrecords  eye_dataset-r09.tfrecords\n",
            "eye_dataset-r04.tfrecords  eye_dataset-r07.tfrecords\n"
          ],
          "name": "stdout"
        }
      ]
    },
    {
      "cell_type": "code",
      "metadata": {
        "colab": {
          "base_uri": "https://localhost:8080/"
        },
        "id": "V-R_oHxfNdQG",
        "outputId": "59dcef3e-a1f6-4d94-9e4b-54abeb0754c3"
      },
      "source": [
        "%cd \"/content/drive/My Drive/stylegan2/stylegan2/\"\r\n",
        "!python run_training.py --num-gpus=1 --data-dir=./datasets --config=config-b --dataset=eye_dataset --mirror-augment=true --metrics=fid50k"
      ],
      "execution_count": 5,
      "outputs": [
        {
          "output_type": "stream",
          "text": [
            "/content/drive/My Drive/stylegan2/stylegan2\n",
            "Local submit - run_dir: results/00000-stylegan2-eye_dataset-1gpu-config-b\n",
            "dnnlib: Running training.training_loop.training_loop() on localhost...\n",
            "Streaming data using training.dataset.TFRecordDataset...\n",
            "tcmalloc: large alloc 4294967296 bytes == 0x79ce000 @  0x7f7674f74001 0x7f7671a1a4ff 0x7f7671a6ab08 0x7f7671a6eac7 0x7f7671b0d1a3 0x50a4a5 0x50cc96 0x507be4 0x508ec2 0x594a01 0x549e8f 0x5515c1 0x59fd0e 0x50d256 0x507be4 0x588e5c 0x59fd0e 0x50d256 0x507be4 0x588e5c 0x59fd0e 0x50d256 0x5095c8 0x50a2fd 0x50beb4 0x5095c8 0x50a2fd 0x50beb4 0x507be4 0x588e5c 0x59fd0e\n",
            "tcmalloc: large alloc 4294967296 bytes == 0x7f74ab2c8000 @  0x7f7674f721e7 0x7f7671a1a41e 0x7f7671a6ac2b 0x7f7671a6b30f 0x7f7671b0d0a3 0x50a4a5 0x50cc96 0x507be4 0x509900 0x50a2fd 0x50cc96 0x507be4 0x509900 0x50a2fd 0x50cc96 0x507be4 0x509900 0x50a2fd 0x50cc96 0x5095c8 0x50a2fd 0x50beb4 0x507be4 0x509900 0x50a2fd 0x50beb4 0x507be4 0x509900 0x50a2fd 0x50cc96 0x507be4\n",
            "tcmalloc: large alloc 4294967296 bytes == 0x7f73aa2c6000 @  0x7f7674f721e7 0x7f7671a1a41e 0x7f7671a6ac2b 0x7f7671a6b30f 0x7f762d7860c5 0x7f762d109902 0x7f762d109eb2 0x7f762d0c2c3e 0x50a12f 0x50beb4 0x5095c8 0x50a2fd 0x50beb4 0x507be4 0x588c8b 0x59fd0e 0x50d256 0x507be4 0x509900 0x50a2fd 0x50beb4 0x507be4 0x509900 0x50a2fd 0x50beb4 0x5095c8 0x50a2fd 0x50beb4 0x507be4 0x508ec2 0x594a01\n",
            "Dataset shape = [3, 512, 512]\n",
            "Dynamic range = [0, 255]\n",
            "Label size    = 0\n",
            "Constructing networks...\n",
            "Setting up TensorFlow plugin \"fused_bias_act.cu\": Preprocessing... Loading... Done.\n",
            "Setting up TensorFlow plugin \"upfirdn_2d.cu\": Preprocessing... Loading... Done.\n",
            "\n",
            "G                             Params    OutputShape         WeightShape     \n",
            "---                           ---       ---                 ---             \n",
            "latents_in                    -         (?, 512)            -               \n",
            "labels_in                     -         (?, 0)              -               \n",
            "lod                           -         ()                  -               \n",
            "dlatent_avg                   -         (512,)              -               \n",
            "G_mapping/latents_in          -         (?, 512)            -               \n",
            "G_mapping/labels_in           -         (?, 0)              -               \n",
            "G_mapping/Normalize           -         (?, 512)            -               \n",
            "G_mapping/Dense0              262656    (?, 512)            (512, 512)      \n",
            "G_mapping/Dense1              262656    (?, 512)            (512, 512)      \n",
            "G_mapping/Dense2              262656    (?, 512)            (512, 512)      \n",
            "G_mapping/Dense3              262656    (?, 512)            (512, 512)      \n",
            "G_mapping/Dense4              262656    (?, 512)            (512, 512)      \n",
            "G_mapping/Dense5              262656    (?, 512)            (512, 512)      \n",
            "G_mapping/Dense6              262656    (?, 512)            (512, 512)      \n",
            "G_mapping/Dense7              262656    (?, 512)            (512, 512)      \n",
            "G_mapping/Broadcast           -         (?, 16, 512)        -               \n",
            "G_mapping/dlatents_out        -         (?, 16, 512)        -               \n",
            "Truncation/Lerp               -         (?, 16, 512)        -               \n",
            "G_synthesis/dlatents_in       -         (?, 16, 512)        -               \n",
            "G_synthesis/4x4/Const         8192      (?, 512, 4, 4)      (1, 512, 4, 4)  \n",
            "G_synthesis/4x4/Conv          2622465   (?, 512, 4, 4)      (3, 3, 512, 512)\n",
            "G_synthesis/ToRGB_lod7        264195    (?, 3, 4, 4)        (1, 1, 512, 3)  \n",
            "G_synthesis/8x8/Conv0_up      2622465   (?, 512, 8, 8)      (3, 3, 512, 512)\n",
            "G_synthesis/8x8/Conv1         2622465   (?, 512, 8, 8)      (3, 3, 512, 512)\n",
            "G_synthesis/ToRGB_lod6        264195    (?, 3, 8, 8)        (1, 1, 512, 3)  \n",
            "G_synthesis/Upsample_lod6     -         (?, 3, 8, 8)        -               \n",
            "G_synthesis/Grow_lod6         -         (?, 3, 8, 8)        -               \n",
            "G_synthesis/16x16/Conv0_up    2622465   (?, 512, 16, 16)    (3, 3, 512, 512)\n",
            "G_synthesis/16x16/Conv1       2622465   (?, 512, 16, 16)    (3, 3, 512, 512)\n",
            "G_synthesis/ToRGB_lod5        264195    (?, 3, 16, 16)      (1, 1, 512, 3)  \n",
            "G_synthesis/Upsample_lod5     -         (?, 3, 16, 16)      -               \n",
            "G_synthesis/Grow_lod5         -         (?, 3, 16, 16)      -               \n",
            "G_synthesis/32x32/Conv0_up    2622465   (?, 512, 32, 32)    (3, 3, 512, 512)\n",
            "G_synthesis/32x32/Conv1       2622465   (?, 512, 32, 32)    (3, 3, 512, 512)\n",
            "G_synthesis/ToRGB_lod4        264195    (?, 3, 32, 32)      (1, 1, 512, 3)  \n",
            "G_synthesis/Upsample_lod4     -         (?, 3, 32, 32)      -               \n",
            "G_synthesis/Grow_lod4         -         (?, 3, 32, 32)      -               \n",
            "G_synthesis/64x64/Conv0_up    1442561   (?, 256, 64, 64)    (3, 3, 512, 256)\n",
            "G_synthesis/64x64/Conv1       721409    (?, 256, 64, 64)    (3, 3, 256, 256)\n",
            "G_synthesis/ToRGB_lod3        132099    (?, 3, 64, 64)      (1, 1, 256, 3)  \n",
            "G_synthesis/Upsample_lod3     -         (?, 3, 64, 64)      -               \n",
            "G_synthesis/Grow_lod3         -         (?, 3, 64, 64)      -               \n",
            "G_synthesis/128x128/Conv0_up  426369    (?, 128, 128, 128)  (3, 3, 256, 128)\n",
            "G_synthesis/128x128/Conv1     213249    (?, 128, 128, 128)  (3, 3, 128, 128)\n",
            "G_synthesis/ToRGB_lod2        66051     (?, 3, 128, 128)    (1, 1, 128, 3)  \n",
            "G_synthesis/Upsample_lod2     -         (?, 3, 128, 128)    -               \n",
            "G_synthesis/Grow_lod2         -         (?, 3, 128, 128)    -               \n",
            "G_synthesis/256x256/Conv0_up  139457    (?, 64, 256, 256)   (3, 3, 128, 64) \n",
            "G_synthesis/256x256/Conv1     69761     (?, 64, 256, 256)   (3, 3, 64, 64)  \n",
            "G_synthesis/ToRGB_lod1        33027     (?, 3, 256, 256)    (1, 1, 64, 3)   \n",
            "G_synthesis/Upsample_lod1     -         (?, 3, 256, 256)    -               \n",
            "G_synthesis/Grow_lod1         -         (?, 3, 256, 256)    -               \n",
            "G_synthesis/512x512/Conv0_up  51297     (?, 32, 512, 512)   (3, 3, 64, 32)  \n",
            "G_synthesis/512x512/Conv1     25665     (?, 32, 512, 512)   (3, 3, 32, 32)  \n",
            "G_synthesis/ToRGB_lod0        16515     (?, 3, 512, 512)    (1, 1, 32, 3)   \n",
            "G_synthesis/Upsample_lod0     -         (?, 3, 512, 512)    -               \n",
            "G_synthesis/Grow_lod0         -         (?, 3, 512, 512)    -               \n",
            "G_synthesis/images_out        -         (?, 3, 512, 512)    -               \n",
            "G_synthesis/lod               -         ()                  -               \n",
            "G_synthesis/noise0            -         (1, 1, 4, 4)        -               \n",
            "G_synthesis/noise1            -         (1, 1, 8, 8)        -               \n",
            "G_synthesis/noise2            -         (1, 1, 8, 8)        -               \n",
            "G_synthesis/noise3            -         (1, 1, 16, 16)      -               \n",
            "G_synthesis/noise4            -         (1, 1, 16, 16)      -               \n",
            "G_synthesis/noise5            -         (1, 1, 32, 32)      -               \n",
            "G_synthesis/noise6            -         (1, 1, 32, 32)      -               \n",
            "G_synthesis/noise7            -         (1, 1, 64, 64)      -               \n",
            "G_synthesis/noise8            -         (1, 1, 64, 64)      -               \n",
            "G_synthesis/noise9            -         (1, 1, 128, 128)    -               \n",
            "G_synthesis/noise10           -         (1, 1, 128, 128)    -               \n",
            "G_synthesis/noise11           -         (1, 1, 256, 256)    -               \n",
            "G_synthesis/noise12           -         (1, 1, 256, 256)    -               \n",
            "G_synthesis/noise13           -         (1, 1, 512, 512)    -               \n",
            "G_synthesis/noise14           -         (1, 1, 512, 512)    -               \n",
            "images_out                    -         (?, 3, 512, 512)    -               \n",
            "---                           ---       ---                 ---             \n",
            "Total                         24860935                                      \n",
            "\n",
            "\n",
            "D                    Params    OutputShape         WeightShape     \n",
            "---                  ---       ---                 ---             \n",
            "images_in            -         (?, 3, 512, 512)    -               \n",
            "labels_in            -         (?, 0)              -               \n",
            "lod                  -         ()                  -               \n",
            "FromRGB_lod0         128       (?, 32, 512, 512)   (1, 1, 3, 32)   \n",
            "512x512/Conv0        9248      (?, 32, 512, 512)   (3, 3, 32, 32)  \n",
            "512x512/Conv1_down   18496     (?, 64, 256, 256)   (3, 3, 32, 64)  \n",
            "Downsample_lod0      -         (?, 3, 256, 256)    -               \n",
            "FromRGB_lod1         256       (?, 64, 256, 256)   (1, 1, 3, 64)   \n",
            "Grow_lod0            -         (?, 64, 256, 256)   -               \n",
            "256x256/Conv0        36928     (?, 64, 256, 256)   (3, 3, 64, 64)  \n",
            "256x256/Conv1_down   73856     (?, 128, 128, 128)  (3, 3, 64, 128) \n",
            "Downsample_lod1      -         (?, 3, 128, 128)    -               \n",
            "FromRGB_lod2         512       (?, 128, 128, 128)  (1, 1, 3, 128)  \n",
            "Grow_lod1            -         (?, 128, 128, 128)  -               \n",
            "128x128/Conv0        147584    (?, 128, 128, 128)  (3, 3, 128, 128)\n",
            "128x128/Conv1_down   295168    (?, 256, 64, 64)    (3, 3, 128, 256)\n",
            "Downsample_lod2      -         (?, 3, 64, 64)      -               \n",
            "FromRGB_lod3         1024      (?, 256, 64, 64)    (1, 1, 3, 256)  \n",
            "Grow_lod2            -         (?, 256, 64, 64)    -               \n",
            "64x64/Conv0          590080    (?, 256, 64, 64)    (3, 3, 256, 256)\n",
            "64x64/Conv1_down     1180160   (?, 512, 32, 32)    (3, 3, 256, 512)\n",
            "Downsample_lod3      -         (?, 3, 32, 32)      -               \n",
            "FromRGB_lod4         2048      (?, 512, 32, 32)    (1, 1, 3, 512)  \n",
            "Grow_lod3            -         (?, 512, 32, 32)    -               \n",
            "32x32/Conv0          2359808   (?, 512, 32, 32)    (3, 3, 512, 512)\n",
            "32x32/Conv1_down     2359808   (?, 512, 16, 16)    (3, 3, 512, 512)\n",
            "Downsample_lod4      -         (?, 3, 16, 16)      -               \n",
            "FromRGB_lod5         2048      (?, 512, 16, 16)    (1, 1, 3, 512)  \n",
            "Grow_lod4            -         (?, 512, 16, 16)    -               \n",
            "16x16/Conv0          2359808   (?, 512, 16, 16)    (3, 3, 512, 512)\n",
            "16x16/Conv1_down     2359808   (?, 512, 8, 8)      (3, 3, 512, 512)\n",
            "Downsample_lod5      -         (?, 3, 8, 8)        -               \n",
            "FromRGB_lod6         2048      (?, 512, 8, 8)      (1, 1, 3, 512)  \n",
            "Grow_lod5            -         (?, 512, 8, 8)      -               \n",
            "8x8/Conv0            2359808   (?, 512, 8, 8)      (3, 3, 512, 512)\n",
            "8x8/Conv1_down       2359808   (?, 512, 4, 4)      (3, 3, 512, 512)\n",
            "Downsample_lod6      -         (?, 3, 4, 4)        -               \n",
            "FromRGB_lod7         2048      (?, 512, 4, 4)      (1, 1, 3, 512)  \n",
            "Grow_lod6            -         (?, 512, 4, 4)      -               \n",
            "4x4/MinibatchStddev  -         (?, 513, 4, 4)      -               \n",
            "4x4/Conv             2364416   (?, 512, 4, 4)      (3, 3, 513, 512)\n",
            "4x4/Dense0           4194816   (?, 512)            (8192, 512)     \n",
            "Output               513       (?, 1)              (512, 1)        \n",
            "scores_out           -         (?, 1)              -               \n",
            "---                  ---       ---                 ---             \n",
            "Total                23080225                                      \n",
            "\n",
            "Building TensorFlow graph...\n",
            "Initializing logs...\n",
            "Training for 25000 kimg...\n",
            "\n",
            "tick 0     kimg 1.0      lod 6.00  minibatch 256  time 44s          sec/tick 44.3    sec/kimg 43.27   maintenance 0.0    gpumem 6.0\n",
            "tcmalloc: large alloc 4294967296 bytes == 0x7f6e7aac0000 @  0x7f7674f74001 0x7f7671a1a4ff 0x7f7671a6ab08 0x7f7671a6eac7 0x7f7671b0d1a3 0x50a4a5 0x50cc96 0x507be4 0x508ec2 0x594a01 0x549e8f 0x5515c1 0x59fd0e 0x50d256 0x507be4 0x588e5c 0x59fd0e 0x50d256 0x5095c8 0x50a2fd 0x50beb4 0x58e6f9 0x4b5d7f 0x50c127 0x507be4 0x509900 0x50a2fd 0x50cc96 0x507be4 0x508ec2 0x594a01\n",
            "^C\n"
          ],
          "name": "stdout"
        }
      ]
    },
    {
      "cell_type": "code",
      "metadata": {
        "colab": {
          "base_uri": "https://localhost:8080/"
        },
        "id": "XPLCjJSkNgzY",
        "outputId": "9c4d6aea-9280-49ef-f1c2-300e6a246868"
      },
      "source": [
        "%cd \"/content/drive/My Drive/stylegan2/stylegan2/results\"\r\n",
        "!ls"
      ],
      "execution_count": 6,
      "outputs": [
        {
          "output_type": "stream",
          "text": [
            "/content/drive/My Drive/stylegan2/stylegan2/results\n",
            "00000-stylegan2-eye_dataset-1gpu-config-b\n"
          ],
          "name": "stdout"
        }
      ]
    },
    {
      "cell_type": "code",
      "metadata": {
        "colab": {
          "base_uri": "https://localhost:8080/"
        },
        "id": "L9n32nMkO0g4",
        "outputId": "41d80bae-4c5d-48a0-c937-8c8224e5881d"
      },
      "source": [
        "\r\n",
        "%cd \"/content/drive/My Drive/stylegan2/stylegan2/results/00000-stylegan2-eye_dataset-1gpu-config-b\"\r\n",
        "!ls"
      ],
      "execution_count": 7,
      "outputs": [
        {
          "output_type": "stream",
          "text": [
            "/content/drive/My Drive/stylegan2/stylegan2/results/00000-stylegan2-eye_dataset-1gpu-config-b\n",
            "fakes000001.png  log.txt\t\t      reals.png  submit_config.pkl\n",
            "fakes_init.png\t network-snapshot-000001.pkl  run.txt\t submit_config.txt\n"
          ],
          "name": "stdout"
        }
      ]
    },
    {
      "cell_type": "code",
      "metadata": {
        "colab": {
          "base_uri": "https://localhost:8080/"
        },
        "id": "4qn_ClKkO4ud",
        "outputId": "eeb134e1-b6a9-4f7d-cc5a-074a32b76a5e"
      },
      "source": [
        "%cd \"/content/drive/My Drive/stylegan2/stylegan2\"\r\n",
        "!python run_metrics.py --data-dir=./datasets --network=./results/00000-stylegan2-eye_dataset-1gpu-config-b/network-snapshot-000001.pkl --metrics=fid50k,ppl_wend --dataset=eye_dataset --mirror-augment=true"
      ],
      "execution_count": 9,
      "outputs": [
        {
          "output_type": "stream",
          "text": [
            "/content/drive/My Drive/stylegan2/stylegan2\n",
            "Local submit - run_dir: results/00001-run-metrics\n",
            "dnnlib: Running run_metrics.run() on localhost...\n",
            "Evaluating metrics \"fid50k,ppl_wend\" for \"./results/00000-stylegan2-eye_dataset-1gpu-config-b/network-snapshot-000001.pkl\"...\n",
            "Setting up TensorFlow plugin \"fused_bias_act.cu\": Preprocessing... Loading... Done.\n",
            "Setting up TensorFlow plugin \"upfirdn_2d.cu\": Preprocessing... Loading... Done.\n",
            "tcmalloc: large alloc 4294967296 bytes == 0x5525e000 @  0x7ffa90c3f001 0x7ffa8d6e54ff 0x7ffa8d735b08 0x7ffa8d739ac7 0x7ffa8d7d81a3 0x50a4a5 0x50cc96 0x507be4 0x508ec2 0x594a01 0x549e8f 0x5515c1 0x59fd0e 0x50d256 0x507be4 0x588e5c 0x59fd0e 0x50d256 0x5095c8 0x50a2fd 0x50beb4 0x58e6f9 0x4b5d7f 0x50c127 0x507be4 0x509900 0x50a2fd 0x50cc96 0x507be4 0x508ec2 0x594a01\n",
            "tcmalloc: large alloc 4294967296 bytes == 0x7ff892000000 @  0x7ffa90c3d1e7 0x7ffa8d6e541e 0x7ffa8d735c2b 0x7ffa8d73630f 0x7ffa8d7d80a3 0x50a4a5 0x50cc96 0x507be4 0x509900 0x50a2fd 0x50cc96 0x507be4 0x509900 0x50a2fd 0x50cc96 0x507be4 0x509900 0x50a2fd 0x50cc96 0x5095c8 0x50a2fd 0x50beb4 0x507be4 0x509900 0x50a2fd 0x50beb4 0x507be4 0x509900 0x50a2fd 0x50cc96 0x507be4\n",
            "tcmalloc: large alloc 4294967296 bytes == 0x7ff892000000 @  0x7ffa90c3d1e7 0x7ffa8d6e541e 0x7ffa8d735c2b 0x7ffa8d73630f 0x7ffa49cd30c5 0x7ffa49656902 0x7ffa49656eb2 0x7ffa4960fc3e 0x50a12f 0x50beb4 0x5095c8 0x50a2fd 0x50beb4 0x507be4 0x588c8b 0x59fd0e 0x50d256 0x507be4 0x509900 0x50a2fd 0x50beb4 0x507be4 0x509900 0x50a2fd 0x50beb4 0x5095c8 0x50a2fd 0x50beb4 0x507be4 0x508ec2 0x594a01\n",
            "network-snapshot-000001        time 16m 46s      fid50k 401.1509\n",
            "tcmalloc: large alloc 4294967296 bytes == 0x7ff544000000 @  0x7ffa90c3f001 0x7ffa8d6e54ff 0x7ffa8d735b08 0x7ffa8d739ac7 0x7ffa8d7d81a3 0x50a4a5 0x50cc96 0x507be4 0x508ec2 0x594a01 0x549e8f 0x5515c1 0x59fd0e 0x50d256 0x507be4 0x588e5c 0x59fd0e 0x50d256 0x5095c8 0x50a2fd 0x50beb4 0x5095c8 0x50a2fd 0x50beb4 0x507be4 0x509900 0x50a2fd 0x50cc96 0x507be4 0x508ec2 0x594a01\n",
            "tcmalloc: large alloc 4294967296 bytes == 0x7ff443800000 @  0x7ffa90c3d1e7 0x7ffa8d6e541e 0x7ffa8d735c2b 0x7ffa8d73630f 0x7ffa8d7d80a3 0x50a4a5 0x50cc96 0x507be4 0x509900 0x50a2fd 0x50cc96 0x507be4 0x509900 0x50a2fd 0x50cc96 0x507be4 0x509900 0x50a2fd 0x50cc96 0x5095c8 0x50a2fd 0x50beb4 0x507be4 0x509900 0x50a2fd 0x50beb4 0x507be4 0x509900 0x50a2fd 0x50cc96 0x507be4\n",
            "tcmalloc: large alloc 4294967296 bytes == 0x7ff443800000 @  0x7ffa90c3d1e7 0x7ffa8d6e541e 0x7ffa8d735c2b 0x7ffa8d73630f 0x7ffa49cd30c5 0x7ffa49656902 0x7ffa49656eb2 0x7ffa4960fc3e 0x50a12f 0x50beb4 0x5095c8 0x50a2fd 0x50beb4 0x507be4 0x588c8b 0x59fd0e 0x50d256 0x507be4 0x509900 0x50a2fd 0x50beb4 0x507be4 0x509900 0x50a2fd 0x50beb4 0x5095c8 0x50a2fd 0x50beb4 0x507be4 0x508ec2 0x594a01\n",
            "network-snapshot-000001        time 21m 19s      ppl_wend 3.4310\n",
            "dnnlib: Finished run_metrics.run() in 38m 06s.\n"
          ],
          "name": "stdout"
        }
      ]
    },
    {
      "cell_type": "code",
      "metadata": {
        "colab": {
          "base_uri": "https://localhost:8080/"
        },
        "id": "alqhkHNtPV14",
        "outputId": "75558513-305c-437d-e8d5-24cdf29bf8e7"
      },
      "source": [
        "%cd \"/content/drive/My Drive/stylegan2/stylegan2/\"\r\n",
        "!pip install opensimplex\r\n",
        "!python run_generator.py generate-images --network=./results/00000-stylegan2-eye_dataset-1gpu-config-b/network-snapshot-000001.pkl --seeds=6600-6635 --truncation-psi=0.5"
      ],
      "execution_count": 10,
      "outputs": [
        {
          "output_type": "stream",
          "text": [
            "/content/drive/My Drive/stylegan2/stylegan2\n",
            "Requirement already satisfied: opensimplex in /usr/local/lib/python3.6/dist-packages (0.3)\n",
            "Local submit - run_dir: results/00002-generate-images\n",
            "dnnlib: Running run_generator.generate_images() on localhost...\n",
            "Loading networks from \"./results/00000-stylegan2-eye_dataset-1gpu-config-b/network-snapshot-000001.pkl\"...\n",
            "Setting up TensorFlow plugin \"fused_bias_act.cu\": Preprocessing... Loading... Done.\n",
            "Setting up TensorFlow plugin \"upfirdn_2d.cu\": Preprocessing... Loading... Done.\n",
            "Generating image for seed 6600 (0/36) ...\n",
            "Generating image for seed 6601 (1/36) ...\n",
            "Generating image for seed 6602 (2/36) ...\n",
            "Generating image for seed 6603 (3/36) ...\n",
            "Generating image for seed 6604 (4/36) ...\n",
            "Generating image for seed 6605 (5/36) ...\n",
            "Generating image for seed 6606 (6/36) ...\n",
            "Generating image for seed 6607 (7/36) ...\n",
            "Generating image for seed 6608 (8/36) ...\n",
            "Generating image for seed 6609 (9/36) ...\n",
            "Generating image for seed 6610 (10/36) ...\n",
            "Generating image for seed 6611 (11/36) ...\n",
            "Generating image for seed 6612 (12/36) ...\n",
            "Generating image for seed 6613 (13/36) ...\n",
            "Generating image for seed 6614 (14/36) ...\n",
            "Generating image for seed 6615 (15/36) ...\n",
            "Generating image for seed 6616 (16/36) ...\n",
            "Generating image for seed 6617 (17/36) ...\n",
            "Generating image for seed 6618 (18/36) ...\n",
            "Generating image for seed 6619 (19/36) ...\n",
            "Generating image for seed 6620 (20/36) ...\n",
            "Generating image for seed 6621 (21/36) ...\n",
            "Generating image for seed 6622 (22/36) ...\n",
            "Generating image for seed 6623 (23/36) ...\n",
            "Generating image for seed 6624 (24/36) ...\n",
            "Generating image for seed 6625 (25/36) ...\n",
            "Generating image for seed 6626 (26/36) ...\n",
            "Generating image for seed 6627 (27/36) ...\n",
            "Generating image for seed 6628 (28/36) ...\n",
            "Generating image for seed 6629 (29/36) ...\n",
            "Generating image for seed 6630 (30/36) ...\n",
            "Generating image for seed 6631 (31/36) ...\n",
            "Generating image for seed 6632 (32/36) ...\n",
            "Generating image for seed 6633 (33/36) ...\n",
            "Generating image for seed 6634 (34/36) ...\n",
            "Generating image for seed 6635 (35/36) ...\n",
            "dnnlib: Finished run_generator.generate_images() in 36s.\n"
          ],
          "name": "stdout"
        }
      ]
    },
    {
      "cell_type": "code",
      "metadata": {
        "colab": {
          "base_uri": "https://localhost:8080/",
          "height": 1000
        },
        "id": "afdS56FRg38s",
        "outputId": "31d43b05-8572-4dbd-8e3a-91c7cd0deb0a"
      },
      "source": [
        "import glob\r\n",
        "from IPython.display import Image, display\r\n",
        "for imageName in glob.glob('/content/drive/My Drive/stylegan2/stylegan2/results/00002-generate-images/*.png'): \r\n",
        "    display(Image(filename=imageName))\r\n",
        "    print(imageName)"
      ],
      "execution_count": 11,
      "outputs": [
        {
          "output_type": "display_data",
          "data": {
            "image/png": "[encoded data removed]",
            "text/plain": [
              "<IPython.core.display.Image object>"
            ]
          },
          "metadata": {
            "tags": []
          }
        },
        {
          "output_type": "stream",
          "text": [
            "/content/drive/My Drive/stylegan2/stylegan2/results/00002-generate-images/seed6600.png\n"
          ],
          "name": "stdout"
        },
        {
          "output_type": "display_data",
          "data": {
            "image/png": "[encoded data removed]",
            "text/plain": [
              "<IPython.core.display.Image object>"
            ]
          },
          "metadata": {
            "tags": []
          }
        },
        {
          "output_type": "stream",
          "text": [
            "/content/drive/My Drive/stylegan2/stylegan2/results/00002-generate-images/seed6601.png\n"
          ],
          "name": "stdout"
        },
        {
          "output_type": "display_data",
          "data": {
            "image/png": "[encoded data removed]",
            "text/plain": [
              "<IPython.core.display.Image object>"
            ]
          },
          "metadata": {
            "tags": []
          }
        },
        {
          "output_type": "stream",
          "text": [
            "/content/drive/My Drive/stylegan2/stylegan2/results/00002-generate-images/seed6602.png\n"
          ],
          "name": "stdout"
        },
        {
          "output_type": "display_data",
          "data": {
            "image/png": "[encoded data removed]",
            "text/plain": [
              "<IPython.core.display.Image object>"
            ]
          },
          "metadata": {
            "tags": []
          }
        },
        {
          "output_type": "stream",
          "text": [
            "/content/drive/My Drive/stylegan2/stylegan2/results/00002-generate-images/seed6603.png\n"
          ],
          "name": "stdout"
        },
        {
          "output_type": "display_data",
          "data": {
            "image/png": "[encoded data removed]",
            "text/plain": [
              "<IPython.core.display.Image object>"
            ]
          },
          "metadata": {
            "tags": []
          }
        },
        {
          "output_type": "stream",
          "text": [
            "/content/drive/My Drive/stylegan2/stylegan2/results/00002-generate-images/seed6604.png\n"
          ],
          "name": "stdout"
        },
        {
          "output_type": "display_data",
          "data": {
            "image/png": "[encoded data removed]",
            "text/plain": [
              "<IPython.core.display.Image object>"
            ]
          },
          "metadata": {
            "tags": []
          }
        },
        {
          "output_type": "stream",
          "text": [
            "/content/drive/My Drive/stylegan2/stylegan2/results/00002-generate-images/seed6605.png\n"
          ],
          "name": "stdout"
        },
        {
          "output_type": "display_data",
          "data": {
            "image/png": "[encoded data removed]",
            "text/plain": [
              "<IPython.core.display.Image object>"
            ]
          },
          "metadata": {
            "tags": []
          }
        },
        {
          "output_type": "stream",
          "text": [
            "/content/drive/My Drive/stylegan2/stylegan2/results/00002-generate-images/seed6606.png\n"
          ],
          "name": "stdout"
        },
        {
          "output_type": "display_data",
          "data": {
            "image/png": "[encoded data removed]",
            "text/plain": [
              "<IPython.core.display.Image object>"
            ]
          },
          "metadata": {
            "tags": []
          }
        },
        {
          "output_type": "stream",
          "text": [
            "/content/drive/My Drive/stylegan2/stylegan2/results/00002-generate-images/seed6607.png\n"
          ],
          "name": "stdout"
        },
        {
          "output_type": "display_data",
          "data": {
            "image/png": "[encoded data removed]",
            "text/plain": [
              "<IPython.core.display.Image object>"
            ]
          },
          "metadata": {
            "tags": []
          }
        },
        {
          "output_type": "stream",
          "text": [
            "/content/drive/My Drive/stylegan2/stylegan2/results/00002-generate-images/seed6608.png\n"
          ],
          "name": "stdout"
        },
        {
          "output_type": "display_data",
          "data": {
            "image/png": "[encoded data removed]",
            "text/plain": [
              "<IPython.core.display.Image object>"
            ]
          },
          "metadata": {
            "tags": []
          }
        },
        {
          "output_type": "stream",
          "text": [
            "/content/drive/My Drive/stylegan2/stylegan2/results/00002-generate-images/seed6609.png\n"
          ],
          "name": "stdout"
        },
        {
          "output_type": "display_data",
          "data": {
            "image/png": "[encoded data removed]",
            "text/plain": [
              "<IPython.core.display.Image object>"
            ]
          },
          "metadata": {
            "tags": []
          }
        },
        {
          "output_type": "stream",
          "text": [
            "/content/drive/My Drive/stylegan2/stylegan2/results/00002-generate-images/seed6610.png\n"
          ],
          "name": "stdout"
        },
        {
          "output_type": "display_data",
          "data": {
            "image/png": "[encoded data removed]",
            "text/plain": [
              "<IPython.core.display.Image object>"
            ]
          },
          "metadata": {
            "tags": []
          }
        },
        {
          "output_type": "stream",
          "text": [
            "/content/drive/My Drive/stylegan2/stylegan2/results/00002-generate-images/seed6611.png\n"
          ],
          "name": "stdout"
        },
        {
          "output_type": "display_data",
          "data": {
            "image/png": "[encoded data removed]",
            "text/plain": [
              "<IPython.core.display.Image object>"
            ]
          },
          "metadata": {
            "tags": []
          }
        },
        {
          "output_type": "stream",
          "text": [
            "/content/drive/My Drive/stylegan2/stylegan2/results/00002-generate-images/seed6612.png\n"
          ],
          "name": "stdout"
        },
        {
          "output_type": "display_data",
          "data": {
            "image/png": "[encoded data removed]",
            "text/plain": [
              "<IPython.core.display.Image object>"
            ]
          },
          "metadata": {
            "tags": []
          }
        },
        {
          "output_type": "stream",
          "text": [
            "/content/drive/My Drive/stylegan2/stylegan2/results/00002-generate-images/seed6613.png\n"
          ],
          "name": "stdout"
        },
        {
          "output_type": "display_data",
          "data": {
            "image/png": "[encoded data removed]",
            "text/plain": [
              "<IPython.core.display.Image object>"
            ]
          },
          "metadata": {
            "tags": []
          }
        },
        {
          "output_type": "stream",
          "text": [
            "/content/drive/My Drive/stylegan2/stylegan2/results/00002-generate-images/seed6614.png\n"
          ],
          "name": "stdout"
        },
        {
          "output_type": "display_data",
          "data": {
            "image/png": "[encoded data removed]",
            "text/plain": [
              "<IPython.core.display.Image object>"
            ]
          },
          "metadata": {
            "tags": []
          }
        },
        {
          "output_type": "stream",
          "text": [
            "/content/drive/My Drive/stylegan2/stylegan2/results/00002-generate-images/seed6615.png\n"
          ],
          "name": "stdout"
        },
        {
          "output_type": "display_data",
          "data": {
            "image/png": "[encoded data removed]",
            "text/plain": [
              "<IPython.core.display.Image object>"
            ]
          },
          "metadata": {
            "tags": []
          }
        },
        {
          "output_type": "stream",
          "text": [
            "/content/drive/My Drive/stylegan2/stylegan2/results/00002-generate-images/seed6616.png\n"
          ],
          "name": "stdout"
        },
        {
          "output_type": "display_data",
          "data": {
            "image/png": "[encoded data removed]",
            "text/plain": [
              "<IPython.core.display.Image object>"
            ]
          },
          "metadata": {
            "tags": []
          }
        },
        {
          "output_type": "stream",
          "text": [
            "/content/drive/My Drive/stylegan2/stylegan2/results/00002-generate-images/seed6617.png\n"
          ],
          "name": "stdout"
        },
        {
          "output_type": "display_data",
          "data": {
            "image/png": "[encoded data removed]",
            "text/plain": [
              "<IPython.core.display.Image object>"
            ]
          },
          "metadata": {
            "tags": []
          }
        },
        {
          "output_type": "stream",
          "text": [
            "/content/drive/My Drive/stylegan2/stylegan2/results/00002-generate-images/seed6618.png\n"
          ],
          "name": "stdout"
        },
        {
          "output_type": "display_data",
          "data": {
            "image/png": "[encoded data removed]",
            "text/plain": [
              "<IPython.core.display.Image object>"
            ]
          },
          "metadata": {
            "tags": []
          }
        },
        {
          "output_type": "stream",
          "text": [
            "/content/drive/My Drive/stylegan2/stylegan2/results/00002-generate-images/seed6619.png\n"
          ],
          "name": "stdout"
        },
        {
          "output_type": "display_data",
          "data": {
            "image/png": "[encoded data removed]",
            "text/plain": [
              "<IPython.core.display.Image object>"
            ]
          },
          "metadata": {
            "tags": []
          }
        },
        {
          "output_type": "stream",
          "text": [
            "/content/drive/My Drive/stylegan2/stylegan2/results/00002-generate-images/seed6620.png\n"
          ],
          "name": "stdout"
        },
        {
          "output_type": "display_data",
          "data": {
            "image/png": "[encoded data removed]",
            "text/plain": [
              "<IPython.core.display.Image object>"
            ]
          },
          "metadata": {
            "tags": []
          }
        },
        {
          "output_type": "stream",
          "text": [
            "/content/drive/My Drive/stylegan2/stylegan2/results/00002-generate-images/seed6621.png\n"
          ],
          "name": "stdout"
        },
        {
          "output_type": "display_data",
          "data": {
            "image/png": "[encoded data removed]",
            "text/plain": [
              "<IPython.core.display.Image object>"
            ]
          },
          "metadata": {
            "tags": []
          }
        },
        {
          "output_type": "stream",
          "text": [
            "/content/drive/My Drive/stylegan2/stylegan2/results/00002-generate-images/seed6622.png\n"
          ],
          "name": "stdout"
        },
        {
          "output_type": "display_data",
          "data": {
            "image/png": "[encoded data removed]",
            "text/plain": [
              "<IPython.core.display.Image object>"
            ]
          },
          "metadata": {
            "tags": []
          }
        },
        {
          "output_type": "stream",
          "text": [
            "/content/drive/My Drive/stylegan2/stylegan2/results/00002-generate-images/seed6623.png\n"
          ],
          "name": "stdout"
        },
        {
          "output_type": "display_data",
          "data": {
            "image/png": "[encoded data removed]",
            "text/plain": [
              "<IPython.core.display.Image object>"
            ]
          },
          "metadata": {
            "tags": []
          }
        },
        {
          "output_type": "stream",
          "text": [
            "/content/drive/My Drive/stylegan2/stylegan2/results/00002-generate-images/seed6624.png\n"
          ],
          "name": "stdout"
        },
        {
          "output_type": "display_data",
          "data": {
            "image/png": "[encoded data removed]",
            "text/plain": [
              "<IPython.core.display.Image object>"
            ]
          },
          "metadata": {
            "tags": []
          }
        },
        {
          "output_type": "stream",
          "text": [
            "/content/drive/My Drive/stylegan2/stylegan2/results/00002-generate-images/seed6625.png\n"
          ],
          "name": "stdout"
        },
        {
          "output_type": "display_data",
          "data": {
            "image/png": "[encoded data removed]",
            "text/plain": [
              "<IPython.core.display.Image object>"
            ]
          },
          "metadata": {
            "tags": []
          }
        },
        {
          "output_type": "stream",
          "text": [
            "/content/drive/My Drive/stylegan2/stylegan2/results/00002-generate-images/seed6626.png\n"
          ],
          "name": "stdout"
        },
        {
          "output_type": "display_data",
          "data": {
            "image/png": "[encoded data removed]",
            "text/plain": [
              "<IPython.core.display.Image object>"
            ]
          },
          "metadata": {
            "tags": []
          }
        },
        {
          "output_type": "stream",
          "text": [
            "/content/drive/My Drive/stylegan2/stylegan2/results/00002-generate-images/seed6627.png\n"
          ],
          "name": "stdout"
        },
        {
          "output_type": "display_data",
          "data": {
            "image/png": "[encoded data removed]",
            "text/plain": [
              "<IPython.core.display.Image object>"
            ]
          },
          "metadata": {
            "tags": []
          }
        },
        {
          "output_type": "stream",
          "text": [
            "/content/drive/My Drive/stylegan2/stylegan2/results/00002-generate-images/seed6628.png\n"
          ],
          "name": "stdout"
        },
        {
          "output_type": "display_data",
          "data": {
            "image/png": "[encoded data removed]",
            "text/plain": [
              "<IPython.core.display.Image object>"
            ]
          },
          "metadata": {
            "tags": []
          }
        },
        {
          "output_type": "stream",
          "text": [
            "/content/drive/My Drive/stylegan2/stylegan2/results/00002-generate-images/seed6629.png\n"
          ],
          "name": "stdout"
        },
        {
          "output_type": "display_data",
          "data": {
            "image/png": "[encoded data removed]",
            "text/plain": [
              "<IPython.core.display.Image object>"
            ]
          },
          "metadata": {
            "tags": []
          }
        },
        {
          "output_type": "stream",
          "text": [
            "/content/drive/My Drive/stylegan2/stylegan2/results/00002-generate-images/seed6630.png\n"
          ],
          "name": "stdout"
        },
        {
          "output_type": "display_data",
          "data": {
            "image/png": "[encoded data removed]",
            "text/plain": [
              "<IPython.core.display.Image object>"
            ]
          },
          "metadata": {
            "tags": []
          }
        },
        {
          "output_type": "stream",
          "text": [
            "/content/drive/My Drive/stylegan2/stylegan2/results/00002-generate-images/seed6631.png\n"
          ],
          "name": "stdout"
        },
        {
          "output_type": "display_data",
          "data": {
            "image/png": "[encoded data removed]",
            "text/plain": [
              "<IPython.core.display.Image object>"
            ]
          },
          "metadata": {
            "tags": []
          }
        },
        {
          "output_type": "stream",
          "text": [
            "/content/drive/My Drive/stylegan2/stylegan2/results/00002-generate-images/seed6632.png\n"
          ],
          "name": "stdout"
        },
        {
          "output_type": "display_data",
          "data": {
            "image/png": "[encoded data removed]",
            "text/plain": [
              "<IPython.core.display.Image object>"
            ]
          },
          "metadata": {
            "tags": []
          }
        },
        {
          "output_type": "stream",
          "text": [
            "/content/drive/My Drive/stylegan2/stylegan2/results/00002-generate-images/seed6633.png\n"
          ],
          "name": "stdout"
        },
        {
          "output_type": "display_data",
          "data": {
            "image/png": "[encoded data removed]",
            "text/plain": [
              "<IPython.core.display.Image object>"
            ]
          },
          "metadata": {
            "tags": []
          }
        },
        {
          "output_type": "stream",
          "text": [
            "/content/drive/My Drive/stylegan2/stylegan2/results/00002-generate-images/seed6634.png\n"
          ],
          "name": "stdout"
        },
        {
          "output_type": "display_data",
          "data": {
            "image/png": "[encoded data removed]",
            "text/plain": [
              "<IPython.core.display.Image object>"
            ]
          },
          "metadata": {
            "tags": []
          }
        },
        {
          "output_type": "stream",
          "text": [
            "/content/drive/My Drive/stylegan2/stylegan2/results/00002-generate-images/seed6635.png\n"
          ],
          "name": "stdout"
        }
      ]
    },
    {
      "cell_type": "code",
      "metadata": {
        "id": "Pl3jsFEQg88q"
      },
      "source": [
        ""
      ],
      "execution_count": null,
      "outputs": []
    }
  ]
}